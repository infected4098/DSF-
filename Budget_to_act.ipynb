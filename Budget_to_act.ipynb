{
  "nbformat": 4,
  "nbformat_minor": 0,
  "metadata": {
    "colab": {
      "provenance": [],
      "collapsed_sections": [
        "4m1_fKkHNWpI",
        "XhAznHoxajr-",
        "pkyG1En3AUaV",
        "lzSAVxGcJWjr",
        "zZaOa-HEwQWk"
      ],
      "toc_visible": true,
      "authorship_tag": "ABX9TyOxgi1whTJt14lssvwHrS1i",
      "include_colab_link": true
    },
    "kernelspec": {
      "name": "python3",
      "display_name": "Python 3"
    },
    "language_info": {
      "name": "python"
    }
  },
  "cells": [
    {
      "cell_type": "markdown",
      "metadata": {
        "id": "view-in-github",
        "colab_type": "text"
      },
      "source": [
        "<a href=\"https://colab.research.google.com/github/infected4098/DSF-/blob/main/Budget_to_act.ipynb\" target=\"_parent\"><img src=\"https://colab.research.google.com/assets/colab-badge.svg\" alt=\"Open In Colab\"/></a>"
      ]
    },
    {
      "cell_type": "markdown",
      "source": [
        "# 필요 라이브러리 임포트\n"
      ],
      "metadata": {
        "id": "4m1_fKkHNWpI"
      }
    },
    {
      "cell_type": "code",
      "source": [],
      "metadata": {
        "id": "xkafOHJTLEkG"
      },
      "execution_count": null,
      "outputs": []
    },
    {
      "cell_type": "code",
      "source": [
        "pip install konlpy"
      ],
      "metadata": {
        "id": "049XWdVcI_om",
        "colab": {
          "base_uri": "https://localhost:8080/"
        },
        "outputId": "2bb9f3e1-e691-476d-f826-7400bf1ca06e"
      },
      "execution_count": 1,
      "outputs": [
        {
          "output_type": "stream",
          "name": "stdout",
          "text": [
            "Looking in indexes: https://pypi.org/simple, https://us-python.pkg.dev/colab-wheels/public/simple/\n",
            "Collecting konlpy\n",
            "  Downloading konlpy-0.6.0-py2.py3-none-any.whl (19.4 MB)\n",
            "\u001b[K     |████████████████████████████████| 19.4 MB 34.1 MB/s \n",
            "\u001b[?25hRequirement already satisfied: lxml>=4.1.0 in /usr/local/lib/python3.8/dist-packages (from konlpy) (4.9.1)\n",
            "Requirement already satisfied: numpy>=1.6 in /usr/local/lib/python3.8/dist-packages (from konlpy) (1.21.6)\n",
            "Collecting JPype1>=0.7.0\n",
            "  Downloading JPype1-1.4.1-cp38-cp38-manylinux_2_12_x86_64.manylinux2010_x86_64.whl (465 kB)\n",
            "\u001b[K     |████████████████████████████████| 465 kB 51.5 MB/s \n",
            "\u001b[?25hRequirement already satisfied: packaging in /usr/local/lib/python3.8/dist-packages (from JPype1>=0.7.0->konlpy) (21.3)\n",
            "Requirement already satisfied: pyparsing!=3.0.5,>=2.0.2 in /usr/local/lib/python3.8/dist-packages (from packaging->JPype1>=0.7.0->konlpy) (3.0.9)\n",
            "Installing collected packages: JPype1, konlpy\n",
            "Successfully installed JPype1-1.4.1 konlpy-0.6.0\n"
          ]
        }
      ]
    },
    {
      "cell_type": "code",
      "source": [
        "!apt-get update -qq\n",
        "!apt-get install fonts-nanum* -qq"
      ],
      "metadata": {
        "id": "9QsgOmUBJISu",
        "colab": {
          "base_uri": "https://localhost:8080/"
        },
        "outputId": "2b24d30f-a5de-4ffa-a4e5-722d8b487fc1"
      },
      "execution_count": 2,
      "outputs": [
        {
          "output_type": "stream",
          "name": "stdout",
          "text": [
            "Selecting previously unselected package fonts-nanum.\n",
            "(Reading database ... 124015 files and directories currently installed.)\n",
            "Preparing to unpack .../fonts-nanum_20170925-1_all.deb ...\n",
            "Unpacking fonts-nanum (20170925-1) ...\n",
            "Selecting previously unselected package fonts-nanum-eco.\n",
            "Preparing to unpack .../fonts-nanum-eco_1.000-6_all.deb ...\n",
            "Unpacking fonts-nanum-eco (1.000-6) ...\n",
            "Selecting previously unselected package fonts-nanum-extra.\n",
            "Preparing to unpack .../fonts-nanum-extra_20170925-1_all.deb ...\n",
            "Unpacking fonts-nanum-extra (20170925-1) ...\n",
            "Selecting previously unselected package fonts-nanum-coding.\n",
            "Preparing to unpack .../fonts-nanum-coding_2.5-1_all.deb ...\n",
            "Unpacking fonts-nanum-coding (2.5-1) ...\n",
            "Setting up fonts-nanum-extra (20170925-1) ...\n",
            "Setting up fonts-nanum (20170925-1) ...\n",
            "Setting up fonts-nanum-coding (2.5-1) ...\n",
            "Setting up fonts-nanum-eco (1.000-6) ...\n",
            "Processing triggers for fontconfig (2.12.6-0ubuntu2) ...\n"
          ]
        }
      ]
    },
    {
      "cell_type": "code",
      "execution_count": 9,
      "metadata": {
        "id": "DUZJlpR8LeIr"
      },
      "outputs": [],
      "source": [
        "#딥러닝 프레임워크\n",
        "import torch\n",
        "import torch.nn as nn\n",
        "import torch.nn.functional as F\n",
        "import torch.optim as optim\n",
        "from torch.utils.data import DataLoader, Dataset\n",
        "from statsmodels.formula.api import ols\n",
        "\n",
        "#전처리, 점수 측정\n",
        "from sklearn.metrics import f1_score\n",
        "from sklearn.preprocessing import StandardScaler\n",
        "from sklearn.preprocessing import LabelEncoder\n",
        "from sklearn.model_selection import train_test_split\n",
        "\n",
        "#컴퓨터 리소스 할당 관련 \n",
        "import os\n",
        "from tqdm.auto import tqdm \n",
        "\n",
        "#기초 툴, 시각화\n",
        "import pandas as pd\n",
        "import matplotlib.pyplot as plt\n",
        "import seaborn as sns\n",
        "import numpy as np\n",
        "\n",
        "#기타\n",
        "import warnings\n",
        "warnings.filterwarnings(\"ignore\")\n",
        "\n",
        "#크롤링 및 워드클라우드\n",
        "from bs4 import BeautifulSoup\n",
        "import nltk \n",
        "from konlpy.tag import *\n",
        "from konlpy.tag import Twitter\n",
        "from wordcloud import WordCloud\n",
        "import urllib.request\n",
        "from urllib.parse import quote \n",
        "import requests\n",
        "import re\n",
        "from datetime import datetime\n",
        "from PIL import *\n",
        "from collections import Counter\n",
        "import xml.etree.ElementTree as ET\n",
        "import json"
      ]
    },
    {
      "cell_type": "code",
      "source": [
        "#드라이브 소싱\n",
        "from google.colab import drive\n",
        "drive.mount('/content/gdrive')\n",
        "device = torch.device('cuda') if torch.cuda.is_available() else torch.device('cpu')\n",
        "\n",
        "#document 위치: /Users/infected4098/Desktop/DSF"
      ],
      "metadata": {
        "colab": {
          "base_uri": "https://localhost:8080/"
        },
        "id": "X6B2t0vJNU2W",
        "outputId": "5fe58d6b-dafd-47b3-c93c-aae79c8d2f81"
      },
      "execution_count": 4,
      "outputs": [
        {
          "output_type": "stream",
          "name": "stdout",
          "text": [
            "Mounted at /content/gdrive\n"
          ]
        }
      ]
    },
    {
      "cell_type": "markdown",
      "source": [
        "# 노트\n"
      ],
      "metadata": {
        "id": "XhAznHoxajr-"
      }
    },
    {
      "cell_type": "code",
      "source": [
        "\"\"\"\n",
        "\n",
        "내가 해야 할 것\n",
        "주제의 정당성 데이터 찾기&시각화\n",
        "예산→인원(회귀)\n",
        "\"\"\""
      ],
      "metadata": {
        "colab": {
          "base_uri": "https://localhost:8080/",
          "height": 0
        },
        "id": "sCM-B1saNU0D",
        "outputId": "a85f32ef-940f-49d0-86f9-c6fbc1e666d9"
      },
      "execution_count": 5,
      "outputs": [
        {
          "output_type": "execute_result",
          "data": {
            "text/plain": [
              "'\\n\\n내가 해야 할 것\\n주제의 정당성 데이터 찾기&시각화\\n예산→인원(회귀)\\n'"
            ],
            "application/vnd.google.colaboratory.intrinsic+json": {
              "type": "string"
            }
          },
          "metadata": {},
          "execution_count": 5
        }
      ]
    },
    {
      "cell_type": "code",
      "source": [
        "\"\"\"\n",
        "신체활동지원 : 목욕도움, 세면도움, 식사 도움, 실내이동 도움 등\n",
        "가사활동지원 : 청소 및 주변정돈, 세탁, 취사 등\n",
        "사회활동지원 : 등하교 및 출퇴근 보조지원, 외출 동행 등\n",
        "방문목욕 : 가정방문 목욕제공\n",
        "방문간호 : 간호, 진료, 요양상담, 구강위생 등\n",
        "\"\"\""
      ],
      "metadata": {
        "colab": {
          "base_uri": "https://localhost:8080/",
          "height": 0
        },
        "id": "8dgcvTFCNUxx",
        "outputId": "69402188-191a-46bc-e3df-d311a0231463"
      },
      "execution_count": 6,
      "outputs": [
        {
          "output_type": "execute_result",
          "data": {
            "text/plain": [
              "'\\n신체활동지원 : 목욕도움, 세면도움, 식사 도움, 실내이동 도움 등\\n가사활동지원 : 청소 및 주변정돈, 세탁, 취사 등\\n사회활동지원 : 등하교 및 출퇴근 보조지원, 외출 동행 등\\n방문목욕 : 가정방문 목욕제공\\n방문간호 : 간호, 진료, 요양상담, 구강위생 등\\n'"
            ],
            "application/vnd.google.colaboratory.intrinsic+json": {
              "type": "string"
            }
          },
          "metadata": {},
          "execution_count": 6
        }
      ]
    },
    {
      "cell_type": "code",
      "source": [
        "\"\"\"\n",
        "활동보조\t수급자의 가정 등을 방문하여 신체활동, 가사활동 및 이동보조 등을 지원\t\n",
        "활동지원사 교육기관에서 교육과정을 수료한 자\n",
        "[노인복지법]에 따른 요양보호사, [사회복지 사업법]에 따른 사회복지사, [의료법]에 따른 간호사 · 간호조무사 및 유사 경력자* 중 전문과정(32시간), 현장실습(10시간)을 이수한 자\n",
        "방문목욕\t목욕설비를 갖춘 차량을 이용하여 수급자의 가정 등을 방문하여 목욕을 제공\t[노인복지법] 에 따른 요양보호사 중 1급 자격을 가진 자\n",
        "방문간호\t의사 · 한의사 · 치과의사의 ‘ 방문간호지시서’ 에 따라 수급자의 가정 등을 방문하여 간호, 진료보조, 요양상담 또는 구강위생 등을 제공\t\n",
        "방문간호사\n",
        "\n",
        "[의료법]에 따른 간호사로서 2년 이상의 간호업무 경력자\n",
        "[의료법]에 따른 간호조무사로서 3년 이상의 간호보조업무 경력자 및 [노인장기요양보험법 시행령]제11조제3호나목에 따른 교육이수자\n",
        "[의료기사 등에 관한 법률]에 따른 치과위생사\n",
        "\"\"\""
      ],
      "metadata": {
        "colab": {
          "base_uri": "https://localhost:8080/",
          "height": 0
        },
        "id": "vJhXscAuNUvT",
        "outputId": "aad6e139-501d-4f94-eedd-bba3e4721529"
      },
      "execution_count": 7,
      "outputs": [
        {
          "output_type": "execute_result",
          "data": {
            "text/plain": [
              "'\\n활동보조\\t수급자의 가정 등을 방문하여 신체활동, 가사활동 및 이동보조 등을 지원\\t\\n활동지원사 교육기관에서 교육과정을 수료한 자\\n[노인복지법]에 따른 요양보호사, [사회복지 사업법]에 따른 사회복지사, [의료법]에 따른 간호사 · 간호조무사 및 유사 경력자* 중 전문과정(32시간), 현장실습(10시간)을 이수한 자\\n방문목욕\\t목욕설비를 갖춘 차량을 이용하여 수급자의 가정 등을 방문하여 목욕을 제공\\t[노인복지법] 에 따른 요양보호사 중 1급 자격을 가진 자\\n방문간호\\t의사 · 한의사 · 치과의사의 ‘ 방문간호지시서’ 에 따라 수급자의 가정 등을 방문하여 간호, 진료보조, 요양상담 또는 구강위생 등을 제공\\t\\n방문간호사\\n\\n[의료법]에 따른 간호사로서 2년 이상의 간호업무 경력자\\n[의료법]에 따른 간호조무사로서 3년 이상의 간호보조업무 경력자 및 [노인장기요양보험법 시행령]제11조제3호나목에 따른 교육이수자\\n[의료기사 등에 관한 법률]에 따른 치과위생사\\n'"
            ],
            "application/vnd.google.colaboratory.intrinsic+json": {
              "type": "string"
            }
          },
          "metadata": {},
          "execution_count": 7
        }
      ]
    },
    {
      "cell_type": "markdown",
      "source": [
        "# 장애 예산 시각화\n"
      ],
      "metadata": {
        "id": "pkyG1En3AUaV"
      }
    },
    {
      "cell_type": "code",
      "source": [
        "#단위는 억 원\n",
        "#disabled_dict = {\"disabled_2015\": 18816, \"disabled_2016\": 19652, \"disabled_2017\": 20670, \"disabled_2018\": 22213, \"disabled_2019\": 27326, \"disabled_2020\": 32764, \"disabled_2021\" : 36662, \"disabled_2022\": 40701}\n",
        "#자료출처: 보건복지부 기금운영계획안 사업운영계획\n",
        "#list(disabled_dict.values())\n",
        "disabled_budget = [4679, 5221, 6061, 6907, 9685, 13057, 15070, 17405]\n",
        "disabled_index = [2015, 2016, 2017, 2018, 2019, 2020, 2021, 2022]\n",
        "disabled_df = pd.DataFrame(disabled_budget, index=disabled_index, columns=[\"yearly_budget\"])\n",
        "disabled_df.head()\n"
      ],
      "metadata": {
        "colab": {
          "base_uri": "https://localhost:8080/",
          "height": 0
        },
        "id": "YFEGw_cmaypj",
        "outputId": "bc3f2a9f-250e-408a-bd5e-2374f7ea8004"
      },
      "execution_count": 10,
      "outputs": [
        {
          "output_type": "execute_result",
          "data": {
            "text/plain": [
              "      yearly_budget\n",
              "2015           4679\n",
              "2016           5221\n",
              "2017           6061\n",
              "2018           6907\n",
              "2019           9685"
            ],
            "text/html": [
              "\n",
              "  <div id=\"df-b0d01c1d-3f9f-4740-aa85-40394d63693e\">\n",
              "    <div class=\"colab-df-container\">\n",
              "      <div>\n",
              "<style scoped>\n",
              "    .dataframe tbody tr th:only-of-type {\n",
              "        vertical-align: middle;\n",
              "    }\n",
              "\n",
              "    .dataframe tbody tr th {\n",
              "        vertical-align: top;\n",
              "    }\n",
              "\n",
              "    .dataframe thead th {\n",
              "        text-align: right;\n",
              "    }\n",
              "</style>\n",
              "<table border=\"1\" class=\"dataframe\">\n",
              "  <thead>\n",
              "    <tr style=\"text-align: right;\">\n",
              "      <th></th>\n",
              "      <th>yearly_budget</th>\n",
              "    </tr>\n",
              "  </thead>\n",
              "  <tbody>\n",
              "    <tr>\n",
              "      <th>2015</th>\n",
              "      <td>4679</td>\n",
              "    </tr>\n",
              "    <tr>\n",
              "      <th>2016</th>\n",
              "      <td>5221</td>\n",
              "    </tr>\n",
              "    <tr>\n",
              "      <th>2017</th>\n",
              "      <td>6061</td>\n",
              "    </tr>\n",
              "    <tr>\n",
              "      <th>2018</th>\n",
              "      <td>6907</td>\n",
              "    </tr>\n",
              "    <tr>\n",
              "      <th>2019</th>\n",
              "      <td>9685</td>\n",
              "    </tr>\n",
              "  </tbody>\n",
              "</table>\n",
              "</div>\n",
              "      <button class=\"colab-df-convert\" onclick=\"convertToInteractive('df-b0d01c1d-3f9f-4740-aa85-40394d63693e')\"\n",
              "              title=\"Convert this dataframe to an interactive table.\"\n",
              "              style=\"display:none;\">\n",
              "        \n",
              "  <svg xmlns=\"http://www.w3.org/2000/svg\" height=\"24px\"viewBox=\"0 0 24 24\"\n",
              "       width=\"24px\">\n",
              "    <path d=\"M0 0h24v24H0V0z\" fill=\"none\"/>\n",
              "    <path d=\"M18.56 5.44l.94 2.06.94-2.06 2.06-.94-2.06-.94-.94-2.06-.94 2.06-2.06.94zm-11 1L8.5 8.5l.94-2.06 2.06-.94-2.06-.94L8.5 2.5l-.94 2.06-2.06.94zm10 10l.94 2.06.94-2.06 2.06-.94-2.06-.94-.94-2.06-.94 2.06-2.06.94z\"/><path d=\"M17.41 7.96l-1.37-1.37c-.4-.4-.92-.59-1.43-.59-.52 0-1.04.2-1.43.59L10.3 9.45l-7.72 7.72c-.78.78-.78 2.05 0 2.83L4 21.41c.39.39.9.59 1.41.59.51 0 1.02-.2 1.41-.59l7.78-7.78 2.81-2.81c.8-.78.8-2.07 0-2.86zM5.41 20L4 18.59l7.72-7.72 1.47 1.35L5.41 20z\"/>\n",
              "  </svg>\n",
              "      </button>\n",
              "      \n",
              "  <style>\n",
              "    .colab-df-container {\n",
              "      display:flex;\n",
              "      flex-wrap:wrap;\n",
              "      gap: 12px;\n",
              "    }\n",
              "\n",
              "    .colab-df-convert {\n",
              "      background-color: #E8F0FE;\n",
              "      border: none;\n",
              "      border-radius: 50%;\n",
              "      cursor: pointer;\n",
              "      display: none;\n",
              "      fill: #1967D2;\n",
              "      height: 32px;\n",
              "      padding: 0 0 0 0;\n",
              "      width: 32px;\n",
              "    }\n",
              "\n",
              "    .colab-df-convert:hover {\n",
              "      background-color: #E2EBFA;\n",
              "      box-shadow: 0px 1px 2px rgba(60, 64, 67, 0.3), 0px 1px 3px 1px rgba(60, 64, 67, 0.15);\n",
              "      fill: #174EA6;\n",
              "    }\n",
              "\n",
              "    [theme=dark] .colab-df-convert {\n",
              "      background-color: #3B4455;\n",
              "      fill: #D2E3FC;\n",
              "    }\n",
              "\n",
              "    [theme=dark] .colab-df-convert:hover {\n",
              "      background-color: #434B5C;\n",
              "      box-shadow: 0px 1px 3px 1px rgba(0, 0, 0, 0.15);\n",
              "      filter: drop-shadow(0px 1px 2px rgba(0, 0, 0, 0.3));\n",
              "      fill: #FFFFFF;\n",
              "    }\n",
              "  </style>\n",
              "\n",
              "      <script>\n",
              "        const buttonEl =\n",
              "          document.querySelector('#df-b0d01c1d-3f9f-4740-aa85-40394d63693e button.colab-df-convert');\n",
              "        buttonEl.style.display =\n",
              "          google.colab.kernel.accessAllowed ? 'block' : 'none';\n",
              "\n",
              "        async function convertToInteractive(key) {\n",
              "          const element = document.querySelector('#df-b0d01c1d-3f9f-4740-aa85-40394d63693e');\n",
              "          const dataTable =\n",
              "            await google.colab.kernel.invokeFunction('convertToInteractive',\n",
              "                                                     [key], {});\n",
              "          if (!dataTable) return;\n",
              "\n",
              "          const docLinkHtml = 'Like what you see? Visit the ' +\n",
              "            '<a target=\"_blank\" href=https://colab.research.google.com/notebooks/data_table.ipynb>data table notebook</a>'\n",
              "            + ' to learn more about interactive tables.';\n",
              "          element.innerHTML = '';\n",
              "          dataTable['output_type'] = 'display_data';\n",
              "          await google.colab.output.renderOutput(dataTable, element);\n",
              "          const docLink = document.createElement('div');\n",
              "          docLink.innerHTML = docLinkHtml;\n",
              "          element.appendChild(docLink);\n",
              "        }\n",
              "      </script>\n",
              "    </div>\n",
              "  </div>\n",
              "  "
            ]
          },
          "metadata": {},
          "execution_count": 10
        }
      ]
    },
    {
      "cell_type": "code",
      "source": [
        "\"\"\"\n",
        "방향성\n",
        "\n",
        "(1) 장애인 탈시설화 크롤링.. 직관...: \n",
        "\n",
        "(2) 장애인 활동지원 크롤링 등... 인원 부족하다.. \n",
        "\n",
        "(3) \n",
        "\n",
        "#https://www.peoplepower21.org/welfarenow/1847643\n",
        "\n",
        "\"\"\""
      ],
      "metadata": {
        "colab": {
          "base_uri": "https://localhost:8080/",
          "height": 0
        },
        "id": "h2iEu6xqaynP",
        "outputId": "4f4ee37a-ccb0-4cc1-c0cf-ded9c40ce317"
      },
      "execution_count": 11,
      "outputs": [
        {
          "output_type": "execute_result",
          "data": {
            "text/plain": [
              "'\\n방향성\\n\\n(1) 장애인 탈시설화 크롤링.. 직관...: \\n\\n(2) 장애인 활동지원 크롤링 등... 인원 부족하다.. \\n\\n(3) \\n\\n#https://www.peoplepower21.org/welfarenow/1847643\\n\\n'"
            ],
            "application/vnd.google.colaboratory.intrinsic+json": {
              "type": "string"
            }
          },
          "metadata": {},
          "execution_count": 11
        }
      ]
    },
    {
      "cell_type": "code",
      "source": [
        "disabled_list = [18816,\n",
        "19652,\n",
        "20670,\n",
        "22213,\n",
        "27326,\n",
        "32762,\n",
        "36662,\n",
        "40070,\n",
        "\n",
        "17101,\n",
        "17755,\n",
        "18744,\n",
        "20155,\n",
        "24731,\n",
        "29840,\n",
        "33447,\n",
        "9731+20930+6541,\n",
        "6931,\n",
        "6911,\n",
        "6927,\n",
        "7306,\n",
        "8495,\n",
        "9180,\n",
        "9664,\n",
        "9731,\n",
        "\n",
        "5496,\n",
        "6130,\n",
        "6973,\n",
        "7902,\n",
        "11065,\n",
        "15107,\n",
        "17704,\n",
        "20930,\n",
        "\n",
        "4673,\n",
        "4715,\n",
        "4845,\n",
        "4947,\n",
        "5171,\n",
        "5553,\n",
        "6079,\n",
        "6541]\n",
        "\n",
        "disabled_col = [\"총계\",\"3대 사업\", \"장애수당/연금\", \"장애인 선택적 복지\", \"장애인복지시설 지원\"]\n",
        "\n",
        "disabled_array = np.array(disabled_list)\n",
        "disabled_array = disabled_array.reshape(5, -1)\n",
        "\n",
        "disabled_whole = pd.DataFrame(disabled_array, index=disabled_col, columns=disabled_index)\n",
        "\n"
      ],
      "metadata": {
        "id": "rZ9JMDFiaylF"
      },
      "execution_count": 12,
      "outputs": []
    },
    {
      "cell_type": "code",
      "source": [
        "disabled_whole = disabled_whole.T\n",
        "\n",
        "disabled_whole"
      ],
      "metadata": {
        "id": "gy1LNreeayiN",
        "colab": {
          "base_uri": "https://localhost:8080/",
          "height": 0
        },
        "outputId": "3fe36c80-5618-41da-c8b5-080386058467"
      },
      "execution_count": 13,
      "outputs": [
        {
          "output_type": "execute_result",
          "data": {
            "text/plain": [
              "         총계  3대 사업  장애수당/연금  장애인 선택적 복지  장애인복지시설 지원\n",
              "2015  18816  17101     6931        5496        4673\n",
              "2016  19652  17755     6911        6130        4715\n",
              "2017  20670  18744     6927        6973        4845\n",
              "2018  22213  20155     7306        7902        4947\n",
              "2019  27326  24731     8495       11065        5171\n",
              "2020  32762  29840     9180       15107        5553\n",
              "2021  36662  33447     9664       17704        6079\n",
              "2022  40070  37202     9731       20930        6541"
            ],
            "text/html": [
              "\n",
              "  <div id=\"df-bc138054-304d-4fe7-adc6-629f5a6d7d95\">\n",
              "    <div class=\"colab-df-container\">\n",
              "      <div>\n",
              "<style scoped>\n",
              "    .dataframe tbody tr th:only-of-type {\n",
              "        vertical-align: middle;\n",
              "    }\n",
              "\n",
              "    .dataframe tbody tr th {\n",
              "        vertical-align: top;\n",
              "    }\n",
              "\n",
              "    .dataframe thead th {\n",
              "        text-align: right;\n",
              "    }\n",
              "</style>\n",
              "<table border=\"1\" class=\"dataframe\">\n",
              "  <thead>\n",
              "    <tr style=\"text-align: right;\">\n",
              "      <th></th>\n",
              "      <th>총계</th>\n",
              "      <th>3대 사업</th>\n",
              "      <th>장애수당/연금</th>\n",
              "      <th>장애인 선택적 복지</th>\n",
              "      <th>장애인복지시설 지원</th>\n",
              "    </tr>\n",
              "  </thead>\n",
              "  <tbody>\n",
              "    <tr>\n",
              "      <th>2015</th>\n",
              "      <td>18816</td>\n",
              "      <td>17101</td>\n",
              "      <td>6931</td>\n",
              "      <td>5496</td>\n",
              "      <td>4673</td>\n",
              "    </tr>\n",
              "    <tr>\n",
              "      <th>2016</th>\n",
              "      <td>19652</td>\n",
              "      <td>17755</td>\n",
              "      <td>6911</td>\n",
              "      <td>6130</td>\n",
              "      <td>4715</td>\n",
              "    </tr>\n",
              "    <tr>\n",
              "      <th>2017</th>\n",
              "      <td>20670</td>\n",
              "      <td>18744</td>\n",
              "      <td>6927</td>\n",
              "      <td>6973</td>\n",
              "      <td>4845</td>\n",
              "    </tr>\n",
              "    <tr>\n",
              "      <th>2018</th>\n",
              "      <td>22213</td>\n",
              "      <td>20155</td>\n",
              "      <td>7306</td>\n",
              "      <td>7902</td>\n",
              "      <td>4947</td>\n",
              "    </tr>\n",
              "    <tr>\n",
              "      <th>2019</th>\n",
              "      <td>27326</td>\n",
              "      <td>24731</td>\n",
              "      <td>8495</td>\n",
              "      <td>11065</td>\n",
              "      <td>5171</td>\n",
              "    </tr>\n",
              "    <tr>\n",
              "      <th>2020</th>\n",
              "      <td>32762</td>\n",
              "      <td>29840</td>\n",
              "      <td>9180</td>\n",
              "      <td>15107</td>\n",
              "      <td>5553</td>\n",
              "    </tr>\n",
              "    <tr>\n",
              "      <th>2021</th>\n",
              "      <td>36662</td>\n",
              "      <td>33447</td>\n",
              "      <td>9664</td>\n",
              "      <td>17704</td>\n",
              "      <td>6079</td>\n",
              "    </tr>\n",
              "    <tr>\n",
              "      <th>2022</th>\n",
              "      <td>40070</td>\n",
              "      <td>37202</td>\n",
              "      <td>9731</td>\n",
              "      <td>20930</td>\n",
              "      <td>6541</td>\n",
              "    </tr>\n",
              "  </tbody>\n",
              "</table>\n",
              "</div>\n",
              "      <button class=\"colab-df-convert\" onclick=\"convertToInteractive('df-bc138054-304d-4fe7-adc6-629f5a6d7d95')\"\n",
              "              title=\"Convert this dataframe to an interactive table.\"\n",
              "              style=\"display:none;\">\n",
              "        \n",
              "  <svg xmlns=\"http://www.w3.org/2000/svg\" height=\"24px\"viewBox=\"0 0 24 24\"\n",
              "       width=\"24px\">\n",
              "    <path d=\"M0 0h24v24H0V0z\" fill=\"none\"/>\n",
              "    <path d=\"M18.56 5.44l.94 2.06.94-2.06 2.06-.94-2.06-.94-.94-2.06-.94 2.06-2.06.94zm-11 1L8.5 8.5l.94-2.06 2.06-.94-2.06-.94L8.5 2.5l-.94 2.06-2.06.94zm10 10l.94 2.06.94-2.06 2.06-.94-2.06-.94-.94-2.06-.94 2.06-2.06.94z\"/><path d=\"M17.41 7.96l-1.37-1.37c-.4-.4-.92-.59-1.43-.59-.52 0-1.04.2-1.43.59L10.3 9.45l-7.72 7.72c-.78.78-.78 2.05 0 2.83L4 21.41c.39.39.9.59 1.41.59.51 0 1.02-.2 1.41-.59l7.78-7.78 2.81-2.81c.8-.78.8-2.07 0-2.86zM5.41 20L4 18.59l7.72-7.72 1.47 1.35L5.41 20z\"/>\n",
              "  </svg>\n",
              "      </button>\n",
              "      \n",
              "  <style>\n",
              "    .colab-df-container {\n",
              "      display:flex;\n",
              "      flex-wrap:wrap;\n",
              "      gap: 12px;\n",
              "    }\n",
              "\n",
              "    .colab-df-convert {\n",
              "      background-color: #E8F0FE;\n",
              "      border: none;\n",
              "      border-radius: 50%;\n",
              "      cursor: pointer;\n",
              "      display: none;\n",
              "      fill: #1967D2;\n",
              "      height: 32px;\n",
              "      padding: 0 0 0 0;\n",
              "      width: 32px;\n",
              "    }\n",
              "\n",
              "    .colab-df-convert:hover {\n",
              "      background-color: #E2EBFA;\n",
              "      box-shadow: 0px 1px 2px rgba(60, 64, 67, 0.3), 0px 1px 3px 1px rgba(60, 64, 67, 0.15);\n",
              "      fill: #174EA6;\n",
              "    }\n",
              "\n",
              "    [theme=dark] .colab-df-convert {\n",
              "      background-color: #3B4455;\n",
              "      fill: #D2E3FC;\n",
              "    }\n",
              "\n",
              "    [theme=dark] .colab-df-convert:hover {\n",
              "      background-color: #434B5C;\n",
              "      box-shadow: 0px 1px 3px 1px rgba(0, 0, 0, 0.15);\n",
              "      filter: drop-shadow(0px 1px 2px rgba(0, 0, 0, 0.3));\n",
              "      fill: #FFFFFF;\n",
              "    }\n",
              "  </style>\n",
              "\n",
              "      <script>\n",
              "        const buttonEl =\n",
              "          document.querySelector('#df-bc138054-304d-4fe7-adc6-629f5a6d7d95 button.colab-df-convert');\n",
              "        buttonEl.style.display =\n",
              "          google.colab.kernel.accessAllowed ? 'block' : 'none';\n",
              "\n",
              "        async function convertToInteractive(key) {\n",
              "          const element = document.querySelector('#df-bc138054-304d-4fe7-adc6-629f5a6d7d95');\n",
              "          const dataTable =\n",
              "            await google.colab.kernel.invokeFunction('convertToInteractive',\n",
              "                                                     [key], {});\n",
              "          if (!dataTable) return;\n",
              "\n",
              "          const docLinkHtml = 'Like what you see? Visit the ' +\n",
              "            '<a target=\"_blank\" href=https://colab.research.google.com/notebooks/data_table.ipynb>data table notebook</a>'\n",
              "            + ' to learn more about interactive tables.';\n",
              "          element.innerHTML = '';\n",
              "          dataTable['output_type'] = 'display_data';\n",
              "          await google.colab.output.renderOutput(dataTable, element);\n",
              "          const docLink = document.createElement('div');\n",
              "          docLink.innerHTML = docLinkHtml;\n",
              "          element.appendChild(docLink);\n",
              "        }\n",
              "      </script>\n",
              "    </div>\n",
              "  </div>\n",
              "  "
            ]
          },
          "metadata": {},
          "execution_count": 13
        }
      ]
    },
    {
      "cell_type": "code",
      "source": [
        "#활동지원비 증가 추세/ 단위는 억 원\n",
        "fig = plt.figure(figsize=(8,8)) ## 캔버스 생성\n",
        "fig.set_facecolor('white') ## 캔버스 색상 설정\n",
        "ax = fig.add_subplot() ## 그림 뼈대(프레임) 생성\n",
        "ax.plot(disabled_whole.index, disabled_whole[\"총계\"],marker='s', color=\"black\", label='Total') \n",
        "ax.bar(disabled_whole.index, disabled_whole[\"장애인 선택적 복지\"]*100*1000/disabled_whole[\"총계\"], color=\"skyblue\", label='Percentage of Activity') #10^3 scaled\n",
        "ax.plot(disabled_whole.index, disabled_whole[\"장애인 선택적 복지\"], color=\"red\", marker='o',label='Activity') \n",
        "ax.legend()\n",
        "plt.title(\"Budget Increase on activity budget\")\n",
        "plt.show()\n",
        "\n",
        "\n",
        "#장애인의 수요자중심적인 정책. "
      ],
      "metadata": {
        "colab": {
          "base_uri": "https://localhost:8080/",
          "height": 0
        },
        "id": "3GUQMgvSB3Q3",
        "outputId": "fc712d81-325e-4bd2-bb35-a75c33eb2f7f"
      },
      "execution_count": 14,
      "outputs": [
        {
          "output_type": "display_data",
          "data": {
            "text/plain": [
              "<Figure size 576x576 with 1 Axes>"
            ],
            "image/png": "[encoded data removed]"
          },
          "metadata": {}
        }
      ]
    },
    {
      "cell_type": "markdown",
      "source": [
        "\n",
        "\n",
        "\n",
        "# '탈시설' 크롤링"
      ],
      "metadata": {
        "id": "lzSAVxGcJWjr"
      }
    },
    {
      "cell_type": "code",
      "source": [
        "#장애인 선택적 복지의 대부분이 장애인 활동지원사업에 쓰이고 있다는 점을 감안할 때, 장애인 활동지원사업(탈시설화 관련)이 점점 대두되고 있음."
      ],
      "metadata": {
        "id": "fufumyHNB3Ot"
      },
      "execution_count": null,
      "outputs": []
    },
    {
      "cell_type": "code",
      "source": [
        "news_url = 'https://search.naver.com/search.naver?where=news&sm=tab_jum&query={}'\n",
        "query = \"탈시설\"\n",
        "news_num =3000 # 총 필요한 뉴스의 개수\n",
        "req = requests.get(news_url.format(query))\n",
        "soup = BeautifulSoup(req.text, 'html.parser')"
      ],
      "metadata": {
        "id": "xBM2gKByB3MU"
      },
      "execution_count": null,
      "outputs": []
    },
    {
      "cell_type": "code",
      "source": [
        "news_dict = {}\n",
        "idx = 0\n",
        "cur_page = 1\n"
      ],
      "metadata": {
        "id": "X8koKVHbKWS8"
      },
      "execution_count": null,
      "outputs": []
    },
    {
      "cell_type": "code",
      "source": [
        "while idx < news_num:\n",
        "### 네이버 뉴스 웹페이지 구성이 바뀌어 태그명, class 속성 값 등을 수정함(20210126) ###\n",
        "    \n",
        "    table = soup.find('ul',{'class' : 'list_news'})\n",
        "    li_list = table.find_all('li', {'id': re.compile('sp_nws.*')})\n",
        "    area_list = [li.find('div', {'class' : 'news_area'}) for li in li_list]\n",
        "    a_list = [area.find('a', {'class' : 'news_tit'}) for area in area_list]\n",
        "    \n",
        "    for n in a_list[:min(len(a_list), news_num-idx)]:\n",
        "        news_dict[idx] = {'title' : n.get('title'),\n",
        "                          'url' : n.get('href') }\n",
        "        idx += 1\n",
        "\n",
        "    cur_page += 1\n",
        "    \n",
        "    pages = soup.find('div', {'class' : 'sc_page_inner'})\n",
        "    next_page_url = [p for p in pages.find_all('a') if p.text == str(cur_page)][0].get('href')\n",
        "    \n",
        "    req = requests.get('https://search.naver.com/search.naver' + next_page_url)\n",
        "    soup = BeautifulSoup(req.text, 'html.parser')"
      ],
      "metadata": {
        "id": "8hyDj2TYKWRE"
      },
      "execution_count": null,
      "outputs": []
    },
    {
      "cell_type": "code",
      "source": [
        "print('데이터프레임 변환')\n",
        "news_df = pd.DataFrame(news_dict).T\n",
        "news_df"
      ],
      "metadata": {
        "id": "j9ZGKmboKWO3",
        "colab": {
          "base_uri": "https://localhost:8080/",
          "height": 442
        },
        "outputId": "98d5cadb-db92-49dc-e6f7-1dcb97f66bb9"
      },
      "execution_count": null,
      "outputs": [
        {
          "output_type": "stream",
          "name": "stdout",
          "text": [
            "데이터프레임 변환\n"
          ]
        },
        {
          "output_type": "execute_result",
          "data": {
            "text/plain": [
              "                                              title  \\\n",
              "0                         탈시설 시범사업 속 장애인 ‘고립’ 대안 시급   \n",
              "1                        박희율 광주시의원, 장애인 탈시설 지원조례 발의   \n",
              "2                   전장연 시위 멈춘다?...\"장애인 예산 6000억 증액\"   \n",
              "3     박희율 시의원, '광주광역시 장애인 탈시설 및 지역사회 정착지원 조례' 대표 발의   \n",
              "4                               시설수용은 복지서비스 아닌 감금이다   \n",
              "...                                             ...   \n",
              "2995           [위드 코로나, 위드 장애인]\"시설밖 일상생활 24시간 지원해야\"   \n",
              "2996                    장애인등록제 전면 폐지 담은 '장애서비스법' 발의   \n",
              "2997                     전장연 지하철시위 멈춘 ‘장애인 활동지원’ 예산   \n",
              "2998            국회, 내년도 예산 확정… 발달장애 예산, 정부안보다 소폭 증가   \n",
              "2999       ‘세계장애인의 날’ 장애인 공약 내놓은 정치권… 장애인 단체는 기습 시위   \n",
              "\n",
              "                                                    url  \n",
              "0     http://www.ablenews.co.kr/News/NewsContent.asp...  \n",
              "1     http://www.jndn.com/article.php?aid=1668935375...  \n",
              "2     http://weekly.chosun.com/news/articleView.html...  \n",
              "3     http://www.newsworker.co.kr/news/articleView.h...  \n",
              "4     http://www.ablenews.co.kr/News/NewsContent.asp...  \n",
              "...                                                 ...  \n",
              "2995  https://view.asiae.co.kr/article/2021111008214...  \n",
              "2996  https://www.beminor.com/news/articleView.html?...  \n",
              "2997  https://www.sisa-news.com/news/article.html?no...  \n",
              "2998  https://www.beminor.com/news/articleView.html?...  \n",
              "2999  http://www.segye.com/content/html/2021/12/03/2...  \n",
              "\n",
              "[3000 rows x 2 columns]"
            ],
            "text/html": [
              "\n",
              "  <div id=\"df-3b217b90-20ac-4bf5-b0ab-fb6ba10119a3\">\n",
              "    <div class=\"colab-df-container\">\n",
              "      <div>\n",
              "<style scoped>\n",
              "    .dataframe tbody tr th:only-of-type {\n",
              "        vertical-align: middle;\n",
              "    }\n",
              "\n",
              "    .dataframe tbody tr th {\n",
              "        vertical-align: top;\n",
              "    }\n",
              "\n",
              "    .dataframe thead th {\n",
              "        text-align: right;\n",
              "    }\n",
              "</style>\n",
              "<table border=\"1\" class=\"dataframe\">\n",
              "  <thead>\n",
              "    <tr style=\"text-align: right;\">\n",
              "      <th></th>\n",
              "      <th>title</th>\n",
              "      <th>url</th>\n",
              "    </tr>\n",
              "  </thead>\n",
              "  <tbody>\n",
              "    <tr>\n",
              "      <th>0</th>\n",
              "      <td>탈시설 시범사업 속 장애인 ‘고립’ 대안 시급</td>\n",
              "      <td>http://www.ablenews.co.kr/News/NewsContent.asp...</td>\n",
              "    </tr>\n",
              "    <tr>\n",
              "      <th>1</th>\n",
              "      <td>박희율 광주시의원, 장애인 탈시설 지원조례 발의</td>\n",
              "      <td>http://www.jndn.com/article.php?aid=1668935375...</td>\n",
              "    </tr>\n",
              "    <tr>\n",
              "      <th>2</th>\n",
              "      <td>전장연 시위 멈춘다?...\"장애인 예산 6000억 증액\"</td>\n",
              "      <td>http://weekly.chosun.com/news/articleView.html...</td>\n",
              "    </tr>\n",
              "    <tr>\n",
              "      <th>3</th>\n",
              "      <td>박희율 시의원, '광주광역시 장애인 탈시설 및 지역사회 정착지원 조례' 대표 발의</td>\n",
              "      <td>http://www.newsworker.co.kr/news/articleView.h...</td>\n",
              "    </tr>\n",
              "    <tr>\n",
              "      <th>4</th>\n",
              "      <td>시설수용은 복지서비스 아닌 감금이다</td>\n",
              "      <td>http://www.ablenews.co.kr/News/NewsContent.asp...</td>\n",
              "    </tr>\n",
              "    <tr>\n",
              "      <th>...</th>\n",
              "      <td>...</td>\n",
              "      <td>...</td>\n",
              "    </tr>\n",
              "    <tr>\n",
              "      <th>2995</th>\n",
              "      <td>[위드 코로나, 위드 장애인]\"시설밖 일상생활 24시간 지원해야\"</td>\n",
              "      <td>https://view.asiae.co.kr/article/2021111008214...</td>\n",
              "    </tr>\n",
              "    <tr>\n",
              "      <th>2996</th>\n",
              "      <td>장애인등록제 전면 폐지 담은 '장애서비스법' 발의</td>\n",
              "      <td>https://www.beminor.com/news/articleView.html?...</td>\n",
              "    </tr>\n",
              "    <tr>\n",
              "      <th>2997</th>\n",
              "      <td>전장연 지하철시위 멈춘 ‘장애인 활동지원’ 예산</td>\n",
              "      <td>https://www.sisa-news.com/news/article.html?no...</td>\n",
              "    </tr>\n",
              "    <tr>\n",
              "      <th>2998</th>\n",
              "      <td>국회, 내년도 예산 확정… 발달장애 예산, 정부안보다 소폭 증가</td>\n",
              "      <td>https://www.beminor.com/news/articleView.html?...</td>\n",
              "    </tr>\n",
              "    <tr>\n",
              "      <th>2999</th>\n",
              "      <td>‘세계장애인의 날’ 장애인 공약 내놓은 정치권… 장애인 단체는 기습 시위</td>\n",
              "      <td>http://www.segye.com/content/html/2021/12/03/2...</td>\n",
              "    </tr>\n",
              "  </tbody>\n",
              "</table>\n",
              "<p>3000 rows × 2 columns</p>\n",
              "</div>\n",
              "      <button class=\"colab-df-convert\" onclick=\"convertToInteractive('df-3b217b90-20ac-4bf5-b0ab-fb6ba10119a3')\"\n",
              "              title=\"Convert this dataframe to an interactive table.\"\n",
              "              style=\"display:none;\">\n",
              "        \n",
              "  <svg xmlns=\"http://www.w3.org/2000/svg\" height=\"24px\"viewBox=\"0 0 24 24\"\n",
              "       width=\"24px\">\n",
              "    <path d=\"M0 0h24v24H0V0z\" fill=\"none\"/>\n",
              "    <path d=\"M18.56 5.44l.94 2.06.94-2.06 2.06-.94-2.06-.94-.94-2.06-.94 2.06-2.06.94zm-11 1L8.5 8.5l.94-2.06 2.06-.94-2.06-.94L8.5 2.5l-.94 2.06-2.06.94zm10 10l.94 2.06.94-2.06 2.06-.94-2.06-.94-.94-2.06-.94 2.06-2.06.94z\"/><path d=\"M17.41 7.96l-1.37-1.37c-.4-.4-.92-.59-1.43-.59-.52 0-1.04.2-1.43.59L10.3 9.45l-7.72 7.72c-.78.78-.78 2.05 0 2.83L4 21.41c.39.39.9.59 1.41.59.51 0 1.02-.2 1.41-.59l7.78-7.78 2.81-2.81c.8-.78.8-2.07 0-2.86zM5.41 20L4 18.59l7.72-7.72 1.47 1.35L5.41 20z\"/>\n",
              "  </svg>\n",
              "      </button>\n",
              "      \n",
              "  <style>\n",
              "    .colab-df-container {\n",
              "      display:flex;\n",
              "      flex-wrap:wrap;\n",
              "      gap: 12px;\n",
              "    }\n",
              "\n",
              "    .colab-df-convert {\n",
              "      background-color: #E8F0FE;\n",
              "      border: none;\n",
              "      border-radius: 50%;\n",
              "      cursor: pointer;\n",
              "      display: none;\n",
              "      fill: #1967D2;\n",
              "      height: 32px;\n",
              "      padding: 0 0 0 0;\n",
              "      width: 32px;\n",
              "    }\n",
              "\n",
              "    .colab-df-convert:hover {\n",
              "      background-color: #E2EBFA;\n",
              "      box-shadow: 0px 1px 2px rgba(60, 64, 67, 0.3), 0px 1px 3px 1px rgba(60, 64, 67, 0.15);\n",
              "      fill: #174EA6;\n",
              "    }\n",
              "\n",
              "    [theme=dark] .colab-df-convert {\n",
              "      background-color: #3B4455;\n",
              "      fill: #D2E3FC;\n",
              "    }\n",
              "\n",
              "    [theme=dark] .colab-df-convert:hover {\n",
              "      background-color: #434B5C;\n",
              "      box-shadow: 0px 1px 3px 1px rgba(0, 0, 0, 0.15);\n",
              "      filter: drop-shadow(0px 1px 2px rgba(0, 0, 0, 0.3));\n",
              "      fill: #FFFFFF;\n",
              "    }\n",
              "  </style>\n",
              "\n",
              "      <script>\n",
              "        const buttonEl =\n",
              "          document.querySelector('#df-3b217b90-20ac-4bf5-b0ab-fb6ba10119a3 button.colab-df-convert');\n",
              "        buttonEl.style.display =\n",
              "          google.colab.kernel.accessAllowed ? 'block' : 'none';\n",
              "\n",
              "        async function convertToInteractive(key) {\n",
              "          const element = document.querySelector('#df-3b217b90-20ac-4bf5-b0ab-fb6ba10119a3');\n",
              "          const dataTable =\n",
              "            await google.colab.kernel.invokeFunction('convertToInteractive',\n",
              "                                                     [key], {});\n",
              "          if (!dataTable) return;\n",
              "\n",
              "          const docLinkHtml = 'Like what you see? Visit the ' +\n",
              "            '<a target=\"_blank\" href=https://colab.research.google.com/notebooks/data_table.ipynb>data table notebook</a>'\n",
              "            + ' to learn more about interactive tables.';\n",
              "          element.innerHTML = '';\n",
              "          dataTable['output_type'] = 'display_data';\n",
              "          await google.colab.output.renderOutput(dataTable, element);\n",
              "          const docLink = document.createElement('div');\n",
              "          docLink.innerHTML = docLinkHtml;\n",
              "          element.appendChild(docLink);\n",
              "        }\n",
              "      </script>\n",
              "    </div>\n",
              "  </div>\n",
              "  "
            ]
          },
          "metadata": {},
          "execution_count": 52
        }
      ]
    },
    {
      "cell_type": "code",
      "source": [
        "def word_list(title):\n",
        "  noun_adj_list = []\n",
        "\n",
        "  for words in title:\n",
        "    sentence_list = twitter.pos(words)\n",
        "    for word, tag in sentence_list:\n",
        "      if tag in [\"Noun\", \"Adjective\"]:\n",
        "        noun_adj_list.append(word)\n",
        "      else:\n",
        "        pass\n",
        "  return noun_adj_list\n"
      ],
      "metadata": {
        "id": "i1VT7mR50iLC"
      },
      "execution_count": null,
      "outputs": []
    },
    {
      "cell_type": "code",
      "source": [
        "twitter = Twitter()\n",
        "sentence_list = []\n",
        "\n",
        "\n",
        "\n",
        "\n",
        "\n",
        "noun_adj = word_list(news_df[\"title\"])\n",
        "print(noun_adj)\n",
        "\n",
        "    \n",
        "\n",
        "\n"
      ],
      "metadata": {
        "colab": {
          "base_uri": "https://localhost:8080/"
        },
        "id": "eRH3wkaKIQAe",
        "outputId": "be3453da-a0e7-4be4-f961-c9bdb45c34c3"
      },
      "execution_count": null,
      "outputs": [
        {
          "output_type": "stream",
          "name": "stdout",
          "text": [
            "['탈', '시설', '시범', '사업', '속', '장애인', '고립', '대안', '시급', '박희', '율', '광주시', '의원', '장애인', '탈', '시설', '지원', '조례', '발의', '장연', '시위', '장애인', '예산', '증액', '박희', '율', '의원', '광주', '광역시', '장애인', '탈', '시설', '및', '지역', '사회', '정착', '지원', '조례', '대표', '발의', '시설', '수용', '복지', '서비스', '아닌', '감금', '임소연', '세기', '가장', '극렬한', '존재', '투쟁', '홍', '전', '서평', '탈', '시설', '외국인', '보호', '폐지', '동물', '해방', '교차로', '정', '임소연', '나', '소중한', '사람', '송', '국현', '홍', '전', '출근길', '천막', '설치', '서울', '지하철', '통', '볼모', '장연', '임소연', '미래', '온', '장애인', '홍', '전', '임소연', '어떤', '갈망', '홍', '전', '임소연', '더하기', '은', '무한대', '홍', '전', '부산시', '복지', '예산', '줄', '삭감', '노인', '장애인', '지원', '사업', '파행', '장애인', '운동', '기후', '정의', '운동', '탈', '시설', '발달장애', '세상', '밖', '연극', '등장인물', '김정하', '처분', '사람', '홍', '전', '선택', '의정서', '비준', '국회', '계류', '올해', '안', '통과', '전문', '유엔', '장애인', '권리', '위원회', '탈', '시설', '가이드라인', '광주', '시공사', '탈', '시설', '장애인', '주거지', '업무', '협약', '김정하', '누구', '배제', '홍', '전', '김정하', '맥심', '커피', '식기', '전', '홍', '전', '탈', '시설', '한국', '피플', '퍼스트', '홍', '전', '칼럼', '탈시', '혁명', '기고', '모든', '인권', '자유', '완전하고', '동등', '향유', '장애인', '탈', '시설', '소득', '보장', '선호', '복지', '예산', '조정', '필요', '장연', '지하철', '단체', '시위', '일정', '수능', '일인', '제주시', '장애인', '전환', '서비스', '지원', '센터', '제', '탈', '시설', '자립생활', '캠프', '어서', '자립생활', '처음', '운영', '김정하', '착하고', '키', '힘', '홍', '전', '광주', '시공사', '탈', '시설', '장애인', '주거', '지원', '이진희', '위', '몸', '김원영', '지하철', '시위', '구안', '탈', '시설', '발달장애', '직접', '촉구', '탈', '시설', '용어', '차별', '시설', '단체', '현장', '목소리', '안', '탈', '시설', '장애', '정도', '맞춤', '서비스', '로', '가야', '사랑', '마을', '인권', '침해', '네', '차례', '탈', '시설', '자립생활', '지원', '하라', '탈', '시설', '장애인', '건강', '모델', '구축', '세미나', '개최', '경남', '회복', '지협', '사회', '복지', '정책', '세미나', '개최', '유엔', '탈', '시설', '가이드라인', '발간', '국가', '시설', '수용', '장애인', '배상하', '이종성', '탈', '시설', '장애인', '만', '자립', '성공', '어려움', '호소', '국회', '운영', '위', '국감', '장애인', '탈', '시설', '충돌', '장애인', '탈', '시설', '자립', '성공', '절반', '최재훈', '달성', '군수', '시범', '탈', '시설', '자립', '시스템', '마련', '것', '호선', '장연', '지하철', '시위', '오늘', '출근길', '지연', '예고', '아태', '장애인', '권리', '현실', '냉혹', '그', '자체', '호선', '장연', '지하철', '시위', '천막', '농성', '서울', '장애인', '자립', '지원', '역행', '약자', '동행', '어', '불성', '설', '이용자', '부모', '회', '강민정', '의원', '징계', '촉구', '호선', '장연', '지하철', '시위', '오늘', '달성군', '사실', '장애인', '학대', '방관', '셈', '발달장애', '자립', '도울', '수', '있는', '시스템', '구축', '장연', '지하철', '시위', '수능', '일', '잠정', '중단', '장애인', '예산', '일부', '반영', '문상민', '오늘', '조금', '더', '장애', '해방', '홍', '전', '장애인', '탈', '시설', '문제', '최재형', '장연', '참여', '진행', '국회', '운영', '위', '국', '감서', '장애인', '탈', '시설', '문제점', '듯', '문상민', '승리', '때', '마', '홍', '전', '우리', '아이', '관심', '말라', '장연', '탈', '시설', '주장', '장애인', '부모', '난색', '제주', '장애인인권', '포럼', '장애인', '탈', '시설', '토론회', '개최', '서울시', '복지', '재단', '제', '차', '장애인', '자립', '지원', '포럼', '개최', '대통령', '코앞', '천막', '농성', '칼', '장연', '장연', '최재형', '의원', '탈', '시설', '정책', '왜곡', '국감', '발언', '규탄', '탈', '시설', '장애', '더', '신명', '괴상망측', '살', '수원', '뉴스', '발달장애', '자립', '도전', '사회', '기업', '호선', '장연', '지하철', '시위', '호선', '호선', '호선', '서산시', '탈', '시설', '장애인', '자립', '지원', '시범', '사업', '추진', '장애인', '탈', '시설', '정책', '현실', '대안', '그룹', '홈', '서울시', '한쪽', '탈', '시설', '조례', '통과', '다른', '쪽', '입소', '독려', '단독', '탈', '시설', '조례', '시행', '주', '서울시', '지침', '장애인', '입소', '적극', '안내', '단순', '탈', '시설', '장애인', '아동', '노인', '시설', '문제', '못', '국', '감서', '탈', '시설', '방', '최', '증', '발달장애', '부모', '시설폐쇄', '주장', '이유', '국감', '영상', '김', '미애', '탈', '시설', '로드맵', '현장', '당사자', '목소리', '국회', '앞', '선', '발달장애', '부모', '시설', '아동', '위', '탈', '시설', '로드맵', '복지부', '의지', '있는가', '자립', '준비', '청년', '지원', '정책', '문제', '지적', '복지부', '보호', '아동', '탈', '시설', '로드맵', '항의', '공문', '전달', '김진수', '전국', '탈', '시설', '장애인', '연대', '공동', '위원장', '탈시', '감옥', '사형선고', '국감', '거리', '나선', '장애인', '부모', '정순택', '대주교', '탈', '시설', '반대', '부모', '소통', '자리', '마련', '경기도', '의회', '유호준', '의원', '장애인', '권리', '협약', '탈', '시설', '권리', '경기도', '실현', '위', '토론회', '팩트', '체크', '탈', '시설', '로드맵', '유엔', '장애인', '권리', '협약', '준수', '있다', '장애', '탈', '시설', '로드맵', '유엔', '권고', '시설', '폐쇄', '방향', '정순택', '대주교', '장연', '박경석', '대표', '장애인', '탈', '시설', '문제', '경청', '김재섭', '장연', '탈', '시설', '문제', '주도', '독점', '선', '안', '김재섭', '장연', '시민', '극심한', '불편', '탈', '시설', '범죄', '혐의', '연루', '투쟁', '결', '의문', '탈', '시설', '지원', '법', '제정', '모든', '장애인', '탈시', '박병근', '탈', '시설', '조례', '철회', '천안시', '의회', '이상구', '의원', '장애인', '동권', '탈', '시설', '장애인', '일자리', '창', '관련', '질의', '장애인', '탈', '시설', '체', '마련', '인터뷰', '탈', '시설', '후', '자립해', '부모', '발달장애', '은영', '꼭', '말', '당사자', '말', '탈', '시설', '대구', '장애인', '탈', '시설', '증언', '대회', '장애인', '시설', '중', '증장', '애인', '사망', '달성군', '재발', '방지책', '마련', '탈', '시설', '행복', '주택', '폭풍', '감동', '이야기', '월평', '빌라', '이야기', '탈', '시설', '키', '장애인', '당사자', '쥐', '있다', '용인시', '장애인', '자립생활', '센터', '용인', '자립', '전환', '지원', '네트워크', '구축', '진정한', '탈', '시설', '방안', '마련', '제주시', '탈', '시설', '장애인', '지역', '사회', '자립', '지원', '사업', '본격', '추진', '탈', '시설', '시범', '사업', '지자체', '혼란', '김재섭', '도봉', '갑', '협', '위원장', '장연', '지하철', '시위', '관련', '없는', '탈', '시설', '강조', '탈', '시설', '반대', '천주교', '장애', '교구장', '면담', '촉구', '뉴', '있', '탈', '시설', '계획', '발표', '계속', '장애인', '시설', '논란', '장연', '지하철', '호선', '시위', '수능', '오늘', '발달장애', '일방', '탈', '시설', '아니라', '선택', '인천', '계양구', '장애인', '탈', '시설', '자립', '지원', '실무', '네트워크', '회의', '개최', '광주', '광역시', '제', '차', '탈', '시설', '자립생활', '보장', '개년', '계획', '추진', '광주시', '제', '차', '탈', '시설', '자립생활', '보장', '개년', '계획', '추진', '김재섭', '장연', '탈', '시설', '문제', '주도', '독점', '선', '안', '김재섭', '장연', '시민', '극심한', '불편', '탈', '시설', '범죄', '혐의', '연루', '투쟁', '결', '의문', '탈', '시설', '지원', '법', '제정', '모든', '장애인', '탈시', '박병근', '탈', '시설', '조례', '철회', '천안시', '의회', '이상구', '의원', '장애인', '동권', '탈', '시설', '장애인', '일자리', '창', '관련', '질의', '장애인', '탈', '시설', '체', '마련', '인터뷰', '탈', '시설', '후', '자립해', '부모', '발달장애', '은영', '꼭', '말', '장연', '윤석열', '예산', '비판', '삼각지역', '농성', '당사자', '말', '탈', '시설', '대구', '장애인', '탈', '시설', '증언', '대회', '장애인', '시설', '중', '증장', '애인', '사망', '달성군', '재발', '방지책', '마련', '천안시', '의회', '이상구', '의원', '장애인', '동권', '탈', '시설', '장애인', '일자리', '창', '관련', '질의', '장애인', '탈', '시설', '체', '마련', '인터뷰', '탈', '시설', '후', '자립해', '부모', '발달장애', '은영', '꼭', '말', '장연', '윤석열', '예산', '비판', '삼각지역', '농성', '당사자', '말', '탈', '시설', '대구', '장애인', '탈', '시설', '증언', '대회', '장애인', '시설', '중', '증장', '애인', '사망', '달성군', '재발', '방지책', '마련', '탈', '시설', '행복', '주택', '폭풍', '감동', '이야기', '월평', '빌라', '이야기', '탈', '시설', '키', '장애인', '당사자', '쥐', '있다', '용인시', '장애인', '자립생활', '센터', '용인', '자립', '전환', '지원', '네트워크', '구축', '진정한', '탈', '시설', '방안', '마련', '제주시', '탈', '시설', '장애인', '지역', '사회', '자립', '지원', '사업', '본격', '추진', '탈', '시설', '시범', '사업', '지자체', '혼란', '김재섭', '도봉', '갑', '협', '위원장', '장연', '지하철', '시위', '관련', '없는', '탈', '시설', '강조', '탈', '시설', '반대', '천주교', '장애', '교구장', '면담', '촉구', '뉴', '있', '탈', '시설', '계획', '발표', '계속', '장애인', '시설', '논란', '장연', '지하철', '호선', '시위', '수능', '오늘', '발달장애', '일방', '탈', '시설', '아니라', '선택', '인천', '계양구', '장애인', '탈', '시설', '자립', '지원', '실무', '네트워크', '회의', '개최', '광주', '광역시', '제', '차', '탈', '시설', '자립생활', '보장', '개년', '계획', '추진', '광주시', '제', '차', '탈', '시설', '자립생활', '보장', '개년', '계획', '추진', '광주시', '제', '차', '탈', '시설', '자립생활', '보장', '개년', '계획', '추진', '주택', '호', '공급', '등', '개', '분야', '광주시', '제', '차', '탈', '시설', '자립생활', '보장', '개년', '계획', '추진', '광주시', '제', '차', '탈', '시설', '자립생활', '보장', '개년', '계획', '추진', '주택', '호', '공급', '등', '개', '분야', '광주', '광역시', '제', '차', '탈', '시설', '자립생활', '보장', '개년', '계획', '추진', '명', '탈', '시설', '예정', '주택', '확보', '대책', '없는', '정부', '성모승천', '축일', '맞이', '천주교', '서울', '대교구', '정순택', '베드로', '대주교', '탈', '시설', '면담', '요청', '기자회견', '정순택', '대주교', '발달장애', '부모', '면담', '탈', '시설', '정책', '불합리', '공감', '중', '증장', '애인', '부모', '우리', '아이', '탈', '시설', '필요', '광주시', '탈', '시설', '장애인', '자립', '지원', '사업', '본격', '인천', '시', '계양구', '장애인', '탈', '시설', '자립', '지원', '실무', '네트워크', '실시', '단독', '탈', '시설', '청년', '어디', '소득', '아동', '위', '씨앗', '통장', '안', '돈', '광주시', '제', '차', '탈', '시설', '자립생활', '보장', '개년', '계획', '추진', '명', '탈', '시설', '예정', '주택', '확보', '대책', '없는', '정부', '장연', '정순택', '베드로', '대주교', '탈', '시설', '면담', '요청', '기자회견', '정순택', '대주교', '발달장애', '부모', '면담', '탈', '시설', '정책', '불합리', '공감', '중', '증장', '애인', '부모', '우리', '아이', '탈', '시설', '필요', '광주시', '탈', '시설', '장애인', '자립', '지원', '사업', '본격', '인천', '시', '계양구', '장애인', '탈', '시설', '자립', '지원', '실무', '네트워크', '실시', '단독', '탈', '시설', '청년', '어디', '소득', '아동', '위', '씨앗', '통장', '안', '돈', '탈', '시설', '시범', '사업', '지자체', '혼란', '인천', '계양구', '장애인', '탈', '시설', '자립', '지원', '실무', '네트워크', '회의', '중', '증장', '애인', '부모', '우리', '아이', '탈', '시설', '필요', '광주시', '탈', '시설', '장애인', '자립', '지원', '사업', '본격', '인천', '시', '계양구', '장애인', '탈', '시설', '자립', '지원', '실무', '네트워크', '실시', '단독', '탈', '시설', '청년', '어디', '소득', '아동', '위', '씨앗', '통장', '안', '돈', '탈', '시설', '시범', '사업', '지자체', '혼란', '인천', '계양구', '장애인', '탈', '시설', '자립', '지원', '실무', '네트워크', '회의', '탈', '시설', '제동', '건', '한장', '협', '유엔', '제출', '의견서', '장연', '지하철', '출근', '시위', '주간', '예산', '증액', '안', '통과', '것', '대통령실', '보호', '아동', '탈', '시설', '추진', '시설', '단체', '결사', '반대', '광주시', '탈', '시설', '장애인', '자립', '지원', '사업', '본격', '인천', '계양구', '장애인', '탈', '시설', '자립', '지원', '실무', '네트워크', '회의', '탈', '시설', '제동', '건', '한장', '협', '유엔', '제출', '의견서', '장연', '지하철', '출근', '시위', '주간', '예산', '증액', '안', '통과', '것', '대통령실', '보호', '아동', '탈', '시설', '추진', '시설', '단체', '결사', '반대', '광주시', '탈', '시설', '장애인', '자립', '지원', '사업', '본격', '사회', '약자', '지원', '하라', '부산', '장애인', '자립', '예산', '동결', '반발', '인천', '시', '미추홀', '구', '제', '차', '장애인', '탈', '시설', '자립', '지원', '네트워크', '회의', '개최', '영상', '탈', '시설', '아닌', '자립', '지원', '중증', '발달장애', '이', '필요하다', '사이드', '이팩트', '미추홀', '구', '장애인', '탈', '시설', '자립', '지원', '네트워크', '회의', '개최', '학대', '횡령', '선산', '재활', '탈', '시설', '시급한데', '안동시', '새', '시설', '학대', '횡령', '선산', '재활', '탈', '시설', '시급한데', '안동시', '새', '시설', '서울시', '장애인', '탈', '시설', '정착', '지원', '등', '조례', '건', '공포', '중앙', '시', '도', '장애인', '탈', '시설', '자립', '전담', '조직', '지원', '체계', '구축', '성남시', '탈', '시설', '재', '장애인', '맞춤', '식사', '영양', '관리', '지원', '예산안', '통과', '단계', '장연', '마지막', '불꽃', '탈시', '인권', '침해', '장애인', '부모', '서울시', '담당자', '탈', '시설', '장애인', '식사', '영양', '관리', '서비스', '시범', '운영', '민언련', '달', '좋은', '보도', '비마이너', '탈', '시설', '팩트', '체크', '수상', '서울시', '탈', '시설', '조례', '제정', '이후', '중요하다', '오세훈', '만난', '장애인', '부모', '탈', '시설', '조례', '거부', '서울시', '탈', '시설', '조례', '제정', '이후', '중요하다', '오세훈', '만난', '장애인', '부모', '탈', '시설', '조례', '거부', '장애인', '탈', '시설', '지원', '등', '서울시', '조례', '건', '공포', '서울', '장애인', '탈', '시설', '조례', '제정', '끝', '아니다', '장애', '서울시', '탈', '시설', '조례', '제정', '환영', '한계', '점도', '뚜렷', '인천', '장애인', '탈', '시설', '지원', '사업', '만족도', '높아', '먼', '발달장애', '탈', '시설', '법적', '기반', '필요', '서울시', '탈', '시설', '조례', '서울시', '의회', '통과', '지원', '발판', '마련', '투쟁', '결', '의문', '장애인', '생존권', '말', '탈', '시설', '지원', '법', '찬성', '김재원', '찬성', '명', '반대', '명', '서울시', '탈', '시설', '조례', '제정', '서울시', '의회', '장애인', '탈', '시설', '조례', '통과', '공백', '우려', '투쟁', '결', '의문', '장애인', '생존권', '말', '탈', '시설', '지원', '법', '찬성', '김재원', '찬성', '명', '반대', '명', '서울시', '탈', '시설', '조례', '제정', '서울시', '탈', '시설', '조례', '통과', '장애', '시설', '협회', '쌍방', '집회', '인천', '시', '미추홀', '구', '장애인', '탈', '시설', '자립', '지원', '위', '차', '네트워크', '회의', '실시', '시설', '협회', '연차', '사용', '장애인', '탈', '시설', '반대', '집회', '참석', '공문', '논란', '인천', '미추홀', '구', '장애인', '탈', '시설', '자립', '지원', '회의', '성남시', '탈', '시설', '재', '장애인', '맞춤', '식사', '영양', '관리', '지원', '영상', '탈', '시설', '전국', '장애인', '거주', '시설', '이용자', '부모', '회', '공개', '토론', '탈', '시설', '장애인', '박창능', '씨', '새', '생명', '희망', '장애인', '탈', '시설', '지원', '조례', '정안', '서울시', '의회', '통과', '서울시', '탈', '시설', '조례', '통과', '장애', '시설', '협회', '쌍방', '집회', '인천', '시', '미추홀', '구', '장애인', '탈', '시설', '자립', '지원', '위', '차', '네트워크', '회의', '실시', '시설', '협회', '연차', '사용', '장애인', '탈', '시설', '반대', '집회', '참석', '공문', '논란', '인천', '미추홀', '구', '장애인', '탈', '시설', '자립', '지원', '회의', '성남시', '탈', '시설', '재', '장애인', '맞춤', '식사', '영양', '관리', '지원', '영상', '탈', '시설', '전국', '장애인', '거주', '시설', '이용자', '부모', '회', '공개', '토론', '탈', '시설', '장애인', '박창능', '씨', '새', '생명', '희망', '활동', '지원', '예산', '탈', '시설', '부진', '호소', '전북', '지역', '발달장애', '탈', '시설', '자립생활', '전환', '지원', '손', '서울시', '탈', '시설', '조례', '통과', '장애', '시설', '협회', '쌍방', '집회', '인천', '시', '미추홀', '구', '장애인', '탈', '시설', '자립', '지원', '위', '차', '네트워크', '회의', '실시', '시설', '협회', '연차', '사용', '장애인', '탈', '시설', '반대', '집회', '참석', '공문', '논란', '인천', '미추홀', '구', '장애인', '탈', '시설', '자립', '지원', '회의', '성남시', '탈', '시설', '재', '장애인', '맞춤', '식사', '영양', '관리', '지원', '영상', '탈', '시설', '전국', '장애인', '거주', '시설', '이용자', '부모', '회', '공개', '토론', '탈', '시설', '장애인', '박창능', '씨', '새', '생명', '희망', '활동', '지원', '예산', '탈', '시설', '부진', '호소', '전북', '지역', '발달장애', '탈', '시설', '자립생활', '전환', '지원', '손', '서울시', '장애인', '탈', '시설', '조례', '상임', '위', '통과', '탈', '시설', '장애인', '박창능', '씨', '새', '생명', '희망', '활동', '지원', '예산', '탈', '시설', '부진', '호소', '전북', '지역', '발달장애', '탈', '시설', '자립생활', '전환', '지원', '손', '서울시', '장애인', '탈', '시설', '조례', '상임', '위', '통과', '서울시', '장애인', '명', '탈', '시설', '조례', '제정', '의회', '집결', '가족', '아닌', '제도', '지원', '탈', '시설', '발달장애', '자립', '생활', '것', '탈', '시설', '탈', '시설', '코로나', '장애인', '복지관', '어디', '탈', '시설', '장애인', '자립생활', '주택', '호우', '피해', '장연', '또', '도로', '점거', '탈', '시설', '조례', '통과', '촉구', '일대', '교통혼잡', '탈', '시설', '코로나', '장애인', '복지관', '어디', '탈', '시설', '장애인', '자립생활', '주택', '호우', '피해', '장연', '또', '도로', '점거', '탈', '시설', '조례', '통과', '촉구', '일대', '교통혼잡', '장애인', '탈', '시설', '지원', '조례', '정안', '통과', '제', '서울시', '의회', '회기', '종료', '장연', '이틀', '출근길', '도로', '기습', '점거', '탈', '시설', '조례', '촉구', '광화문', '교통혼잡', '전북', '발달', '센터', '탈', '시설', '자립생활', '전환', '지원', '장애인', '단체', '탈', '시설', '자립', '지원', '서울시', '조례', '통과', '촉구', '탈', '시설', '시범', '사업', '시작', '주택', '공급', '장애인', '탈', '시설', '서울시', '의회', '조례', '알박기', '임기', '막판', '장애인', '탈', '시설', '조례', '발의', '논란', '재', '가열', '장연', '이종성', '의원', '탈', '시설', '권리', '대한', '가짜', '뉴스', '양산', '전주시', '탈', '시설', '장애인', '자립', '지원', '사업', '본격', '총', '명', '대상', '탈', '시설', '장애', '장애인', '동료', '시설', '서울', '장애인', '탈', '시설', '지원', '조례', '발의', '장애인', '단체', '반응', '이종성', '탈', '시설', '피해자', '탈', '시설', '장애인', '국회', '전시회', '즉각', '중단', '어린이', '인권', '기획', '편', '탈', '시설', '지원', '탈', '시설', '팩트', '체크', '시설', '선택', '그', '선택', '기만', '탈', '시설', '팩트', '체크', '자기결정권', '탈', '시설', '전제', '아니라', '목표', '서울시', '의회', '장애인', '탈', '시설', '지역', '사회', '정착', '지원', '추진', '탈', '시설', '자립생활', '장애인', '건강', '모델', '구축', '논의', '탈', '시설', '팩트', '체크', '탈', '시설', '예산', '그', '돈', '어디', '경산시장', '후보', '탈', '시설', '약속', '하라', '후보', '무', '응답', '장애인', '탈', '시설', '지원', '법', '제정', '촉구', '국회', '전시회', '개최', '국회', '복지', '위', '장애인', '권리', '예산', '증액', '장연', '지하철', '투쟁', '유보', '조선닷컴', '탈', '시설', '왜곡', '민주당', '장연', '장애인', '시설', '조선닷컴', '탈', '시설', '왜곡', '탈시', '설운동', '탈', '시설', '피해자', '둔갑', '유족', '왜곡', '말라', '영상', '윤기', '서울시', '의원', '장애인', '탈', '시설', '역사', '걸음', '탈', '시설', '당사자', '인', '목소리', '편지', '국회', '전시', '장연', '이틀', '도로', '점거', '시위', '탈', '시설', '지원', '조례', '통과', '촉구', '광주', '집결', '장애', '우리', '탈', '시설', '민주주의', '윤기', '의원', '내달', '서울시', '탈', '시설', '조례', '발의', '예정', '장애', '환영', '국회', '복지', '위', '장애인', '권리', '예산', '증액', '장연', '지하철', '투쟁', '유보', '조선닷컴', '탈', '시설', '왜곡', '민주당', '장연', '장애인', '시설', '조선닷컴', '탈', '시설', '왜곡', '탈시', '설운동', '탈', '시설', '피해자', '둔갑', '유족', '왜곡', '말라', '영상', '윤기', '서울시', '의원', '장애인', '탈', '시설', '역사', '걸음', '탈', '시설', '당사자', '인', '목소리', '편지', '국회', '전시', '장연', '이틀', '도로', '점거', '시위', '탈', '시설', '지원', '조례', '통과', '촉구', '광주', '집결', '장애', '우리', '탈', '시설', '민주주의', '탈', '시설', '당사자', '인의', '편지', '국회', '전시', '도로', '점거', '시위', '재개', '장연', '오세훈', '발달장애', '탈', '시설', '약속', '달라', '탈', '시설', '당사자', '인의', '편지', '국회', '전시', '도로', '점거', '시위', '재개', '장연', '오세훈', '발달장애', '탈', '시설', '약속', '달라', '청소년', '가정', '복귀', '아니면', '시설', '입소', '탈', '시설', '권리', '보장', '장애인', '단체', '탈', '시설', '지원', '서울시', '조례', '통과', '촉구', '농성', '돌입', '장애인', '탈', '시설', '조례', '서울시', '의회', '본회의', '통과', '지하철', '호선', '시위', '안해', '장연', '수능', '시위', '유보', '지하철', '호선', '시위', '장연', '시위', '일정', '장애인', '단체', '서울시', '내', '탈', '시설', '지원', '조례', '제정', '촉구', '영상', '오늘', '거리', '탈', '시설', '약속', '미', '이행', '혼쭐', '탈', '시설', '지원', '조례', '즉각', '제정', '장애인', '단체', '서울시', '내', '탈', '시설', '지원', '조례', '제정', '촉구', '약속', '미', '이행', '혼쭐', '탈', '시설', '지원', '조례', '즉각', '제정', '시설', '장애인', '탈', '시설', '치', '진짜', '이유', '정다혜', '탈', '시설', '당사자', '목소리', '박경', '인간', '다운', '삶', '위해', '오늘', '교육', '탈', '시설', '권리', '보장', '거주', '시설', '운영', '비', '탈', '시설', '정부', '정책', '장애인', '차별', '철폐', '안동', '투쟁', '단', '장애인', '탈', '시설', '자립생활', '권리', '보장', '성남시', '탈', '시설', '재', '장애인', '맞춤', '식사', '영양', '관리', '지원', '성남시', '탈', '시설', '재', '장애인', '맞춤', '식사', '지원', '사업', '다양성', '탈', '시설', '토론', '탈', '시설', '대해', '아무', '것', '정치인', '성남시', '탈', '시설', '재', '장애인', '식사', '영양', '관리', '지원', '성남시', '탈', '시설', '재', '장애인', '맞춤', '식사', '지원', '사업', '다양성', '탈', '시설', '토론', '탈', '시설', '대해', '아무', '것', '정치인', '장애인', '단체', '조선일보', '탈', '시설', '왜곡', '거짓', '보도', '정정', '보도', '요구', '장애인', '탈', '시설', '지원', '조례', '안', '서울시', '의회', '상임', '위', '통과', '서울시', '장애인', '탈', '시설', '지원', '조례', '즉각', '제정', '투쟁', '결', '의문', '제', '인생', '제일', '일', '탈', '시설', '입니다', '김', '동림', '르포', '탈', '시설', '반대', '발달장애', '최후', '보루', '둘', '해', '누리', '장연', '추경호', '장관', '자택', '방문', '장애인', '탈', '시설', '예산', '보장', '요구', '탈', '시설', '장애인', '비장', '애인', '새로운', '관계', '성남시', '탈', '시설', '재', '장애인', '맞춤', '식사', '영양', '관리', '지원', '다양성', '탈', '시설', '토론', '탈', '시설', '대해', '아무', '것', '정치인', '장애인', '단체', '조선일보', '탈', '시설', '왜곡', '거짓', '보도', '정정', '보도', '요구', '장애인', '탈', '시설', '지원', '조례', '안', '서울시', '의회', '상임', '위', '통과', '서울시장', '애인', '탈', '시설', '지원', '조례', '제정', '촉구', '결의', '대회', '투쟁', '결', '의문', '제', '인생', '제일', '일', '탈', '시설', '입니다', '김', '동림', '르포', '탈', '시설', '반대', '발달장애', '최후', '보루', '둘', '해', '누리', '장연', '추경호', '장관', '자택', '방문', '장애인', '탈', '시설', '예산', '보장', '요구', '탈', '시설', '장애인', '비장', '애인', '새로운', '관계', '도대체', '탈', '시설', '무엇', '답', '장애인', '탈', '시설', '권리', '부정', '규탄', '투쟁', '결', '의문', '제', '인생', '제일', '일', '탈', '시설', '입니다', '김', '동림', '르포', '탈', '시설', '반대', '발달장애', '최후', '보루', '둘', '해', '누리', '장연', '추경호', '장관', '자택', '방문', '장애인', '탈', '시설', '예산', '보장', '요구', '탈', '시설', '장애인', '비장', '애인', '새로운', '관계', '도대체', '탈', '시설', '무엇', '답', '충남도', '장애인', '탈', '시설', '개년', '계획', '수립', '민관', '협의', '체', '개최', '도로', '점거', '장연', '서울시', '장애인', '탈', '시설', '지원', '조례', '통과', '촉구', '뉴시스', '장연', '출근길', '시위', '장애인', '탈', '시설', '지원', '조례', '통과', '촉구', '충남도', '장애인', '탈', '시설', '개년', '계획', '수립', '민관', '협의', '체', '개최', '탈', '시설', '장애인', '비장', '애인', '새로운', '관계', '도대체', '탈', '시설', '무엇', '답', '충남도', '장애인', '탈', '시설', '개년', '계획', '수립', '민관', '협의', '체', '개최', '도로', '점거', '장연', '서울시', '장애인', '탈', '시설', '지원', '조례', '통과', '촉구', '뉴시스', '장연', '출근길', '시위', '장애인', '탈', '시설', '지원', '조례', '통과', '촉구', '충남도', '장애인', '탈', '시설', '개년', '계획', '수립', '민관', '협의', '체', '개최', '지역', '사회', '탈', '시설', '정책', '찬', '반', '논란', '속', '해법', '권리', '보장', '법', '탈', '시설', '지원', '법', '원안', '그대로', '통과', '다음', '기회', '포토', '장애인', '탈', '시설', '지원', '법', '찬반', '양상', '장연', '열흘', '출근길', '도로', '시위', '재개', '탈', '시설', '조례', '제정', '한국', '장애인', '연맹', '탈', '시설', '찬반', '의견', '정리', '정책', '리포트', '발간', '권리', '보장', '법', '탈', '시설', '지원', '법', '원안', '그대로', '통과', '다음', '기회', '포토', '장애인', '탈', '시설', '지원', '법', '찬반', '양상', '장연', '열흘', '출근길', '도로', '시위', '재개', '탈', '시설', '조례', '제정', '탈', '시설', '촉구', '투단', '개', '정책', '제안', '시설', '거주', '아닌', '사람', '서기', '징', '검다리', '국내', '첫', '탈', '시설', '운동', '화제', '책', '장애인', '탈', '시설', '논란', '복지', '시설', '단체', '협회', '장애인', '탈시', '장애인', '죽음', '호소', '사람', '중심', '센터', '인권', '카드', '뉴스', '탈', '시설', '제작', '탈', '시설', '뒤', '그', '얼굴', '언어', '장애인', '탈', '시설', '자립생활', '완전', '보장', '장애인', '탈', '시설', '논란', '복지', '시설', '단체', '협회', '장애인', '탈시', '장애인', '죽음', '호소', '사람', '중심', '센터', '인권', '카드', '뉴스', '탈', '시설', '제작', '탈', '시설', '뒤', '그', '얼굴', '언어', '장애인', '탈', '시설', '자립생활', '완전', '보장', '반복', '장애인', '학대', '탈', '시설', '정책', '시급', '하늘', '아래', '좋은', '시설', '없다', '전국', '탈', '시설', '장애인', '연대', '출범', '장애인', '시설', '인격', '없어', '탈', '시설', '지원', '확대', '주진우', '라이브', '장연', '탈', '시설', '반대', '국민', '힘', '장애인', '단체', '끼리', '갈라치', '해', '비겁한', '행동', '장애인', '날', '장애인', '차별', '철폐', '날', '정부', '발달장애', '탈', '시설', '지원', '국제', '포토', '국회', '장애인', '탈', '시설', '지원', '법', '문제', '있습니다', '국제', '포토', '국회', '장애인', '탈', '시설', '지원', '법', '문제', '있습니다', '장애인', '탈', '시설', '강제', '아닌', '자율', '서울시', '장애인', '지원', '책', '강화', '탈', '시설', '논란', '침묵', '장', '혜영', '종속', '장애인', '가족', '삶', '그', '구조', '게', '탈', '시설', '플랫', '당사자', '목소리', '직접', '달라', '대구', '탈', '시설', '장애인', '당사자', '대회', '탈', '시설', '황무지', '장애인', '사회', '얼마나', '준비', '장연', '돈', '논란', '증액', '예산', '통과', '가능성', '탈', '시설', '장애인', '연대', '대구', '지부', '준비', '모임', '탈', '시설', '전환', '대구', '개최', '장애', '민주당', '검', '수완', '박', '탈', '시설', '지원', '법', '추진', '탈', '시설', '코로나', '장애인', '복지관', '어디', '탈', '시설', '장애인', '연대', '대구', '지부', '준비', '모임', '탈', '시설', '전환', '대구', '개최', '장애', '민주당', '검', '수완', '박', '탈', '시설', '지원', '법', '추진', '탈', '시설', '코로나', '장애인', '복지관', '어디', '정부', '무책임', '탈', '시설', '더', '외면', '말라', '투쟁', '결', '의문', '이준석', '탈', '시설', '지원', '법', '제정', '시간', '유승', '탈', '시설', '황무지', '장애인', '시설', '원장', '말', '탈', '시설', '탈', '시설', '황무지', '경북', '장애인', '자립하기', '영상', '언제', '하나', '탈', '시설', '권리', '보장', '탈', '시설', '왜', '발달장애', '안', '국회', '질문', '하루', '번', '장애인', '단체', '장연', '시위', '호선', '지연', '예고', '장', '혜영', '종속', '장애인', '가족', '삶', '그', '구조', '게', '탈', '시설', '장애인', '인권', '이제', '국회', '영상', '언제', '하나', '탈', '시설', '권리', '보장', '탈', '시설', '왜', '발달장애', '안', '국회', '질문', '하루', '번', '장애인', '단체', '장연', '시위', '호선', '지연', '예고', '경주시', '탈', '시설', '장애인', '자립', '지원', '시범', '사업', '선정', '국회', '장애인', '탈', '시설', '부모', '절규', '탈', '시설', '정책', '윤석열', '정부', '다시', '퇴행', '장애인', '말', '시설', '이유', '통신', '탈', '시설', '중', '증장', '애인', '위', '케어', '서비스', '보급', '탈', '시설', '중', '증장', '애인', '대상', '케어', '서비스', '보급', '서울시', '동권', '탈', '시설', '약속', '모두', '장애', '시청역', '천막', '농성', '돌입', '장애인', '탈', '시설', '지원', '법', '살', '수', '없어', '선택', '달라', '통신', '탈', '시설', '중', '증장', '애인', '위', '케어', '서비스', '보급', '탈', '시설', '중', '증장', '애인', '대상', '케어', '서비스', '보급', '서울시', '동권', '탈', '시설', '약속', '모두', '장애', '시청역', '천막', '농성', '돌입', '전국', '탈', '시설', '장애인', '연대', '대구', '지부', '준비', '모임', '탈', '시설', '정책', '더욱', '강화해야', '탈', '시설', '장애', '권영진', '대구시', '감사패', '전달', '대구', '지선', '출마', '목소리', '탈', '시설', '장애인', '대회', '꼭', '장애인', '탈', '시설', '정책', '재', '점검', '필요', '난민', '노동', '정책', '교회', '이견', '탈', '시설', '장애', '배움', '기회', '달라', '삭발', '시장님', '고맙습니다', '대구', '탈', '시설', '장애우', '권영진', '시장', '감사패', '서울시', '동권', '탈', '시설', '약속', '모두', '장애', '시청역', '천막', '농성', '돌입', '전국', '탈', '시설', '장애인', '연대', '대구', '지부', '준비', '모임', '탈', '시설', '정책', '더욱', '강화해야', '탈', '시설', '장애', '권영진', '대구시', '감사패', '전달', '대구', '지선', '출마', '목소리', '탈', '시설', '장애인', '대회', '꼭', '장애인', '탈', '시설', '정책', '재', '점검', '필요', '난민', '노동', '정책', '교회', '이견', '탈', '시설', '장애', '배움', '기회', '달라', '삭발', '시장님', '고맙습니다', '대구', '탈', '시설', '장애우', '권영진', '시장', '감사패', '장애인', '단체', '탈', '시설', '장애인', '종로구', '장애인', '탈', '시설', '지원', '조례', '정안', '서울시', '의회', '통과', '엄마', '자립', '서울시', '탈', '시설', '조례', '뭐길', '탈', '시설', '장애', '배움', '기회', '달라', '삭발', '시장님', '고맙습니다', '대구', '탈', '시설', '장애우', '권영진', '시장', '감사패', '장애인', '단체', '탈', '시설', '장애인', '종로구', '장애인', '탈', '시설', '지원', '조례', '정안', '서울시', '의회', '통과', '엄마', '자립', '서울시', '탈', '시설', '조례', '뭐길', '제', '서울시', '의회', '활동', '마침표', '장애인', '탈', '시설', '조례', '통과', '장애인', '탈', '시설', '조례', '제정', '촉구', '집회', '대구시', '탈', '시설', '장애인', '자립', '지원', '시범', '사업', '최종', '선정', '탈', '시설', '공격', '나선', '이준석', '정치권', '강하게', '제동', '장애인', '비장', '애인', '동등', '동권', '보장', '부산', '장애인', '단체', '탈', '시설', '호소', '권영진', '탈', '시설', '장애인', '자립', '지원', '정책', '추진', '감사패', '장애인', '탈', '시설', '조례', '제정', '촉구', '집회', '대구시', '탈', '시설', '장애인', '자립', '지원', '시범', '사업', '최종', '선정', '탈', '시설', '공격', '나선', '이준석', '정치권', '강하게', '제동', '장애인', '비장', '애인', '동등', '동권', '보장', '부산', '장애인', '단체', '탈', '시설', '호소', '대구시', '탈', '시설', '장애인', '자립', '지원', '시범', '사업', '공모', '선정', '포토', '서울시장', '애인', '복지', '시설', '협회', '탈', '시설', '조례', '제정', '반대', '집회', '이준석', '장애인', '탈', '시설', '반대', '부모', '간담', '회', '장연', '다음주', '공개', '토론', '장연', '왜', '탈', '시설', '분노한', '부모', '이준석', '경청', '영상', '무연', '발달', '장애인', '탈', '시설', '인간', '다운', '삶', '보장', '대구시', '탈', '시설', '장애인', '자립', '지원', '시범', '사업', '최종', '선정', '장연', '장애인', '탈', '시설', '조례', '제정', '촉구', '탈', '시설', '공격', '나선', '이준석', '정치권', '강하게', '제동', '장애인', '비장', '애인', '동등', '동권', '보장', '부산', '장애인', '단체', '탈', '시설', '호소', '대구시', '탈', '시설', '장애인', '자립', '지원', '시범', '사업', '공모', '선정', '포토', '서울시장', '애인', '복지', '시설', '협회', '탈', '시설', '조례', '제정', '반대', '집회', '이준석', '장애인', '탈', '시설', '반대', '부모', '간담', '회', '장연', '다음주', '공개', '토론', '장연', '왜', '탈', '시설', '분노한', '부모', '이준석', '경청', '영상', '무연', '발달', '장애인', '탈', '시설', '인간', '다운', '삶', '보장', '이준석', '정부', '수치', '식', '장애인', '탈', '시설', '정책', '강한', '문제', '의식', '대구시', '탈', '시설', '장애인', '자립', '지원', '시범', '사업', '추진', '탈', '시설', '공격', '나선', '이준석', '정치권', '강하게', '제동', '장애인', '비장', '애인', '동등', '동권', '보장', '부산', '장애인', '단체', '탈', '시설', '호소', '대구시', '탈', '시설', '장애인', '자립', '지원', '시범', '사업', '공모', '선정', '포토', '서울시장', '애인', '복지', '시설', '협회', '탈', '시설', '조례', '제정', '반대', '집회', '이준석', '장애인', '탈', '시설', '반대', '부모', '간담', '회', '장연', '다음주', '공개', '토론', '장연', '왜', '탈', '시설', '분노한', '부모', '이준석', '경청', '영상', '무연', '발달', '장애인', '탈', '시설', '인간', '다운', '삶', '보장', '이준석', '정부', '수치', '식', '장애인', '탈', '시설', '정책', '강한', '문제', '의식', '인터뷰', '탈', '시설', '정책', '강제', '아닌', '선택', '김현아', '장애인', '거주', '시설', '이용자', '부모', '회', '대표', '영상', '무연', '발달', '장애인', '탈', '시설', '인간', '다운', '삶', '보장', '장애인', '탈', '시설', '정책', '이준석', '강한', '문제', '의식', '있어', '이준석', '정부', '수치', '식', '장애인', '탈', '시설', '정책', '강한', '문제', '의식', '인터뷰', '탈', '시설', '정책', '강제', '아닌', '선택', '김현아', '장애인', '거주', '시설', '이용자', '부모', '회', '대표', '장연', '지하철', '호선', '시위', '삼각지', '혜화역', '삭발', '서산시', '탈', '시설', '장애인', '지역', '사회', '자립', '지원', '시동', '화순군', '탈', '시설', '장애인', '자립', '지원', '속도', '정부', '공모', '선정', '서울', '차연', '서울시', '탈', '시설', '지원', '조례', '약속', '조속', '이행', '탈', '시설', '폐쇄', '법안', '철회', '쿡', '정치', '포토', '탈', '시설', '황무지', '희망', '금순', '씨', '자립', '이준석', '정부', '수치', '식', '장애인', '탈', '시설', '정책', '강한', '문제', '의식', '인터뷰', '탈', '시설', '정책', '강제', '아닌', '선택', '김현아', '장애인', '거주', '시설', '이용자', '부모', '회', '대표', '장연', '지하철', '호선', '시위', '삼각지', '혜화역', '삭발', '서산시', '탈', '시설', '장애인', '지역', '사회', '자립', '지원', '시동', '화순군', '탈', '시설', '장애인', '자립', '지원', '속도', '정부', '공모', '선정', '서울', '차연', '서울시', '탈', '시설', '지원', '조례', '약속', '조속', '이행', '탈', '시설', '폐쇄', '법안', '철회', '쿡', '정치', '포토', '탈', '시설', '황무지', '희망', '금순', '씨', '자립', '화순군', '단신', '화순군', '탈', '시설', '장애인', '자립', '지원', '속도', '정부', '공모', '선정', '서울시', '의회', '보건', '복지', '위원회', '서울시', '장애인', '탈', '시설', '지원', '위', '기반', '마련', '화순군', '탈', '시설', '장애인', '자립', '지원', '속도', '정부', '공모', '선정', '서울', '차연', '서울시', '탈', '시설', '지원', '조례', '약속', '조속', '이행', '탈', '시설', '폐쇄', '법안', '철회', '쿡', '정치', '포토', '탈', '시설', '황무지', '희망', '금순', '씨', '자립', '화순군', '단신', '화순군', '탈', '시설', '장애인', '자립', '지원', '속도', '정부', '공모', '선정', '서울시', '의회', '보건', '복지', '위원회', '서울시', '장애인', '탈', '시설', '지원', '위', '기반', '마련', '탈', '시설', '중', '증장', '애인', '자유', '행복하다', '빗속', '탈', '시설', '권리', '주장', '중', '증장', '애인', '탈', '시설', '조례', '제정', '횡단보도', '선', '장애인', '단체', '인천', '시', '남동구', '장애인', '탈', '시설', '자립', '지원', '네트워크', '회의', '개최', '화순군', '탈', '시설', '장애인', '자립', '지원', '속도', '정부', '공모', '선정', '서울시', '의회', '보건', '복지', '위원회', '서울시', '장애인', '탈', '시설', '지원', '위', '기반', '마련', '탈', '시설', '중', '증장', '애인', '자유', '행복하다', '빗속', '탈', '시설', '권리', '주장', '중', '증장', '애인', '탈', '시설', '조례', '제정', '횡단보도', '선', '장애인', '단체', '인천', '시', '남동구', '장애인', '탈', '시설', '자립', '지원', '네트워크', '회의', '개최', '탈', '시설', '권리', '이행', '촉구', '결의', '대회', '장애인', '단체', '강동철', '옥', '혜경', '씨', '제', '탈', '시설', '장애인', '수상', '장연', '탈', '시설', '권리', '보장', '촉구', '지하철', '호선', '시위', '윤석열', '탈', '시설', '지도', '장애인', '천', '명', '인수위', '규탄', '화순군', '탈', '시설', '장애인', '자립', '지원', '속도', '정부', '공모', '선정', '서울시', '의회', '보건', '복지', '위원회', '서울시', '장애인', '탈', '시설', '지원', '위', '기반', '마련', '탈', '시설', '중', '증장', '애인', '자유', '행복하다', '빗속', '탈', '시설', '권리', '주장', '중', '증장', '애인', '탈', '시설', '조례', '제정', '횡단보도', '선', '장애인', '단체', '인천', '시', '남동구', '장애인', '탈', '시설', '자립', '지원', '네트워크', '회의', '개최', '탈', '시설', '권리', '이행', '촉구', '결의', '대회', '장애인', '단체', '강동철', '옥', '혜경', '씨', '제', '탈', '시설', '장애인', '수상', '장연', '탈', '시설', '권리', '보장', '촉구', '지하철', '호선', '시위', '윤석열', '탈', '시설', '지도', '장애인', '천', '명', '인수위', '규탄', '탈', '시설', '조례', '제정', '횡단보도', '선', '장애인', '단체', '인천', '시', '남동구', '장애인', '탈', '시설', '자립', '지원', '네트워크', '회의', '개최', '탈', '시설', '권리', '이행', '촉구', '결의', '대회', '장애인', '단체', '강동철', '옥', '혜경', '씨', '제', '탈', '시설', '장애인', '수상', '장연', '탈', '시설', '권리', '보장', '촉구', '지하철', '호선', '시위', '윤석열', '탈', '시설', '지도', '장애인', '천', '명', '인수위', '규탄', '포토', '탈', '시설', '조례', '제정', '촉구', '행진', '준비', '장연', '미국', '장애인', '탈', '시설', '정책', '성과', '시사', '점', '전', '연내', '탈', '시설', '조례', '제정', '발표', '서울시', '또', '거짓말', '속보', '서울', '지하철', '호선', '호선', '호선', '장연', '장애인', '단체', '시위', '일정', '서울시', '장애인', '탈', '시설', '지원', '조례', '촉구', '장애인', '단체', '결의', '대회', '강동철', '옥', '혜경', '씨', '제', '탈', '시설', '장애인', '수상', '장연', '탈', '시설', '권리', '보장', '촉구', '지하철', '호선', '시위', '윤석열', '탈', '시설', '지도', '장애인', '천', '명', '인수위', '규탄', '포토', '탈', '시설', '조례', '제정', '촉구', '행진', '준비', '장연', '미국', '장애인', '탈', '시설', '정책', '성과', '시사', '점', '전', '연내', '탈', '시설', '조례', '제정', '발표', '서울시', '또', '거짓말', '속보', '서울', '지하철', '호선', '호선', '호선', '장연', '장애인', '단체', '시위', '일정', '포토', '보건', '복지', '위원회', '장애인', '권리', '보장', '및', '탈', '시설', '지원', '관련', '법률', '안', '공청회', '장애인', '부모', '단체', '장연', '탈', '시설', '지원', '법', '오히려', '인권', '침해', '장애', '오세훈', '연일', '압박', '이번', '탈', '시설', '속보', '서울', '지하철', '호선', '호선', '호선', '장연', '장애인', '단체', '시위', '일정', '포토', '보건', '복지', '위원회', '장애인', '권리', '보장', '및', '탈', '시설', '지원', '관련', '법률', '안', '공청회', '장애인', '부모', '단체', '장연', '탈', '시설', '지원', '법', '오히려', '인권', '침해', '김정하', '세계', '시간', '홍', '전', '전주시', '탈', '시설', '장애인', '지역', '사회', '자립', '지원', '추진', '인천', '시', '부평구', '장애인', '탈', '시설', '자립', '지원', '네트워크', '회의', '진행', '포토', '뉴스', '탈', '시설', '전환', '대구', '인천', '부평구', '장애인', '탈', '시설', '자립', '지원', '네트워크', '회의', '진행', '부평구', '장애인', '탈', '시설', '자립', '지원', '네트워크', '회의', '진행', '부평구', '장애인', '탈', '시설', '자립', '지원', '네트워크', '회의', '진행', '인천', '부평구', '장애인', '탈', '시설', '자립', '지원', '네트워크', '회의', '개최', '장애인', '탈', '시설', '지원', '법', '및', '장애인', '리보', '장법', '제정', '촉구', '경주시', '탈', '시설', '장애인', '지역', '사회', '자립', '지원', '시범', '사업', '공모', '선정', '적극', '환영', '제주시', '탈', '시설', '장애인', '자립', '지원', '시범', '사업', '추진', '포토', '탈', '시설', '당사자', '논의', '민점기', '전남지사', '예비', '후보', '장애인', '탈', '시설', '구축', '장애인', '단체', '동권', '탈', '시설', '보장', '촉구', '행진', '장애인', '단체', '동권', '탈', '시설', '보장', '촉구', '행진', '장연', '지하철', '호선', '시위', '안해', '수능', '일', '장연', '지하철', '호선', '시위', '안해', '수능', '일', '부산시', '예산', '속', '장애인', '없다', '장애인', '탈', '시설', '지원', '법', '제정', '위', '집중', '결의', '대회', '쿠키', '포토', '장애인', '탈', '시설', '지원', '주택', '제도', '화가', '핵심', '대구시', '시급한', '시정', '과제', '탈', '시설', '황무지', '벼랑', '끝', '발달장애', '부모', '대구시', '청', '재단', '비리', '의혹', '사실', '확인', '장애인', '탈', '시설', '지원', '대구시', '청', '재단', '민관', '합동', '지도', '점검', '및', '장애인', '탈', '시설', '적극', '추진', '탈', '시설', '정도', '아니다', '탈', '시설', '태도', '탈', '시설', '황무지', '발달장애', '아들', '황무지', '개척', '탈', '시설', '황무지', '발달장애', '아들', '황무지', '개척', '탈', '시설', '황무지', '환', '엄마', '앞', '선택', '장애인', '부모', '단체', '탈', '시설', '지원', '법', '인권', '침해', '폐지', '발언', '박대성', '탈', '시설', '시범', '사업', '소', '공익', '제보자', '복지', '위', '장애인', '권리', '보장', '법', '탈', '시설', '지원', '법', '공청회', '김', '총리', '탈', '시설', '장애인', '자립', '지원', '간담', '회', '시범', '사업', '서비스', '구체화', '서울', '지하철', '호선', '또', '지연', '우려', '장연', '장애인', '단체', '시위', '전개', '권력', '권리', '획득', '탈', '시설', '장애인', '가짜', '대선', '후보', '발표', '사진', '발달장애', '탈', '시설', '반대', '반대', '탈', '시설', '장애', '권영진', '대구시', '감사패', '전달', '사진', '탈', '시설', '권리', '선착순', '아니다', '탈', '시설', '장애', '권영진', '대구시', '감사패', '전달', '경남', '박완수', '도지사', '윤석열', '대통령', '방산', '업체', '방문', '복지부', '탈', '시설', '시범', '사업', '장애', '우려', '가득', '정부', '탈', '시설', '시범', '사업', '또', '지자체', '예산', '서울', '장애인', '차별', '철폐', '연대', '탈', '시설', '지원', '조례', '제정', '촉구', '부산시', '탈', '시설', '장애인', '지역', '사회', '자립', '지원', '시범', '사업', '선정', '제', '탈', '시설', '장애인', '주인공', '제주시', '탈', '시설', '장애인', '지역', '사회', '자립', '지원', '부고', '탈', '시설', '장애인', '신정훈', '씨', '뇌출혈', '사망', '서울시장', '애인', '탈', '시설', '지원', '조례', '제정', '약속', '이행', '촉구', '부산시', '탈', '시설', '장애인', '지역', '사회', '자립', '지원', '시범', '사업', '선정', '제', '탈', '시설', '장애인', '주인공', '제주시', '탈', '시설', '장애인', '지역', '사회', '자립', '지원', '부고', '탈', '시설', '장애인', '신정훈', '씨', '뇌출혈', '사망', '전국', '첫', '대구', '남구', '무장애', '주택', '의', '명암', '무늬', '탈', '시설', '경주시', '탈', '시설', '장애인', '지역', '사회', '자립', '지원', '시범', '사업', '공모', '선정', '이재명', '선', '대위', '장애인', '탈', '시설', '위', '지원', '주택', '공급', '협약', '탈', '시설', '주장', '전', '미인', '시설', '손질', '인천', '시', '탈', '시설', '장애인', '자립', '지원', '체계', '서산시', '탈', '시설', '장애인', '지역', '사회', '자립', '지원', '사업', '선정', '경주시', '탈', '시설', '장애인', '지역', '사회', '자립', '지원', '시범', '사업', '공모', '선정', '이재명', '선', '대위', '장애인', '탈', '시설', '위', '지원', '주택', '공급', '협약', '탈', '시설', '주장', '전', '미인', '시설', '손질', '인천', '시', '탈', '시설', '장애인', '자립', '지원', '체계', '조선일보', '장애인', '탈', '시설', '관련', '기사', '언론', '중재', '위원회', '제소', '기자회견', '전국', '개', '지자체', '탈', '시설', '장애인', '지역', '사회', '자립', '박정애', '경산시', '의원', '예비', '후보', '장애인', '탈', '시설', '자립생활', '권리', '보장', '정책', '추진', '지적장애', '탈', '시설', '후', '관리', '부실', '시설', '아닌', '집', '지금', '바로', '아동', '탈', '시설', '조선일보', '장애인', '탈', '시설', '관련', '기사', '언론', '중재', '위원회', '제소', '기자회견', '전국', '개', '지자체', '탈', '시설', '장애인', '지역', '사회', '자립', '박정애', '경산시', '의원', '예비', '후보', '장애인', '탈', '시설', '자립생활', '권리', '보장', '정책', '추진', '지적장애', '탈', '시설', '후', '관리', '부실', '시설', '아닌', '집', '지금', '바로', '아동', '탈', '시설', '학대', '반복', '아동', '보호', '시설', '정부', '탈', '시설', '적극', '지원', '이재명', '장애인', '공약', '발표', '장애', '탈', '시설', '권리', '누락', '아쉬워', '서울대', '로스쿨', '공익', '법률', '센터', '유엔', '장애인', '권리', '협약', '선택', '의정서', '비준', '위', '탈', '시설', '국제', '컨퍼런스', '개최', '장애인', '탈', '시설', '시범', '사업', '발', '본격', '지원', '해외', '장애', '뉴스', '브리핑', '캐나다', '내', '탈', '시설', '요구', '학대', '반복', '아동', '보호', '시설', '정부', '탈', '시설', '적극', '지원', '이재명', '장애인', '공약', '발표', '장애', '탈', '시설', '권리', '누락', '아쉬워', '서울대', '로스쿨', '공익', '법률', '센터', '유엔', '장애인', '권리', '협약', '선택', '의정서', '비준', '위', '탈', '시설', '국제', '컨퍼런스', '개최', '장애인', '탈', '시설', '시범', '사업', '발', '본격', '지원', '해외', '장애', '뉴스', '브리핑', '캐나다', '내', '탈', '시설', '요구', '장애인', '탈', '시설', '지원', '법', '반발', '이유', '나', '혼자', '산다', '를', '원합니다', '발달장애', '소연', '말', '명', '발달장애', '답', '시설', '미래', '탈', '시설', '로드맵', '장연', '시위', '예고', '서울', '지하철', '호선', '지연', '가능성', '장연', '지하철', '호선', '시위', '호선', '호선', '호선', '장연', '시위', '예고', '서울', '지하철', '호선', '지연', '가능성', '장연', '지하철', '호선', '시위', '호선', '호선', '호선', '장연', '지하철', '호선', '호선', '시위', '호선', '호선', '자립하니', '좋아요', '탈', '시설', '장애', '자신감', '탈', '시설', '주장', '전', '미인', '시설', '손질', '포항', '지역', '장애인', '단체', '탈', '시설', '자립생활', '정책', '추진', '촉구', '탈', '시설', '장애인', '자립', '지원', '로드맵', '재개', '정', '대체로', '반대', '대체로', '동의', '반대', '윤석열', '대통령', '경남', '방산', '업체', '방문', '방산', '기업', '육성', '방안', '논의', '경남', '브리핑', '탈', '시설', '장애인', '경선', '시작', '대선', '겨냥', '정치', '투쟁', '선포', '서툴지만', '내', '의지', '탈', '시설', '장애인', '처음', '자유', '탈', '시설', '장애인', '장례', '투쟁', '호랑이', '기운', '탈', '시설', '지원', '법', '권리', '보장', '법', '제정', '투쟁', '영상', '장애인', '리보', '장법', '장애인', '탈', '시설', '지원', '법', '제정', '촉구', '탈', '시설', '장애인', '자립', '지원', '시범', '사업', '스타트', '화순군', '장애인', '거주', '시설', '점검', '강화', '탈', '시설', '자립', '지원', '종합', '계획', '수립', '화순군', '장애인', '탈', '시설', '자립', '지원', '종합', '계획', '수립', '청', '재단', '장애인', '인권', '침해', '후', '원금', '유용', '사실', '대구시', '장애인', '탈', '시설', '지원', '장애인', '탈', '시설', '권리', '쟁취', '위', '박', '전국', '결의', '대회', '개최', '올해', '발', '장애인', '탈', '시설', '과제', '산적', '탈', '시설', '주장', '전', '미인', '시설', '손질', '올해', '발', '장애인', '탈', '시설', '과제', '산적', '탈', '시설', '주장', '전', '미인', '시설', '손질', '장애인', '권리', '보장', '및', '탈', '시설', '지원', '관련', '법률', '안', '공청회', '참석', '장애인', '부모', '기쁘다', '탈', '시설', '명동성당', '앞', '탈', '시설', '예수', '탄생', '중증', '발달장애', '부모', '탈', '시설', '정책', '중단', '선택', '달라', '탈', '시설', '탈', '가족', '자립', '지원', '대책', '수립', '속보', '서울', '지하철', '호선', '장연', '장애인', '단체', '시위', '일정', '삼각지', '혜화역', '삭발', '부고', '탈', '시설', '장애인', '고', '김창효', '씨', '지병', '사망', '용인', '센터', '장애인', '탈', '시설', '현재', '미래', '방향성', '제시', '정책', '토론회', '료', '이준석', '장애인', '혐오', '논란', '탈', '시설', '중요', '문제', '사진관', '장애인', '권리', '보장', '및', '탈', '시설', '지원', '관련', '법률', '안', '공청회', '기쁘다', '탈', '시설', '명동성당', '앞', '탈', '시설', '예수', '탄생', '중증', '발달장애', '부모', '탈', '시설', '정책', '중단', '선택', '달라', '탈', '시설', '탈', '가족', '자립', '지원', '대책', '수립', '속보', '서울', '지하철', '호선', '장연', '장애인', '단체', '시위', '일정', '삼각지', '혜화역', '삭발', '부고', '탈', '시설', '장애인', '고', '김창효', '씨', '지병', '사망', '용인', '센터', '장애인', '탈', '시설', '현재', '미래', '방향성', '제시', '정책', '토론회', '료', '이준석', '장애인', '혐오', '논란', '탈', '시설', '중요', '문제', '사진관', '이재명', '후보', '만난', '장애', '탈', '시설', '권리', '법', '명시', '당부', '인권위', '인수위', '장애인', '동권', '탈', '시설', '정책', '제안', '인권위', '인수위', '장애인', '동권', '탈', '시설', '정책', '제안', '청', '재단', '지속', '인권', '침해', '탈', '시설', '위', '근본', '해결', '방안', '필요', '경주시', '탈', '시설', '장애인', '지역', '사회', '자립', '지원', '시범', '사업', '공모', '선정', '탈', '시설', '장애인', '지역', '사회', '자립', '지원', '시범', '사업', '개', '지역', '선정', '시범', '사업', '예산', '약', '전국', '장애인', '거주', '시설', '부모', '회', '탈', '시설', '정책', '대판', '고려장', '장', '혜영', '마지막', '정기', '국회', '탈', '시설', '지원', '법', '호소', '콘텐츠', '진흥', '사이시옷', '탈', '시설', '이슈', '한국', '교회', '장애인', '탈', '시설', '로드맵', '정면', '비판', '재', '구축', '필요', '정부', '장애인', '탈', '시설', '로드맵', '점검', '정부', '구체', '지원', '책', '마련', '절실', '장애인', '리보', '장법', '장애인', '탈', '시설', '지원', '법', '제정', '장애인', '탈', '시설', '지원', '법', '제정', '장애', '공감', '제주', '사회', '제주', '탈', '시설', '장애인', '자립', '모델', '시급', '정부', '장애인', '탈', '시설', '로드맵', '점검', '우려', '퇴보', '장애인', '것', '탈', '시설', '관련', '법', '찬반', '팽팽', '인천대', '인천', '시', '장애인', '탈', '시설', '자립', '지원', '방안', '착수', '보고', '회', '개최', '탈', '시설', '장애인', '자립', '내년', '시범', '사업', '중증', '장애인', '지역', '사회', '생존', '기', '탈', '시설', '이후', '희망', '기록', '정부', '장애인', '탈', '시설', '로드맵', '점검', '장애인', '자립', '지원', '시설', '밖', '독립', '구호', '심상정', '장애', '등록', '제', '폐지', '탈', '시설', '약속', '한국', '가톨릭', '장애인', '사도', '직', '협의', '회', '탈', '시설', '정책', '주제', '세미나', '김윤호', '사망', '사건', '뒷짐', '전라남도', '장애', '탈', '시설', '지원', '하라', '인천대', '인천', '시', '장애인', '탈', '시설', '자립', '지원', '방안', '연구', '착수', '보고', '회', '개최', '탈', '시설', '장애인', '자립', '내년', '시범', '사업', '중증', '장애인', '지역', '사회', '생존', '기', '탈', '시설', '이후', '희망', '기록', '정부', '장애인', '탈', '시설', '로드맵', '점검', '장애인', '자립', '지원', '시설', '밖', '독립', '구호', '심상정', '장애', '등록', '제', '폐지', '탈', '시설', '약속', '한국', '가톨릭', '장애인', '사도', '직', '협의', '회', '탈', '시설', '정책', '주제', '세미나', '김윤호', '사망', '사건', '뒷짐', '전라남도', '장애', '탈', '시설', '지원', '하라', '내', '탈', '시설', '대통령', '후보', '시설', '사회', '맞짱', '탈', '시설', '장애인', '자립', '지원', '시범', '사업', '실시', '제', '포천', '가치', '탈', '시설', '대회', '료', '탈', '시설', '장애인', '자립', '지원', '시범', '사업', '실시', '제', '포천', '가치', '탈', '시설', '대회', '료', '정부', '탈', '시설', '정책', '장애인', '목소리', '제대로', '반영', '탈', '시설', '장애인', '자립', '지원', '시범', '사업', '실시', '지자체', '공모', '탈', '시설', '지원', '법', '권리', '보장', '법', '국회', '논의', '시작', '심사', '연기', '영상', '농성', '장애인', '탈', '시설', '지원', '법', '장애인', '리보', '장법', '제정', '장애인', '단체', '장연', '지하철', '시위', '호선', '운행', '지연', '예정', '탈', '시설', '인권', '침해', '줄줄이', '장애', '청', '재단', '사태', '해결', '촉구', '아들', '탈', '시설', '후', '저', '제대로', '사회생활', '대선', '탈', '시설', '장애인', '전국', '선거', '유세', '시작', '장', '혜영', '의원', '장애인', '탈', '시설', '이후', '삶', '의', '변화', '조명', '대선', '탈', '시설', '장애인', '전국', '선거', '유세', '시작', '중증', '중복', '발달장애', '탈', '시설', '이후', '삶', '변화', '보고', '회', '개최', '시설', '낫다', '탈', '시설', '장애인', '부모', '반박', '권수정', '서울시', '의원', '탈', '시설', '장애인', '자립생활', '실현', '위', '여건', '조성', '선행', '시설', '장애인', '부모', '회', '탈', '시설', '철회', '탈시', '시설', '권한', '박탈', '아닌', '장애인', '권리', '찾기', '탈', '시설', '후', '나', '개별', '삶', '주체', '화장실', '못', '가나', '탈', '시설', '장애인', '설움', '대구', '중증', '발달장애', '탈', '시설', '만족도', '크게', '증가', '기자', '눈', '탈', '시설', '정책', '대한', '불길한', '예감', '화장실', '못', '가나', '탈', '시설', '장애인', '설움', '대구', '중증', '발달장애', '탈', '시설', '만족도', '크게', '증가', '서울시', '탈', '시설', '정책', '재', '검토', '기사', '보', '장애', '천막', '농성', '철수', '생생', '발언', '탈', '시설', '해도', '안', '해도', '오세훈', '탈', '시설', '약속', '파기', '장애', '농성', '시도', '서울시', '목', '진압', '수상한', '중', '증장', '애인', '탈', '시설', '지각', '능력', '중', '증장', '애인', '씨', '작성', '퇴', '동의', '수상한', '중', '증장', '애인', '탈', '시설', '누구', '책임', '안', '누구', '위', '탈', '시설', '수상한', '중', '증장', '애인', '탈', '시설', '내부', '제보자', '해고', '권익위', '권고', '편법', '대응', '포토', '탈시', '장애인', '권리', '협약', '명시', '권리', '포토', '탈시', '장애인', '권리', '협약', '명시', '권리', '포토', '서울시장', '애인', '탈', '시설', '지원', '조례', '제정', '서울시', '탈', '시설', '자립생활', '정책', '전국', '최초', '오세훈', '서울시장', '강제', '탈', '시설', '속보', '서울', '지하철', '장연', '장애인', '단체', '시위', '일정', '주목', '포토', '서울시', '탈', '시설', '조례', '재정', '철회', '탈', '시설', '장애인', '출범', '비', '장애', '중심', '사회', '긴급', '탈', '시설', '공존', '위', '인프라', '구축', '기회', '인천대', '인천', '시', '장애인', '탈', '시설', '자립', '지원', '방안', '연구', '착수', '보고', '회', '개최', '탈', '시설', '장애인', '자립', '복지부', '내년', '시범', '사업', '인천대', '인천', '시', '장애인', '탈', '시설', '자립', '지원', '방안', '연구', '착수', '보고', '회', '개최', '탈', '시설', '장애인', '자립', '복지부', '내년', '시범', '사업', '발달장애', '남녀', '백년', '가약', '단계', '탈', '시설', '첫', '걸음', '강릉', '발달장애', '남녀', '백년', '가약', '단계', '탈', '시설', '첫', '걸음', '카드', '뉴스', '탈', '시설', '지원', '법', '궁금한', '것', '장애인', '탈', '시설', '스웨덴', '미국', '한국', '정책', '어떻게', '다른', '주장', '장애', '당사자', '탈', '시설', '로드맵', '환영', '이유', '김부겸', '총리', '탈', '시설', '정책', '관련', '장애', '간담', '회', '영상', '탈', '시설', '지역', '사회', '집', '최혜영', '의원', '정부', '탈', '시설', '찬', '논쟁', '있어선', '안', '주문', '장애인', '탈', '시설', '스웨덴', '미국', '한국', '정책', '어떻게', '다른', '주장', '장애', '당사자', '탈', '시설', '로드맵', '환영', '이유', '탈', '시설', '정책', '관련', '장애', '간담', '회하', '김부겸', '총리', '영상', '탈', '시설', '지역', '사회', '집', '최혜영', '의원', '정부', '탈', '시설', '찬', '논쟁', '있어선', '안', '주문', '사형선고', '다름없어', '계획', '보완', '장애인', '탈', '시설', '로드맵', '논란', '부산', '지역', '탈', '시설', '장애인', '자립', '지원', '손', '탈', '시설', '장애인', '하루', '전주시', '장애인', '탈', '시설', '자립', '지원', '본격', '대구', '시민단체', '중증', '중복', '발달장애', '탈시', '어떤가', '제언', '대회', '주최', '탈', '시설', '정책', '관련', '장애', '간담', '회장', '총리', '면담', '요청서', '영상', '탈', '시설', '지역', '사회', '집', '최혜영', '의원', '정부', '탈', '시설', '찬', '논쟁', '있어선', '안', '주문', '사형선고', '다름없어', '계획', '보완', '장애인', '탈', '시설', '로드맵', '논란', '부산', '지역', '탈', '시설', '장애인', '자립', '지원', '손', '탈', '시설', '장애인', '하루', '전주시', '장애인', '탈', '시설', '자립', '지원', '본격', '대구', '시민단체', '중증', '중복', '발달장애', '탈시', '어떤가', '제언', '대회', '주최', '인권위', '정부', '표', '장애인', '탈', '시설', '로드맵', '미비', '한국', '교회', '정부', '장애인', '탈', '시설', '로드맵', '강력', '반대', '탈', '시설', '정책', '관련', '장애', '간담', '회', '인사말', '김부겸', '총리', '영상', '탈', '시설', '지역', '사회', '집', '최혜영', '의원', '정부', '탈', '시설', '찬', '논쟁', '있어선', '안', '주문', '사형선고', '다름없어', '계획', '보완', '장애인', '탈', '시설', '로드맵', '논란', '부산', '지역', '탈', '시설', '장애인', '자립', '지원', '손', '탈', '시설', '장애인', '하루', '전주시', '장애인', '탈', '시설', '자립', '지원', '본격', '대구', '시민단체', '중증', '중복', '발달장애', '탈시', '어떤가', '제언', '대회', '주최', '인권위', '정부', '표', '장애인', '탈', '시설', '로드맵', '미비', '한국', '교회', '정부', '장애인', '탈', '시설', '로드맵', '강력', '반대', '김부겸', '총리', '탈', '시설', '정책', '관련', '장애', '간담', '회', '영상', '탈', '시설', '지역', '사회', '집', '최혜영', '의원', '정부', '탈', '시설', '찬', '논쟁', '있어선', '안', '주문', '사형선고', '다름없어', '계획', '보완', '장애인', '탈', '시설', '로드맵', '논란', '부산', '지역', '탈', '시설', '장애인', '자립', '지원', '손', '탈', '시설', '장애인', '하루', '전주시', '장애인', '탈', '시설', '자립', '지원', '본격', '대구', '시민단체', '중증', '중복', '발달장애', '탈시', '어떤가', '제언', '대회', '주최', '인권위', '정부', '표', '장애인', '탈', '시설', '로드맵', '미비', '한국', '교회', '정부', '장애인', '탈', '시설', '로드맵', '강력', '반대', '탈', '시설', '장애인', '하루', '전주시', '장애인', '탈', '시설', '자립', '지원', '본격', '대구', '시민단체', '중증', '중복', '발달장애', '탈시', '어떤가', '제언', '대회', '주최', '인권위', '정부', '표', '장애인', '탈', '시설', '로드맵', '미비', '한국', '교회', '정부', '장애인', '탈', '시설', '로드맵', '강력', '반대', '장애인', '탈', '시설', '로드맵', '발달장애', '아이', '홀로', '하나', '사실', '이렇습니다', '전국', '장애인', '거주', '시설', '부모', '회', '탈', '시설', '정책', '중증', '발달장애', '죽음', '박길연', '탈', '시설', '삶', '구', '탈출', '홍', '전', '권', '덕철', '장관', '중증', '장애인', '강제', '퇴소', '없고', '부모', '탈', '시설', '선택', '결정', '부여', '장애인', '탈', '시설', '논란', '중증', '발달장애', '거주', '시설', '폐쇄', '사형선고', '정부', '장애인', '자립', '탈', '시설', '로드맵', '마련', '장애인', '탈', '시설', '로드맵', '발달장애', '아이', '홀로', '하나', '사실', '이렇습니다', '전국', '장애인', '거주', '시설', '부모', '회', '탈', '시설', '정책', '중증', '발달장애', '죽음', '박길연', '탈', '시설', '삶', '구', '탈출', '홍', '전', '권', '덕철', '장관', '중증', '장애인', '강제', '퇴소', '없고', '부모', '탈', '시설', '선택', '결정', '부여', '장애인', '탈', '시설', '논란', '중증', '발달장애', '거주', '시설', '폐쇄', '사형선고', '천주교', '장애인', '탈', '시설', '계획', '반대', '까닭', '시설', '거주', '권리', '보장', '생생', '발언', '탈', '시설', '말', '장애인', '자기결정권', '침해', '소리', '속보', '지하철', '호선', '호선', '시위', '장연', '천호역', '한성대역', '이야기', '장애인', '탈', '시설', '무엇', '문제', '박길연', '탈', '시설', '삶', '구', '탈출', '홍', '전', '권', '덕철', '장관', '중증', '장애인', '강제', '퇴소', '없고', '부모', '탈', '시설', '선택', '결정', '부여', '장애인', '탈', '시설', '논란', '중증', '발달장애', '거주', '시설', '폐쇄', '사형선고', '천주교', '장애인', '탈', '시설', '계획', '반대', '까닭', '시설', '거주', '권리', '보장', '생생', '발언', '탈', '시설', '말', '장애인', '자기결정권', '침해', '소리', '속보', '지하철', '호선', '호선', '시위', '장연', '천호역', '한성대역', '이야기', '장애인', '탈', '시설', '무엇', '문제', '탈', '시설', '기대', '우려', '성공', '장애인', '탈', '시설', '급하지만', '계획', '탈', '시설', '장애인', '자립생활', '전달', '체계', '및', '전환', '모델', '제안', '정책', '토론회', '개최', '천주교', '장애인', '탈', '시설', '계획', '반대', '까닭', '시설', '거주', '권리', '보장', '생생', '발언', '탈', '시설', '말', '장애인', '자기결정권', '침해', '소리', '속보', '지하철', '호선', '호선', '시위', '장연', '천호역', '한성대역', '이야기', '장애인', '탈', '시설', '무엇', '문제', '탈', '시설', '기대', '우려', '성공', '장애인', '탈', '시설', '급하지만', '계획', '탈', '시설', '장애인', '자립생활', '전달', '체계', '및', '전환', '모델', '제안', '정책', '토론회', '개최', '청년', '미래', '정치', '시리즈', '이구원', '권리', '로써', '탈', '시설', '탈', '시설', '정책', '계획', '속보', '장애인', '단체', '시위', '지하철', '호선', '재개', '호선', '열차', '지연', '운행', '천주교', '신부', '발달장애', '탈', '시설', '당사자', '인', '내', '이야기', '장애인', '탈', '시설', '무엇', '문제', '탈', '시설', '기대', '우려', '성공', '장애인', '탈', '시설', '급하지만', '계획', '탈', '시설', '장애인', '자립생활', '전달', '체계', '및', '전환', '모델', '제안', '정책', '토론회', '개최', '청년', '미래', '정치', '시리즈', '이구원', '권리', '로써', '탈', '시설', '탈', '시설', '정책', '계획', '속보', '장애인', '단체', '시위', '지하철', '호선', '재개', '호선', '열차', '지연', '운행', '천주교', '신부', '발달장애', '탈', '시설', '당사자', '인', '내', '사진', '기재부', '내년', '탈', '시설', '예산', '보장', '촉구', '장애인', '활동가', '탈', '시설', '선도', '도시', '서울시', '오세훈', '취임', '후', '탈', '시설', '축소', '선언', '장애인', '리보', '장법', '장애인', '탈', '시설', '지원', '법', '제정', '촉구', '사진', '기재부', '내년', '탈', '시설', '예산', '보장', '촉구', '장애인', '활동가', '탈', '시설', '선도', '도시', '서울시', '오세훈', '취임', '후', '탈', '시설', '축소', '선언', '장애인', '리보', '장법', '장애인', '탈', '시설', '지원', '법', '제정', '촉구', '강원도', '장애인', '탈', '시설', '자립생활', '동권', '보장', '선언', '속보', '서울', '지하철', '호선', '장연', '장애인', '단체', '시위', '장애인', '단체', '공약', '깡통', '개', '탈', '시설', '등', '질문', '전문가', '답변', '좀', '사설', '장애인', '배제', '탈', '시설', '로드맵', '우려', '최영', '경산시장', '탈', '시설', '예산', '내년', '확보', '노력', '것', '영상', '대구', '청', '재단', '장애인', '탈', '시설', '투쟁', '탈', '시설', '삶', '장애인', '단체', '공약', '깡통', '개', '탈', '시설', '등', '질문', '전문가', '답변', '좀', '사설', '장애인', '배제', '탈', '시설', '로드맵', '우려', '최영', '경산시장', '탈', '시설', '예산', '내년', '확보', '노력', '것', '영상', '대구', '청', '재단', '장애인', '탈', '시설', '투쟁', '탈', '시설', '삶', '정신장애인', '배제', '탈', '시설', '로드맵', '전면', '수정', '정부', '내년', '예산안', '거주', '시설', '신', '증축', '탈', '시설', '예산', '배', '부어', '경기도', '장애인', '탈', '시설', '자립생활', '권리', '선언', '이행', '약속', '포토', '탈', '시설', '장애인', '자립', '지원', '로드맵', '전면', '검토', '장연', '탈', '시설', '수요', '미사', '선포', '기자회견', '장연', '탈', '시설', '수요', '미사', '선포', '기자회견', '정부', '장애인', '가족', '책임', '전가', '천주교', '탈', '시설', '로드맵', '비판', '중증', '장애인', '가족', '탈', '시설', '정책', '철폐', '인', '시위', '복지부', '탈', '시설', '시범', '사업', '원', '편성', '내년', '예산안', '발표', '중', '증장', '애인', '가족', '협회', '장애인', '탈', '시설', '법안', '저지', '위해', '국회', '소복', '시위', '첫', '인천', '장애인', '탈', '시설', '지원', '주택', '용현동', '터', '내년', '장애인', '탈', '시설', '자립', '지원', '시범', '사업', '탈', '시설', '장애인', '자립', '원하는', '중앙', '통합', '지원', '센터', '건강', '관리', '사각', '지대', '탈', '시설', '장애인', '천주교', '탈', '시설', '부정', '시설', '장애', '우려', '표', '내년', '장애인', '탈', '시설', '자립', '지원', '시범', '사업', '탈', '시설', '장애인', '자립', '원하는', '중앙', '통합', '지원', '센터', '건강', '관리', '사각', '지대', '탈', '시설', '장애인', '천주교', '탈', '시설', '부정', '시설', '장애', '우려', '표', '유럽', '장애인', '탈', '시설', '아니다', '대부분', '인', '이상', '시설', '운영', '장애', '만난', '추미애', '탈', '시설', '지원', '법', '신속히', '제정', '시설', '탈', '시설', '정말', '괜찮을까', '시선', '홍길동', '탈', '시설', '로드맵', '온라인', '장애인', '탈', '시설', '권리', '보장', '법', '열망', '장애인', '탈', '시설', '가속', '탈', '시설', '지원', '사업', '추진', '건강', '관리', '사각', '지대', '탈', '시설', '장애인', '복지부', '탈', '시설', '장애인', '지역', '사회', '자립', '지원', '위', '컨트롤', '타워', '운영', '천주교', '탈', '시설', '부정', '시설', '장애', '우려', '표', '유럽', '장애인', '탈', '시설', '아니다', '대부분', '인', '이상', '시설', '운영', '장애', '만난', '추미애', '탈', '시설', '지원', '법', '신속히', '제정', '시설', '탈', '시설', '정말', '괜찮을까', '시선', '홍길동', '탈', '시설', '로드맵', '온라인', '장애인', '탈', '시설', '권리', '보장', '법', '열망', '장애인', '탈', '시설', '가속', '탈', '시설', '지원', '사업', '추진', '학대', '일삼', '장애인', '시설', '또', '탈', '시설', '답', '학대', '일삼', '장애인', '시설', '또', '탈', '시설', '답', '복지부', '어서', '말', '해', '탈', '시설', '김부겸', '탈', '시설', '일방', '추진', '없다', '우려', '사항', '것', '사설', '중증', '발달장애', '탈시', '설화', '초래', '부작용', '포커스', '장애인', '리보', '장법', '및', '장애인', '탈', '시설', '지원', '법', '제정', '촉구', '결의', '대회', '장애인', '탈', '시설', '예산', '보장', '지원', '필요한', '장애인', '자립할', '수', '있어야', '진짜', '탈', '시설', '중', '증장', '애인', '부모', '탈시', '사형', '선고', '윤석열', '대통령', '탈', '시설', '권리', '보장', '탈', '시설', '뒤', '자립하려', '전', '재산', '꾐', '탈', '시설', '차라리', '발달장애', '가족', '안락사', '탈', '시설', '로드맵', '문재인', '정부', '선진국', '흉내', '내기', '주장', '장애인', '거주', '자의', '외침', '급진', '탈', '시설', '이', '필요하다', '시설', '폐지', '고용', '승계', '갈등', '시작', '청', '재단', '노조', '비', '대위', '탈', '시설', '왜곡', '발언', '장애인', '탈', '시설', '지원', '법', '조속', '통과', '촉구', '정부', '탈', '시설', '로드맵', '발표', '장애인', '탈', '시설', '은', '장애인', '탈', '시설', '연', '여명', '지역', '사회', '이전', '제대로', '장', '혜영', '의원', '장애인', '탈', '시설', '지원', '법', '통과', '무책임한', '무', '개념', '탈', '시설', '로드맵', '권리', '방서', '마음껏', '보고', '정부', '탈', '시설', '장애인', '독립', '지원', '이슈', '장애인', '탈', '시설', '기본', '권리', '현실', '외면', '정책', '주장', '장애인', '거주', '자의', '외침', '급진', '탈', '시설', '이', '필요하다', '시설', '폐지', '고용', '승계', '갈등', '시작', '청', '재단', '노조', '비', '대위', '탈', '시설', '왜곡', '발언', '장애인', '탈', '시설', '지원', '법', '조속', '통과', '촉구', '정부', '탈', '시설', '로드맵', '발표', '장애인', '탈', '시설', '은', '장애인', '탈', '시설', '연', '여명', '지역', '사회', '이전', '제대로', '장', '혜영', '의원', '장애인', '탈', '시설', '지원', '법', '통과', '무책임한', '무', '개념', '탈', '시설', '로드맵', '권리', '방서', '마음껏', '보고', '정부', '탈', '시설', '장애인', '독립', '지원', '문', '대통령', '공약', '장애인', '탈', '시설', '로드맵', '장애인', '탈', '시설', '연', '여명', '지역', '사회', '이전', '제대로', '장', '혜영', '의원', '장애인', '탈', '시설', '지원', '법', '통과', '무책임한', '무', '개념', '탈', '시설', '로드맵', '권리', '방서', '마음껏', '보고', '정부', '탈', '시설', '장애인', '독립', '지원', '문', '대통령', '공약', '장애인', '탈', '시설', '로드맵', '탈', '시설', '찬성', '부모', '이', '컨테이너', '옥상', '오른', '이유', '정부', '표', '장애인', '탈', '시설', '단계', '탈', '시설', '후', '이용', '활동', '지원', '주간', '활동', '서비스', '체적', '개선', '필요해', '발달장애', '탈', '시설', '물음표', '인력', '예산', '인프라', '미흡', '전국', '장애인', '차별', '철폐', '연대', '성탄절', '맞이', '전국', '탈', '시설', '미사', '진행', '사설', '가시', '장애인', '탈', '시설', '자립', '지원', '로드맵', '장애인', '탈', '시설', '로드맵', '확정', '단계', '자립', '생활', '지원', '문', '대통령', '공약', '장애인', '탈', '시설', '로드맵', '탈', '시설', '찬성', '부모', '이', '컨테이너', '옥상', '오른', '이유', '정부', '표', '장애인', '탈', '시설', '단계', '탈', '시설', '후', '이용', '활동', '지원', '주간', '활동', '서비스', '체적', '개선', '필요해', '발달장애', '탈', '시설', '물음표', '인력', '예산', '인프라', '미흡', '성탄절', '맞이', '전국', '탈', '시설', '미사', '크로스', '체크', '발달장애', '부모', '탈시', '사형선고', '장애인', '시설', '내', '폐지', '법안', '재', '검토', '요구', '목소리', '정부', '장애인', '탈', '시설', '로드맵', '가시', '여명', '지원', '포토', '탈', '시설', '발달장애', '탈', '시설', '물음표', '인력', '예산', '인프라', '미흡', '성탄절', '맞이', '전국', '탈', '시설', '미사', '크로스', '체크', '발달장애', '부모', '탈시', '사형선고', '장애인', '시설', '내', '폐지', '법안', '재', '검토', '요구', '목소리', '탈', '시설', '중', '증장', '애인', '관리', '손', '것', '중', '증장', '애인', '거주', '시설', '부모', '벼랑', '끝', '심정', '탈', '시설', '누굴', '위', '정책', '현실', '무시', '정책', '탈시', '장애인', '기본', '권리', '부모', '연대', '탈', '시설', '반대', '부모', '투쟁', '탈', '시설', '누굴', '위', '정책', '탈', '시설', '상책', '현실', '그렇지', '발달장애', '탈', '시설', '물음표', '인력', '예산', '인프라', '미흡', '장애인', '시설', '생활', '지옥', '같아', '탈', '시설', '장애인', '절규', '전국', '장애인', '차별', '철폐', '연대', '성탄절', '맞이', '전국', '탈', '시설', '미사', '진행', '크로스', '체크', '발달장애', '부모', '탈시', '사형선고', '장애인', '시설', '내', '폐지', '법안', '재', '검토', '요구', '목소리', '탈', '시설', '중', '증장', '애인', '관리', '손', '것', '중', '증장', '애인', '거주', '시설', '부모', '벼랑', '끝', '심정', '탈', '시설', '누굴', '위', '정책', '현실', '무시', '정책', '탈시', '장애인', '기본', '권리', '부모', '연대', '탈', '시설', '반대', '부모', '투쟁', '탈', '시설', '누굴', '위', '정책', '탈', '시설', '상책', '현실', '그렇지', '누구', '위', '장애인', '탈', '시설', '폭염', '속', '상복', '거리', '시설', '퇴소', '사형선고', '탈', '시설', '중', '증장', '애인', '관리', '손', '것', '중', '증장', '애인', '거주', '시설', '부모', '벼랑', '끝', '심정', '탈', '시설', '누굴', '위', '정책', '현실', '무시', '정책', '탈시', '장애인', '기본', '권리', '부모', '연대', '탈', '시설', '반대', '부모', '투쟁', '탈', '시설', '누굴', '위', '정책', '탈', '시설', '상책', '현실', '그렇지', '누구', '위', '장애인', '탈', '시설', '폭염', '속', '상복', '거리', '시설', '퇴소', '사형선고', '탈', '시설', '누굴', '위', '정책', '장애', '아이', '부모', '죄', '아니잖아요', '왜냐면', '장애인', '탈', '시설', '정답', '아니다', '탈', '시설', '로드맵', '조건', '국가', '책임', '당사자', '권한', '시설', '폐쇄', '장애인', '탈', '시설', '지원', '법', '재정', '전장', '연표', '장애인', '탈', '시설', '로드맵', '압박', '탈', '시설', '누굴', '위', '정책', '장애', '아이', '부모', '죄', '아니잖아요', '왜냐면', '장애인', '탈', '시설', '정답', '아니다', '탈', '시설', '로드맵', '조건', '국가', '책임', '당사자', '권한', '시설', '폐쇄', '장애인', '탈', '시설', '지원', '법', '재정', '전장', '연표', '장애인', '탈', '시설', '로드맵', '압박', '대책', '없는', '장애인', '탈시', '인권', '침해', '발달장애', '가족', '호소', '준비', '장애인', '탈', '시설', '위험', '복지', '우려', '목소리', '장애인', '탈', '시설', '탈', '시설', '천주교', '보건복지부', '탈', '시설', '장애인', '로드맵', '반대', '대구시', '장애인', '탈', '시설', '대한', '의지', '정의당', '대구시', '논평', '천주교', '보건복지부', '탈', '시설', '장애인', '로드맵', '반대', '대구시', '장애인', '탈', '시설', '대한', '의지', '정의당', '대구시', '논평', '천지', '포토', '장연', '장애인', '탈', '시설', '지원', '법', '제정', '탈', '시설', '장애인', '위', '지역', '사회', '준비', '무주군', '무주', '하은', '집', '입소', '대한', '탈', '시설', '지원', '조사', '이행', '합의', '대구', '장애인', '단체', '대구시', '탈', '시설', '지원', '촉구', '탈', '시설', '선도', '대구시', '탈', '시설', '정책', '축소', '선언', '김부겸', '총리', '탈', '시설', '로드맵', '우려', '점', '전면', '검토', '무주', '하은', '집', '장애인', '달', '중', '탈', '시설', '지원', '조사', '장애인', '학대', '하은', '집', '민관', '협의', '체', '구성', '탈', '시설', '지원', '무주군', '장애인', '폭행', '발생', '하은', '집', '입소', '탈', '시설', '지원', '착수', '대구', '장애인', '단체', '대구시', '탈', '시설', '지원', '촉구', '탈', '시설', '선도', '대구시', '탈', '시설', '정책', '축소', '선언', '김부겸', '총리', '탈', '시설', '로드맵', '우려', '점', '전면', '검토', '무주', '하은', '집', '장애인', '달', '중', '탈', '시설', '지원', '조사', '장애인', '학대', '하은', '집', '민관', '협의', '체', '구성', '탈', '시설', '지원', '발달장애', '최', '아람', '탈', '시설', '이야기', '탈', '시설', '탈', '가정', '저', '살', '어머니', '절규', '장애', '끈질긴', '투쟁', '끝', '경주시', '탈', '시설', '자립생활', '정책', '추진', '경주시', '탈', '시설', '지원', '범죄', '시설', '행정처분', '합의', '장애인', '단체', '대구', '탈', '시설', '극적', '정부', '사업', '응모', '안해', '무주', '하은', '집', '장애인', '달', '중', '탈', '시설', '지원', '조사', '장애인', '학대', '하은', '집', '민관', '협의', '체', '구성', '탈', '시설', '지원', '발달장애', '최', '아람', '탈', '시설', '이야기', '탈', '시설', '탈', '가정', '저', '살', '어머니', '절규', '장애', '끈질긴', '투쟁', '끝', '경주시', '탈', '시설', '자립생활', '정책', '추진', '경주시', '탈', '시설', '지원', '범죄', '시설', '행정처분', '합의', '인천', '동구', '장애인', '탈', '시설', '자립생활', '위', '네트워크', '필요성', '교육', '권', '덕철', '장애인', '탈', '시설', '지원', '법', '제정', '국제', '포토', '탈', '시설', '지원', '법', '한쪽', '일방', '목소리', '뿐', '국제', '포토', '탈', '시설', '지원', '법', '한쪽', '일방', '목소리', '뿐', '장애인', '탈', '시설', '지원', '법', '제정', '세계', '장애인', '날', '여의도', '집회', '사진관', '서울', '지하철', '호선', '호선', '장연', '장애인', '단체', '시위', '출근길', '지연', '야기', '하나', '전국', '장애인', '차별', '철폐', '연대', '장애인', '탈', '시설', '지원', '법', '제정', '촉구', '부평구', '장애인', '탈', '시설', '자립', '지원', '네트워크', '회의', '부평구', '장애인', '탈', '시설', '자립', '지원', '네트워크', '회의', '탈', '시설', '최선', '장애인', '인권', '장애인', '자립', '청사진', '탈', '시설', '지원', '사업', '추진', '인천', '시', '거주', '시설', '원하는', '장애인', '탈', '시설', '안해', '거주', '학대', '여주', '라파엘', '집', '서울시', '명', '탈', '시설', '지원', '논란', '이제', '시설', '아닌', '지역', '사회', '살', '수', '있게', '탈', '시설', '장애인', '자립', '지원', '로드맵', '발표', '인천', '시', '거주', '시설', '원하는', '장애인', '탈', '시설', '안해', '거주', '학대', '여주', '라파엘', '집', '서울시', '명', '탈', '시설', '지원', '논란', '장연', '시위', '대의', '휠체어', '남자', '그', '충격', '정체', '사도', '직', '현장', '유럽', '선진국', '장애인', '시설', '장애인', '리보', '장법', '및', '장애인', '탈', '시설', '지원', '법', '제정', '촉구', '기자회견', '서울', '포토', '탈', '시설', '로드맵', '철회', '장애인', '권리', '탈', '시설', '지원', '위해', '탈', '시설', '인천', '호', '장애인', '지원', '주택', '입주', '완료', '탈', '시설', '지원', '법', '권리', '보장', '법', '제정', '촉구', '국회', '바퀴', '사도', '직', '현장', '유럽', '선진국', '장애인', '시설', '장애인', '리보', '장법', '및', '장애인', '탈', '시설', '지원', '법', '제정', '촉구', '기자회견', '서울', '포토', '탈', '시설', '로드맵', '철회', '장애인', '권리', '탈', '시설', '지원', '위해', '탈', '시설', '인천', '호', '장애인', '지원', '주택', '입주', '완료', '탈', '시설', '지원', '법', '권리', '보장', '법', '제정', '촉구', '국회', '바퀴', '장애인', '탈', '시설', '입법', '조례', '제정', '철회', '서울', '탈', '시설', '정책', '후퇴', '장애', '의회', '통합', '대상자', '탈', '시설', '방안', '복지부', '사회', '입원', '최소', '전략', '논의', '지하철', '호선', '아닌', '호선', '호선', '시위', '장연', '계속', '장애인', '권리', '탈', '시설', '지원', '위해', '탈', '시설', '인천', '호', '장애인', '지원', '주택', '입주', '완료', '탈', '시설', '지원', '법', '권리', '보장', '법', '제정', '촉구', '국회', '바퀴', '장애인', '탈', '시설', '입법', '조례', '제정', '철회', '서울', '탈', '시설', '정책', '후퇴', '장애', '의회', '통합', '대상자', '탈', '시설', '방안', '복지부', '사회', '입원', '최소', '전략', '논의', '지하철', '호선', '아닌', '호선', '호선', '시위', '장연', '계속', '장애인', '탈', '시설', '주거', '정책', '연속', '포럼', '탈', '시설', '황무지', '발달장애', '부모', '앞', '선택', '탈', '시설', '황무지', '동영', '엄마', '홍기선', '씨', '아이', '것', '소원', '두', '여덟', '살', '어른', '의', '죽음', '우리', '숙제', '대구', '지역', '장애인', '탈', '시설', '권리', '실현', '연속', '포럼', '개최', '투쟁', '결', '의문', '장애인', '대한', '편견', '비장', '애인', '호소', '이건희', '한자', '협', '투쟁', '주년', '모든', '장애인', '권리', '온', '시간', '장연', '탈', '시설', '정책', '이행', '장애인', '국회', '향', '외침', '인천', '시', '동구', '장애인', '탈', '시설', '자립생활', '위', '네트워크', '필요성', '교육', '탈시', '인권', '장애', '심하면', '탈', '시설', '배제', '수장', '없는', '장애인', '개발', '여야', '난타', '진땀', '현장', '장애인', '단체', '옥살이', '다를', '바', '없어', '탈', '시설', '지원', '법', '제정', '촉구', '인천', '시', '동구', '장애인', '탈', '시설', '자립생활', '위', '네트워크', '필요성', '교육', '탈시', '인권', '장애', '심하면', '탈', '시설', '배제', '수장', '없는', '장애인', '개발', '여야', '난타', '진땀', '현장', '장애인', '단체', '옥살이', '다를', '바', '없어', '탈', '시설', '지원', '법', '제정', '촉구', '한국', '가톨릭', '장애인', '사도', '직', '협의', '회', '현', '정부', '장애인', '복지', '서비스', '흐름', '방향', '세미나', '개최', '지금', '당장', '탈', '시설', '가능하다', '전북도', '장애인', '탈', '시설', '청사진', '제시', '투입', '포토', '장애인', '탈', '시설', '지원', '법', '제정', '위', '국민', '힘', '대표', '면담', '요청', '탈', '시설', '장애인', '지원', '주택', '제도', '꿈틀', '전문', '한국', '유엔', '장애인', '권리', '협약', '이행', '차', '보고', '대한', '유엔', '최종', '견해', '전북도', '장애인', '탈', '시설', '개년', '계획', '수립', '자립', '지원', '포토', '장애인', '탈', '시설', '지원', '법', '제정', '위', '국민', '힘', '대표', '면담', '요청', '탈', '시설', '장애인', '지원', '주택', '제도', '꿈틀', '전문', '한국', '유엔', '장애인', '권리', '협약', '이행', '차', '보고', '대한', '유엔', '최종', '견해', '머니', '포토', '장애인', '혐오', '논란', '이준석', '대표', '탈', '시설', '중요', '문제', '유쾌한', '탈', '시설', '공기', '이런', '글', '보고', '천지', '포토', '탈시', '인권', '시설', '살', '사람', '있어요', '대한', '탈시', '설운동', '대답', '제', '차', '유엔', '장애인', '권리', '위원회', '탈', '시설', '가이드라인', '등', '논의', '인천', '시', '장애인', '거주', '시설', '미추홀', '푸르내', '탈', '시설', '추진', '유쾌한', '탈', '시설', '공기', '이런', '글', '보고', '천지', '포토', '탈시', '인권', '시설', '살', '사람', '있어요', '대한', '탈시', '설운동', '대답', '제', '차', '유엔', '장애인', '권리', '위원회', '탈', '시설', '가이드라인', '등', '논의', '인천', '시', '장애인', '거주', '시설', '미추홀', '푸르내', '탈', '시설', '추진', '서울시', '장애인', '탈', '시설', '예산', '보장', '정부', '눈치', '보지', '장애인', '탈', '시설', '명문', '하라', '자립생활', '진영', '포함', '탈', '시설', '로드맵', '구성', '재차', '촉구', '탈', '시설', '장애인', '안정', '자립', '위', '소득', '보장', '인천', '본부', '인천', '장애인', '주거', '환지', '센터', '탈', '시설', '장애인', '주거지', '맞춤', '임대주택', '추진', '탈', '시설', '이', '어때서', '탈', '시설', '장애인', '인', '색', '보고서', '시즌', '참여자', '모집', '민제', '무', '응답', '층', '전선', '홍', '전', '장애인', '탈', '시설', '지원', '법', '제정', '촉구', '탈', '시설', '역사', '새로', '향유', '집', '장애인', '권리', '보장', '법', '탈', '시설', '지원', '법', '제정', '촉구', '농성', '심상정', '충남도', '장애인', '탈', '시설', '정책', '내년', '본격', '추진', '장애인', '시설', '거주', '탈', '시설', '희망', '카드', '퇴', '동의', '대리', '작성', '의혹', '중', '증장', '애인', '탈', '시설', '논란', '심화', '보건', '복지', '위', '국감', '설전', '뜨거웠던', '보건', '의료', '분야', '주간', '이슈', '정리', '장애인', '권리', '보장', '법', '탈', '시설', '지원', '법', '제정', '촉구', '농성', '심상정', '충남도', '장애인', '탈', '시설', '정책', '내년', '본격', '추진', '장애인', '시설', '거주', '탈', '시설', '희망', '카드', '퇴', '동의', '대리', '작성', '의혹', '중', '증장', '애인', '탈', '시설', '논란', '심화', '보건', '복지', '위', '국감', '설전', '뜨거웠던', '보건', '의료', '분야', '주간', '이슈', '정리', '탈', '시설', '선택', '지역', '사회', '선택', '서울', '복지', '재단', '장애인', '자립', '지원', '포럼', '실천', '방안', '모색', '최혜영', '문재인', '약속', '장애인', '탈', '시설', '지적', '당연한', '것', '단독', '문', '대통령', '약속', '그', '모두', '장애인', '탈', '시설', '생생', '인터뷰', '장애인', '정책', '정위', '당사자', '반영', '탈', '시설', '로드맵', '구축', '서울', '복지', '재단', '장애인', '자립', '지원', '포럼', '실천', '방안', '모색', '최혜영', '문재인', '약속', '장애인', '탈', '시설', '지적', '당연한', '것', '단독', '문', '대통령', '약속', '그', '모두', '장애인', '탈', '시설', '생생', '인터뷰', '장애인', '정책', '정위', '당사자', '반영', '탈', '시설', '로드맵', '구축', '포토', '장애인', '단체', '탈', '시설', '로드맵', '탈', '시설', '권리', '명시', '촉구', '컨테이너', '인', '시위', '장애인', '날', '탈', '시설', '참여', '보장', '외치', '포항시', '장애인', '탈', '시설', '자립', '생활', '정책', '요구', '경남', '장애인', '자립', '과', '탈', '시설', '원한다', '장애인', '탈', '시설', '삶', '시설', '폐쇄', '로', '호소', '중', '증장', '애인', '연대', '우리', '것', '특별법', '제정', '맞춤', '일자리', '경남', '장애인', '자립', '과', '탈', '시설', '원한다', '장애인', '탈', '시설', '삶', '시설', '폐쇄', '로', '호소', '중', '증장', '애인', '연대', '우리', '것', '특별법', '제정', '맞춤', '일자리', '이슈', '밀착', '장애인', '웃음', '준', '탈', '시설', '정부', '공약', '제자리걸음', '서울시', '장애인', '탈', '시설', '정책', '속도', '안정', '삶', '우선', '추진', '시설', '가야', '탈', '시설', '장애인', '눈물', '탈', '시설', '장애인', '의료', '지원', '체계', '어떻게', '마련', '탈', '시설', '장애인', '이', '것', '대구시', '장애인', '탈', '시설', '정책', '도시', '공사', '협조', '필요', '장연', '수능', '날', '지하철', '호선', '시위', '유보', '시설', '협회', '참된', '복지', '실천', '위해', '탈', '시설', '대하', '민제', '만남', '홍', '전', '복지부', '지역', '사회', '탈', '시설', '현실', '정책', '논의', '단독', '튜브', '음식', '섭취', '장애인', '행사', '상', '사연', '당사자', '장애인', '탈', '시설', '정부', '방안', '수', '없다', '대구시', '장애인', '코로나', '대책', '부족', '장애인', '단체', '탈', '시설', '정책', '요구', '송두환', '인권', '위원장', '장애인', '시설', '방문', '인권', '보장', '노력', '주교', '회의', '탈', '시설', '장애인', '자립', '지원', '정부', '로드맵', '강력', '반대', '집', '필요하다', '아동', '청소년', '탈', '시설', '외치', '주거권', '요구', '정부', '왜', '탈', '시설', '탈', '시설', '못', '하나', '장애', '분노', '주교', '회의', '탈', '시설', '장애인', '자립', '지원', '정부', '로드맵', '강력', '반대', '집', '필요하다', '아동', '청소년', '탈', '시설', '외치', '주거권', '요구', '정부', '왜', '탈', '시설', '탈', '시설', '못', '하나', '장애', '분노', '남동구', '장애인', '탈', '시설', '자립', '지원', '네트워크', '회의', '개최', '탈', '시설', '은', '지난', '국가', '정책', '과오', '대한', '반성', '제', '지대', '간다', '탈', '시설', '장애인', '불합리', '장애인', '정책', '우리', '변화', '서울시', '장애인', '탈', '시설', '명', '성공', '한국', '장애인운동', '제네바', '해외', '동지', '최', '한별', '서울', '전국', '첫', '장애인', '탈', '시설', '지원', '조례', '서울시', '올해', '장애인', '탈', '시설', '조례', '제정', '한국', '장애인운동', '제네바', '해외', '동지', '최', '한별', '최혜영', '의원', '장애인', '탈', '시설', '지원', '법', '제정', '위', '연속', '토론회', '개최', '서울', '전국', '첫', '장애인', '탈', '시설', '지원', '조례', '서울시', '올해', '장애인', '탈', '시설', '조례', '제정', '홍', '전', '칼럼', '탈', '시설', '지원', '법', '제정', '신정', '순', '태섭', '씨', '제', '탈', '시설', '장애인', '수상', '세종시', '장애인', '활동가', '탈', '시설', '거부', '복지부', '강도', '높은', '규탄', '속보', '장애인', '단체', '시위', '종료', '지하철', '호선', '열차', '지연', '운행', '탈', '시설', '장애인', '공식', '활동', '종료', '진짜', '정치', '이제', '시작', '장애', '해방', '그', '탈', '시설', '이유', '빵', '대신', '자유', '서울시', '전국', '첫', '탈', '시설', '장애인', '권리', '조례', '제정', '홍', '전', '칼럼', '탈', '시설', '지원', '법', '제정', '신정', '순', '태섭', '씨', '제', '탈', '시설', '장애인', '수상', '세종시', '장애인', '활동가', '탈', '시설', '거부', '복지부', '강도', '높은', '규탄', '속보', '장애인', '단체', '시위', '종료', '지하철', '호선', '열차', '지연', '운행', '탈', '시설', '장애인', '공식', '활동', '종료', '진짜', '정치', '이제', '시작', '장애', '해방', '그', '탈', '시설', '이유', '빵', '대신', '자유', '인천', '시', '동구', '장애인', '탈', '시설', '자립생활', '위', '네트워크', '필요성', '교육', '인천', '시', '탈', '시설', '자립', '지원', '장애인', '주거', '전환', '지원', '센터', '국회', '향', '탈', '시설', '장애인', '명의', '편지', '탈', '시설', '지원', '법', '제정', '신정', '순', '태섭', '씨', '제', '탈', '시설', '장애인', '수상', '세종시', '장애인', '활동가', '탈', '시설', '거부', '복지부', '강도', '높은', '규탄', '속보', '장애인', '단체', '시위', '종료', '지하철', '호선', '열차', '지연', '운행', '탈', '시설', '장애인', '공식', '활동', '종료', '진짜', '정치', '이제', '시작', '장애', '해방', '그', '탈', '시설', '이유', '빵', '대신', '자유', '인천', '시', '동구', '장애인', '탈', '시설', '자립생활', '위', '네트워크', '필요성', '교육', '인천', '시', '탈', '시설', '자립', '지원', '장애인', '주거', '전환', '지원', '센터', '국회', '향', '탈', '시설', '장애인', '명의', '편지', '탈', '시설', '지원', '법', '제정', '안철수', '후보', '탈', '시설', '장애인', '장애인', '정책', '협약', '박영선', '장애인', '탈', '시설', '유니버설', '디자인', '공약', '박영선', '장애인', '탈', '시설', '유니버설', '디자인', '공약', '장애인', '탈', '시설', '지원', '법', '제정', '당사자', '인의', '외침', '전원', '탈', '시설', '자립', '지원', '고용', '승계', '두', '마리', '토끼', '잡', '수', '있을까', '임기', '남짓', '장애', '탈', '시설', '지원', '법', '권리', '보장', '법', '제정', '촉구', '농성', '돌입', '탈', '시설', '장애인', '후보자', '합동', '토론회', '린다', '장연', '서울', '지하철', '호선', '시위', '예고', '열차', '운행', '지연', '민제', '대각선', '뒤', '홍', '전', '코로나', '시설', '인권', '침해', '심각', '국제', '탈', '시설', '전략', '필요해', '세', '김성수', '성공회', '주교', '소망', '발달장애', '노인', '전문', '시설', '마련', '통장', '도장', '전화', '신아', '거주', '탈', '시설', '의사', '장연', '서울', '지하철', '호선', '시위', '예고', '열차', '운행', '지연', '민제', '대각선', '뒤', '홍', '전', '코로나', '시설', '인권', '침해', '심각', '국제', '탈', '시설', '전략', '필요해', '세', '김성수', '성공회', '주교', '소망', '발달장애', '노인', '전문', '시설', '마련', '통장', '도장', '전화', '신아', '거주', '탈', '시설', '의사', '장애인', '시설', '인권', '침해', '실태', '조사', '탈', '시설', '촉구', '동정', '최영애', '국가인권위', '원장', '탈', '시설', '장애인', '지원', '주택', '방문', '탈', '시설', '장애인', '당', '자', '불법', '정당', '포토', '강동구', '장애인', '자립생활', '권리', '보장', '박래군', '인권', '삶', '탈', '시설', '장애인', '지지', '식당', '정당', '선관위', '탈', '시설', '장애인', '제재', '장애인', '단체', '반발', '포토', '강동구', '장애인', '자립생활', '권리', '보장', '박래군', '인권', '삶', '탈', '시설', '장애인', '지지', '병', '묵묵', '탈', '시설', '지원', '법', '제정', '감시', '탈', '시설', '결심', '취소', '수', '없었다', '장애인', '복지', '현안', '지적', '복지부', '국감', '규홍', '진땀', '종합', '시설', '내', '코로나', '발생', '시', '긴급', '탈', '시설', '의무', '법안', '발의', '사도', '직', '현장', '센터', '천국', '것', '제', '탈', '시설', '장애인', '수상자', '공모', '시설', '밖', '또', '장애물', '도시', '투명', '장벽', '도시', '위험', '방치', '코흐', '트', '격리', '대신', '집단', '거주', '시설', '감염병', '때', '탈', '시설', '법안', '발의', '사도', '직', '현장', '센터', '천국', '것', '제', '탈', '시설', '장애인', '수상자', '공모', '시설', '밖', '또', '장애물', '도시', '투명', '장벽', '도시', '장애인', '거주', '시설', '이용자', '부모', '긴급', '탈', '시설', '인권', '침해', '진정', '탈', '시설', '정책', '제자리걸음', '무늬', '국정', '과제', '가짜', '정당', '표명', '탈', '시설', '장애인', '발언권', '제재', '선관위', '국정', '과제', '장애인', '탈', '시설', '지지', '부진', '명확한', '로드맵', '마련', '금태섭', '장애인', '동권', '탈', '시설', '문제', '반드시', '해결', '대구시', '투입', '장애인', '탈', '시설', '확대', '최혜영', '의원', '정부', '장애인', '탈', '시설', '정책', '의지', '있나', '질타', '금태섭', '장애인', '동권', '탈', '시설', '문제', '반드시', '해결', '대구시', '투입', '장애인', '탈', '시설', '확대', '대구시', '장애인', '탈', '시설', '지원', '위해', '투입', '섣부른', '장애인', '탈', '시설', '인권', '침해', '우려', '신아', '농성', '정리', '더', '강력한', '탈', '시설', '지원', '법', '제정', '투쟁', '예고', '탈', '시설', '장애인', '주민', '갈등', '시설', '행', '포토', '코로나', '시대', '장애인', '거주', '시설', '긴급', '탈', '시설', '쟁취', '포토', '장연', '전국', '단위', '긴급', '탈', '시설', '조치', '강력', '촉구', '포토', '탈', '시설', '통해', '지역', '사회', '집', '촉구', '포토', '코로나', '시대', '장애인', '거주', '시설', '긴급', '탈', '시설', '쟁취', '포토', '장애인', '탈', '시설', '지원', '법', '제정', '투쟁', '선포', '포토', '장연', '전국', '단위', '긴급', '탈', '시설', '조치', '강력', '촉구', '포토', '탈', '시설', '통해', '지역', '사회', '집', '촉구', '경기도', '장애인', '거주', '시설', '탈', '시설', '주장', '장애인', '단체', '규탄', '기자회견', '개최', '준비', '안된', '장애인', '탈', '시설', '갈등', '탈', '시설', '중', '증장', '애인', '가구', '대상', '케어', '서비스', '보급', '제', '도가니', '인강', '탈', '시설', '새', '모델', '정부', '시설', '장애인', '자립', '지원', '탈', '시설', '로드맵', '추진', '장애인', '자발', '탈', '시설', '장봉', '체험', '홈', '정부', '시설', '장애인', '자립', '지원', '탈', '시설', '로드맵', '추진', '장애인', '자발', '탈', '시설', '장봉', '체험', '홈', '탈', '시설', '장애인', '자립', '지원', '로드맵', '발표', '서울시', '민관', '협의', '체', '신아', '탈', '시설', '논의', '탈', '시설', '농성', '장서', '시설', '희생', '추모', '제', '탈', '시설', '세상', '장애인', '시설', '탈', '시설', '장애', '것', '탈', '시설', '장애인', '명', '서울시장', '후보', '본격', '선거', '유세', '시작', '장애인', '탈', '시설', '대상자', '심의', '계획', '철회', '탈시', '가석방', '제도', '아니다', '장애', '신아', '재활', '긴급', '탈', '시설', '이행', '촉구', '천막', '농성', '시작', '장애', '신아', '재활', '긴급', '탈', '시설', '이행', '촉구', '천막', '농성', '시작', '탈', '시설', '장애인', '대구시', '포토', '탈', '시설', '체계', '구축', '장애인', '탈', '시설', '지원', '법', '제정', '시급', '기획', '탈', '시설', '주장', '서울시장', '보궐선거', '장애', '신아', '거주', '절반', '재', '입소', '서울시', '탈', '시설', '지원', '약속', '끝내', '파기', '탈', '시설', '반환', '점', '돈', '장애인', '국회의원', '바쁘다', '바빠', '곰', '마라', '비디오', '머그', '서울시장', '후보', '선거운동', '기간', '직전', '가짜', '정당', '탈', '시설', '장애인', '김부겸', '총리', '장애인', '탈', '시설', '일방', '강행', '탈', '시설', '반환', '점', '돈', '장애인', '국회의원', '바쁘다', '바빠', '곰', '마라', '비디오', '머그', '서울시장', '후보', '선거운동', '기간', '직전', '가짜', '정당', '탈', '시설', '장애인', '김부겸', '총리', '장애인', '탈', '시설', '일방', '강행', '탈', '시설', '장애인', '창', '중', '증장', '애인', '정치', '주체', '것', '선언', '경기도', '장애인', '거주', '시설', '또', '집단', '감염', '긴급', '탈', '시설', '촉구', '장연', '수능', '일인', '지하철', '시위', '안', '해', '코로나', '코호트', '격리', '긴급', '탈', '시설', '법안', '발의', '장애인', '지하철', '시위', '이유', '불법', '비판', '참가자', '무관심', '오해', '장애', '탈', '시설', '장애인', '창', '장애인', '정책', '의제', '홍보', '장연', '수능', '일인', '지하철', '시위', '안', '해', '코로나', '코호트', '격리', '긴급', '탈', '시설', '법안', '발의', '장애인', '지하철', '시위', '이유', '불법', '비판', '참가자', '무관심', '오해', '화순군', '탈', '시설', '장애인', '자립', '지원', '속도', '정부', '공모', '선정', '정순택', '대주교', '전국', '장애인', '차별', '철폐', '연대', '최영애', '인권', '위원장', '장애인', '탈', '시설', '현장', '방문', '지하철', '호선', '장애인', '시위', '일정', '진행', '호선', '호선', '일반인', '이', '수용', '수', '있는', '시위', '규홍', '장연', '자격', '없다', '정순택', '대주교', '만난', '장연', '소통', '자리', '마련', '정순택', '대주교', '만난', '장연', '소통', '자리', '마련', '새해', '장애', '코로나', '집단', '감염', '탈', '시설', '투쟁', '발달장애', '탈', '시설', '정책', '철회', '촉구', '장애인', '거주', '시설', '부모', '회', '회원', '서울', '시청', '앞', '개', '텐트', '집단', '감염', '신아', '긴급', '탈', '시설', '촉구', '집단', '감염', '장애인', '시설', '장애인', '긴급', '탈', '시설', '촉구', '인터뷰', '박명', '애', '대표', '코로나', '감염', '막', '장애인', '긴급', '탈', '시설', '정책', '마련', '복지', '위', '국', '감서', '케어', '방역', '방', '복지', '사각', '지대', '대책', '주문', '종합', '보', '무주', '하은', '집', '폐쇄', '탈', '시설', '개월', '투쟁', '끝', '쟁취', '최혜영', '장', '혜영', '정부', '장애인', '탈', '시설', '로드맵', '발표', '의미', '있는', '첫걸음', '대구시', '차', '장애인', '탈', '시설', '자립', '지원', '추진', '복지', '위', '국', '감서', '건강', '보험', '방역', '도마', '복지', '사각', '지대', '대책', '주문', '종합', '무주', '하은', '집', '폐쇄', '탈', '시설', '개월', '투쟁', '끝', '쟁취', '최혜영', '장', '혜영', '정부', '장애인', '탈', '시설', '로드맵', '발표', '의미', '있는', '첫걸음', '대구시', '차', '장애인', '탈', '시설', '자립', '지원', '추진', '양성', '일', '보건복지부', '차관', '탈', '시설', '장애인', '지역', '사회', '자립', '지원', '로드맵', '발표', '서울시장', '보궐선거', '겨냥', '후보', '명', '탈', '시설', '장애인', '창', '장애인', '탈', '시설', '새로운', '세상', '린다', '탈', '시설', '완전히', '새로운', '세상', '일', '학대', '은', '시설', '발생', '탈', '시설', '환경', '개선', '장애인', '차별', '철폐', '연대', '포항', '공동', '투쟁', '단', '장애인', '탈', '시설', '탈재', '및', '자립생활', '권리', '선포', '양성', '일', '보건복지부', '차관', '탈', '시설', '장애인', '지역', '사회', '자립', '지원', '로드맵', '발표', '서울시장', '보궐선거', '겨냥', '후보', '명', '탈', '시설', '장애인', '창', '장애인', '탈', '시설', '새로운', '세상', '린다', '탈', '시설', '완전히', '새로운', '세상', '일', '학대', '은', '시설', '발생', '탈', '시설', '환경', '개선', '장애인', '차별', '철폐', '연대', '포항', '공동', '투쟁', '단', '장애인', '탈', '시설', '탈재', '및', '자립생활', '권리', '선포', '장애인', '단체', '탈', '시설', '지원', '법', '제정', '수용', '시설', '폐지', '촉구', '최혜영', '장애인', '탈', '시설', '지원', '법', '내년', '기필코', '제정', '경남', '회복', '지협', '의회', '사회', '복지', '정책', '세미나', '개최', '전문', '장애인', '탈', '시설', '지원', '등', '관', '법률', '안', '장애인', '차별', '철폐', '연대', '포항', '공동', '투쟁', '단', '장애인', '탈', '시설', '탈재', '및', '자립생활', '권리', '선포', '장애인', '단체', '탈', '시설', '지원', '법', '제정', '수용', '시설', '폐지', '촉구', '최혜영', '장애인', '탈', '시설', '지원', '법', '내년', '기필코', '제정', '경남', '회복', '지협', '의회', '사회', '복지', '정책', '세미나', '개최', '전문', '장애인', '탈', '시설', '지원', '등', '관', '법률', '안', '탈', '시설', '장애인', '서울시장', '보궐선거', '정책', '공약', '발표', '경향', '포토', '대구', '장애인', '인권', '단체', '장애인', '권리', '보장', '탈', '시설', '촉구', '장애인', '정책', '제자리', '건강', '탈', '시설', '등', '보장', '해외', '코로나', '사망자', '절반', '시설', '거주', '긴급', '탈', '시설', '답', '탈', '시설', '장애인', '자립', '정책', '제정', '최혜영', '의원', '장애인', '탈', '시설', '지원', '등', '관', '법률', '안', '대표', '발의', '탈', '시설', '장애인', '서울시장', '보궐선거', '정책', '공약', '발표', '경향', '포토', '대구', '장애인', '인권', '단체', '장애인', '권리', '보장', '탈', '시설', '촉구', '장애인', '정책', '제자리', '건강', '탈', '시설', '등', '보장', '해외', '코로나', '사망자', '절반', '시설', '거주', '긴급', '탈', '시설', '답', '탈', '시설', '장애인', '자립', '정책', '제정', '긴급', '탈', '시설', '이행', '촉구', '장애인', '단체', '경향', '포토', '장연', '호선', '시위', '일정', '이후', '기자회견', '진행', '인천', '남동구', '장애인', '탈', '시설', '자립', '지원', '네트워크', '위원', '간담', '회', '개최', '인천', '시', '남동구', '장애인', '탈', '시설', '자립', '지원', '네트워크', '위원', '간담', '회', '개최', '탈', '시설', '장애인', '자립', '정책', '제정', '긴급', '탈', '시설', '이행', '촉구', '장애인', '단체', '경향', '포토', '장연', '호선', '시위', '일정', '이후', '기자회견', '진행', '인천', '남동구', '장애인', '탈', '시설', '자립', '지원', '네트워크', '위원', '간담', '회', '개최', '인천', '시', '남동구', '장애인', '탈', '시설', '자립', '지원', '네트워크', '위원', '간담', '회', '개최', '장애인', '차별', '철폐', '대구', '투쟁', '연대', '안전', '대책', '및', '탈', '시설', '권리', '보장', '정책', '강화', '촉구', '사이드', '탈', '시설', '그', '후', '장애인', '명칭', '노들야학', '대표', '교사', '성호', '기획', '너', '나', '우리', '모두', '문제', '탈', '시설', '기획', '탈', '시설', '정부', '장애인', '정책', '어디', '영덕', '사회', '복지', '재단', '행정처분', '탈', '시설', '대책', '촉구', '인천', '남동구', '장애인', '탈', '시설', '자립', '지원', '네트워크', '위원', '간담', '회', '개최', '장애인', '차별', '철폐', '대구', '투쟁', '연대', '안전', '대책', '및', '탈', '시설', '권리', '보장', '정책', '강화', '촉구', '사이드', '탈', '시설', '그', '후', '장애인', '명칭', '노들야학', '대표', '교사', '성호', '기획', '너', '나', '우리', '모두', '문제', '탈', '시설', '기획', '탈', '시설', '정부', '장애인', '정책', '어디', '영덕', '사회', '복지', '재단', '행정처분', '탈', '시설', '대책', '촉구', '영상', '장애인', '공약', '발표', '윤석열', '탈', '시설', '대책', '전문가', '답변', '좀', '영빈', '관', '세금', '퍼주면', '장애인', '권리', '예산', '은', '외면', '정부', '장연', '수능', '일', '출근길', '지하철', '시위', '중단', '부산시', '장애인', '탈', '시설', '주거', '전환', '원단', '개소식', '개최', '부산시', '장애인', '탈', '시설', '주거', '전환', '원단', '개소식', '개최', '영상', '정의당', '추경안', '통과', '장애인', '탈', '시설', '등', '예산', '반영', '유감', '대한민국', '장애인', '권리', '어디', '유엔', '평가', '탈', '시설', '지원', '법안', '달', '중', '발의', '탈시', '권리', '그', '자체', '의지', '상관없이', '장애인', '시설', '탈', '시설', '지원', '법', '제정', '포토', '신아', '긴급', '탈', '시설', '지원', '촉구', '경찰', '대치', '중인', '장애인', '경북', '장애인', '단체', '장애인', '시설', '인권', '침해', '문제', '탈', '시설', '자립', '지원', '대책', '촉구', '지하철', '호선', '호선', '호선', '호선', '시위', '장연', '삼각지역', '여의도역', '장연', '수능', '일', '시위', '중단', '응답', '행보', '결정', '영상', '장애인', '행복한', '도시', '말', '이', '아닌', '예산', '답', '부산시', '장애인', '탈', '시설', '주거', '전환', '원단', '본격', '가동', '경북', '장애인', '단체', '장애인', '시설', '인권', '침해', '문제', '탈', '시설', '자립', '지원', '대책', '촉구', '지하철', '호선', '호선', '호선', '호선', '시위', '장연', '삼각지역', '여의도역', '장연', '수능', '일', '시위', '중단', '응답', '행보', '결정', '영상', '장애인', '행복한', '도시', '말', '이', '아닌', '예산', '답', '장연', '지하철', '호선', '탑승', '시위', '출근길', '열차', '지연', '공급', '중심', '통합', '장애인', '사각', '지대', '분석', '장연', '왜', '출근길', '시민', '발목', '라파엘', '집', '집단', '감염', '코호트', '격리', '아닌', '긴급', '탈', '시설', '장애', '코로나', '집단', '감염', '방지', '탈', '시설', '지원', '법', '해답', '장연', '지하철', '호선', '탑승', '시위', '출근길', '열차', '지연', '공급', '중심', '통합', '장애인', '사각', '지대', '분석', '장연', '왜', '출근길', '시민', '발목', '라파엘', '집', '집단', '감염', '코호트', '격리', '아닌', '긴급', '탈', '시설', '장애', '코로나', '집단', '감염', '방지', '탈', '시설', '지원', '법', '해답', '장애인', '탈', '시설', '지원', '법', '제정', '포토', '장애인', '탈', '시설', '지원', '법', '제정', '촉구', '피켓', '시위', '장애인', '개발', '거주', '시설', '전수', '조사', '목적', '탈', '시설', '분명히', '탈', '시설', '핵심', '지원', '주택', '전국', '확산', '가능할까', '이재명', '도지사', '경기도', '서울', '탈', '시설', '추진', '입장', '영상', '우리', '기본', '없다', '장애인', '탈', '시설', '지원', '법', '제정', '촉구', '목소리', '장애인', '개발', '거주', '시설', '전수', '조사', '목적', '탈', '시설', '분명히', '탈', '시설', '핵심', '지원', '주택', '전국', '확산', '가능할까', '이재명', '도지사', '경기도', '서울', '탈', '시설', '추진', '입장', '심의', '최종', '견해', '어떤', '내용', '인천', '계양구', '장애인', '탈', '시설', '자립', '지원', '실무', '네트워크', '회의', '개최', '국감', '탈', '시설', '장애인', '지원', '미비', '셋', '중', '명', '시설', '복귀', '장애인', '탈', '시설', '지원', '법', '제정', '기원', '당신', '거리', '린다', '성남시', '경기도', '첫', '발달장애', '청년', '주택', '지원', '사업', '추진', '장연', '지하철', '시위', '시민', '볼모', '범죄', '연루', '비판', '차별', '선동', '반박', '또', '장연', '시위', '겨눈', '김재섭', '기사', '전용', '차', '정치인', '생색', '국민', '피해', '독박', '유엔', '성년', '후견', '제도', '폐지', '권고', '정부', '수용', '거부', '김재섭', '출근길', '시민', '볼모', '장연', '혐오', '차별', '선동', '경남', '연구원', '제', '차', '커뮤니티', '케어', '포럼', '개최', '집단', '거주', '시설', '장애인', '코로나', '감염', '률', '전체', '인구', '배', '높아', '긴급', '탈', '시설', '포함', '방역', '대책', '조속', '마련', '장애인', '탈', '시설', '지원', '법', '제정', '촉구', '기자회견', '경향', '포토', '장애인', '탈', '시설', '지지', '부진', '국감', '도마', '위', '서울시', '탈', '시설', '장애인', '지원', '주택', '올해', '호', '신축', '아파트', '첫', '공급', '서울시', '탈', '시설', '장애인', '지원', '주택', '호', '공급', '장애인', '탈', '시설', '예산', '보장', '장애인', '탈', '시설', '지지', '부진', '국감', '도마', '위', '서울시', '탈', '시설', '장애인', '지원', '주택', '올해', '호', '신축', '아파트', '첫', '공급', '서울시', '탈', '시설', '장애인', '지원', '주택', '호', '공급', '장애인', '탈', '시설', '예산', '보장', '탈', '시설', '약속', '어디', '내년', '장애인', '예산', '확인', '서문', '한국', '정부', '유엔', '장애인', '권리', '위원회', '말', '것', '단독', '시설', '장애인', '장연', '연관', '단체', '인권', '침해', '조사', '중', '아침', '광장', '장애인', '복지', '시설', '비리', '근절', '탈', '시설', '탈', '시설', '자립', '원금', '서울', '세종', '못', '장연', '수능', '일인', '지하철', '탑승', '시위', '잠정', '중단', '탈', '시설', '약속', '어디', '내년', '장애인', '예산', '확인', '서문', '한국', '정부', '유엔', '장애인', '권리', '위원회', '말', '것', '단독', '시설', '장애인', '장연', '연관', '단체', '인권', '침해', '조사', '중', '아침', '광장', '장애인', '복지', '시설', '비리', '근절', '탈', '시설', '탈', '시설', '자립', '원금', '서울', '세종', '못', '장연', '수능', '일인', '지하철', '탑승', '시위', '잠정', '중단', '충남도', '거주', '시설', '장애인', '탈', '시설', '연구', '용역', '착수', '거주', '시설', '장애인', '탈', '시설', '연구', '용역', '착수', '충남도', '거주', '시설', '장애인', '탈', '시설', '연구', '용역', '착수', '테마', '를', '임대주택', '성공할', '수', '있을까', '충남도', '거주', '시설', '장애인', '탈', '시설', '연구', '용역', '착수', '테마', '를', '임대주택', '성공할', '수', '있을까', '서울시', '장애인', '탈', '시설', '장애인', '거주', '시설', '전환', '작업', '착수', '속보', '서울', '지하철', '호선', '호선', '장연', '장애인', '단체', '시위', '예고', '지연', '우려', '장연', '지하철', '탑승', '시위', '중단', '장애인', '권리', '예산', '일부', '반영', '대구', '지역', '장애인', '탈', '시설', '증언', '구술', '기록', '집', '발간', '탈', '시설', '장애인', '소음', '민원', '시설', '재', '입소', '인권위', '진정', '장애인', '탈', '시설', '지원', '법', '제정', '투쟁', '선포', '장애인', '거주', '시설', '긴급', '탈', '시설', '쟁취', '기자회견', '무례', '거짓말', '점철', '정부', '심의', '대구', '지역', '장애인', '탈', '시설', '증언', '구술', '기록', '집', '발간', '탈', '시설', '장애인', '소음', '민원', '시설', '재', '입소', '인권위', '진정', '장애인', '탈', '시설', '지원', '법', '제정', '투쟁', '선포', '장애인', '거주', '시설', '긴급', '탈', '시설', '쟁취', '기자회견', '무례', '거짓말', '점철', '정부', '심의', '장애인', '예산', '기재부', '장연', '시위', '좌우', '대구', '지역', '장애인', '탈', '시설', '증언', '구술', '기록', '집', '발간', '마지막', '자유롭지', '탈', '시설', '장애인', '죽음', '내달', '부산시', '장애인', '탈', '시설', '주거', '전환', '원단', '장애인', '단체', '기자회견', '경기도', '내', '코로나', '악용', '대책', '없는', '탈', '시설', '주장', '인권', '침해', '무례', '거짓말', '점철', '정부', '심의', '장애인', '예산', '기재부', '장연', '시위', '좌우', '대구', '지역', '장애인', '탈', '시설', '증언', '구술', '기록', '집', '발간', '마지막', '자유롭지', '탈', '시설', '장애인', '죽음', '내달', '부산시', '장애인', '탈', '시설', '주거', '전환', '원단', '장애인', '단체', '기자회견', '경기도', '내', '코로나', '악용', '대책', '없는', '탈', '시설', '주장', '인권', '침해', '현장', '장애인', '거주', '시설', '이전', '갈등', '탈', '시설', '정책', '손', '장애인', '개발', '대구', '지역', '중증', '장애인', '탈', '시설', '지원', '네트워크', '구축', '장애인', '일상', '회복한', '추석', '연휴', '반환', '점', '돈', '서울시', '탈', '시설', '정책', '임대주택', '물량', '증가', '장애인', '개발', '대구', '지역', '중증', '장애인', '탈', '시설', '지원', '네트워크', '구축', '장애인', '일상', '회복한', '추석', '연휴', '반환', '점', '돈', '서울시', '탈', '시설', '정책', '임대주택', '물량', '증가', '정부', '권고', '이행', '부터', '장애인', '단체', '집단', '감염', '신아', '긴급', '탈', '시설', '이행', '정부', '장애인', '권리', '예산', '폐기', '장연', '지하철', '탈', '수', '없다', '탈', '시설', '자립생활', '기억', '장애인', '탈시', '로망', '아니라', '욕망', '광주', '탈', '시설', '자립', '지원', '시스템', '재정', '립', '탈', '시설', '장애인', '창', '대회', '탈', '시설', '장애인', '창', '대회', '김재섭', '기사', '전용', '차', '정치인', '장연', '생색', '국민', '독박', '김재섭', '출근길', '시민', '볼모', '장연', '거짓', '선동', '용산', '국회', '장애', '예산', '싸움', '기지개', '대구광역시', '사회', '서비스', '희망', '장애인', '탈', '시설', '자립', '지원', '사업', '추진', '포토', '보건복지부', '탈', '시설', '법률', '용어', '인정', '하라', '부산', '예산안', '역대', '최대', '장애인', '사업', '줄줄이', '삭감', '서울시', '탈', '시설', '장애인', '지원', '주택', '올해', '호', '공급', '포토', '뉴스', '대구', '장애인', '긴급', '탈', '시설', '촉구', '기자회견', '장애인', '시설', '것', '당연하다고', '생각', '통념', '포토', '여의도', '장악', '장애', '탈', '시설', '지원', '법', '제정', '촉구', '부산', '예산안', '역대', '최대', '장애인', '사업', '줄줄이', '삭감', '서울시', '탈', '시설', '장애인', '지원', '주택', '올해', '호', '공급', '포토', '뉴스', '대구', '장애인', '긴급', '탈', '시설', '촉구', '기자회견', '장애인', '시설', '것', '당연하다고', '생각', '통념', '서울시', '루', '디아', '집', '거주', '명', '임시', '전원', '후', '탈', '시설', '자립생활', '지원', '탈', '시설', '운동', '황정', '용', '주기', '탈', '시설', '투쟁', '것', '포토', '코로나', '집단', '감염', '장애인', '수용', '시설', '신아', '긴급', '탈', '시설', '이행', '천막', '농성', '청년', '발달장애', '자립', '성남시', '내년', '대폭', '지원', '탈', '시설', '충청권', '장애인', '명중', '명', '자립', '원금', '탈', '시설', '충청권', '장애인', '명중', '명', '자립', '원금', '장애인', '탈', '시설', '전북도', '앞장', '서울시', '복지', '재단', '제', '차', '장애인', '자립', '지원', '포럼', '개최', '충남도', '장애인', '탈', '시설', '용역', '착수', '지금', '여기', '탈', '시설', '필요한', '사람', '집단', '거주', '내', '집', '살림', '서울시', '장애인', '탈', '시설', '시험', '본격', '코로나', '탈', '시설', '정책', '핑계', '퇴소', '종용', '시설', '어떻게', '막', '장애인', '탈', '시설', '지원', '법', '제정', '촉구', '정부', '장애인', '탈', '시설', '정책', '그림자', '전문가', '제언', '정부', '장애인', '탈', '시설', '정책', '그림자', '풍선', '효과', '서울', '탈', '시설', '장애인', '등', '취약', '계층', '무료', '건강검진', '지원', '장애인', '탈', '시설', '지원', '법', '제정', '장애인', '탈', '시설', '지원', '법', '제정', '촉구', '청사', '조물', '위', '집회', '참가자', '세종', '청사', '조물', '위', '장애인', '탈', '시설', '지원', '법', '제정', '촉구', '정부', '장애인', '탈', '시설', '정책', '그림자', '미신', '시설', '양산', '무책임한', '탈', '시설', '정책', '심상정', '탈', '시설', '위', '주거', '약자', '지원', '법', '대표', '발의', '장애인', '동권', '탈', '시설', '자립생활', '권리', '보장', '시설', '기능', '개편', '뿐인', '탈', '시설', '정책', '진짜', '자립생활', '로드맵', '수립', '포토', '최혜영', '의원', '장애인', '탈', '시설', '지원', '등', '관', '법률', '발의', '기자회견', '장애인', '탈', '시설', '지원', '법', '제정', '촉구', '구호', '장애인', '연대', '정부', '장애인', '탈', '시설', '정책', '그림자', '미신', '시설', '양산', '무책임한', '탈', '시설', '정책', '심상정', '탈', '시설', '위', '주거', '약자', '지원', '법', '대표', '발의', '장애인', '동권', '탈', '시설', '자립생활', '권리', '보장', '시설', '기능', '개편', '뿐인', '탈', '시설', '정책', '진짜', '자립생활', '로드맵', '수립', '포토', '최혜영', '의원', '장애인', '탈', '시설', '지원', '등', '관', '법률', '발의', '기자회견', '장연', '출근길', '지하철', '탑승', '시위', '전면', '중단', '이유', '부산시', '장애인', '탈', '시설', '원단', '직접', '운영', '부산시', '장애인', '탈시', '전환', '원단', '공공', '운영', '요구', '시설', '기능', '개편', '뿐인', '탈', '시설', '정책', '진짜', '자립생활', '로드맵', '수립', '포토', '최혜영', '의원', '장애인', '탈', '시설', '지원', '등', '관', '법률', '발의', '기자회견', '장연', '출근길', '지하철', '탑승', '시위', '전면', '중단', '이유', '부산시', '장애인', '탈', '시설', '원단', '직접', '운영', '부산시', '장애인', '탈시', '전환', '원단', '공공', '운영', '요구', '다정하며', '분노할', '줄', '발달장애', '활동가', '김동호', '탈', '시설', '장애인', '자립', '정책', '마련', '촉구', '한국', '장애인', '개발', '대구', '중증', '장애인', '탈', '시설', '지원', '네트워크', '구축', '부산시', '장애인', '탈', '시설', '원단', '운영', '시작', '강선우', '의원', '장애', '아동', '청소년', '탈', '시설', '지원', '근거', '마련', '한국', '장애인', '개발', '대구', '중증', '장애인', '탈', '시설', '지원', '네트워크', '구축', '부산시', '장애인', '탈', '시설', '원단', '운영', '시작', '장연', '수능', '일', '지하철', '시위', '중단', '장애인', '예산', '반영', '강선우', '의원', '장애', '아동', '청소년', '탈', '시설', '지원', '근거', '마련', '전국', '장애인', '차별', '철폐', '연대', '더', '이상', '죽', '수', '없다', '탈', '시설', '이행', '충남도', '장애인', '탈', '시설', '기반', '마련', '민', '관', '머리', '충남도', '장애인', '탈', '시설', '기반', '마련', '민', '관', '머리', '투쟁', '결', '의문', '시설', '팔다리', '놨습니', '신경수', '포토', '뉴스', '장애인', '탈', '시설', '자립생활', '권리', '보장', '시사회', '서비스', '지역', '사회', '탈', '시설', '주거', '문제', '해결', '거주', '시설', '장애인', '탈', '시설', '기반', '마련', '투쟁', '결', '의문', '시설', '팔다리', '놨습니', '신경수', '포토', '뉴스', '장애인', '탈', '시설', '자립생활', '권리', '보장', '시사회', '서비스', '지역', '사회', '탈', '시설', '주거', '문제', '해결', '장연', '지하철', '탑승', '시위', '유보', '국회', '장애인', '예산', '반영', '서울', '최', '증', '탈', '시설', '장애인', '일자리', '창', '시사회', '서비스', '탈', '시설', '주거', '문제', '해결', '대구광역시', '사회', '서비스', '지역', '사회', '탈', '시설', '주거', '문제', '해결', '부산시', '장애인', '탈', '시설', '주거', '전환', '원단', '위탁', '운영', '창원시', '장애인', '탈', '시설', '도울', '지원', '주택', '조례', '제정', '대구광역시', '사회', '서비스', '지역', '사회', '탈', '시설', '주거', '문제', '해결', '부산시', '장애인', '탈', '시설', '주거', '전환', '원단', '위탁', '운영', '창원시', '장애인', '탈', '시설', '도울', '지원', '주택', '조례', '제정', '김예지', '예술', '위해', '한예종', '설치', '법', '위상', '전환', '장연', '수능', '일인', '지하철', '탑승', '시위', '중단', '천지', '포토', '전국', '장애인', '거주', '시설', '이용자', '부모', '회', '탈', '시설', '정책', '반대', '서울시', '탈', '시설', '장애인', '지역', '사회', '정착', '본격', '추진', '장애인', '거주', '시설', '이전', '갈등', '탈', '시설', '정책', '손', '장애인', '거주', '시설', '이전', '갈등', '탈', '시설', '정책', '손', '서울시', '신청', '명', '장애인', '탈', '시설', '정책', '재탕', '김예지', '예술', '위해', '한예종', '설치', '법', '위상', '전환', '장연', '수능', '일인', '지하철', '탑승', '시위', '중단', '천지', '포토', '전국', '장애인', '거주', '시설', '이용자', '부모', '회', '탈', '시설', '정책', '반대', '서울시', '탈', '시설', '장애인', '지역', '사회', '정착', '본격', '추진', '장애인', '거주', '시설', '이전', '갈등', '탈', '시설', '정책', '손', '장애인', '거주', '시설', '이전', '갈등', '탈', '시설', '정책', '손', '서울시', '신청', '명', '장애인', '탈', '시설', '정책', '재탕', '성남시', '발달장애', '청년', '주택', '지원', '지하철', '호선', '시위', '장연', '김포', '장애인', '차별', '철폐', '공동', '투쟁', '단', '중', '증장', '애인', '탈', '시설', '자립생활', '지원', '김포', '장애인', '차별', '철폐', '공동', '투쟁', '단', '중', '증장', '애인', '탈', '시설', '자립생활', '지원', '서울시', '시설', '학대', '피해', '장애인', '탈', '시설', '자립', '등', '종합', '지원', '모델', '마련', '장애인', '날', '경주', '장애인', '탈', '시설', '자립생활', '정책', '수립', '촉구', '좋은', '장애인', '시설', '은', '없다', '포토', '장애인', '탈', '시설', '지원', '법', '팻말', '목', '장애인', '권리', '예산', '끝내', '외면', '정부', '성남시', '경기도', '최초', '발달장애', '청년', '주택', '지원', '영희', '옥', '살', '수', '없는', '이유', '한국', '장애인', '산다', '것', '보건복지부', '장관', '공백', '눈앞', '사령탑', '임명', '시급', '홀로', '설', '수', '있어요', '서울시', '장애인', '탈', '시설', '사업', '본격', '시행', '홀로', '설', '수', '있어요', '서울시', '장애인', '탈', '시설', '사업', '본격', '시행', '가족', '장애인', '탈', '시설', '반대', '이유', '정부', '지자체', '탈', '시설', '탈', '원화', '이행', '부족', '우려', '계양구', '장애인', '탈', '시설', '자립', '지원', '실무', '네트워크', '회의', '개최', '인천', '시', '장애인', '탈', '시설', '자립생활', '위', '유관', '기관', '간', '협치', '사업', '추진', '인터뷰', '격리', '수용', '복지', '코로나', '시국', '탈', '시설', '논의', '대두', '최영애', '국가인권위', '원장', '장애인', '탈', '시설', '인권', '현장', '방문', '장애', '탈', '시설', '자립생활', '설립', '취지', '망각', '시설', '규탄', '서울시', '장애인', '탈', '시설', '첫', '추진', '자립', '사회', '참여', '서울시', '시설', '단위', '장애인', '탈', '시설', '모델', '개발', '인천', '시', '장애인', '탈', '시설', '자립생활', '성공', '지원', '협치', '사업', '추진', '최영애', '국가인권위', '원장', '장애인', '탈', '시설', '인권', '현장', '방문', '장애', '탈', '시설', '자립생활', '설립', '취지', '망각', '시설', '규탄', '서울시', '장애인', '탈', '시설', '첫', '추진', '자립', '사회', '참여', '서울시', '시설', '단위', '장애인', '탈', '시설', '모델', '개발', '지하철', '호선', '시위', '장연', '인권', '침해', '발생', '루디아', '집', '장애', '거주', '전원', '탈', '시설', '요구', '집단', '시설', '장애인', '무더기', '감염', '탈', '시설', '논의', '시작', '때', '브리핑', '강민', '진', '대변인', '쌍용차', '복직', '발표', '관련', '쌍용차', '과거', '합의', '파기', '사과', '하라', '장애인', '탈', '시설', '정책', '필요성', '코로나', '사태', '관련', '나', '탈', '시설', '주의자', '시설', '협회', '최영애', '위원장', '장애인', '탈', '시설', '인권', '현장', '방문', '장애', '탈', '시설', '자립생활', '설립', '취지', '망각', '시설', '규탄', '서울시', '장애인', '탈', '시설', '첫', '추진', '자립', '사회', '참여', '서울시', '시설', '단위', '장애인', '탈', '시설', '모델', '개발', '지하철', '호선', '시위', '장연', '인권', '침해', '발생', '루디아', '집', '장애', '거주', '전원', '탈', '시설', '요구', '집단', '시설', '장애인', '무더기', '감염', '탈', '시설', '논의', '시작', '때', '브리핑', '강민', '진', '대변인', '쌍용차', '복직', '발표', '관련', '쌍용차', '과거', '합의', '파기', '사과', '하라', '장애인', '탈', '시설', '정책', '필요성', '코로나', '사태', '관련', '나', '탈', '시설', '주의자', '시설', '협회', '인천', '남동구', '거주', '시설', '대상', '탈', '시설', '사업', '진행', '서울시', '시설', '단위', '장애인', '탈', '시설', '모델', '개발', '전국', '최초', '시범', '사업', '지하철', '호선', '시위', '장연', '인권', '침해', '발생', '루디아', '집', '장애', '거주', '전원', '탈', '시설', '요구', '집단', '시설', '장애인', '무더기', '감염', '탈', '시설', '논의', '시작', '때', '브리핑', '강민', '진', '대변인', '쌍용차', '복직', '발표', '관련', '쌍용차', '과거', '합의', '파기', '사과', '하라', '장애인', '탈', '시설', '정책', '필요성', '코로나', '사태', '관련', '나', '탈', '시설', '주의자', '시설', '협회', '인천', '남동구', '거주', '시설', '대상', '탈', '시설', '사업', '진행', '장', '혜영', '타임', '인', '동생', '탈', '시설', '등', '장애인', '가로', '영향력', '복지부', '공문', '장', '탈', '시설', '출구', '봉쇄', '지하철', '호선', '시위', '장연', '오늘', '이태원', '참사', '추모', '나', '탈', '시설', '주의자', '시설', '협회', '인천', '남동구', '거주', '시설', '대상', '탈', '시설', '사업', '진행', '장', '혜영', '타임', '인', '동생', '탈', '시설', '등', '장애인', '가로', '영향력', '복지부', '공문', '장', '탈', '시설', '출구', '봉쇄', '지하철', '호선', '시위', '장연', '오늘', '이태원', '참사', '추모', '서울시', '최', '증', '탈', '시설', '장애인', '일자리', '시사회', '서비스', '업무', '협약', '탈', '시설', '자립', '희망', '주거', '지원', '성남시', '도내', '최초', '발달장애', '청년', '주택', '지원', '업무', '협약', '체결', '서울시', '장애인', '탈', '시설', '팀', '설치', '장애', '환영', '역할', '강조', '서울시', '장애인', '탈', '시설', '팀', '구성', '환영', '성남시', '도내', '최초', '발달장애', '청년', '주택', '지원', '업무', '협약', '체결', '서울시', '장애인', '탈', '시설', '팀', '설치', '장애', '환영', '역할', '강조', '서울시', '장애인', '탈', '시설', '팀', '구성', '환영', '최호정', '서울시', '의원', '희망', '배', '청년', '통장', '장애인', '탈시', '설화', '사업', '실화', '주문', '서울시장', '보궐선거', '기자회견', '탈', '시설', '장애인', '광주', '광역시', '제', '기', '지역', '사회보장', '계획', '수립', '확정', '서울시', '장애인', '탈', '시설', '팀', '장애인', '탈', '시설', '힘', '판사', '아빠', '의사', '엄마', '자폐', '감당', '벅찼어요', '탈', '시설', '수치', '비밀', '왜', '장애인', '권리', '비장', '애인', '이해', '공감', '하나요', '줌', '기자회견', '탈', '시설', '장애인', '보궐선거', '예비', '후보', '광주', '광역시', '제', '기', '지역', '사회보장', '계획', '수립', '확정', '서울시', '장애인', '탈', '시설', '팀', '장애인', '탈', '시설', '힘', '판사', '아빠', '의사', '엄마', '자폐', '감당', '벅찼어요', '탈', '시설', '수치', '비밀', '왜', '장애인', '권리', '비장', '애인', '이해', '공감', '하나요', '줌', '무연', '발달장애', '탈', '시설', '이', '인권', '침해', '인권위', '장애인', '탈', '시설', '로드맵', '일부', '보완', '필요', '사설', '시', '장애인', '탈', '시설', '자립생활', '개년', '계획', '기대', '재단', '탈', '시설', '투쟁', '주년', '장애인', '거주', '시설', '폐쇄', '조례', '제정', '촉구', '장애인', '단체', '집단', '감염', '시설', '재', '입소', '반대', '긴급', '탈', '시설', '필요', '광주시', '장애인', '생활', '자립', '기반', '조성', '평생교육', '온라인', '장애인', '야학', '가요', '대구시', '한국', '토지', '주택', '공사', '탈', '시설', '장애인', '주거지', '업무', '협약', '체결', '영상', '쇠사슬', '봉쇄', '신아', '정문', '긴급', '탈', '시설', '장애', '시설', '협회', '표', '탈', '시설', '연구', '장애', '거', '비판', '한국', '커뮤니티', '케어', '탈', '시설', '가장', '먼저', '뇌성마비', '현장', '불', '일치', '해결', '정부', '범죄', '시설', '즉시', '폐쇄', '탈', '시설', '정책', '마련', '광주', '탈', '시설', '자립생활', '지원', '토론회', '유튜브', '진행', '장연', '지하철', '호선', '시위', '진행', '삼각지역', '혜화역', '이동', '한국', '커뮤니티', '케어', '탈', '시설', '가장', '먼저', '뇌성마비', '현장', '불', '일치', '해결', '탈', '시설', '거주', '시설', '협회', '장애', '팽팽하', '정부', '범죄', '시설', '즉시', '폐쇄', '탈', '시설', '정책', '마련', '광주', '탈', '시설', '자립생활', '지원', '토론회', '유튜브', '진행', '장연', '지하철', '호선', '시위', '진행', '삼각지역', '혜화역', '이동', '대구', '희망', '거주', '은', '탈', '시설', '원한다', '부고', '탈', '시설', '장애인', '고', '최현', '창', '씨', '불의', '사고', '사망', '윤석열', '취임', '오늘', '장애인', '언급', '안', '센터', '탈', '시설', '개척', '로서', '역할', '실천', '부산시', '장애인', '탈', '시설', '자립', '개년', '계획', '발표', '서울', '탈', '시설', '시설', '변환', '장애인', '없다', '부산시', '장애인', '탈', '시설', '자립', '지원', '개년', '계획', '수립', '단계', '개', '과제', '세계', '장애인', '날', '장애', '국회', '탈', '시설', '로드맵', '촉구', '광주', '지역', '장애인', '사회', '정착', '위', '지원', '강화', '탈', '시설', '정부', '확신', '추진', '경기', '장차', '연', '장애인', '권리', '예산', '보장', '경기', '도청', '점거', '농성', '부산', '장애인', '탈', '시설', '자립', '생활', '지원', '조례', '발의', '장애', '등급제', '폐지', '탈', '시설', '국제사회', '압박', '필요', '부산', '장애인', '탈', '시설', '자립', '생활', '지원', '조례', '발의', '최호정', '서울시', '의원', '희망', '배', '청년', '통장', '장애인', '탈시', '설화', '사업', '실화', '주문', '부산시', '장애인', '탈', '시설', '개년', '계획', '추진', '교육', '주거', '자립', '등', '단계', '지원', '세계', '장애인', '날', '장애', '국회', '탈', '시설', '로드맵', '촉구', '광주', '지역', '장애인', '사회', '정착', '위', '지원', '강화', '탈', '시설', '정부', '확신', '추진', '경기', '장차', '연', '장애인', '권리', '예산', '보장', '경기', '도청', '점거', '농성', '부산', '장애인', '탈', '시설', '자립', '생활', '지원', '조례', '발의', '장애', '등급제', '폐지', '탈', '시설', '국제사회', '압박', '필요', '부산', '장애인', '탈', '시설', '자립', '생활', '지원', '조례', '발의', '최호정', '서울시', '의원', '희망', '배', '청년', '통장', '장애인', '탈시', '설화', '사업', '실화', '주문', '경기도', '장애인', '김동연', '장애인', '권리', '예산', '보장', '농성', '돌입', '장애', '등급제', '폐지', '탈', '시설', '국제사회', '압박', '필요', '부산', '장애인', '탈', '시설', '자립', '생활', '지원', '조례', '발의', '최호정', '서울시', '의원', '희망', '배', '청년', '통장', '장애인', '탈시', '설화', '사업', '실화', '주문', '경기도', '장애인', '김동연', '장애인', '권리', '예산', '보장', '농성', '돌입', '법률', '프리즘', '장애인', '탈', '시설', '한국', '가능할까', '장연', '정순택', '베드로', '대주교', '면담', '촉구', '거주', '시설', '발달장애', '탈', '시설', '자립생활', '교육', '영상', '제작', '정순택', '대주교', '장애인', '탈시', '설화', '반대', '공감', '교회', '것', '포토', '장애인', '거주', '시설', '긴급', '탈', '시설', '요구', '장애인', '탈', '시설', '선언', '현장', '마로니에', '공원', '기념', '동판', '설치', '거주', '시설', '발달장애', '탈', '시설', '자립생활', '교육', '영상', '제작', '정순택', '대주교', '장애인', '탈시', '설화', '반대', '공감', '교회', '것', '포토', '장애인', '거주', '시설', '긴급', '탈', '시설', '요구', '장애인', '탈', '시설', '선언', '현장', '마로니에', '공원', '기념', '동판', '설치', '희망', '장애인', '탈', '시설', '자유', '행복하다', '탈', '시설', '두려웠던', '희망', '거주', '장애인', '자립생활', '적응', '기', '장연', '연속', '출근길', '지하철', '시위', '호선', '운행', '지연', '종합', '취재', '장애인', '어디', '탈', '시설', '자립', '아닌', '방치', '장연', '예산', '반영', '수능', '일', '지하철', '탑승', '시위', '유보', '희망', '시민', '마을', '폐쇄', '탈', '시설', '보고', '대회', '린다', '장연', '예산', '반영', '수능', '일', '지하철', '탑승', '시위', '유보', '희망', '시민', '마을', '폐쇄', '탈', '시설', '보고', '대회', '린다', '문재인', '정부', '차', '여전히', '탈', '시설', '추진', '법적', '근거', '없어', '탈', '시설', '장애인', '당사자', '발표', '중', '눈물', '대구', '탈', '시설', '대세', '인간', '다운', '삶', '위해', '점거', '시위', '장연', '요구사항', '장애인', '탈', '시설', '자립생활', '해결', '과제', '수두', '장애인', '시설', '수용', '국가책임', '탈', '시설', '절차', '권리', '보장', '정책', '토론회', '뉴', '있', '장애인', '최저임금', '배제', '조항', '논란', '대안', '없을까', '서울시', '탈', '시설', '장애인', '활동', '지원', '시간', '월', '장애인', '시설', '수용', '국가책임', '탈', '시설', '절차', '권리', '보장', '정책', '토론회', '뉴', '있', '장애인', '최저임금', '배제', '조항', '논란', '대안', '없을까', '서울시', '탈', '시설', '장애인', '활동', '지원', '시간', '월', '강원', '인권', '사무소', '장애인', '탈', '시설', '정책', '토론회', '개최', '중', '증장', '애인', '탈', '시설', '삶', '권력', '게', '핵심', '박', '시장', '장애인', '탈', '시설', '약속', '예산', '답', '변재', '탈', '시설', '장애인', '학습', '위해', '깃발', '서초동', '광화문', '사이', '서울시', '탈', '시설', '자립생활', '약속', '잉크', '안', '말랐는데', '백지', '성남시', '경기도', '내', '최초', '발달장애', '청년', '주택', '지원', '부산', '장애인', '탈', '시설', '자립', '지원', '정책', '토론회', '개최', '원주', '국가인권위', '회', '강원', '인권', '사무소', '장애인', '탈', '시설', '정책', '토론회', '중', '증장', '애인', '탈', '시설', '삶', '권력', '게', '핵심', '박', '시장', '장애인', '탈', '시설', '약속', '예산', '답', '변재', '탈', '시설', '장애인', '학습', '위해', '깃발', '서초동', '광화문', '사이', '서울시', '탈', '시설', '자립생활', '약속', '잉크', '안', '말랐는데', '백지', '성남시', '경기도', '내', '최초', '발달장애', '청년', '주택', '지원', '부산', '장애인', '탈', '시설', '자립', '지원', '정책', '토론회', '개최', '장애인', '탈', '시설', '지원', '포토', '뉴스', '부산', '소식', '부산', '인권', '사무소', '장애인', '탈', '시설', '자립', '지원', '정책', '토론회', '등', '인권위', '국무총리', '장애인', '탈', '시설', '로드맵', '마련', '권고', '부산', '소식', '부산', '인권', '사무소', '장애인', '탈', '시설', '자립', '지원', '정책', '토론회', '등', '인권위', '국무총리', '장애인', '탈', '시설', '로드맵', '마련', '권고', '인권위', '정부', '장애인', '탈', '시설', '정책', '주도해야', '로드맵', '수립', '권고', '발언', '커뮤니티', '케어', '장애인', '탈', '시설', '보장', '수', '있나', '제임스', '콘로', '박사', '장애인', '탈', '시설', '이후', '삶', '질', '제임스', '콘로', '박사', '대구', '강연', '중', '증장', '애인', '탈', '시설', '중요', '김영', '경기도', '의원', '탈', '시설', '장애인', '주거', '정책', '방안', '논의', '미국', '탈', '시설', '연구', '권위자', '제임스', '콘로', '박사', '초청', '간담', '회', '린다', '김영', '도의', '정책', '토론회', '통해', '탈', '시설', '장애인', '주거', '정책', '방안', '논의', '시선', '코로나', '생명', '권력', '탈', '시설', '인권위', '정부', '장애인', '탈', '시설', '자립', '로드맵', '마련', '발언', '커뮤니티', '케어', '장애인', '탈', '시설', '보장', '수', '있나', '제임스', '콘로', '박사', '장애인', '탈', '시설', '이후', '삶', '질', '제임스', '콘로', '박사', '대구', '강연', '중', '증장', '애인', '탈', '시설', '중요', '김영', '경기도', '의원', '탈', '시설', '장애인', '주거', '정책', '방안', '논의', '미국', '탈', '시설', '연구', '권위자', '제임스', '콘로', '박사', '초청', '간담', '회', '린다', '김영', '도의', '정책', '토론회', '통해', '탈', '시설', '장애인', '주거', '정책', '방안', '논의', '시선', '코로나', '생명', '권력', '탈', '시설', '장연', '지하철', '장애인', '시위', '오늘', '호선', '지연', '듯', '장애인', '탈', '시설', '문제', '느리지만', '하나', '흐름', '미국', '탈', '시설', '연구', '권위자', '제임스', '콘로', '박사', '초청', '간담', '회', '린다', '김영', '도의', '정책', '토론회', '통해', '탈', '시설', '장애인', '주거', '정책', '방안', '논의', '시선', '코로나', '생명', '권력', '탈', '시설', '장연', '지하철', '장애인', '시위', '오늘', '호선', '지연', '듯', '장애인', '탈', '시설', '문제', '느리지만', '하나', '흐름', '계양구', '장애인', '자립', '지원', '협력', '체계', '구축', '사람', '센터', '사회', '복지', '날', '맞이', '제', '대구', '지역', '장애인', '탈', '시설', '증언', '대회', '탈', '시설', '하라', '데', '법도', '지원', '세월', '서울시', '장애인', '명', '탈', '시설', '도', '향후', '명', '더', '지원', '탈', '시설', '하라', '데', '법도', '지원', '세월', '서울시', '장애인', '명', '탈', '시설', '도', '향후', '명', '더', '지원', '탈', '시설', '하라', '데', '법도', '지원', '세월', '사회', '복지', '날', '주년', '제', '대구', '지역', '장애인', '탈', '시설', '증언', '대회', '린다', '황영', '란', '도의', '충남', '장애인', '탈', '시설', '대책', '마련', '인천', '남동구', '장애인', '탈', '시설', '자립', '지원', '정책', '간담', '회', '개최', '장수', '벧', '장애인', '집', '대책위', '장애인', '탈', '시설', '자활', '대책', '요구', '장애', '김영춘', '의원', '탈', '시설', '방해', '법', '전면', '철회', '대구', '남구청', '탈', '시설', '장애인', '자립', '안동시', '선산', '재활', '시설', '폐쇄', '처분', '장애', '의지', '있나', '규탄', '서울시', '최', '증', '탈', '시설', '장애인', '일자리', '개', '대구', '탈', '시설', '장애인', '지역', '사회', '안정', '자립', '안동시', '선산', '재활', '시설', '폐쇄', '처분', '장애', '의지', '있나', '규탄', '서울시', '최', '증', '탈', '시설', '장애인', '일자리', '개', '장애인', '탈', '시설', '자립', '지원', '서울시', '탈', '시설', '장애인', '주거지', '개시', '강제', '장소', '강제', '관계', '질문', '탈', '시설', '운동', '제주도', '탈', '시설', '장애인', '자립', '정착', '금', '지원', '희망', '거주', '탈', '시설', '계획', '조속', '수립', '제주도', '탈', '시설', '장애인', '자립', '정착', '금', '지원', '정순택', '대주교', '탈시', '설화', '반대', '장애인', '단체', '부모', '위로', '탈', '시설', '장애인', '자립', '정착', '금', '지원', '정순택', '대주교', '탈시', '설화', '반대', '장애인', '단체', '부모', '위로', '부고', '기', '탈', '시설', '운동', '박', '정혁', '씨', '별세', '포토', '탈', '시설', '지원', '법', '제정', '및', '장애인', '예산', '촉구', '장애인', '격리', '것', '교회', '장애', '입니다', '희망', '시민', '마을', '폐쇄', '장애인', '탈', '시설', '보고', '대회', '탈', '시설', '지원', '체계', '무게', '중심', '중앙정부', '지방정부', '탈', '시설', '지원', '센터', '사회', '서비스', '부설', '바람', '직', '시설', '장애인', '탈', '시설', '단계', '서비스', '지원', '고양시', '의회', '문화', '복지', '위원회', '장애인', '탈', '시설', '정책', '위', '토론회', '개최', '시설', '장애인', '탈', '시설', '단계', '서비스', '지원', '고양시', '의회', '문화', '복지', '위원회', '장애인', '탈', '시설', '정책', '위', '토론회', '개최', '내후년', '서울시', '탈', '시설', '장애인', '자립', '지원', '주택', '호로', '고양시', '장애인', '탈', '시설', '정책', '조례', '꼼꼼히', '개정', '고양시', '의회', '전문가', '초청', '장애인', '탈', '시설', '정책', '마련', '토론회', '성황', '고양시', '의회', '문화', '복지', '위원회', '고양시', '장애인', '탈', '시설', '정책', '위', '토론회', '개최', '탈', '시설', '운동', '마로니에', '인방', '시설', '폐쇄', '위해', '투쟁', '박홍근', '원내대표', '장애인', '지원', '주택', '확충', '개선', '보도자료', '심상정', '코로나', '위기', '극복', '타운', '홀', '미팅', '탈', '시설', '정책', '간담', '회', '커뮤니티', '케어', '장애인', '탈', '시설', '어떻게', '만날', '수', '있을까', '박홍근', '원내대표', '장애인', '지원', '주택', '확충', '개선', '보도자료', '심상정', '코로나', '위기', '극복', '타운', '홀', '미팅', '탈', '시설', '정책', '간담', '회', '커뮤니티', '케어', '장애인', '탈', '시설', '어떻게', '만날', '수', '있을까', '단독', '무연', '장애인', '동의', '강제', '퇴소', '인권위', '강원', '인권위', '장애인', '탈', '시설', '정책', '토론회', '개최', '자립', '의지', '있어야', '탈', '시설', '우리', '삶', '보라', '장애인', '차별', '철폐', '연대', '박원순', '시장', '약속', '장애인', '탈', '시설', '예산', '반영', '부고', '창선', '탈', '시설', '자립생활', '운동', '별세', '탈', '시설', '발달장애', '장', '혜정', '첫', '개인', '전', '너', '궁금한', '정원', '마포', '레인보우', '큐브', '갤러리', '탈', '시설', '후', '내', '꿈', '어떻게', '죽', '것', '를', '탈', '시설', '운동', '탈', '시설', '계획', '전면', '수정', '서울시', '농성', '결실', '종료', '장애', '탈', '시설', '왜', '요구', '하나', '보호', '대상', '박원순', '시청', '장애인', '농성', '깜짝', '방문', '더', '나은', '탈', '시설', '지원', '국가인권위', '정부', '장애인', '탈', '시설', '로드맵', '마련', '권고', '성남시', '경기도', '내', '최초', '발달장애', '청년', '주택', '지원', '서울시', '탈', '시설', '지원', '목표', '전면', '수정', '재차', '촉구', '한부모', '장소', '차이', '탈', '시설', '답', '자립', '사이', '탈', '시설', '커뮤니티', '케어', '사설', '탈', '시설', '장애인', '지원', '실종', '장애인', '대책', '소홀히', '수', '없다', '한부모', '장소', '차이', '탈', '시설', '답', '자립', '사이', '탈', '시설', '커뮤니티', '케어', '사설', '탈', '시설', '장애인', '지원', '실종', '장애인', '대책', '소홀히', '수', '없다', '탈', '시설', '서울시', '장애인', '단체', '갈등', '심화', '탈', '시설', '요구', '장애인', '서울', '시청', '앞', '농성', '이유', '서울시', '탈', '시설', '정책', '전면', '수정', '재차', '촉구', '대구시', '희망', '장애인', '시설', '예산', '탈', '시설', '사업', '추진', '장애인', '탈', '시설', '거주', '시설', '개편', '단계', '청년', '발달장애', '자립', '성남시', '내년', '대폭', '지원', '장애인', '권익', '단체', '장애인', '학대', '시설', '폐쇄', '탈', '시설', '지원', '장애인', '권익', '단체', '장애인', '학대', '시설', '폐쇄', '탈', '시설', '지원', '서울시', '탈', '시설', '계획', '수정', '무기한', '농성', '돌입', '장애인', '탈', '시설', '계획', '탈', '시설', '계획', '아니라', '감옥', '수감', '정책', '장애인', '탈시', '설운동', '불구', '정치', '간', '연대', '기대하며', '장애인', '탈', '시설', '자립', '지원', '정책', '실직', '위기', '시설', '노동자', '장애', '탈', '시설', '이유', '장애인', '차별', '철폐', '연대', '서울시', '장애인', '탈', '시설', '대책', '마련', '탈', '시설', '운동', '것', '것', '국회', '예산', '심사', '시작', '국힘', '여전히', '무', '응답', '장연', '매일', '지하철', '투쟁', '충북', '장애인', '차별', '철폐', '연대', '도청', '이틀', '복지', '예산', '삭감', '철회', '농성', '충북', '장애인', '차별', '철폐', '연대', '도청', '이틀', '복지', '예산', '삭감', '철회', '농성', '남동구', '장애인', '탈', '시설', '자립', '지원', '정책', '간담', '회', '개최', '인천', '남동구', '장애인', '탈', '시설', '자립', '지원', '정책', '간담', '회', '개최', '사회', '서비스', '운영', '시작', '시민단체', '탈', '시설', '계획', '수립', '인천', '시', '장애인', '탈', '시설', '개년', '계획', '지역', '사회', '행복한', '삶', '인프라', '대적', '확충', '인천', '시', '남동구', '장애인', '탈', '시설', '및', '지역', '사회', '통합', '계획', '수립', '인권', '사각', '무연', '장애인', '대책', '없는', '탈', '시설', '정책', '탈', '시설', '선택', '통제', '컨퍼런스', '개최', '제주도', '탈', '시설', '장애인', '자립', '정착', '금', '지원', '내달', '탈', '시설', '장애인', '자립', '정착', '금', '지원', '탈', '시설', '선택', '통제', '컨퍼런스', '개최', '제주도', '탈', '시설', '장애인', '자립', '정착', '금', '지원', '내달', '탈', '시설', '장애인', '자립', '정착', '금', '지원', '장연', '수능', '일인', '지하철', '탑승', '시위', '잠정', '중단', '장애', '오세훈', '향', '약자', '동행', '실천', '권리', '예산', '속보', '장연', '호선', '시위', '진행', '지연', '우려', '시설', '장애인', '자립', '도', '당사자', '가족', '마음', '것', '인터뷰', '문화', '날개', '센터', '탈', '시설', '체험', '홈', '입', '주자', '모집', '국회', '토론회', '탈', '시설', '법적', '근거', '시설', '존엄', '삶', '제주도', '탈', '시설', '장애인', '자립', '정착', '금', '지원', '국회', '토론회', '탈', '시설', '법적', '근거', '시설', '존엄', '삶', '제주도', '탈', '시설', '장애인', '자립', '정착', '금', '지원', '제주도', '탈', '시설', '장애인', '자립', '정착', '금', '지원', '정신질환', '탈', '시설', '예정', '추진', '장애인', '탈', '시설', '시설', '적극', '지원', '있어야', '인터뷰', '이향', '배', '수녀', '노숙인', '탈', '시설', '차근차근', '계획', '장연', '이번', '주', '지하철', '탑승', '시위', '유보', '대담', '발달장애', '정책', '현', '주소', '개선', '방향', '선', '경주시', '의원', '장애인', '시설', '인권', '침해', '해결', '탈', '시설', '자립생활', '지원', '인천광역시', '청', '종합', '탈', '시설', '자립', '지원', '중장', '계획', '발표회', '개최', '인천광역시', '청', '종합', '탈', '시설', '자립', '지원', '중장', '계획', '발표회', '개최', '인천광역시', '청', '종합', '탈', '시설', '자립', '지원', '중장', '계획', '발표회', '개최', '인천', '시', '첫', '탈', '시설', '자립', '지원', '중장', '계획', '발표회', '개최', '티브로드', '대구', '탈', '시설', '장애인', '자립', '주택', '첫', '입주', '장애인', '단체', '진실', '해위', '전국', '집단', '수용', '시설', '직권', '조사해', '발달장애', '탈', '시설', '관련', '세미나', '시설', '아닌', '지역', '사회', '장애인', '탈', '시설', '자기', '결정', '논의', '성남시', '청년', '저축', '계좌', '가입', '신청', '접수', '칼럼', '누구', '소외', '하라', '시설', '이', '탈', '시설', '청구', '재활', '자립한', '장애인', '집들이', '인천', '시', '첫', '탈', '시설', '자립', '지원', '중장', '계획', '발표회', '개최', '티브로드', '대구', '탈', '시설', '장애인', '자립', '주택', '첫', '입주', '장애인', '단체', '진실', '해위', '전국', '집단', '수용', '시설', '직권', '조사해', '발달장애', '탈', '시설', '관련', '세미나', '시설', '아닌', '지역', '사회', '장애인', '탈', '시설', '자기', '결정', '논의', '성남시', '청년', '저축', '계좌', '가입', '신청', '접수', '칼럼', '누구', '소외', '하라', '시설', '이', '탈', '시설', '청구', '재활', '자립한', '장애인', '집들이', '누리', '센터', '장애인', '탈', '시설', '자립', '지원', '업무', '협약', '체결', '탈', '시설', '장애인', '명', '중', '명', '장래', '재정', '제일', '걱정', '발달장애', '지역', '사회', '탈', '시설', '가능할까', '성남시', '청년', '저축', '계좌', '가입', '신청', '접수', '칼럼', '누구', '소외', '하라', '시설', '이', '탈', '시설', '청구', '재활', '자립한', '장애인', '집들이', '누리', '센터', '장애인', '탈', '시설', '자립', '지원', '업무', '협약', '체결', '탈', '시설', '장애인', '명', '중', '명', '장래', '재정', '제일', '걱정', '장애인', '탈', '시설', '권리', '확보', '성과', '농성', '다른', '시설', '탈', '시설', '예산', '고작', '원', '우리', '강제', '퇴소', '당했다고', '분노한', '프리', '웰', '탈', '시설', '당사자', '은', '사과', '하라', '장연', '지하철', '시위', '잠정', '중단', '수능', '일', '포함', '장연', '지하철', '시위', '잠정', '중단', '수능', '일', '포함', '정권', '기재부', '똑같아', '장애인', '예산', '그', '낭비', '충남도', '의회', '탈', '시설', '자립생활', '정책', '실행', '의정', '토론회', '사진', '내년', '탈', '시설', '예산', '원', '고작', '명', '지원', '수', '있어', '진짜', '탈', '시설', '정책', '신규', '입소', '시설', '폐쇄', '법', '제정', '걸음', '인천', '센터', '탈', '시설', '당사자', '자립생활', '간담', '회', '개최', '경기', '투단', '경기도', '탈', '시설', '정책', '약속', '천막', '농성', '마무리', '대구', '시민', '제안', '정책', '공감', '순위', '장애인', '탈', '시설', '대책', '마련', '장애인', '단체', '서울시', '진정', '없다', '오해일', '뿐', '탈', '시설', '갈등', '확산', '봉양', '순', '서울시', '의원', '장애인', '탈', '시설', '종사', '고용', '승계', '촉구', '장애인', '단체', '서울시', '진정', '없다', '오해일', '뿐', '탈', '시설', '갈등', '확산', '봉양', '순', '서울시', '의원', '장애인', '탈', '시설', '종사', '고용', '승계', '촉구', '봉양', '순', '서울시', '의원', '장애인', '탈', '시설', '정책', '추진', '종사', '고용', '승계', '문제', '지적', '가평', '인권', '침해', '시설', '장애인', '전원', '탈', '시설', '완료', '경기도', '장애인', '탈시', '설화', '정책', '탈', '시설', '정책', '토론회', '희망', '탈', '시설', '지원', '합의', '파행', '대구시', '인권위', '진정', '공익', '신고', '박대성', '인권위', '기각', '결정', '것', '탈', '시설', '약속', '대구시', '이제', '이', '시설', '저', '시설', '분노한', '장애', '인권위', '집단', '진정', '서울시', '탈', '시설', '자립생활', '실화', '제언', '투쟁', '결', '의문', '제', '목소리', '행동', '삭발', '장애', '경', '탈', '시설', '약속', '대구시', '이제', '이', '시설', '저', '시설', '분노한', '장애', '인권위', '집단', '진정', '서울시', '탈', '시설', '자립생활', '실화', '제언', '투쟁', '결', '의문', '제', '목소리', '행동', '삭발', '장애', '경', '탈', '시설', '지원', '계획', '제안', '민간', '재단', '대구시', '하라', '며', '나', '내년', '예산안', '장애인', '일자리', '탈', '시설', '쥐꼬리', '탈', '시설', '약속', '파기', '대구시', '희망', '시민', '마을', '폐지', '발표', '대구시', '장애인', '탈', '시설', '이행', '절반', '수준', '지원', '탈', '시설', '장애', '우리', '사람', '동등', '삶', '원한다', '장애', '서울시', '장애인', '예산', '확대', '촉구', '예산', '확대', '탈', '시설', '의지', '미신', '시설', '즉각', '폐쇄', '탈', '시설', '지원', '계획', '수립', '대구', '장애인', '탈', '시설', '정책', '보완', '개선', '탈', '시설', '장애', '우리', '사람', '동등', '삶', '원한다', '장애', '서울시', '장애인', '예산', '확대', '촉구', '예산', '확대', '탈', '시설', '의지', '미신', '시설', '즉각', '폐쇄', '탈', '시설', '지원', '계획', '수립', '소식', '인권위', '서울', '장애인', '탈', '시설', '정책', '토론회', '탈', '시설', '신규', '입소', '그대로', '장애인', '가족', '인권위', '집단', '진정', '기재부', '또', '검토', '폭우', '속', '장애인', '명', '권리', '예산', '보장', '장애인', '시설', '자립', '전담', '기구', '신설', '국회', '중앙정부', '차원', '탈', '시설', '지원', '탈', '시설', '장애인', '명', '활동', '지원', '인정', '조사', '항의', '탈', '시설', '기능', '정책', '전환', '이슈', '출근길', '시위', '계속', '것', '장애인', '시위', '여러', '시각', '포토', '장애인', '탈', '시설', '지원', '법', '평생', '교육법', '제정', '호소', '복지부', '국회의원', '발의', '탈', '시설', '근거', '마련', '추진', '대구시', '희망', '탈', '시설', '정책', '즉시', '발표', '희망', '거주', '탈', '시설', '욕구', '조사', '발표', '대구시', '계획', '누락', '개인', '예산', '제의', '해로움', '우리', '대안', '김도현', '장애인', '협의', '회', '탈', '시설', '정착', '금', '등', '인상', '요구', '장애인', '차별', '철폐', '연대', '서울시', '장애인', '탈', '시설', '자립', '예산', '보장', '장연', '수능', '일인', '탑승', '시위', '잠정', '중단', '장애인', '예산', '일부', '반영', '탈', '시설', '장애인', '자립', '정착', '금', '지원', '장애인', '탈', '시설', '로드맵', '수립', '촉구', '장애인', '개발', '정책', '연구', '발달장애', '지원', '등', '명', '공개', '채용', '일산', '센터', '장애인', '자립생활', '주택', '입', '주자', '모집', '취재', '스물', '일곱', '장애인', '유진우', '목덜미', '간', '건', '누구', '내년', '개', '군구', '장애인', '탈', '시설', '선도', '사업', '희망', '탈', '시설', '멀었다', '등', '김홍', '기자', '토', '탈', '시설', '자립생활', '대책', '마련', '장애인', '단체', '경주시', '해결', '촉구', '서울시', '탈', '시설', '정책', '진정', '있나', '서울시', '차', '탈', '시설', '계획', '못', '시설', '소규모', '취재', '스물', '일곱', '장애인', '유진우', '목덜미', '간', '건', '누구', '내년', '개', '군구', '장애인', '탈', '시설', '선도', '사업', '희망', '탈', '시설', '멀었다', '등', '김홍', '기자', '토', '탈', '시설', '자립생활', '대책', '마련', '장애인', '단체', '경주시', '해결', '촉구', '서울시', '탈', '시설', '정책', '진정', '있나', '서울시', '차', '탈', '시설', '계획', '못', '시설', '소규모', '장애인', '거주', '시설', '이용자', '부모', '회', '오세훈', '서울시장', '면담', '대구', '장애인', '연대', '재선', '권영진', '대구시', '탈', '시설', '정책', '요구', '농성', '탈', '시설', '장애인', '위', '마중', '물', '주택', '제', '호', '입', '주식', '장애인', '단체', '재선', '권영진', '대구시', '탈', '시설', '정책', '요구', '농성', '장애인', '단체', '재선', '권영진', '대구시', '탈', '시설', '정책', '요구', '농성', '서울시', '탈', '시설', '정책', '제안', '토론회', '개최', '서울시', '탈', '시설', '정책', '제안', '토론회', '린다', '성남시', '청년', '발달장애', '주택', '지원', '협약', '체결', '만', '세', '고', '활동', '지원', '신청', '좌절', '탈', '시설', '꿈', '희망', '운영', '파행', '탈', '시설', '및', '장애인', '거주', '시설', '폐쇄', '약속', '이행', '촉구', '장연', '지하철', '탑승', '시위', '유보', '김재섭', '삥', '성공', '장애인', '탈', '시설', '개인', '선택', '아닌', '국가', '법적', '과제', '탈', '시설', '장애인', '시설', '폐기', '대상', '논리', '위험', '황영', '란', '도의', '충남도', '장애인', '탈', '시설', '지원', '정책', '하위', '질타', '충남도', '장애인', '탈', '시설', '지원', '정책', '하위', '황영', '란', '도의', '질타', '시설', '부모', '이', '장애인', '현주소', '장애인', '탈', '시설', '시설', '민주화', '시설', '공간', '자체', '뉴질랜드', '기획', '취재', '탈', '시설', '장애인', '중심', '서비스', '제공', '뉴', '모델', '지하철', '호선', '장연', '시위', '올해', '장애인', '날', '기념', '탈', '시설', '중점', '병', '묵묵', '탈', '시설', '장애인', '해방', '경제학', '정책', '인정', '탈', '시설', '초석', '마련', '시급', '뉴스초점', '먼', '발달장애', '자립', '비극', '탈', '시설', '지원', '법', '정안', '공개', '장애인', '수용', '시설', '종식', '뉴스초점', '먼', '발달장애', '자립', '비극', '탈', '시설', '지원', '법', '정안', '공개', '장애인', '수용', '시설', '종식', '정책', '인정', '탈', '시설', '초석', '마련', '시급', '탈', '시설', '이', '맘', '김영춘', '의원', '장애인', '탈', '시설', '주거', '자립', '지원', '센터', '필요', '장연', '지하철', '호선', '시위', '출근길', '지연', '예상', '이제', '서울시장', '자치', '구청', '함부로', '장애인', '의사', '결정', '지원', '수', '없다', '경주시', '장애인', '시설', '인권', '유린', '반복', '탈', '시설', '보장', '파리', '바게뜨', '문제', '회장', '결단', '한국', '장애인', '통합', '가지', '방안', '제시', '파리', '바게뜨', '문제', '회장', '결단', '한국', '장애인', '통합', '가지', '방안', '제시', '장애인', '탈', '시설', '일반', '주택', '개인', '자유', '필수', '책', '복지부', '탈', '시설', '자립생활', '지원', '방안', '마련', '착수', '장연', '시위', '일정', '서울', '지하철', '호선', '장애인', '단체', '시위', '지연', '또', '장애인', '권리', '예산', '불', '수용', '가닥', '추경호', '직접', '응답', '서울시', '장애인', '탈', '시설', '가속', '추진', '우리', '블루스', '영희', '위', '지원', '주택', '이', '필요하다', '서울시', '의회', '앞', '장애인', '부모', '상복', '이유', '인권위', '주최', '탈', '시설', '정책', '간담', '회', '복지부', '전날', '돌연', '불참', '통보', '광주시', '제', '기', '지역', '사회보장', '계획', '수립', '확정', '윤석열', '정부', '신설', '한시', '부모', '급여', '출산', '유인', '책', '수용', '시설', '희생', '장애인', '추모', '탈', '시설', '정책', '시행', '희망', '사태', '대구', '탈', '시설', '시대정신', '탈', '시설', '장애인', '자립', '정착', '금', '지원', '장애인', '탈', '시설', '적극', '지원', '우려', '절망', '도가니', '것', '같다', '발달장애', '가족', '외로운', '분투', '심층', '희망', '거주', '장애인', '탈', '시설', '이행', '대책위', '서울', '인권위', '앞', '기자회견', '사진', '대구시', '희망', '탈', '시설', '약속', '파기', '전원', '조치', '발표', '장애', '인권위', '진정', '뉴스', '정부', '탈', '시설', '정책', '역행', '경기도', '정부', '말', '탈', '시설', '약속', '길은', '멀다', '소송', '통해', '탈', '시설', '미국', '밑바탕', '강력한', '있다', '장애인', '노동권', '탈', '시설', '지지', '부진', '정부', '압박', '민중당', '시립', '희망', '탈', '시설', '지원', '촉구', '탈', '시설', '후발', '주자', '한국', '외국', '성공', '사례', '반영', '적극', '탈', '시설', '민중당', '대구시', '시립', '희망', '탈', '시설', '지원', '촉구', '발달장애', '탈', '시설', '논의', '감수성', '사회', '과제', '시설', '운영', '법인', '노조', '장애인', '단체', '장애인', '탈', '시설', '모색', '장애인', '탈', '시설', '시설', '어떻게', '지원', '수', '있을까', '대구', '청', '재단', '장애인', '단체', '탈', '시설', '워크샵', '개최', '장애인인권', '서울특별시', '장애인', '시설', '협회', '규탄', '경기도', '중', '증장', '애인', '탈', '시설', '자립생활', '중', '장기', '계획', '공청회', '개최', '탈', '시설', '자립', '없는', '발달장애', '법', '무용지물', '인천', '시', '장애인', '탈', '시설', '자립', '지원', '네트워크', '토론회', '개최', '성남시', '내', '최초', '발달장애', '청년', '주택', '지원', '손', '부산시', '장애인', '자립', '지원', '탈', '시설', '개년', '계획', '수립', '장애', '등급제', '장애인', '탈', '시설', '의', '꿈', '권영진', '대구시', '장애인', '탈', '시설', '공약', '도', '희망', '편지', '알', '희망', '탈', '시설', '계획', '하반기', '지역', '사회', '서비스', '확대', '생애', '기별', '서비스', '발굴', '하반기', '지역', '사회', '서비스', '확대', '생애', '기별', '서비스', '발굴', '서울', '장애인', '탈', '시설', '조례', '제정', '임박', '찬반', '격화', '대구시', '희망', '탈', '시설', '정책', '즉시', '발표', '전환', '지원', '센터', '심사', '기준', '탈', '시설', '기조', '반영', '대구시', '희망', '개선', '의지', '없나', '탈', '시설', '지원', '등', '예산', '반영', '안해', '인천', '장애인', '자립', '지원', '지역', '내', '적응', '우선', '국정감사', '희망', '거주', '탈', '시설', '복지부', '인천', '서원', '장애인', '자립', '지원', '정책', '방향', '제안', '생생', '발언', '장애인', '시설', '의지', '과거', '현재', '달라', '영상', '장애인', '지역', '사회', '살', '권리', '영상', '장애인', '지역', '사회', '살', '권리', '영상', '비장', '애인', '시설', '밖', '세상', '경남', '탈', '시설', '장애인', '자립생활', '전환', '모색', '토론회', '료', '보', '재활', '장애인', '학대', '수수방관', '대구시', '탈', '시설', '영상', '장애', '탈', '시설', '성공회', '서울시', '탈', '시설', '장애인', '정책', '개발', '활성화', '기관', '연구', '업무', '협약', '투쟁', '결', '의문', '윤석열', '정부', '모든', '시설', '폐쇄하', '박영일', '국가', '주도', '탈', '시설', '추진', '스웨덴', '인천', '시', '장애인', '탈', '시설', '자립', '지원', '소통', '공감', '설명', '회', '개최', '탈', '시설', '당사자', '이야기', '책', '나', '산다', '발간', '한국', '장애인', '개발', '서울시', '서울시', '복지', '재단', '탈', '시설', '정책', '개발', '박차', '투쟁', '결', '의문', '윤석열', '정부', '모든', '시설', '폐쇄하', '박영일', '국가', '주도', '탈', '시설', '추진', '스웨덴', '인천', '시', '장애인', '탈', '시설', '자립', '지원', '소통', '공감', '설명', '회', '개최', '탈', '시설', '당사자', '이야기', '책', '나', '산다', '발간', '광주', '복지', '재단', '탈', '시설', '자립생활', '지원', '논의', '대통령', '약속', '탈', '시설', '내년', '예산', '반영', '제로', '독박', '외식', '시설', '입소', '후', '가족', '삶', '심층', '기획', '지원', '서비스', '계획', '단계', '가족', '요구', '반영', '심층', '기획', '활동', '원사', '도움', '독립', '생활', '축구', '경기도', '직관', '사회인', '느낌', '심층', '기획', '지원', '서비스', '계획', '단계', '가족', '요구', '반영', '심층', '기획', '활동', '원사', '도움', '독립', '생활', '축구', '경기도', '직관', '사회인', '느낌', '심층', '기획', '탈', '시설', '당사자', '정부', '장애인', '수용', '시설', '폐쇄', '선언', '하라', '왜', '탈', '시설', '라면', '어떨', '것', '같니', '개인', '운영', '시설', '법인', '기준', '완화', '탈', '시설', '정책', '경기도', '토론회', '반발', '속', '무산', '센터', '판', '여행', '가이드북', '제작', '위', '탈', '시설', '장애인', '당사자', '모집', '거주', '시설', '중고', '령', '장애인', '미래', '울', '그', '왜', '장애인', '시설', '밖', '유정우', '이상', '부부', '탈', '시설', '이야기', '인권위', '탈', '시설', '전환', '팔', '중', '증장', '애인', '시설', '탈', '시설', '방안', '연구', '제', '탈', '시설', '자립생활', '대회', '살', '린다', '광화문', '농성', '주년', '포문', '연', '탈', '시설', '선언', '희망', '해결', '시작', '장연', '출근길', '지하철', '시위', '호선', '상행', '지연', '종합', '지하철', '도로', '다시', '장연', '기재부', '답', '집회', '즉시', '중단', '종합', '성남시', '경기도', '내', '최초', '발달장애', '청년', '주택', '지원', '세상', '속', '행복하다는', '말', '안', '대구시', '시립', '희망', '규모', '축소', '탈', '시설', '추진', '복지', '서비스', '제공', '시설', '거듭', '권영진', '시장', '희망', '방문', '시설', '규모', '적정', '장애인', '탈', '시설', '추진', '당부', '광주시', '장애인', '탈', '시설', '자립생활', '지원', '광주시', '중', '증장', '애인', '탈', '시설', '자립', '생활', '지원', '장애인', '인권', '침해', '루', '디아', '집', '폐쇄', '탈', '시설', '지원', '하라', '포토', '뉴스', '대구시', '시립', '희망', '시설', '규모', '줄', '탈', '시설', '적극', '추진', '광주시', '장애인', '탈', '시설', '자립생활', '지원', '광주시', '중', '증장', '애인', '탈', '시설', '자립', '생활', '지원', '장애인', '인권', '침해', '루', '디아', '집', '폐쇄', '탈', '시설', '지원', '하라', '포토', '뉴스', '탈', '시설', '약속', '저', '대구시', '장애인', '거주', '시설', '허가', '논란', '장연', '지하철', '호선', '여의도역', '호선', '국회의사당역', '시위', '또', '출근길', '열차', '지연', '장애인', '단체', '인권', '침해', '거주', '시설', '폐쇄', '탈', '시설', '지원', '하라', '장연', '수능', '일', '시위', '중단', '응답', '행보', '결정', '대구', '탈', '시설', '장애인', '코로나', '확진', '지원', '인력', '없고', '격리', '시설', '못', '탈', '시설', '민낯', '당신', '준비', '광주시', '거주', '시설', '장애인', '탈', '시설', '자립', '지원', '장애인', '인권', '침해', '루', '디아', '집', '폐쇄', '탈', '시설', '지원', '하라', '포토', '뉴스', '탈', '시설', '약속', '저', '대구시', '장애인', '거주', '시설', '허가', '논란', '장연', '지하철', '호선', '여의도역', '호선', '국회의사당역', '시위', '또', '출근길', '열차', '지연', '장애인', '단체', '인권', '침해', '거주', '시설', '폐쇄', '탈', '시설', '지원', '하라', '장연', '수능', '일', '시위', '중단', '응답', '행보', '결정', '대구', '탈', '시설', '장애인', '코로나', '확진', '지원', '인력', '없고', '격리', '시설', '못', '탈', '시설', '민낯', '당신', '준비', '대구시', '장애인', '탈', '시설', '자립', '지원', '팀', '신설', '전국', '최초', '환영', '업무', '수준', '아쉬워', '대구시', '탈', '시설', '지원', '팀', '신설', '환영', '우려', '교차', '대구시', '탈', '시설', '지원', '팀', '신설', '환영', '우려', '교차', '코로나', '정신장애인', '사망', '탈', '시설', '근본', '대책', '장애인', '단체', '시위', '서울', '지하철', '호선', '진행', '출근길', '혼잡', '서울시', '의회', '마지막', '정례', '회', '개최', '쟁점', '안건', '탈', '시설', '부부', '좌충우돌', '첫', '여행기', '용기', '메시지', '인천', '시', '탈', '시설', '자립', '지원', '사업', '위', '실무', '협의', '체', '구성', '운영', '탈', '시설', '희망', '장애인', '자립', '위해', '민관', '힘', '윤', '소하', '의원', '제임스', '콘로', '박사', '내한', '탈', '시설', '토론회', '개최', '누가', '장애인', '복지', '망치', '있나', '박', '장관', '장애', '등급제', '폐지', '탈', '시설', '성실히', '추진', '인천', '시', '탈', '시설', '희망', '장애인', '자립', '위', '민관', '협의', '체', '구성', '윤', '소하', '의원', '제임스', '콘로', '박사', '내한', '탈', '시설', '토론회', '개최', '누가', '장애인', '복지', '망치', '있나', '박', '장관', '장애', '등급제', '폐지', '탈', '시설', '성실히', '추진', '속보', '서울', '지하철', '호선', '장연', '장애인', '단체', '시위', '열차', '지연', '초래', '충북', '탈', '시설', '정책', '재정', '확보', '센터', '예산', '확대', '서울', '탈', '시설', '장애인', '직업', '활동', '지원', '손', '서울시', '복지', '재단', '탈', '시설', '장애인', '직업', '활동', '지원', '업무', '협약', '광진', '센터', '탈', '시설', '탈재', '자', '모임', '참가자', '모집', '시민단체', '지역', '희망', '사태', '반복', '탈', '시설', '추진', '등', '사회', '서비스', '과제', '제안', '누가', '장애인', '복지', '망치', '있나', '박', '장관', '장애', '등급제', '폐지', '탈', '시설', '성실히', '추진', '속보', '서울', '지하철', '호선', '장연', '장애인', '단체', '시위', '열차', '지연', '초래', '충북', '탈', '시설', '정책', '재정', '확보', '센터', '예산', '확대', '서울', '탈', '시설', '장애인', '직업', '활동', '지원', '손', '서울시', '복지', '재단', '탈', '시설', '장애인', '직업', '활동', '지원', '업무', '협약', '광진', '센터', '탈', '시설', '탈재', '자', '모임', '참가자', '모집', '시민단체', '지역', '희망', '사태', '반복', '탈', '시설', '추진', '등', '사회', '서비스', '과제', '제안', '성락원', '사태', '인권', '침해', '재발', '해결', '근본', '대책', '필요', '인권', '유린', '비리', '희망', '공적', '운영', '탈', '시설', '해법', '가닥', '대구시', '대책위', '시립', '희망', '탈', '시설', '합의', '천막', '농성', '해바라기', '거주', '전원', '조치', '장애', '반발', '탈', '시설', '지원', '하라', '서울시', '탈', '시설', '장애인', '활동', '지원', '시간', '확대', '발달장애', '시설', '안', '밖', '부모', '회', '장연', '목소리', '대구', '지역', '지방선거', '핵심', '의제', '탈', '시설', '자립생활', '장연', '도로', '점거', '시위', '계속', '서울', '중구', '일대', '또', '혼잡', '투쟁', '결', '의문', '시설', '밖', '삶', '좋다는', '것', '알리', '신동문', '지역', '사회', '탈', '시설', '나무', '장애인', '탈', '시설', '자립생활', '쟁취', '주간', '선포', '시민단체', '시립', '희망', '탈', '시설', '요구', '외면', '말', '시오', '장애인', '탈', '시설', '자립생활', '쟁취', '주간', '선포', '시민단체', '시립', '희망', '탈', '시설', '요구', '외면', '말', '시오', '대구', '장애인', '연대', '시립', '희망', '공공', '운영', '탈', '시설', '해답', '보도자료', '심상정', '정의당', '대통령', '후보', '장애인', '공약', '발표', '탈', '시설', '지역', '사회', '정착', '위', '장애인', '자립생활', '권리장전', '선언', '오늘', '일정', '사회', '화요일', '박옥순', '빗장', '김원영', '세심', '함', '필요한', '장애인', '주거지', '서비스', '정책', '토론회', '린다', '장연', '수능', '일', '조건', '부', '시위', '유보', '이제', '탈', '시설', '장애인', '자립', '정책', '즉각', '시행', '요구', '장애', '추위', '속', '탈', '시설', '순례', '투쟁', '전개', '이제', '탈', '시설', '장애인', '자립', '정책', '즉각', '시행', '요구', '장애', '추위', '속', '탈', '시설', '순례', '투쟁', '전개', '탈', '시설', '자유의지', '선택', '이', '보장', '삶', '장애인', '탈', '시설', '지원', '정책', '마련', '탈', '시설', '정치학', '장애', '여성', '섹슈얼리티', '시설', '죽', '줄', '탈', '시설', '뒤', '내', '삶', '장연', '출퇴근', '시위', '재개', '호선', '누적', '여분', '지연', '시민', '불편', '속보', '서울', '지하철', '호선', '장연', '장애', '안', '단체', '시위', '호선', '호선', '지연', '광주시', '장애인', '탈', '시설', '자립', '지원', '개년', '계획', '수립', '광주시', '탈', '시설', '장애인', '자립', '지원', '활동', '개시', '희망', '사태', '대구시', '장애인', '탈', '시설', '정책', '축소', '논란', '부산', '지역', '탈', '시설', '장애인', '자립', '사후', '지원', '모색', '광주시', '탈', '시설', '장애인', '자립', '지원', '책', '수용', '환영', '장애인', '문화', '공간', '탈', '시설', '장애', '여성', '세자매', '공연', '대구시', '희망', '폐쇄', '탈', '시설', '자립생활', '수립', '광주시', '탈', '시설', '장애인', '지원', '정책', '제자리', '장애인', '탈', '시설', '자립', '정착', '금', '증액', '박', '희망', '탈', '시설', '촉구', '집중', '행동', '마무리', '박옥순', '차별', '금지', '김원영', '성명', '장애인', '자립생활', '체험', '홈', '탈', '시설', '정책', '광주', '광역시', '제', '기', '지역', '사회보장', '계획', '수립', '확정', '거주', '시설', '장애인', '탈', '시설', '자립생활', '지원', '중', '증장', '애인', '탈', '시설', '장애', '등급제', '탈', '시설', '이', '돈', '포기', '장애인', '복지', '패러다임', '변화', '대응', '방안', '서울시', '의회', '김동욱', '의원', '서울시', '장애인', '탈', '시설', '정책', '토론회', '서울시', '의회', '김동욱', '의원', '장애인', '탈', '시설', '정책', '실현', '토론회', '참석', '다시', '도로로', '장연', '지선', '대선', '윤석열', '오세훈', '응답', '아산시장', '애인', '자립생활', '센터', '탈', '시설', '자립생활', '정착', '위', '토론회', '개최', '서울시', '개', '기관', '단체', '탈', '시설', '장애인', '자립', '지원', '약속', '원주', '탈', '시설', '정책', '권리', '실현', '방안', '모색', '성락원', '사태', '해결', '일', '당선자', '면담', '요구', '서울시', '복지', '재단', '장애인', '지역', '사회', '통합', '포럼', '개최', '포토', '장애인', '탈', '시설', '지원', '법', '제정', '시립', '희망', '현장', '조사', '탈', '시설', '없다면', '인권', '유린', '반복', '장연', '복지', '위', '예산', '반영', '수능', '지하철', '탑승', '시위', '중단', '서울시', '탈', '시설', '계획', '장애인', '삶', '질', '향상', '위', '초석', '정부', '탈', '시설', '추진', '친부모', '학대', '아동', '어디', '활동', '보조', '탈', '시설', '예산', '없는', '내년', '복지', '예산', '거부', '탈', '시설', '장애', '여성', '대상', '성인식', '교육', '다시', '만난', '섹슈얼리티', '참여자', '모집', '활동', '보조', '탈', '시설', '예산', '없는', '내년', '복지', '예산', '거부', '탈', '시설', '장애', '여성', '대상', '성인식', '교육', '다시', '만난', '섹슈얼리티', '참여자', '모집', '탈', '시설', '자립생활', '꽃님', '기금', '전달', '좋잖아', '한국', '발달장애', '탈', '시설', '정책', '성공', '희박', '벼랑', '끝', '몰리', '발달장애', '가정', '반복', '비극', '고리', '수', '있을까', '송전', '장애인', '탈', '시설', '전환', '계획', '수립', '합의', '있는', '장애인', '권리', '예산', '확보', '탈', '시설', '정책', '이행', '촉구', '포토', '장애인', '탈', '시설', '자립', '지원', '네트워크', '차', '회의', '장연', '또', '삭발', '진행', '안전하게', '살', '서울시', '약속', '안', '사이', '장애인', '포토', '장애인', '탈', '시설', '자립', '지원', '네트워크', '차', '회의', '장연', '또', '삭발', '진행', '안전하게', '살', '서울시', '약속', '안', '사이', '장애인', '장애인', '탈', '시설', '자립', '정책', '발표', '장관', '면담', '요구', '장애', '서울시', '탈', '시설', '권리', '선언', '하라', '진보', '거나', '이색', '시민', '거부', '지선', '공약', '기자', '수첩', '발달장애', '가정', '반복', '비극', '광주', '지역', '사회보장', '계획', '정부', '탈', '시설', '추진', '경기도', '개인', '시설', '법인', '전환', '장연', '지하철', '탑승', '시위', '계속', '권리', '예산', '촉구', '장연', '지하철', '삭발', '투쟁', '계속', '권리', '예산', '촉구', '장애인', '수용', '시설', '돈벌이', '수단', '탈', '시설', '활동', '보조', '필수', '집단', '거주', '탈', '시설', '자립생활', '전환', '촉구', '광주시', '제', '기', '지역', '사회보장', '계획', '수립', '확정', '장연', '출근길', '지하철', '시위', '재개', '호선', '운행', '지연', '포토', '장애인', '자립생활', '주택', '확대', '권영진', '시장', '시립', '희망', '방문', '탈', '시설', '적극', '추진', '탈', '시설', '자립', '정착', '금', '지역별', '금액', '천차만별', '명', '중', '명', '못', '광주시', '제', '기', '지역', '사회보장', '계획', '수립', '확정', '서울', '탈', '시설', '정책', '요구', '수용', '촉구', '무기한', '인', '시위', '광주시', '제', '기', '지역', '사회보장', '계획', '수립', '확정', '광주시', '지역', '사회보장', '계획', '수립', '확정', '개', '세부', '사업', '추진', '서울', '탈', '시설', '정책', '요구', '수용', '촉구', '무기한', '인', '시위', '지역', '회로', '탈', '시설', '정책', '수립', '때', '장애', '인', '시위', '시작', '성남시', '경기도', '내', '최초', '발달장애', '청년', '주택', '지원', '방향', '서울시', '시설', '소규모', '탈', '시설', '아니다', '포토', '발달장애', '가족', '사망', '사건', '발생', '근원', '현실', '고려', '안', '정책', '강행', '대구', '장애인', '투쟁', '연대', '탈', '시설', '자립생활', '보장', '요구', '장연', '이번', '주', '출근길', '지하철', '탑승', '시위', '중단', '발달장애', '탈', '시설', '쟁점', '여부', '무관', '장연', '이번', '주', '출근길', '지하철', '탑승', '시위', '중단', '발달장애', '탈', '시설', '쟁점', '여부', '무관', '성남시', '경기도', '내', '최초', '발달장애', '청년', '주택', '지원', '대구', '지역', '장애인', '탈', '시설', '자립생활', '보장', '촉구', '장애인', '자립', '위', '탈', '시설', '예산', '적극', '지원', '장애인', '탈', '시설', '대안', '현재', '비용', '용도', '시설', '재', '배정', '스웨덴', '장애인', '권리', '협약', '탈', '시설', '향', '여정', '서울시', '탈', '시설', '구성원', '대표', '모호', '전면', '재', '구성', '탈', '시설', '지원', '체계', '실험', '입법', '등', '통해', '구체화', '탈', '시설', '지원', '체계', '실험', '입법', '등', '통해', '구체화', '장애인', '탈', '시설', '적극', '조치', '장차', '법', '규정', '필요', '국가인권위', '회', '주관', '토론회', '장애인', '탈', '시설', '위', '제도', '장치', '시급', '탈', '시설', '위', '자립', '지원', '법', '실효', '확보', '송전', '시설', '거주', '전원', '탈', '시설', '지원', '계획', '수립', '서울시', '의회', '마지막', '정례', '회', '결산', '안', '등', '처리', '발달장애', '가정', '비극', '지원', '체계', '마련', '송전', '시설', '거주', '전원', '탈', '시설', '지원', '계획', '수립', '기획재정부', '장관', '퇴근길', '막', '것', '박경석', '또', '거리', '이유', '유니', '버셜', '디자인', '적용', '임대주택', '우선', '확보', '장애인', '지역', '사회', '자립', '지원', '본격', '우리', '정치권', '호소', '장연', '쿠키', '인터뷰', '서울시', '탈', '시설', '개년', '계획', '전면', '수정', '장애인', '단체', '서울시', '장애인', '탈', '시설', '계획', '재', '수정', '촉구', '이름', '서울', '발달장애', '탈', '시설', '모델', '경기도', '장애인', '탈', '시설', '지원', '필요', '절실', '경기도', '의회', '보건', '복지', '위', '장애인', '탈', '시설', '지원', '위', '대안', '마련', '토론회', '개최', '장연', '출근길', '시위', '지하철', '호선', '혼잡', '국회', '장애인', '예산', '반영', '장연', '지하철', '승', '하차', '시위', '유보', '울산', '장애인', '자립생활', '센터', '사', '울산', '광역시', '장애인', '연합', '회', '장애인', '주거지', '서비스', '정책', '세미나', '개최', '장애인', '탈', '시설', '예산', '원', '오거돈', '시장', '지원', '약속', '헌신', '짝', '국회', '장애인', '예산', '반영', '장연', '지하철', '승', '하차', '시위', '유보', '울산', '장애인', '자립생활', '센터', '사', '울산', '광역시', '장애인', '연합', '회', '장애인', '주거지', '서비스', '정책', '세미나', '개최', '장애인', '탈', '시설', '예산', '원', '오거돈', '시장', '지원', '약속', '헌신', '짝', '정부', '등급제', '폐지', '지지', '부진', '탈', '시설', '역행', '대구시', '시민단체', '시립', '희망', '탈', '시설', '추진', '합의', '중증', '발달장애', '탈', '시설', '위', '제언', '장애', '식목일', '맞이', '대선', '후보', '탈', '시설', '나무', '전달', '다릿돌', '센터', '탈', '시설', '자립생활', '권리', '선언', '콘서트', '개최', '눈물', '미담', '아니라', '유쾌한', '자매', '일상', '얘기', '탈', '시설', '다큐', '어른', '장', '혜영', '감독', '서울시', '탈', '시설', '정책', '변화', '먼저', '개념', '정립', '우선', '정부', '등급제', '폐지', '지지', '부진', '탈', '시설', '역행', '대구시', '시민단체', '시립', '희망', '탈', '시설', '추진', '합의', '중증', '발달장애', '탈', '시설', '위', '제언', '장애', '식목일', '맞이', '대선', '후보', '탈', '시설', '나무', '전달', '다릿돌', '센터', '탈', '시설', '자립생활', '권리', '선언', '콘서트', '개최', '눈물', '미담', '아니라', '유쾌한', '자매', '일상', '얘기', '탈', '시설', '다큐', '어른', '장', '혜영', '감독', '서울시', '탈', '시설', '정책', '변화', '먼저', '개념', '정립', '우선', '서울시', '탈', '시설', '정책', '변화', '먼저', '개념', '정립', '우선', '서울', '탈', '시설', '계획', '중간', '평가', '지적', '우리', '간다', '전시회', '국회', '진행', '지하철', '호선', '장애인', '자립생활', '탈', '시설', '광고', '게시', '인권위', '유엔', '제출', '독립', '보고서', '초안', '공개', '시민사회', '구체성', '우리', '간다', '국회', '전시', '장연', '장애인', '코로나', '치명', '률', '배', '추경', '배제', '부당', '경산시장', '후보', '장애인', '권리', '무', '응답', '규탄', '탈', '시설', '열쇠', '사회', '복지', '법인', '적극', '장애인', '사회', '정착', '개', '군', '구서', '탈', '시설', '선도', '사업', '사설', '장애인', '탈', '시설', '통한', '자립생활', '정책', '마련', '장애인', '탈', '시설', '자립생활', '권리', '보장', '촉구', '인권위', '장애인', '탈', '시설', '로드맵', '마련', '정부', '권고', '인권위', '장애인', '탈', '시설', '로드맵', '마련', '정부', '권고', '마부', '침', '반복', '비극', '발달장애', '복지', '어디', '장애인', '문화', '공간', '탈', '시설', '장애인', '인식', '광고', '제작', '참가자', '모집', '김영희', '칼럼', '김예지', '그', '그', '자리', '있는', '이유', '인천', '시', '탈', '시설', '테스', '포스', '팀', '구성', '운영', '최영애', '위원장', '장애인', '탈', '시설', '인권', '현장', '방문', '탈', '시설', '약속', '어디', '분노한', '장애', '장애인', '통합', '장애인', '활동', '지원', '서비스', '대폭', '성남시', '경기도', '내', '최초', '발달장애', '청년', '주택', '지원', '게', '아니라', '탈시', '과학', '탈', '시설', '약속', '어디', '분노한', '장애', '장애인', '통합', '장애인', '활동', '지원', '서비스', '대폭', '성남시', '경기도', '내', '최초', '발달장애', '청년', '주택', '지원', '게', '아니라', '탈시', '과학', '학생', '시민', '장애인', '이동', '지하철', '시위', '부산', '발달', '센터', '장애인', '탈시', '전환', '원단', '업무', '협약', '장애인', '탈', '시설', '자립생활', '지원', '외면', '장연', '이틀', '세종대', '로서', '점거', '시위', '일대', '교통', '정체', '폭행', '학대', '벧엘의집', '구성원', '탈', '시설', '자립', '지원', '김정숙', '여사', '탈', '시설', '장애', '등급제', '폐지', '강조', '김정숙', '여사', '탈', '시설', '장애', '등급제', '폐지', '강조', '경기도', '탈', '시설', '정책', '동료', '상담', '서비스', '제도', '촉구', '장연', '지하철', '탑승', '시위', '잠정', '중단', '전북', '장애인', '단체', '장애인', '학대', '의혹', '장수', '벧', '의집', '거주', '탈', '시설', '대책', '촉구', '성명', '구미', '판', '도가니', '사건', '의', '가해자', '처벌', '경북', '지역', '시설', '비리', '인권', '침해', '문제', '근본', '해결', '위', '탈', '시설', '자립생활', '대책', '수립', '이행', '특집', '발달장애', '관련', '복지', '정책', '논란', '해결', '방안', '성명', '인강', '재단', '인권', '침해', '시설', '인강', '송전', '거주', '대한', '탈', '시설', '전원', '조치', '계획', '수립', '이행', '장연', '세종', '도로', '점거', '시위', '일대', '교통', '정체', '장애인', '탈', '시설', '지원', '법', '공청회', '린다', '광주', '민주화', '운동', '주년', '장애인', '외침', '장애인', '탈', '시설', '지원', '법', '공청회', '린다', '광주', '민주화', '운동', '주년', '장애인', '외침', '인권위', '독립', '보고서', '지적', '탈', '시설', '그', '이후', '이야기', '삶', '관', '탈', '시설', '장애인', '성', '인식', '워크숍', '참가자', '모집', '대구', '지방선거', '장애인', '탈', '시설', '투표', '탈', '시설', '지원', '주거', '자립', '지원', '센터', '설치', '추진', '김영춘', '의원', '장애', '인복', '지법', '개정안', '발의', '장애인', '탈', '시설', '지원', '성남시', '경기도', '내', '최초', '발달장애', '청년', '주택', '지원', '있는', '장애인', '권리', '예산', '확보', '탈', '시설', '정책', '이행', '촉구', '있는', '장애인', '권리', '예산', '확보', '탈', '시설', '정책', '이행', '촉구', '추경', '중', '장애인', '권리', '예산', '장연', '긴급', '행동', '돌입', '장애인', '여명', '서울', '복지', '재단', '농성', '탈', '시설', '자립', '지원', '요구', '교황', '꽃동네', '방문', '축복', '탈', '시설', '자활', '흐름', '역행', '우려', '장연', '용산', '출근길', '도로', '점거', '추경', '반영', '영상', '청소년', '집', '광주시', '제', '기', '지역', '사회보장', '계획', '수립', '확정', '장애인', '탈', '시설', '연구', '부모', '의견', '적극', '반영', '장애인', '탈', '시설', '주제', '자립생활', '컨퍼런스', '개최', '전장', '발달장애', '동생', '탈', '시설', '사회', '적응', '서울', '발달', '중', '증장', '애인', '권리', '보장', '농성', '돌입', '장애인', '예산', '촉구', '투쟁', '강도', '장연', '성남시', '발달장애', '청년', '주택', '지원', '업무', '협약', '체결', '인천', '시', '졸', '적', '장애인', '탈', '시설', '욕구', '조사', '중단', '전국', '대책위', '정부', '차원', '탈', '시설', '정책', '수립', '장연', '시위', '유보', '장애인', '예산', '일부', '반영', '희망', '탈', '시설', '구체', '계획', '없인', '불가능', '지방선거', '장애', '요구', '공약', '저상버스', '도입', '과', '탈', '시설', '대책', '서울시', '탈', '시설', '공동', '행동', '출범', '활동', '본격', '시설', '수용', '피해', '생존자', '진실', '규명', '다음', '달', '신청', '탈', '시설', '공동', '행동', '출범', '장애인', '자립', '지원', '하라', '시설', '수용', '피해', '생존자', '진실', '규명', '다음', '달', '신청', '박경석', '장연', '대표', '이준석', '때문', '화병', '죽', '것', '같다', '약속', '미', '이행', '혼쭐', '자립생활', '정책', '제도', '근거', '마련', '시급', '장연', '대표', '동권', '자유', '문제', '이준석', '국민', '방향성', '동의', '때', '예산', '집행', '부고', '박', '정혁', '탈', '시설', '자립생활', '운동', '별세', '부음', '박', '정혁', '탈', '시설', '자립생활', '운동', '장애인', '배움터', '른', '마당', '초대', '교장', '별세', '탈', '시설', '복지', '발', '정책', '간담', '회', '실시', '장연', '장애인', '예산', '부족', '이준석', '주머니', '있는만큼', '토론', '영상', '이준석', '시설', '거주', '선택', '중요', '박경석', '지역', '사회', '선택', '가능한', '공간', '제공', '장연', '약속어음', '부도', '날수', '이준석', '투자', '우선', '순위', '토론', '영상', '이준석', '시설', '거주', '선택', '중요', '박경석', '지역', '사회', '선택', '가능한', '공간', '제공', '장연', '장애인', '권리', '예산', '투쟁', '해외', '개국', '장애', '연대', '표명', '경기도', '지방선거', '장애인', '차별', '철폐', '연대', '김동연', '김은혜', '권리', '보장', '정책', '구안', '수용', '내년', '복지부', '예산', '탈', '시설', '예산', '주춤', '시설', '운영', '증가', '경북', '시민', '인권', '키', '워드', '사드', '녹조', '청소년', '조례', '탈', '시설', '장애인', '실질', '지원', '책', '요구', '탈', '시설', '지원', '책', '실질', '선택', '보장', '윤석열', '정부', '출범', '첫날', '장애', '지하철', '바닥', '기어', '여의도', '장애인', '탈', '시설', '자립', '윤석열', '정부', '출범', '첫날', '장애', '지하철', '바닥', '기어', '여의도', '장애인', '탈', '시설', '자립', '신상진', '성남시장', '주택', '주거지', '결합', '사업', '통해', '발달장애', '가족', '부담', '완화', '것', '장연', '장애인', '접근성', '고려', '임대주택', '공급', '탈', '시설', '자립생활', '다양한', '자립', '체계', '구축', '탈', '시설', '자립생활', '다양한', '자립', '체계', '구축', '것', '문명', '라면', '바바리안', '이', '발달장애', '탈', '시설', '지역', '사회', '거주', '국제', '모색', '장애', '정책', '권리', '예산', '지자체', '마련', '장애', '단체', '강동구', '요구', '탈', '시설', '후', '취업', '좌절', '그림', '운명', '조선일보', '조선일보', '장애인', '단체', '중재위', '간', '까닭', '장연', '과도', '시위', '시민', '불편', '서울', '경찰청', '기준', '탈', '시설', '이후', '통제', '아닌', '의존', '독립', '생활', '이야기', '생생', '발언', '장애인', '권리', '왜곡', '인권', '포럼', '탈', '시설', '장애인', '위', '시민', '교육', '창간', '주년', '특집', '윤석열', '박경석', '전국', '장애인', '차별', '철폐', '연대', '상임', '대표', '장연', '도로', '점거', '지하철', '삭발', '경찰', '강제', '발언', '유감', '전주시', '탈', '시설', '장애인', '공동', '생활', '가정', '운영', '사업자', '공모', '장애인', '부모', '꿈', '인', '실', '주거', '공동체', '지지', '서울시', '기관', '장애인', '탈', '시설', '연구', '업무', '협약', '장애인', '부모', '꿈', '인', '실', '주거', '공동체', '지지', '서울시', '기관', '장애인', '탈', '시설', '연구', '업무', '협약', '투쟁', '결', '의문', '부디', '이', '삭발', '마지막', '신선', '옥', '부산', '복지', '개발', '탈', '시설', '장애인', '자립', '지원', '방안', '모색', '탈', '시설', '자립생활', '정부', '정책', '변화', '우선', '연수구', '장애인', '복지', '유관', '기관', '네트워크', '회의', '개최', '탈', '시설', '장애인', '구술', '기록', '제작', '발표회', '나', '왜', '시설', '밖', '개최', '장애인', '단체', '탈', '시설', '장애인', '활동', '보조', '시간', '충분히', '보장', '사진', '중', '증장', '애인', '탈', '시설', '계획', '수립', '촉구', '사진', '이', '서울시', '탈', '시설', '정책', '현실', '입니다', '인천', '연수구', '제', '차', '장애인', '복지', '유관', '기관', '네트워크', '회의', '개최', '사진', '중', '증장', '애인', '탈', '시설', '계획', '수립', '촉구', '사진', '이', '서울시', '탈', '시설', '정책', '현실', '입니다', '장연', '출근길', '시위', '잠시', '결위', '심사', '시설', '이용', '장애인', '탈', '시설', '자립생활', '희망', '탈', '시설', '자립생활', '권리', '보장', '촉구', '장애인', '탈', '시설', '자립', '장애인', '탈', '시설', '위', '준비', '철저히', '장애인', '차별', '철폐', '연대', '서울시', '탈', '시설', '계획', '전면', '수정', '경향', '포토', '사회', '복지', '사업', '법', '개정', '탈', '시설', '위', '마중', '물', '것', '사회', '복지', '사업', '법', '개정', '탈', '시설', '위', '마중', '물', '것', '전문', '박경석', '이준석', '썰전', '라이브', '녹취록', '부', '영화', '숨', '시설', '탈', '시설', '이야기', '장연', '요구', '장애인', '예산', '반영', '시위', '당분간', '유보', '장애인', '탈', '시설', '자립생활', '보장', '포커스', '장연', '출근길', '시위', '개월', '절박', '함', '이해', '방식', '문제', '지방선거', '정당', '장애인', '공약', '재탕', '수준', '장애인', '탈', '시설', '미국', '복지', '시범', '프로그램', '소개', '장애인', '지적장애', '탈', '시설', '당사자', '자립', '의지', '중요', '탈', '시설', '김', '남옥', '외출', '탈', '시설', '장애인', '자립생활', '보장', '법', '제정', '장애인', '탈', '시설', '자립생활', '공유', '멘토', '도전', '권리', '예산', '중', '하나', '보장', '장애', '또', '지하철', '휠체어', '장애인', '차별', '공화국', '체', '투지', '스페셜', '우리', '요', '탈', '시설', '초보', '사회인', '부부', '이야기', '장애인', '살기', '준비', '장애인', '탈', '시설', '위', '사회', '복지', '서비스', '변경', '신청', '정당', '미래', '법조인', '앞', '선', '박경석', '살', '시대', '동권', '모두', '문제', '탈', '시설', '공약', '예산', '기자', '도움', '필요', '리뷰', '제', '서울', '장애인인권', '영화제', '우리', '노동자', '등', '선', '탈', '시설', '공약', '예산', '기자', '도움', '필요', '리뷰', '제', '서울', '장애인인권', '영화제', '우리', '노동자', '등', '선', '뉴스레터', '처치', '독', '호', '장애인', '단체', '투쟁', '취재', '점', '광주', '전국', '장애', '평등하게', '살', '권리', '보장', '지하철', '용산', '도로', '점거', '나선', '장연', '해결', '가능성', '깜깜', '단독', '달', '욕창', '시설', '사업', '독립', '장애인', '쓸쓸한', '죽음', '방', '명', '코로나', '취약', '장애인', '거주', '시설', '대규모', '장애인', '시설', '정책', '집단', '감염', '폭탄', '탈', '시설', '장애인', '자립', '정착', '금', '지원', '확정', '당당한', '시민', '고파', '탈', '시설', '시설', '장애', '당당한', '시민', '고파', '탈', '시설', '시설', '장애', '안희정', '장애', '등급제', '폐지', '탈', '시설', '정책', '약속', '탈', '시설', '장애인', '사회', '복지', '서비스', '변경', '신청', '탈', '시설', '정책', '위', '장애인', '시설', '보호', '아닌', '자립', '지원', '장애인', '신문', '장애인', '탈', '시설', '어떻게', '하나', '장연', '출근길', '시위', '재개', '간절한', '마음', '회사', '가기', '힘들다', '탈', '시설', '자립생활', '농성', '달', '마무리', '시설', '으뜸', '수준', '단체', '탈', '시설', '계획', '수립', '장애인', '인권', '단체', '탈', '시설', '정책', '도입', '장애인', '권리', '예산', '답', '추경호', '청문회', '촉각', '장애인', '신문', '탈', '시설', '견해', '차이', '만', '보이', '울산', '최초', '장애인', '탈', '시설', '운동', '탈', '시설', '종합', '대책', '마련', '탈', '시설', '자립생활', '권리', '쟁취', '인', '선언문', '충남도', '장애인', '시설', '밖', '자립', '환경', '조성', '개년', '계획', '추진', '서울시', '탈', '시설', '자립생활', '정책', '마련', '인권위', '진정', '장애인', '요구', '탈시', '설운동', '이란', '탈', '시설', '자립생활', '보장', '위', '천막', '농성', '소식', '장애인', '탈', '시설', '자립생활', '확보', '위', '구안', '감옥', '같은', '시설', '위', '노숙', '투쟁', '중', '증장', '애인', '탈', '시설', '선언', '탈', '시설', '자립생활', '촉구', '인천', '시청', '노숙', '농성', '서울시', '장애인', '탈', '시설', '자립생활', '지원', '구안', '탈', '시설', '대안', '월례', '세미나', '개최', '복지부', '탈', '시설', '정책', '긍정', '검토', '중', '탈', '시설', '인문학', '아름다운', '만남', '장애인', '탈', '시설', '권리', '확보', '서명', '운동', '돌입', '출근길', '지하철', '시위', '올해', '차례', '수능', '영향', '장연', '출근길', '지하철', '호선', '탑승', '시위', '운행', '시간', '지연', '수도', '탈', '시설', '정책', '대규모', '시설', '해체', '장애', '탈', '시설', '자립', '정책', '촉구', '서울', '도심', '거리', '행진', '탈', '시설', '자립생활', '정책', '시행', '탈', '시설', '촉구', '장애인', '행진', '탈', '시설', '이후', '지역', '사회', '이', '제주도', '탈', '시설', '장애인', '자립', '지원', '복지', '시설', '종사', '처우', '개선', '초록', '여행', '탈', '시설', '장애인', '첫', '여행', '신청', '모집', '인권', '배움', '있는', '탈', '시설', '학교', '개교', '서울', '속', '탈', '시설', '만들기', '축제', '화보', '탈', '시설', '마을', '만들기', '선포', '현장', '다양성', '시설', '아닌', '마을', '수', '있는', '권리', '마지막', '국회', '장애', '법안', '끝장', '내자', '마지막', '국회', '장애', '법안', '끝장', '내자', '여의나루역', '개', '층', '탑승', '시위', '대신', '장연', '동안', '권리', '보장', '투쟁', '이준석', '투자', '우선', '순위', '전문', '박경석', '이준석', '썰전', '라이브', '녹취록', '부', '장연', '수능', '고려', '지하철', '시위', '유보', '인권위', '경산', '장애인', '시설', '종사', '인권', '침해', '징계', '권고', '인천', '나눔', '발달장애', '탈', '시설', '지원', '탈', '시설', '장애', '여성', '세자매', '공연', '성남시', '발달장애', '청년', '주택', '지원', '천주교', '대구', '대교구', '희망', '운영', '반납', '대책위', '탈', '시설', '계획', '마련', '천주교', '대구', '대교구', '희망', '운영', '반납', '대책위', '탈', '시설', '계획', '마련', '장애인', '선택', '보장', '다양한', '체계', '마련', '탈', '시설', '위', '자립생활', '수당', '절실', '탈', '시설', '장애인', '지원', '정책', '토론회', '서울시', '복지', '재단', '공사', '탈', '시설', '장애인', '주거', '복지', '지원', '협약', '장애인', '시설', '사망', '사건', '재발', '방지', '지지', '부진', '대구시', '장애인', '탈', '시설', '지원', '원칙', '확인', '모두', '행복한', '사회', '다수', '소수', '행복한', '사회', '신간', '소개', '시설', '사회', '집', '길', '최혜영', '민주당', '의원', '국회', '방관', '장애', '당사자', '로서', '참담했다', '플랫', '장애인', '향', '무관심', '지하철', '시위', '예산', '편성', '쟁점', '탈', '시설', '장애인', '커플', '자립생활', '포토', '전', '발달장애', '탈', '시설', '자립생활', '동료', '상담', '고충', '해결', '당선인', '국민', '사회', '소수', '있나', '장애', '명', '인수위', '맹탕', '답변', '규탄', '국회', '민생', '법', '개정', '비', '대위', '탈', '시설', '자립생활', '기록', '김포', '장애인', '자립생활', '센터', '출범', '반복', '장애인', '자립', '보장', '요구', '대안', '마련', '장애인', '권리', '보장', '목소리', '외면', '말', '달라', '인수위', '정책', '절망', '장애', '지하철', '탑승', '시위', '재개', '장애인', '부모', '없는', '상서', '살', '수', '있게', '눈물', '삭발', '대선', '이후', '진보', '길', '윤석열', '시계', '거꾸로', '간다', '장애인', '날', '경남', '장애인', '단체', '요구', '르포', '권리', '보장', '투쟁', '것', '장연', '장애인', '날', '대규모', '집회', '행진', '곳', '없는', '장애', '아동', '기획', '편', '곳', '없는', '장애', '아동', '대책', '발달장애', '권리', '발달장애', '직접', '대통령', '출근길', '지하철', '시위', '장연', '회원', '간절하게', '장애인', '차별', '철폐', '숨가빴던', '투단', '하루', '제', '장애인', '날', '기념', '촌극', '인수위', '반쪽', '정책', '뿔', '장애', '단체', '내일', '지하철', '탑승', '시위', '재개', '우리', '여기', '있다고', '국회', '앞', '장애인', '권리', '보장', '외침', '경남', '장애인', '단체', '도청', '동권', '보장', '요구', '장연', '인수위', '장애인', '정책', '답변', '추상', '내일', '출근길', '지하철', '시위', '재개', '우리', '여기', '있다고', '국회', '앞', '장애인', '권리', '보장', '외침', '장애인', '시설', '폐쇄', '논란', '복지', '시설', '단체', '주거', '선택', '권리', '박탈', '저상버스', '교체', '인수위', '답변', '장연', '것', '경기도', '장애', '지방선거', '겨냥', '투쟁', '본격', '장애인', '차별', '철폐', '날', '장연', '지하철', '시위', '재개', '이슈', '사이드', '거리', '나선', '발달장애', '부모', '눈물', '삭발', '서울시장', '애인', '권리', '정책', '공약', '반영', '요구', '인터뷰', '이종성', '장애인', '배려', '아닌', '보편', '권리', '로', '확장', '이슈', '사이드', '거리', '나선', '발달장애', '부모', '눈물', '삭발', '장애인', '차별', '철폐', '날', '장애인', '권리', '민생', '법', '촉구', '서울시장', '애인', '권리', '정책', '공약', '반영', '요구', '인터뷰', '이종성', '장애인', '배려', '아닌', '보편', '권리', '로', '확장', '인터뷰', '최혜영', '장애인', '날', '없는', '그런', '날', '좋겠다', '사이드', '장애인', '탈', '시설', '경남', '꿈', '자유', '투쟁', '결', '의문', '이제', '시설', '아닌', '나', '집', '자유', '누리', '있다', '장상', '석', '오세훈', '신림선', '장애인', '시설', '점검', '누구', '장애인', '수', '있어', '종합', '내', '없어도', '네', '평등히', '살길', '발달장애', '국가책임', '제', '요구', '명', '삭발', '장애', '왜', '불쌍하고', '안타까운', '것', '그', '시선', '철폐', '보라', '논픽션', '세계', '인수위', '장애인', '단체', '요구', '절반', '응답', '정의당', '장', '혜영', '삭발', '발달장애', '지원', '하라', '뉴스', '하이킥', '장연', '박경석', '인수위', '정책', '발표', '나쁜', '브리핑', '장애인', '요구', '도', '안', '인천', '시', '장애인', '자립', '지원', '주택', '확대', '곳', '꿈', '오세훈', '지하철', '장애인', '시설', '점검', '역사', '동선', '좋은', '시설', '은', '없다', '세상', '장애', '성남시', '경기도', '내', '최초', '발달장애', '청년', '주택', '지원', '장연', '지하철', '시위', '세운', '장애인', '활동', '지원', '예산', '무엇', '인수위', '출근길', '시위', '재개', '장연', '경고', '별도', '답변', '없을', '것', '장애인', '탈', '시설', '이', '필요한', '이유', '대하', '대국', '장애인', '복지', '꼴찌', '약자', '갈라치', '국가', '서울시', '장애', '탈', '시설', '투쟁', '기자회견', '윤석열', '정부', '노인', '문제', '해결', '복지국가', '실현', '민주', '노총', '주간', '브리핑', '호', '유레카', '왜', '마스크', '안영', '대구', '경북', '희망', '장애인', '전원', '탈', '시설', '지원', '촉구', '장애인', '악천후', '속', '대장정', '한결같은', '마음', '탈', '시설', '우리', '손', '장애인', '탈', '시설', '탈', '시설', '자립생활', '창작', '뮤지컬', '우리', '혼자', '산다', '장연', '지하철', '출근길', '시위', '계속', '호선', '호선', '출근길', '열차', '지연', '답변', '약속어음', '일', '뿐', '장연', '지하철', '또', '체', '투지', '시민', '불편', '대구', '탈', '시설', '장애', '활동', '보조', '평가', '기준', '현실', '화해야', '경기도', '장애인', '명', '지역', '사회', '살', '권리', '보장', '장애인', '장애인', '임대', '아파트', '공급', '기준', '거주', '기간', '탈', '시설', '장애인', '장애인', '단체', '서울', '지하철', '박', '농성', '인수위', '답변', '촉구', '부산', '장애인', '탈', '시설', '주거', '전환', '원단', '탁자', '부산', '복지', '개발', '선정', '현대', '백화점', '그룹', '홀트', '복지', '회', '탈', '시설', '청소년', '지원', '그', '집', '명사회', '를', '포토', '이용자', '부모', '회', '중증', '발달장애', '가족', '편지', '인수위', '전달', '기자', '수첩', '이준석', '화려한', '언변', '이', '빛', '바', '던', '순간', '포토', '이용자', '부모', '회', '중증', '발달장애', '가족', '편지', '인수위', '전달', '기자', '수첩', '이준석', '화려한', '언변', '이', '빛', '바', '던', '순간', '김예지', '의원', '장애인', '동권', '토론', '숨', '것', '찬반', '수', '있나', '플랫', '장애인', '시위', '토론', '박경석', '이준석', '향', '발언', '무게', '고민', '필요', '장연', '지하철', '탑승', '시위', '잠정', '중단', '토론', '영상', '특별', '교통', '수단', '보조금', '법', '달라', '우선', '순위', '장애인', '지하철', '게', '문제', '자연스러울', '때', '계속', '책', '삶', '탈', '시설', '장애', '차가운', '시선', '편견', '맞선', '투쟁', '여정', '오세훈', '서울시장', '탈', '시설', '대책', '공식', '입장', '표명', '탈', '시설', '대책', '촉구', '국가인권위', '점거', '농성', '현장', '김예지', '국민', '힘', '의원', '장애인', '동권', '토론', '숨', '것', '찬반', '수', '있나', '장애인', '인권', '이제', '국회', '예산', '검토', '아니라', '결정', '때', '장연', '지하철', '시위', '재개', '촉각', '뉴스큐', '장연', '박경석', '이준석', '갈라', '치기', '미리', '맞짱', '토론', '한국', '장애인', '재단', '한소울', '탈', '시설', '긴급', '지원', '실시', '오세훈', '시장', '취임', '주년', '기자간담회', '전문', '울산', '장애인', '탈', '시설', '자립생활', '전면', '보장', '장수', '커플', '아름다운', '자립', '준비', '이야기', '그럼에도', '지하철', '장연', '박경석', '대표', '인터뷰', '병', '묵묵', '시설', '위대한', '몰락', '서울', '탈', '시설', '장애인', '대상', '여행', '프로그램', '진행', '서울', '탈', '시설', '장애인', '대상', '여행', '프로그램', '진행', '장애인', '차별', '버스', '철폐', '광역', '체계', '확립', '장애', '모욕', '어떻게', '대답', '하나', '정치인', '권영진', '게이머', '이준석', '탈', '시설', '학교', '개교', '포토', '탈', '시설', '장애인', '가족', '상속', '배제', '대한', '부당이득', '반환', '청구', '소송', '기자회견', '홍', '전', '칼럼', '그', '장애인', '삶', '첫', '도시', '전주', '정부', '인수위', '예산', '확보', '촉구', '삭발', '어가', '장애', '탈', '시설', '정책', '시설', '패쇄', '이행', '포토', '탈', '시설', '장애인', '가족', '상속', '배제', '대한', '부당이득', '반환', '청구', '소송', '기자회견', '홍', '전', '칼럼', '그', '장애인', '삶', '첫', '도시', '전주', '정부', '인수위', '예산', '확보', '촉구', '삭발', '어가', '장애', '탈', '시설', '정책', '시설', '패쇄', '이행', '서울', '지하철', '호선', '장연', '장애인', '단체', '시위', '재개', '삼각지역', '시작', '장애인', '지하철', '시위', '장애', '학', '관점', '장애인', '탈', '시설', '자립생활', '실현', '고군', '분투', '장애인', '동권', '요구', '장연', '수능', '일인', '지하철', '시위', '중단', '논', '장애인', '배틀', '이준석', '대표', '무한도전', '논', '장애인', '배틀', '이준석', '대표', '무한도전', '인터뷰', '구충', '곤', '전남', '화순군', '수의', '아름다운', '퇴장', '광주', '광역시', '제', '기', '지역', '사회보장', '계획', '수립', '확정', '경산', '장애인', '정책', '공약', '경산', '투단', '행진', '장애인', '권리', '투쟁', '게임', '아니다', '학습', '권리', '정치', '권리', '턱', '허물', '판', '서울시', '올해', '탈', '시설', '장애인', '지원', '주택', '가구', '공급', '신축', '아파트', '포함', '고은영', '도지사', '후보', '탈', '시설', '장애인', '자립', '정착', '금', '지원', '장연', '수능', '당일', '출근길', '지하철', '시위', '를', '장애인', '시설', '살', '권리', '살', '권리', '모두', '보장', '장애인', '시설', '살', '권리', '살', '권리', '모두', '보장', '고민정', '박홍근', '진성준', '이준석', '겨냥', '휠체어', '출근', '평소', '지하철', '타라', '이석기', '석방', '대회', '참여', '전국', '장애인', '차별', '철폐', '연대', '장연', '장애인', '방패', '삼은', '극좌', '이념', '세력', '아닌가', '청년', '단체', '바로', '장연', '요구', '탈시', '설화', '예산', '관련', '이권', '카르텔', '없는지', '면밀히', '검토', '사진', '장애인', '지하철', '체', '투지', '왜', '권리', '불평등해야', '합', '서울시', '장애인', '동권', '약속', '이행', '천막', '농성', '돌입', '장애인', '감사패', '권영진', '대구시', '무슨', '사연', '장애인', '날', '누구', '배제', '이준석', '향', '분노', '서울시', '장애인', '권리', '보장', '외면', '천막', '농성', '돌입', '장애인', '등', '탈', '시설', '커뮤니티', '케어', '추진', '사진', '역대', '최대', '규모', '투쟁', '권영진', '대구시', '장애', '비장', '애인', '노력', '인정', '이준석', '발달장애', '있었다면', '어떤', '삶', '한번', '상상', '국민', '시선', '명', '중', '명', '장애인', '그', '평범한', '일상', '안갯속', '장연', '인권위', '카르텔', '실체', '파악', '성명', '복지', '재단', '법인', '시설', '즉각', '폐쇄명령', '탈', '시설', '대책', '마련', '새', '책', '집', '길', '외', '장연', '이준석', '장애인', '단체', '갈라', '치기', '시민', '볼모', '동권', '보장', '프레임', '장애인', '지하철', '시위', '이준석', '장애인', '혐오', '적', '없어', '경고', '표현', '수', '있다', '장연', '지하철', '탑승', '시위', '재개', '이유', '뉴스큐', '한덕수', '청문회', '지방선거', '여야', '팽팽', '경전', '장연', '지하철', '탑승', '시위', '재개', '이유', '비문', '시대', '중증', '장애', '여성', '이준석', '대표', '편지', '김상희', '자', '장애인', '비장', '애인', '차별', '관계', '현장', '장연', '이준석', '장애인', '단체', '간', '갈라', '치기', '출근길', '장애인', '동권', '보장', '시위', '재개', '장애인', '지하철', '투쟁', '재개', '예산', '응답', '권영진', '시장', '대구', '탈', '시설', '모임', '감사패', '동권', '토론', '박경석', '외면', '이번', '장애인', '날', '기획', '차별', '끝', '우리', '세상', '장애', '여성', '동권', '또', '다른', '의미', '대구시', '시설', '장애인', '자립', '지원', '사업', '본격', '이준석', '장애인', '차별', '혐오', '수여', '출근', '탑승', '재개', '서산시', '맞춤', '장애인', '복지', '투입', '작년', '비', '증액', '지하철', '시위', '왜', '기다림', '여의도', '거리', '나선', '장애', '밀착', '취재', '장애인', '단체', '지하철', '시위', '재개', '이유', '반복', '희망', '고문', '인권위', '이준석', '장연', '발언', '사회', '영향', '신속하게', '수용', '시설', '장애인', '합동', '추모', '제', '탈', '시설', '정책', '시행', '경남', '장애인', '단체', '평범한', '일상', '누리', '뿐', '인수위', '장애인', '개인', '예산', '제', '도입', '검토', '경남', '장애인', '단체', '평범한', '일상', '누리', '뿐', '인수위', '장애인', '개인', '예산', '제', '도입', '검토', '인수위', '장애인', '날', '내년', '시내버스', '저상버스', '교체', '삭발', '장', '혜영', '발달장애', '지원', '하라', '간추린', '경남', '국민', '힘', '사천', '남해', '거창', '등', '경선', '대상', '압축', '외', '이준석', '다음주', '지하철', '시위', '장연', '공개', '토론', '추진', '오세훈', '후', '교통', '약자', '편리하게', '대중교통', '이용', '장연', '요구사항', '인수위', '장애인', '정책', '출근길', '시위', '재개', '이준석', '다음주', '지하철', '시위', '장연', '공개', '토론', '것', '이준석', '다른', '장애인', '단체', '거대', '카르텔', '장', '혜영', '장애인', '리보', '장법', '통과', '삭발', '동참', '장연', '요구사항', '인수위', '장애인', '정책', '출근길', '시위', '재개', '이준석', '다음주', '지하철', '시위', '장연', '공개', '토론', '것', '이준석', '다른', '장애인', '단체', '거대', '카르텔', '장애인', '날', '처우', '개선', '목소리', '박형준', '부산시', '장애인', '지역', '사회', '자립', '지원', '장연', '시위', '일정', '오늘', '지하철', '호선', '열차', '운행', '지연', '수도', '인수위', '앞', '삭발', '투쟁', '장애인', '머리카락', '누군가', '인터뷰', '장연', '박경석', '이준석', '혐오', '댓글', '탐욕', '정치권', '유지', '장애인', '탈', '시설', '자립', '지원', '평가', '찬회', '이준석', '장연', '다음주', '공개', '토론', '추진', '이준석', '다른', '장애인', '단체', '거대', '카르텔', '장애인', '날', '처우', '개선', '목소리', '박형준', '부산시', '장애인', '지역', '사회', '자립', '지원', '장연', '시위', '일정', '오늘', '지하철', '호선', '열차', '운행', '지연', '수도', '인수위', '앞', '삭발', '투쟁', '장애인', '머리카락', '누군가', '인터뷰', '장연', '박경석', '이준석', '혐오', '댓글', '탐욕', '정치권', '유지', '장애인', '탈', '시설', '자립', '지원', '평가', '찬회', '다시', '출근길', '지하철', '장애', '것', '장연', '출근길', '지하철', '시위', '삭발', '투쟁', '시작', '다시', '출근길', '지하철', '장애', '것', '장연', '출근길', '지하철', '시위', '삭발', '투쟁', '시작', '장애인', '권리', '보장', '장애인', '단체', '여', '명', '수원역', '집회', '서울시장', '선거', '서울시', '장애', '권리', '보장', '촉구', '장애인', '출근길', '시위', '일시', '중단', '경복궁역', '매일', '삭발', '이제', '차별', '그만해', '장애인', '외침', '인천', '시', '장애인', '맞춤', '자립', '지원', '모델', '발굴', '장연', '만난', '인수위', '예산', '약속', '지하철', '시위', '중단', '만', '반복', '지하철', '시위', '장애인', '단체', '이준석', '사과', '요구', '인수위', '전달', '미국', '개인', '예산', '제', '도입', '원동력', '장애인', '탈', '시설', '미국', '개인', '예산', '제', '도입', '원동력', '장애인', '탈', '시설', '인천', '시', '장애인', '맞춤', '자립', '지원', '모델', '발굴', '인천', '시', '장애인', '맞춤', '자립', '지원', '모델', '발굴', '장애', '투쟁', '응답', '인수위', '실망', '유감', '최혜영', '민주당', '의원', '국회', '장애인', '권리', '보장', '방관', '장애', '당사자', '의제', '장애인', '인권', '이제', '국회', '경기도', '탈', '시설', '흐름', '거', '스르', '법인화', '기준', '완화', '안', '강행', '투쟁', '결', '의문', '인수위', '이제', '검토', '결정', '때', '입니다', '배영준', '탈', '시설', '장애인', '여행', '도', '사진', '한자', '협', '창립', '주년', '내년', '장애인', '탈', '시설', '예산', '촉구', '장애인', '활동가', '티브로드', '뉴스', '대구', '희망', '사태', '재발', '방지', '탈', '시설', '예산', '반영', '안', '해', '티브로드', '뉴스', '대구', '희망', '사태', '재발', '방지', '탈', '시설', '예산', '반영', '안', '해', '있었지만', '어떻게', '없었다', '진전', '건', '없었다', '장애인', '단체', '활동가', '호소', '이준석', '아집', '장애인', '위', '탈', '시설', '전환', '서비스', '지원', '필요', '발달장애', '아동', '엄마', '소원', '장애인', '권리', '예산', '보장', '청와대', '이전', '가치', '있죠', '장연', '호선', '삼각지', '혜화역', '삭발', '진행', '탑승', '시위', '장애인', '인권', '보장', '탈', '시설', '지원', '시스템', '마련', '광주시', '탈', '시설', '장애인', '위', '우리', '집', '마련', '장연', '대표', '장애인', '혐오', '없다는', '이준석', '세상', '단어', '보고', '얘기', '하나', '광주', '복지', '재단', '탈', '시설', '자립생활', '지원', '간담', '회', '장연', '대표', '장애인', '혐오', '없다는', '이준석', '세상', '단어', '보고', '얘기', '하나', '탈', '시설', '장애인', '자립생활', '포토', '전', '연인', '모집', '시립', '희망', '장애인', '탈', '시설', '예산', '인천', '현재', '도가니', '탈', '시설', '자립생활', '전환', '시급', '탈', '시설', '장애인', '활동', '보조', '등급', '이의제기', '기자회견', '장애인', '권리', '보장', '법안', '제정', '국회', '행진', '제', '의', '도가니', '사태', '방지', '실태', '조사', '탈', '시설', '정책', '열쇠', '공익', '사제', '햇살', '시민단체', '탈', '시설', '자립', '지원', '기대', '장애인', '탈', '시설', '박재우', '대원', '시설', '모순', '덩어리', '장애인', '탈', '시설', '박재우', '대원', '시설', '모순', '덩어리', '지자체', '권리', '중심', '일자리', '이제', '국가', '장애인', '살', '목포', '상경', '장애인', '이동', '보장', '촉구', '삭발', '생생', '발언', '혐오', '조장', '이준석', '제재', '안', '윤석열', '동권', '접근권', '탈', '시설', '인권위', '차기', '정부', '인권', '과제', '자립하고', '현실', '벽', '탈', '시설', '장애', '탈', '시설', '권리', '실현', '위', '정책', '토론회', '개최', '장애인', '생활', '불편', '없도록', '장애물', '동권', '보장', '인천', '시', '장애인', '복지', '사업', '선도', '탈', '시설', '추진', '장애인', '시설', '노동자', '고용', '승계', '보장', '촉구', '민주', '노총', '주간', '브리핑', '호', '명동성당', '앞', '탈', '시설', '순례', '투쟁', '탈', '시설', '자립', '정책', '즉각', '시행', '이준석', '인권위', '내', '장애인', '혐오', '못', '뭘', '시설', '장애인', '합동', '추모', '제', '탈', '시설', '시행', '장애인', '단체', '윤석열', '당선인', '장애인', '권리', '예산', '반영', '비', '문명', '불법', '시위', '이준석', '장애인', '혐오', '받아쓰기', '언론', '투쟁', '결', '의문', '대한민국', '장애인', '비', '문명', '권', '달주', '이준석', '대표', '이번', '장애인', '편', '정치', '참사', '인권', '보도', '이준석', '대표', '장애인', '동권', '시위', '비판', '받아쓰기', '혐오', '조장', '투쟁', '결', '의문', '대한민국', '장애인', '비', '문명', '권', '달주', '이준석', '대표', '이번', '장애인', '편', '정치', '참사', '인권', '보도', '사과', '것', '없다', '이준석', '대표', '척', '동권', '시위', '본질', '출근길', '장애인', '동권', '보장', '시위', '삭발', '시위', '로', '전환', '장애', '희망', '폐쇄', '탈', '시설', '촉구', '장애인', '탈', '시설', '자립생활', '권리', '보장', '촉구', '서울시', '최', '증', '탈', '시설', '장애인', '일자리', '개', '장연', '요구', '예산', '전면', '수용', '어려워', '장애', '희망', '폐쇄', '탈', '시설', '촉구', '장애인', '탈', '시설', '자립생활', '권리', '보장', '촉구', '서울시', '최', '증', '탈', '시설', '장애인', '일자리', '개', '장연', '요구', '예산', '전면', '수용', '어려워', '남성', '여성', '장애인', '비장', '애인', '갈라', '치기', '인천', '시', '장애인', '맞춤', '자립', '지원', '모델', '발굴', '장연', '인수위', '이준석', '사과', '요구', '전달', '인수위', '장연', '출근길', '시위', '현장', '방문', '달라', '나경원', '장애인', '시위', '폄훼', '조롱', '성숙한', '정치', '이준석', '거리', '두기', '이준석', '서울', '시민', '볼모', '불법', '시위', '장연', '시위', '맹비', '인수위', '장연', '출근길', '시위', '현장', '방문', '달라', '장연', '만난', '인수위', '이준석', '사과', '하라', '요구', '전달', '나경원', '장애인', '시위', '폄훼', '조롱', '성숙한', '정치', '이준석', '거리', '두기', '이준석', '서울', '시민', '볼모', '불법', '시위', '장연', '시위', '맹비', '일단', '장연', '출근길', '시위', '결위', '심사', '겁', '많은', '기자', '수', '있는', '일', '안희제', '투표', '장애인', '지하철', '시위', '어떻게', '생각', '슈시', '장연', '지하철', '시위', '수능', '호선', '호선', '호선', '호선', '이용', '이준석', '지하철', '점거', '억울함', '관심', '호소', '게', '문명', '사회', '한번', '생각', '좋겠다', '누가', '짓', '장애인', '인권', '단체', '장애인', '관련', '법안', '제정', '촉구', '노숙', '집회', '진행', '탈', '시설', '옳은', '방향', '오늘', '장연', '지하철', '탑승', '시위', '재개', '호선', '방향', '인천', '남동구', '장애인', '탈', '시설', '자립', '지원', '네트워크', '제', '차', '회의', '개최', '인터뷰', '상지', '종', '신부', '검찰', '개혁', '노동', '생태', '환경', '대선', '후보', '답변', '분석', '인권', '침해', '시설', '성락원', '거주', '명', '코로나', '집단', '감염', '가톨릭', '대선', '후보', '답', '대구시', '청', '재단', '시설', '폐지', '약속', '장애', '농성', '종료', '대구', '경북', '미래', '뉴스', '민', '선언', '신호', '등', '교차로', '경기도', '장애인', '호선', '급행', '이유', '대구', '경북', '미래', '뉴스', '민', '선언', '신호', '등', '교차로', '경기도', '장애인', '호선', '급행', '이유', '대구시', '청', '재단', '비리', '의혹', '일부', '확인', '인권', '침해', '사실', '수도권', '장애인', '권리', '예산', '쟁취', '지하철', '투쟁', '탈', '시설', '자립생활', '기쁨', '청', '재단', '선언', '환영', '대구시', '탈', '시설', '정책', '촉구', '장애인', '자립', '지원', '사업', '시범', '사업', '우릴', '욕', '좋으니', '대권', '후보', '한마디', '지하철', '외침', '탈', '시설', '대안', '공동체', '마을', '뉴스', '장애인', '인권', '침해', '탈', '시설', '자립생활', '대책', '마련', '절실', '탈', '시설', '자립생활', '기쁨', '청', '재단', '선언', '환영', '대구시', '탈', '시설', '정책', '촉구', '장애인', '자립', '지원', '사업', '시범', '사업', '우릴', '욕', '좋으니', '대권', '후보', '한마디', '지하철', '외침', '탈', '시설', '대안', '공동체', '마을', '뉴스', '장애인', '인권', '침해', '탈', '시설', '자립생활', '대책', '마련', '절실', '대구', '탈', '시설', '장애인', '코로나', '확진', '입원', '대기', '지원', '체계', '부재', '김', '총리', '장애인', '시설', '정책', '시범', '사업', '자립', '수준', '것', '장연', '지하철', '시위', '왜', '호선', '호선', '호선', '호선', '이상', '인권위', '신아', '인권', '침해', '건', '중', '건만', '인정', '장애', '규탄', '장연', '지하철', '시위', '왜', '호선', '호선', '호선', '호선', '이상', '인권위', '신아', '인권', '침해', '건', '중', '건만', '인정', '장애', '규탄', '장애인', '탈', '시설', '논', '힘든', '미얀마', '현실', '경향', '포토', '탈', '시설', '장애인', '프', '란치', '소코', '교황', '꽃동네', '방문', '반대', '맥', '장애인', '자립생활', '센터', '탈', '시설', '장애인', '수기', '공모', '장애인', '운동', '장애', '입법', '시사', '점', '양천', '센터', '마치다', '휴먼', '네트워크', '비대', '간담', '회', '료', '홍', '전', '칼럼', '신발', '아이', '먼저', '판단', '세', '발달장애', '등', '안타까운', '죽음', '노원구', '장애인', '탈', '시설', '자립생활', '지원', '합의', '노원구', '장애인', '탈', '시설', '자립생활', '지원', '합의', '이재명', '토론', '장애인', '언급', '장애', '환영', '장연', '호선', '장애인', '권리', '예산', '확보', '시위', '예정', '오늘', '일정', '및', '이유', '대선', '공약', '기독', '연대', '정책', '질의', '윤석열', '심상정', '답변', '교육', '생태', '평화', '등', '높은', '평가', '대선', '후보', '토론', '장애인', '권리', '예산', '약속', '경산', '장애인', '시설', '집단', '감염', '긴급', '분산', '조치', '촉구', '탈', '시설', '자립생활', '지영', '활동가', '패혈증', '모두', '장애인', '지원', '확대', '뚜껑', '재원', '계획', '안', '대선', '공약', '탐구', '초록', '여행', '탈', '시설', '장애인', '여행', '경비', '지원', '심의', '위원', '전하', '이행', '현실', '탈', '시설', '장애인', '위', '특별한', '여행', '선물', '심의', '위원', '전하', '이행', '현실', '대구', '다릿돌', '센터', '탈', '시설', '보증금', '지원', '장애인', '탈', '시설', '대구', '남구', '자립', '주택', '첫', '입주', '데일리안', '퇴근길', '뉴스', '김건희', '여사', '만난', '캄보디아', '심장병', '환', '후원', '쇄도', '조만간', '한국', '치료', '등', '경산', '장애인', '자립생활', '센터', '탈', '시설', '자립생활', '보증금', '지원', '사업', '실시', '대선', '후보', '장애인', '정책', '공약', '미흡', '대구', '차연', '동구청', '앞', '농성', '종료', '전주시', '장애인', '자립', '지원', '유관', '기관', '협약', '체결', '대구시', '청', '재단', '법인', '후', '원금', '용도', '외', '사용', '의혹', '일부', '사실', '확인', '전주시', '유관', '기관', '장애인', '자립', '지원', '협약', '대구시', '청', '재단', '법인', '후', '원금', '용도', '외', '사용', '의혹', '일부', '사실', '확인', '장애인', '운동', '장애', '입법', '시사', '점', '대선', '후보', '앞', '주택', '공급', '공약', '주택', '호', '장애인', '탈', '시설', '탈출', '구가', '영상', '장애', '목소리', '규탄', '재활', '인권', '침해', '정당화', '인권위', '사진', '광화문역', '기획재정부', '향', '투쟁', '아동', '시설', '보호', '변화', '위', '모색', '토론회', '린다', '다자', '녀', '빈곤층', '탈', '시설', '청소년', '임대주택', '공급', '복지부', '장애인', '지역', '사회', '자립', '지원', '시범', '사업', '공모', '사진', '광화문역', '기획재정부', '향', '투쟁', '아동', '시설', '보호', '변화', '위', '모색', '토론회', '린다', '다자', '녀', '빈곤층', '탈', '시설', '청소년', '임대주택', '공급', '복지부', '장애인', '지역', '사회', '자립', '지원', '시범', '사업', '공모', '공익', '사단법인', '두루', '아동', '시설', '보호', '변화', '위', '모색', '국회', '토론회', '서울시', '장애인', '탈', '시설', '자립생활', '투쟁', '보고', '대회', '장애', '탈', '시설', '자립생활', '권리', '보장', '기자회견', '탈', '시설', '자립생활', '이념', '아니라', '실천', '탈', '시설', '장애', '인권위', '진정서', '제출', '잠시', '새로', '장애인', '정책', '만큼', '서울시', '장애인', '탈', '시설', '쟁취', '투쟁', '마무리', '보고', '대회', '장애', '탈', '시설', '자립생활', '권리', '보장', '기자회견', '탈', '시설', '자립생활', '이념', '아니라', '실천', '탈', '시설', '장애', '인권위', '진정서', '제출', '잠시', '새로', '장애인', '정책', '만큼', '탈', '시설', '해결', '이명박', '눈물', '악어', '눈물', '보건복지부', '장애인', '지역', '사회', '자립', '서비스', '지원', '모형', '구축', '필요한', '유권자', '명', '질의', '답', '대선', '후보', '공약', '정리', '탈', '시설', '장애인', '즉각', '활동', '보조', '탈', '시설', '권리', '보장', '잠시', '새로', '장애인', '정책', '만큼', '탈', '시설', '해결', '이명박', '눈물', '악어', '눈물', '보건복지부', '장애인', '지역', '사회', '자립', '서비스', '지원', '모형', '구축', '필요한', '유권자', '명', '질의', '답', '대선', '후보', '공약', '정리', '탈', '시설', '장애인', '즉각', '활동', '보조', '탈', '시설', '권리', '보장', '이종성', '의원', '개', '장애인', '복지', '시설', '단체', '현안', '정책', '논의', '장애인', '공약', '개인', '예산', '제', '복지', '저상버스', '콜', '택시', '확대', '안내견', '정부', '양성', '작은', '시설', '시설', '대선', '후보', '장애인', '권리', '보장', '공약', '촉구', '전국', '장애인', '철폐', '연대', '연속', '지하철', '시위', '작은', '시설', '시설', '대선', '후보', '장애인', '권리', '보장', '공약', '촉구', '전국', '장애인', '철폐', '연대', '연속', '지하철', '시위', '지원', '공백', '불구', '인생', '막', '위해', '시설', '밖', '못', '약속', '안', '해', '공약', '삭제', '반성', '장애인', '가짜', '정당', '이유', '답답한', '대선', '판', '사이다', '장애인', '김영춘', '의원', '주거', '자립', '지원', '센터', '설치', '추진', '장애인', '탈', '시설', '지원', '소수자', '정치', '효능', '감', '수', '없는', '대선', '정치인', '차별', '문제', '의식', '있어야', '기재부', '만난', '장애', '장애인', '권리', '예산', '설날', '전', '답변', '요구', '취재', '현장', '사회', '복지사', '장애인', '단체', '대립', '영상', '장애인', '세상', '투표', '보조', '인력', '미지', '선관위', '상대', '차별', '구제', '소송', '발달장애', '인도', '유권자', '입니다', '보통', '삶', '시설', '밖', '장애', '영화', '숙', '부산', '부랑', '수용', '시설', '등', '생존자', '명', '인권', '유린', '진실', '화해', '위서', '조사해', '이행', '률', '높지만', '주요', '성과', '장애인', '단체', '권리', '보장', '호선', '시위', '결의', '대회', '종합', '장애인', '이동', '성과', '예산', '없인', '휴지', '조각', '윤석열', '공공', '개인', '예산', '제', '공약', '발표', '장애', '규탄', '장연', '지하철', '시위', '오늘', '없다', '선전', '전', '삭발', '진행', '예정', '화순군', '장애인', '거주', '시설', '점검', '강화', '화순군', '장애인', '거주', '시설', '점검', '강화', '장애인', '지역', '사회', '자립', '지원', '시범', '사업', '참여', '지자체', '모집', '경기도', '장애인', '복지', '종합', '지원', '센터', '장애인', '자립생활', '체험', '홈', '주택', '종사', '역량', '강화', '교육', '료', '장애인', '지역', '사회', '자립', '지원', '시범', '사업', '실시', '지자체', '공모', '시작', '교통', '자법', '개정안', '통과', '기재부', '예산', '장애인', '다시', '지하철', '투쟁', '장애인', '공약', '포괄', '거나', '모호하거나', '애', '문화', '톡톡', '이동', '자리', '바꿈', '관람', '모드', '있는', '방식', '장연', '지하철', '시위', '호선', '지연', '시민', '불편', '호소', '종합', '가혹한', '현실', '속', '일말', '희망', '장애인', '기재부', '똑똑히', '장애인', '명', '오늘', '지하철', '장연', '지하철', '시위', '호선', '지연', '시민', '불편', '호소', '종합', '가혹한', '현실', '속', '일말', '희망', '장애인', '기재부', '똑똑히', '장애인', '명', '오늘', '지하철', '시설', '민주화', '허구', '청', '재단', '사태', '면담', '결렬', '쪽', '방이', '돈', '투기', '세력', '지하철', '호선', '장애', '홍', '기재부', '장관', '나와라', '거주', '시설', '장애인', '탈시', '설화', '전문', '인력', '운영', '방안', '토론회', '성공', '결산', '비', '장애', '중심', '사회', '인터뷰', '전국', '장애인', '차별', '철폐', '연대', '박', '미주', '우리', '출근', '같은', '사람', '입니다', '김재연', '전국', '장애인', '차별', '철폐', '연대', '장애인', '권리', '보장', '정책', '협약', '김재연', '전국', '장애인', '차별', '철폐', '연대', '장애인', '권리', '보장', '정책', '협약', '장애인', '탈', '시설', '선언', '발표', '하라', '탈', '시설', '보호', '종료', '아동', '월', '자립', '수당', '지원', '의료', '급여', '못', '빈곤층', '약', '명', '로', '관리', '수급', '률', '이진희', '불구', '정치', '김원영', '사회', '장애인', '특별한', '성탄절', '기도', '대구', '차연', '청', '재단', '시설', '폐쇄', '요구', '천막', '농성', '돌입', '대구', '장애인', '차별', '철폐', '연대', '청', '재단', '장애인', '인권', '침해', '시설', '폐쇄', '조치', '요구', '무기한', '천막', '농성', '돌입', '서울', '교통', '공사', '지하철', '호선', '호선', '지연', '예고', '장애인', '단체', '시위', '여파', '장애인', '단체', '대구', '지하철', '호선', '농성', '청', '재단', '폐쇄하', '대구시', '청', '재단', '장애인', '시설', '폐쇄하', '서울', '교통', '공사', '지하철', '호선', '호선', '지연', '예고', '장애인', '단체', '시위', '여파', '장애인', '단체', '대구', '지하철', '호선', '농성', '청', '재단', '폐쇄하', '결산', '찬미', '여정', '시작', '지구', '앞장', '사회', '약자', '연대', '사회', '복지사', '권', '장애인', '인권', '대립', '수', '없어', '놀뫼', '장애인', '자립생활', '지원', '센터', '정책', '토론회', '차기', '정부', '발달장애', '사회', '통합', '신경', '편집', '위원회', '칼럼', '여전히', '남성', '위주', '아쉬워', '연령', '분야', '별', '다양성', '더', '필요', '문재인', '정부', '장애인', '정책', '껍데기', '장연', '연속', '출근길', '지하철', '시위', '호선', '운행', '지연', '장연', '연속', '출근길', '지하철', '시위', '호선', '운행', '지연', '지하철', '가로막', '장애인', '대한민국', '손해배상', '말', '이유', '논평', '포항시', '만', '세', '이상', '고령', '장애인', '활동', '지원', '서비스', '대상자', '선정', '환영', '최경숙', '한국', '장애인', '개발', '원장', '장애인', '탈', '시설', '전환', '점', '시작', '교총', '교회', '협', '혜화역', '장애인', '동권', '투쟁', '현장', '방문', '적극', '지지', '동권', '선제', '해결', '노', '금호', '투쟁', '낭만', '삶', '지긋지긋함', '홍', '전', '칠곡군', '경북', '인권', '유린', '장애인', '시설', '이사', '운영', '진', '전원', '해임', '편법', '후', '원금', '논란', '청', '재단', '이번', '맞춤', '공모', '특혜', '시비', '아이', '입양', '장애', '만난', '윤석열', '내년', '초', '임시국회', '때', '장애인', '법안', '통과', '장애', '만난', '윤석열', '내년', '초', '임시국회', '때', '장애인', '법안', '통과', '발달장애', '부모', '거리', '목소리', '이유', '부평구', '장애인', '자립생활', '지원', '운영', '센터', '협약', '체결', '새해', '것', '장애인', '확대', '자립', '지원', '시범', '사업', '발', '부평구', '장애인', '자립생활', '지원', '운영', '센터', '협약', '체결', '영상', '모든', '장애인', '안전한', '집', '영상', '불편한', '출근길', '시위', '우리', '정당한', '투쟁', '중', '입니다', '개', '단체', '경산시청', '앞서', '성락원', '인권', '침해', '사건', '진상', '규명', '결의', '대회', '심상정', '대한민국', '장애인', '정책', '패러다임', '것', '따뜻한', '동정', '영하', '거리', '투쟁', '장애인', '당사자', '목소리', '반영', '진보당', '김재연', '공약', '따뜻한', '동정', '영하', '거리', '투쟁', '박경석', '나', '길', '홍', '전', '문재인', '대통령', '공약', '파기', '범', '기재부', '장관', '나와라', '세계', '장애인', '날', '절박', '장애', '밖', '장애인', '권리', '보장', '지하철', '부총리', '집', '앞', '기습', '시위', '종합', '세계', '장애인', '날', '박경석', '진지', '구축', '홍', '전', '노동자', '쏙', '정의', '장애인', '탈', '시설', '권리', '보장', '장애', '교통', '자법', '연내', '통과', '요구', '이재명', '국토', '위', '면담', '추진', '약속', '대구시', '소득', '취약', '계층', '일상', '회복', '서비스', '공공', '강화', '장애인', '예산', '쟁취', '대통령', '후보', '향', '외침', '포토', '서울시', '장애인', '탈', '시설', '자립생활', '정책', '확대', '강화하라', '박경석', '차별', '저항', '홍', '전', '노동자', '쏙', '정의', '탈', '시설', '장애인', '자립', '정착', '금', '지역별', '천차만별', '장애인', '대한', '위드', '코로나', '대책', '마련', '화순', '장애인', '시설', '의문사', '진상', '규명', '전남', '장애인', '거주', '시설', '거주', '사망', '진상', '규명', '촉구', '전남', '장애인', '거주', '시설', '거주', '사망', '진상', '규명', '촉구', '또', '다른', '형제복지원', '직권', '조사', '시행', '영상', '요람', '무덤', '대구', '공영', '장례', '제도', '현실', '발달장애', '죽음', '부모', '단식', '돌입', '강원도', '장애인', '자립', '생활권', '동권', '보장', '확대', '약속', '혐오', '시대', '보이지', '인권위', '인권위', '주년', '기획', '장애', '장애인', '법안', '원안', '통과', '촉구', '생생', '발언', '지원', '서비스', '현실', '시설', '살이', '탈', '시설', '장애인', '구술', '기록', '집', '나', '산다', '북', '콘서트', '김윤호', '사망', '사건', '장애', '화순군', '장애인', '거주', '시설', '즉각', '폐쇄하', '탈', '시설', '장애인', '구술', '기록', '집', '나', '산다', '북', '콘서트', '김윤호', '사망', '사건', '장애', '화순군', '장애인', '거주', '시설', '즉각', '폐쇄하', '탈', '시설', '휴게', '시간', '발목', '장애', '비', '장애', '중심', '사회', '유럽', '한국', '장애인', '시설', '분리', '정책', '권리', '제약', '탈', '시설', '수용', '시설', '폐지', '및', '모든', '장애인', '탈', '시설', '권리', '보장', '장애인', '편히', '투표', '학교', '세상', '왜', '송영길', '대표', '장애', '법률', '안', '요구', '의원', '소집', '논의', '아버지', '상속', '포기', '재산', '때문', '수급', '탈락', '탈', '시설', '장애인', '나', '자식', '마음', '대구', '인권', '단체', '청', '재단', '장애인', '폭행', '엄정', '수사', '촉구', '전국', '장애인', '혜화역', '현수막', '장애인', '권리', '지원', '법', '연내', '제정', '해외', '장애', '뉴스', '브리핑', '홍보', '전략', '전락', '포괄', '디자인', '대구시', '내년', '예산', '원', '장애인', '자립생활', '예산', '동결', '중증', '발달장애', '가족', '권', '덕철', '장관', '강제', '퇴소', '약속', '이행', '직설', '너', '네', '생각', '강하다', '투쟁', '결', '의문', '장애인', '권리', '예산', '쟁취', '우리', '꼭', '조동현', '장애인', '여', '명', '법안', '연내', '제', '개정', '요구', '전국', '결의', '대회', '장애인', '단체', '사용', '가족', '의미', '장애인', '의원', '내년', '장애인', '예산', '증액', '총력전', '장애인', '여', '명', '법안', '연내', '제', '개정', '요구', '전국', '결의', '대회', '장애인', '단체', '사용', '가족', '의미', '장애인', '의원', '내년', '장애인', '예산', '증액', '총력전', '인권위', '성락원', '학대', '피해자', '다른', '시설', '가라', '논란', '부평구', '장애인', '자립생활', '지원', '기관', '곳', '협약', '위드', '코로나', '위드', '장애인', '시설', '밖', '일상생활', '지원', '장애인', '등록', '제', '전면', '폐지', '장애', '서비스', '법', '발의', '장연', '지하철', '시위', '장애인', '활동', '지원', '예산', '국회', '내년', '예산', '확정', '발달장애', '예산', '정부', '안보', '폭', '증가', '세계', '장애인', '날', '장애인', '공약', '정치권', '장애인', '단체', '기습', '시위']\n"
          ]
        }
      ]
    },
    {
      "cell_type": "code",
      "source": [
        "counts = Counter(noun_adj)\n",
        "tags = counts.most_common(50)\n",
        "print(tags)"
      ],
      "metadata": {
        "colab": {
          "base_uri": "https://localhost:8080/"
        },
        "id": "SiwOuvaBH87v",
        "outputId": "057b74ac-f0bb-4cc3-8a02-a1707b47d47e"
      },
      "execution_count": null,
      "outputs": [
        {
          "output_type": "stream",
          "name": "stdout",
          "text": [
            "[('시설', 2486), ('탈', 2130), ('장애인', 1756), ('지원', 627), ('자립', 311), ('정책', 280), ('장연', 276), ('시위', 231), ('장애', 207), ('권리', 192), ('지하철', 191), ('서울시', 191), ('자립생활', 167), ('촉구', 162), ('호선', 155), ('예산', 146), ('보장', 144), ('발달장애', 142), ('단체', 141), ('법', 131), ('사회', 121), ('정부', 116), ('제정', 115), ('거주', 113), ('지역', 111), ('위', 106), ('사업', 97), ('조례', 97), ('개최', 90), ('계획', 89), ('투쟁', 88), ('인권', 88), ('복지', 87), ('로드맵', 87), ('포토', 86), ('추진', 85), ('대구', 85), ('부모', 84), ('인천', 84), ('희망', 75), ('대구시', 75), ('애인', 73), ('제', 72), ('이준석', 71), ('서울', 70), ('마련', 68), ('중', 68), ('주택', 67), ('요구', 67), ('것', 63)]\n"
          ]
        }
      ]
    },
    {
      "cell_type": "code",
      "source": [
        "#전장연 시위 관련된 단어는 수작업으로 제거 \n",
        "tags_dict = dict(tags)\n",
        "#print(tags_dict.keys())\n",
        "execute_keys = [\"시설\", \"탈\", \"장연\", \"지하철\", \"탈시\", \"위\", \"시위\", \"중\", \"것\"]\n",
        "\n",
        "useful_dict = {}\n",
        "for key in tags_dict:\n",
        "  if key not in execute_keys:\n",
        "    useful_dict[key] = tags_dict[key]\n",
        "  \n",
        "print(useful_dict)"
      ],
      "metadata": {
        "colab": {
          "base_uri": "https://localhost:8080/"
        },
        "id": "IIbSw04nNsCd",
        "outputId": "777065a8-08c8-4e82-ae44-90f4b5ece989"
      },
      "execution_count": null,
      "outputs": [
        {
          "output_type": "stream",
          "name": "stdout",
          "text": [
            "{'장애인': 1756, '지원': 627, '자립': 311, '정책': 280, '장애': 207, '권리': 192, '서울시': 191, '자립생활': 167, '촉구': 162, '호선': 155, '예산': 146, '보장': 144, '발달장애': 142, '단체': 141, '법': 131, '사회': 121, '정부': 116, '제정': 115, '거주': 113, '지역': 111, '사업': 97, '조례': 97, '개최': 90, '계획': 89, '투쟁': 88, '인권': 88, '복지': 87, '로드맵': 87, '포토': 86, '추진': 85, '대구': 85, '부모': 84, '인천': 84, '희망': 75, '대구시': 75, '애인': 73, '제': 72, '이준석': 71, '서울': 70, '마련': 68, '주택': 67, '요구': 67}\n"
          ]
        }
      ]
    },
    {
      "cell_type": "code",
      "source": [
        "wordcloud = WordCloud(\n",
        "    font_path = '/content/gdrive/MyDrive/DSF/malgun', background_color='white', colormap='Reds').generate_from_frequencies(useful_dict)"
      ],
      "metadata": {
        "id": "9Qlfy_JcH85d"
      },
      "execution_count": null,
      "outputs": []
    },
    {
      "cell_type": "code",
      "source": [
        "plt.figure(figsize=(10,10))\n",
        "plt.imshow(wordcloud,interpolation='bilinear')\n",
        "plt.axis('off') \n",
        "plt.title(\"Wordcloud\")\n"
      ],
      "metadata": {
        "colab": {
          "base_uri": "https://localhost:8080/",
          "height": 344
        },
        "id": "SLwmL_-pH83b",
        "outputId": "13bb9380-c0ef-41d9-c2b3-1cfeea2473f7"
      },
      "execution_count": null,
      "outputs": [
        {
          "output_type": "execute_result",
          "data": {
            "text/plain": [
              "Text(0.5, 1.0, 'Wordcloud')"
            ]
          },
          "metadata": {},
          "execution_count": 64
        },
        {
          "output_type": "display_data",
          "data": {
            "text/plain": [
              "<Figure size 720x720 with 1 Axes>"
            ],
            "image/png": "[encoded data removed]"
          },
          "metadata": {
            "needs_background": "light"
          }
        }
      ]
    },
    {
      "cell_type": "code",
      "source": [],
      "metadata": {
        "id": "2cq-XvDoH81E"
      },
      "execution_count": null,
      "outputs": []
    },
    {
      "cell_type": "markdown",
      "source": [
        "# '장애인 활동지원' 크롤링\n"
      ],
      "metadata": {
        "id": "zZaOa-HEwQWk"
      }
    },
    {
      "cell_type": "code",
      "source": [
        "news_url = 'https://search.naver.com/search.naver?where=news&sm=tab_jum&query={}'\n",
        "query = \"장애인 활동지원\"\n",
        "news_num = 1000 # 총 필요한 뉴스의 개수\n",
        "req = requests.get(news_url.format(query))\n",
        "soup = BeautifulSoup(req.text, 'html.parser')\n",
        "news_dict = {}\n",
        "idx = 0\n",
        "cur_page = 1"
      ],
      "metadata": {
        "id": "CpqnM3uEwXe0"
      },
      "execution_count": null,
      "outputs": []
    },
    {
      "cell_type": "code",
      "source": [
        "while idx < news_num:\n",
        "### 네이버 뉴스 웹페이지 구성이 바뀌어 태그명, class 속성 값 등을 수정함(20210126) ###\n",
        "    \n",
        "    table = soup.find('ul',{'class' : 'list_news'})\n",
        "    li_list = table.find_all('li', {'id': re.compile('sp_nws.*')})\n",
        "    area_list = [li.find('div', {'class' : 'news_area'}) for li in li_list]\n",
        "    a_list = [area.find('a', {'class' : 'news_tit'}) for area in area_list]\n",
        "    \n",
        "    for n in a_list[:min(len(a_list), news_num-idx)]:\n",
        "        news_dict[idx] = {'title' : n.get('title'),\n",
        "                          'url' : n.get('href') }\n",
        "        idx += 1\n",
        "\n",
        "    cur_page += 1\n",
        "    \n",
        "    pages = soup.find('div', {'class' : 'sc_page_inner'})\n",
        "    next_page_url = [p for p in pages.find_all('a') if p.text == str(cur_page)][0].get('href')\n",
        "    \n",
        "    req = requests.get('https://search.naver.com/search.naver' + next_page_url)\n",
        "    soup = BeautifulSoup(req.text, 'html.parser')"
      ],
      "metadata": {
        "id": "Hi6hHJWawXcv"
      },
      "execution_count": null,
      "outputs": []
    },
    {
      "cell_type": "code",
      "source": [
        "print('데이터프레임 변환')\n",
        "news_df_1 = pd.DataFrame(news_dict).T\n",
        "news_df_1"
      ],
      "metadata": {
        "colab": {
          "base_uri": "https://localhost:8080/",
          "height": 441
        },
        "id": "gtaD8G0XwXal",
        "outputId": "c531c401-6ecf-4185-ec8e-9b29b0b9d694"
      },
      "execution_count": null,
      "outputs": [
        {
          "output_type": "stream",
          "name": "stdout",
          "text": [
            "데이터프레임 변환\n"
          ]
        },
        {
          "output_type": "execute_result",
          "data": {
            "text/plain": [
              "                                    title  \\\n",
              "0     상지대 발달장애인통합지원센터 ‘더불어 봄’ 1년간 활동 발표회    \n",
              "1          기아, 교통약자 여행 지원 프로그램 10주년 행사 열어   \n",
              "2               목포신항만운영㈜, 호남지역 발달장애인 볼링대회   \n",
              "3            충남도, 발달장애인 위해 5년간 9263억 투입한다   \n",
              "4             유럽우주국, 세계 최초로 장애인 우주 비행사 선발   \n",
              "..                                    ...   \n",
              "995        ﻿국내기부단체 위브릿지, 장애인 가정 여가문화활동 진행   \n",
              "996           현대차, 시각장애인 이동권 향상을 위한 차량 기증   \n",
              "997  \"ESG 경영 강화\" 현대캐피탈, 고령층·장애인 맞춤 서비스 확대   \n",
              "998                 전남도, 관광취약계층 행복여행활동 지원   \n",
              "999             산청지역자활센터, '생활 속 문화 활동' 실시   \n",
              "\n",
              "                                                   url  \n",
              "0    https://www.pressian.com/pages/articles/202211...  \n",
              "1        http://news.tf.co.kr/read/economy/1981911.htm  \n",
              "2    https://www.yna.co.kr/view/AKR2022112512310005...  \n",
              "3    https://news.kmib.co.kr/article/view.asp?arcid...  \n",
              "4    https://biz.chosun.com/science-chosun/science/...  \n",
              "..                                                 ...  \n",
              "995  http://www.datanews.co.kr/news/article.html?no...  \n",
              "996          https://www.news1.kr/photos/view/?5662191  \n",
              "997  http://moneys.mt.co.kr/news/mwView.php?no=2022...  \n",
              "998  http://www.netongs.com/news/articleView.html?i...  \n",
              "999  http://www.enewstoday.co.kr/news/articleView.h...  \n",
              "\n",
              "[1000 rows x 2 columns]"
            ],
            "text/html": [
              "\n",
              "  <div id=\"df-40ef7c40-2c3a-4ef8-9051-3badc1080107\">\n",
              "    <div class=\"colab-df-container\">\n",
              "      <div>\n",
              "<style scoped>\n",
              "    .dataframe tbody tr th:only-of-type {\n",
              "        vertical-align: middle;\n",
              "    }\n",
              "\n",
              "    .dataframe tbody tr th {\n",
              "        vertical-align: top;\n",
              "    }\n",
              "\n",
              "    .dataframe thead th {\n",
              "        text-align: right;\n",
              "    }\n",
              "</style>\n",
              "<table border=\"1\" class=\"dataframe\">\n",
              "  <thead>\n",
              "    <tr style=\"text-align: right;\">\n",
              "      <th></th>\n",
              "      <th>title</th>\n",
              "      <th>url</th>\n",
              "    </tr>\n",
              "  </thead>\n",
              "  <tbody>\n",
              "    <tr>\n",
              "      <th>0</th>\n",
              "      <td>상지대 발달장애인통합지원센터 ‘더불어 봄’ 1년간 활동 발표회</td>\n",
              "      <td>https://www.pressian.com/pages/articles/202211...</td>\n",
              "    </tr>\n",
              "    <tr>\n",
              "      <th>1</th>\n",
              "      <td>기아, 교통약자 여행 지원 프로그램 10주년 행사 열어</td>\n",
              "      <td>http://news.tf.co.kr/read/economy/1981911.htm</td>\n",
              "    </tr>\n",
              "    <tr>\n",
              "      <th>2</th>\n",
              "      <td>목포신항만운영㈜, 호남지역 발달장애인 볼링대회</td>\n",
              "      <td>https://www.yna.co.kr/view/AKR2022112512310005...</td>\n",
              "    </tr>\n",
              "    <tr>\n",
              "      <th>3</th>\n",
              "      <td>충남도, 발달장애인 위해 5년간 9263억 투입한다</td>\n",
              "      <td>https://news.kmib.co.kr/article/view.asp?arcid...</td>\n",
              "    </tr>\n",
              "    <tr>\n",
              "      <th>4</th>\n",
              "      <td>유럽우주국, 세계 최초로 장애인 우주 비행사 선발</td>\n",
              "      <td>https://biz.chosun.com/science-chosun/science/...</td>\n",
              "    </tr>\n",
              "    <tr>\n",
              "      <th>...</th>\n",
              "      <td>...</td>\n",
              "      <td>...</td>\n",
              "    </tr>\n",
              "    <tr>\n",
              "      <th>995</th>\n",
              "      <td>﻿국내기부단체 위브릿지, 장애인 가정 여가문화활동 진행</td>\n",
              "      <td>http://www.datanews.co.kr/news/article.html?no...</td>\n",
              "    </tr>\n",
              "    <tr>\n",
              "      <th>996</th>\n",
              "      <td>현대차, 시각장애인 이동권 향상을 위한 차량 기증</td>\n",
              "      <td>https://www.news1.kr/photos/view/?5662191</td>\n",
              "    </tr>\n",
              "    <tr>\n",
              "      <th>997</th>\n",
              "      <td>\"ESG 경영 강화\" 현대캐피탈, 고령층·장애인 맞춤 서비스 확대</td>\n",
              "      <td>http://moneys.mt.co.kr/news/mwView.php?no=2022...</td>\n",
              "    </tr>\n",
              "    <tr>\n",
              "      <th>998</th>\n",
              "      <td>전남도, 관광취약계층 행복여행활동 지원</td>\n",
              "      <td>http://www.netongs.com/news/articleView.html?i...</td>\n",
              "    </tr>\n",
              "    <tr>\n",
              "      <th>999</th>\n",
              "      <td>산청지역자활센터, '생활 속 문화 활동' 실시</td>\n",
              "      <td>http://www.enewstoday.co.kr/news/articleView.h...</td>\n",
              "    </tr>\n",
              "  </tbody>\n",
              "</table>\n",
              "<p>1000 rows × 2 columns</p>\n",
              "</div>\n",
              "      <button class=\"colab-df-convert\" onclick=\"convertToInteractive('df-40ef7c40-2c3a-4ef8-9051-3badc1080107')\"\n",
              "              title=\"Convert this dataframe to an interactive table.\"\n",
              "              style=\"display:none;\">\n",
              "        \n",
              "  <svg xmlns=\"http://www.w3.org/2000/svg\" height=\"24px\"viewBox=\"0 0 24 24\"\n",
              "       width=\"24px\">\n",
              "    <path d=\"M0 0h24v24H0V0z\" fill=\"none\"/>\n",
              "    <path d=\"M18.56 5.44l.94 2.06.94-2.06 2.06-.94-2.06-.94-.94-2.06-.94 2.06-2.06.94zm-11 1L8.5 8.5l.94-2.06 2.06-.94-2.06-.94L8.5 2.5l-.94 2.06-2.06.94zm10 10l.94 2.06.94-2.06 2.06-.94-2.06-.94-.94-2.06-.94 2.06-2.06.94z\"/><path d=\"M17.41 7.96l-1.37-1.37c-.4-.4-.92-.59-1.43-.59-.52 0-1.04.2-1.43.59L10.3 9.45l-7.72 7.72c-.78.78-.78 2.05 0 2.83L4 21.41c.39.39.9.59 1.41.59.51 0 1.02-.2 1.41-.59l7.78-7.78 2.81-2.81c.8-.78.8-2.07 0-2.86zM5.41 20L4 18.59l7.72-7.72 1.47 1.35L5.41 20z\"/>\n",
              "  </svg>\n",
              "      </button>\n",
              "      \n",
              "  <style>\n",
              "    .colab-df-container {\n",
              "      display:flex;\n",
              "      flex-wrap:wrap;\n",
              "      gap: 12px;\n",
              "    }\n",
              "\n",
              "    .colab-df-convert {\n",
              "      background-color: #E8F0FE;\n",
              "      border: none;\n",
              "      border-radius: 50%;\n",
              "      cursor: pointer;\n",
              "      display: none;\n",
              "      fill: #1967D2;\n",
              "      height: 32px;\n",
              "      padding: 0 0 0 0;\n",
              "      width: 32px;\n",
              "    }\n",
              "\n",
              "    .colab-df-convert:hover {\n",
              "      background-color: #E2EBFA;\n",
              "      box-shadow: 0px 1px 2px rgba(60, 64, 67, 0.3), 0px 1px 3px 1px rgba(60, 64, 67, 0.15);\n",
              "      fill: #174EA6;\n",
              "    }\n",
              "\n",
              "    [theme=dark] .colab-df-convert {\n",
              "      background-color: #3B4455;\n",
              "      fill: #D2E3FC;\n",
              "    }\n",
              "\n",
              "    [theme=dark] .colab-df-convert:hover {\n",
              "      background-color: #434B5C;\n",
              "      box-shadow: 0px 1px 3px 1px rgba(0, 0, 0, 0.15);\n",
              "      filter: drop-shadow(0px 1px 2px rgba(0, 0, 0, 0.3));\n",
              "      fill: #FFFFFF;\n",
              "    }\n",
              "  </style>\n",
              "\n",
              "      <script>\n",
              "        const buttonEl =\n",
              "          document.querySelector('#df-40ef7c40-2c3a-4ef8-9051-3badc1080107 button.colab-df-convert');\n",
              "        buttonEl.style.display =\n",
              "          google.colab.kernel.accessAllowed ? 'block' : 'none';\n",
              "\n",
              "        async function convertToInteractive(key) {\n",
              "          const element = document.querySelector('#df-40ef7c40-2c3a-4ef8-9051-3badc1080107');\n",
              "          const dataTable =\n",
              "            await google.colab.kernel.invokeFunction('convertToInteractive',\n",
              "                                                     [key], {});\n",
              "          if (!dataTable) return;\n",
              "\n",
              "          const docLinkHtml = 'Like what you see? Visit the ' +\n",
              "            '<a target=\"_blank\" href=https://colab.research.google.com/notebooks/data_table.ipynb>data table notebook</a>'\n",
              "            + ' to learn more about interactive tables.';\n",
              "          element.innerHTML = '';\n",
              "          dataTable['output_type'] = 'display_data';\n",
              "          await google.colab.output.renderOutput(dataTable, element);\n",
              "          const docLink = document.createElement('div');\n",
              "          docLink.innerHTML = docLinkHtml;\n",
              "          element.appendChild(docLink);\n",
              "        }\n",
              "      </script>\n",
              "    </div>\n",
              "  </div>\n",
              "  "
            ]
          },
          "metadata": {},
          "execution_count": 18
        }
      ]
    },
    {
      "cell_type": "code",
      "source": [
        "twitter = Twitter()\n",
        "sentence_list = []\n",
        "noun_adj = word_list(news_df_1[\"title\"])\n",
        "print(noun_adj)"
      ],
      "metadata": {
        "colab": {
          "base_uri": "https://localhost:8080/"
        },
        "id": "mgTEx9vNwXYU",
        "outputId": "d149b2bd-0fb9-43d3-cf40-8e076a89eac9"
      },
      "execution_count": null,
      "outputs": [
        {
          "output_type": "stream",
          "name": "stdout",
          "text": [
            "['상지대', '발달장애', '통합', '지원', '센터', '봄', '활동', '발표회', '기아', '교통', '약자', '여행', '지원', '프로그램', '주년', '행사', '목포신항만', '운영', '호남', '지역', '발달장애', '볼링', '대회', '충남도', '발달장애', '위해', '투입', '유럽우주국', '세계', '최초', '장애인', '우주', '비행사', '선발', '씨앤투스', '대구', '척수', '장애인', '협회', '에르', '마스크', '기부', '경기도', '의회', '복지', '위', '양평', '장애인', '파크', '골프장', '현장', '방문', '인천', '남동구', '구월', '청사', '리', '모델링', '장애인', '직업', '재활', '시설', '운영', '발달장애', '로지원', '혁신', '필요한', '이유', '삼성', '전자', '중증', '장애인', '사회', '자립', '지원', '한국', '앤', '컴퍼니', '장애인', '이동', '장치', '용', '배터리', '지원', '김태흠', '지사', '장애인', '꿈', '희망', '드릴', '것', '킨텍스', '취약', '계층', '위', '김장', '김치', '지원', '상지대', '발달장애', '통합', '지원', '센터', '봄', '활동', '발표회', '광양제철소', '장애인', '힐링', '프로그램', '발대식', '눈길', '기아', '교통', '약자', '여행지', '원하는', '초록', '여행', '주년', '사회', '공헌', '활동', '강화', '저축은행', '창립', '주년', '전국', '각지', '봉사활동', '기술', '보증', '기금', '감사원', '자체', '감사', '활동', '심사', '우수', '기관', '선정', '나', '혼자', '산다', '를', '원합니다', '발달장애', '소연', '말', '명', '발달장애', '답', '주간', '보호', '센터', '성인', '발달장애', '자립', '활동', '운영', '어머니', '그리워', '연', '기부', '활동', '부안군', '장애인', '일자리', '사업', '참여자', '수행', '기관', '모집', '장애인', '자립', '삼성', '전자', '자회사', '장애인', '표준', '사업', '설립', '김해', '장애인', '축구단', '가야', '왕도', '창단', '창', '단식', '첫', '경기', '개최', '경기도', '의회', '복지', '위', '양평', '장애인', '파크', '골프장', '현장', '방문', '저축은행', '중앙회', '창립', '주년', '사회', '활동', '날', '지정', '메르세데스', '벤츠', '파이', '낸셜', '코리아', '사회', '공헌', '활동', '전개', '한국', '마사회', '경영', '계', '사회', '공헌', '활동', '희망', '전파', '장애인', '오케스트라', '단', '창단', '장연', '지하철', '탑승', '시위', '중단', '장애인', '권리', '예산', '일부', '반영', '대전광역시', '립', '장애인', '종합', '복지관', '성인', '장애인', '위', '행복', '나들이', '료', '장애인', '예산', '기재부', '장연', '시위', '좌우', '장연', '시위', '장애인', '예산', '증액', '대전', '소식', '중구', '장애인', '일자리', '사업', '참여자', '모집', '등', '전라북도', '장애인', '활동', '원사', '교육', '기관', '등', '모집', '충남도', '개발', '공사', '지체', '장애인', '날', '후원', '경기도', '장애인체육', '회', '종합', '대회', '평가', '회', '개최', '울진', '장애인', '종합', '복지관', '장애인', '활동', '원사', '성교육', '서초구', '메타', '버스', '발달장애', '숨통', '공간', '오픈', '서울', '지하철', '호선', '장연', '장애인', '단체', '시위', '충남도', '발달장애', '예산', '투입', '단신', '전자', '협력', '사', '워크숍', '전환', '지원', '논의', '등', '전북도', '장애인', '교육', '지원', '수행', '기관', '공모', '내년', '운영', '김태흠', '지사', '장애인', '꿈', '희망', '드릴', '것', '국회', '장애인', '평생교육', '지역', '사회', '학술', '대회', '정신장애인', '위', '좋은', '일자리', '인권', '삼성', '전자', '한국', '장애인', '고용', '공단', '자회사', '장애인', '표준', '사업', '설립', '협약', '광주', '남구', '장애인', '문화', '예술제', '팡파르', '발달장애', '최석', '작가', '인식', '개선', '기여', '중랑구', '청장', '표창', '가스', '안전', '소외', '계층', '겨울나기', '지원', '경기도', '경기', '문화재단', '장애인', '전문', '예술', '활동', '지원', '사업', '성과', '유회', '개최', '글', '비즈', '경기도', '장애인체육', '회', '마스크', '기부', '양산시', '발달장애', '데이터', '성교육', '추진', '발달장애', '커피', '찌꺼기', '친환경', '연필', '어떻게', '팔', '수', '있을까', '고민', '부동산', '주거', '환경', '개선', '봉사활동', '기보', '부산', '남구', '장애인', '복지관', '김장', '나눔', '법률', '서비스', '지원', '기업', '캠페인', '진정', '성은', '지속', '기간', '국내', '장수', '사회', '공헌', '활동', '부안군', '장애인', '일자리', '사업', '참여자', '수행', '기관', '모집', '장연', '장애인', '권리', '예산', '위', '농성', '돌입', '이제', '정부', '답', '때', '엘리베이터', '없는', '학교', '장애인', '안', '눈치', '진학', '포기', '김동연', '훈련', '장애인', '월', '기회', '수당', '지원', '장애인', '비장', '애인', '출발', '선', '다를', '뿐', '동등', '위치', '경쟁', '수', '있게', '제', '아름다운', '동행', '행복한', '첫걸음', '장애인', '소외', '계층', '합동', '결혼식', '정읍', '경찰서', '유관', '기관', '장애인', '시설', '성폭력', '학대', '합동', '점검', '경기', '문화재단', '장애인', '전문', '예술', '활동', '지원', '사업', '성과', '유회', '개최', '도전', '희망', '나이', '스샷', '전국', '발달장애', '골프대회', '료', '스포츠', '지원', '재계', '비', '인기', '종목', '꿈', '제주도', '지체', '장애인', '협회', '숨트기', '나들이', '프로그램', '진행', '한국', '산업', '기술', '시험', '장애인', '오케스트라', '단', '창단', '동정', '기일', '복지', '차관', '발달장애', '주간', '활동', '기관', '방문', '청각장애', '재난', '사각', '지대', '빨간', '불', '근육', '장애인', '위협', '생명', '대안', '없나', '괴산군', '학교', '밖', '청소년', '센터', '지역', '농산물', '활용', '요리', '프로그램', '청년', '발달장애', '자립', '성남시', '내년', '대폭', '지원', '장애인', '단체', '시위', '호선', '운행', '지연', '예정', '임소연', '미래', '온', '장애인', '홍', '전', '장애인', '스포츠', '네트워크', '구축', '최연', '숙', '장애인', '알권리', '보장', '장애', '인복', '지법', '개정안', '발의', '법리', '남', '경기도', '장애인체육', '회', '글', '비즈', '마스크', '장', '기부', '금호', '석화', '시각장애', '인용', '흰지팡이', '후', '원금', '전달', '제', '남구', '장애인', '문화', '예술제', '팡파르', '광주', '축구', '협회', '장애인체육', '국가대표', '유니폼', '후원', '충남', '지체', '장애인', '날', '행사', '개최', '한국', '국토', '정보', '공사', '청송', '영양', '지사', '지역', '사랑', '부활동', '실시', '정읍시', '장애인', '자립', '지원', '맞춤', '일자리', '제공', '이혜정', '파주시', '의원', '반려동물', '진료', '비', '지원', '발의', '장연', '지하철', '시위', '세운', '장애인', '활동', '지원', '예산', '무엇', '삼성', '전자', '상생', '가치', '위', '다양한', '활동', '전개', '서초구', '서초', '발달장애', '숨통', '공간', '개최', '사천시', '제', '사천시', '배', '경남', '장애인', '탁구', '대회', '료', '전라북도', '광역', '지원', '센터', '민간', '위탁', '철회', '청각장애', '한국', '설리번', '홍', '유미', '헬렌켈러', '센터', '굿', '피플', '식사', '지원', '사업', '모두', '끼', '의', '일환', '부산', '독거', '노인', '및', '장애', '가정', '김장', '김치', '나눔', '행사', '동참', '행복', '충북', '사회', '복지', '개발', '회', '장애인', '건강', '증진', '협약', '경남', '장애인', '재활', '협회', '장애', '가정', '아동', '성장', '멘토링', '종결', '브이', '드림', '장애인', '직원', '소속', '감', '고취', '위', '다양한', '활동', '전개', '전국', '최초', '권리', '중심', '장애인', '평생교육', '온라인', '과정', '오산시', '장애인', '및', '가족', '프로필', '사진촬영', '후원', '기탁', '개최', '경북', '교육청', '내년', '전국', '장애인', '체전', '선수단', '훈련', '비', '지원', '금융', '단신', '캠코', '서금', '금융', '취약', '계층', '재기', '지원', '강화', '위', '업무', '협약', '체결', '등', '저축은행', '업계', '창립', '주년', '기념', '봉사활동', '진행', '삼성', '전자', '한국', '장애인', '고용', '공단', '자회사', '장애인', '표준', '사업', '설립', '협약', '삼성', '전자', '자회사', '장애인', '표준', '사업', '설립', '추진', '광주', '남구', '장애인', '문화', '예술제', '팡파르', '충남도', '발달장애', '생애', '주기', '맞춤', '위해', '투입', '김태흠', '지사', '장애인', '꿈', '희망', '드릴', '것', '기아', '초록', '여행', '주년', '고객', '초청', '행사', '진행', '일상생활', '지원', '서초구', '발달장애', '숨통', '공간', '조성', '발달장애', '최석', '작가', '인식', '개선', '기여', '중랑구', '청장', '표창', '가스', '안전', '소외', '계층', '겨울나기', '지원', '발달장애', '최석', '작가', '인식', '개선', '기여', '중랑구', '청장', '표창', '가스', '안전', '소외', '계층', '겨울나기', '지원', '삼성', '전자', '자회사', '장애인', '표준', '사업', '설립', '추진', '양질', '일자리', '확대', '경기도', '경기', '문화재단', '장애인', '전문', '예술', '활동', '지원', '사업', '성과', '유회', '개최', '충남도', '발달장애', '복지', '향상', '투입', '글', '비즈', '경기도', '장애인체육', '회', '마스크', '기부', '양산시', '발달장애', '데이터', '성교육', '추진', '발달장애', '커피', '찌꺼기', '친환경', '연필', '어떻게', '팔', '수', '있을까', '고민', '부동산', '주거', '환경', '개선', '봉사활동', '부안군', '장애인', '일자리', '사업', '참여자', '수행', '기관', '모집', '발달장애', '커피', '찌꺼기', '친환경', '연필', '어떻게', '팔', '수', '있을까', '고민', '부동산', '주거', '환경', '개선', '봉사활동', '부안군', '장애인', '일자리', '사업', '참여자', '수행', '기관', '모집', '화경', '저축은행', '중앙회', '소외', '계층', '지원', '활동', '지속', '것', '기보', '부산', '남구', '장애인', '복지관', '김장', '나눔', '법률', '서비스', '지원', '삼성', '전자', '한국', '장애인', '고용', '공단', '자회사', '장애인', '표준', '사업', '설립', '협약', '광주', '남구', '제', '남구', '장애인', '문화', '예술제', '팡파르', '삼성', '전자', '장애인', '고용', '공단', '자회사', '표준', '사업', '설립', '기업', '캠페인', '진정', '성은', '지속', '기간', '국내', '장수', '사회', '공헌', '활동', '부안군', '장애인', '일자리', '사업', '참여자', '수행', '기관', '모집', '충남', '개발', '공사', '지체', '장애인', '자활', '위', '나눔', '전달', '삼성', '전자', '한국', '장애인', '고용', '공단', '자회사', '장애인', '표준', '사업', '설립', '협약', '씨앤투스', '대구', '지역', '척수', '장애인', '소외', '계층', '에르', '마스크', '기부', '장연', '장애인', '권리', '예산', '위', '농성', '돌입', '이제', '정부', '답', '때', '충남도', '발달장애', '복지', '향상', '투입', '엘리베이터', '없는', '학교', '장애인', '안', '눈치', '진학', '포기', '김동연', '훈련', '장애인', '월', '기회', '수당', '지원', '저축은행', '중앙회', '창립', '주년', '기념', '사회', '활동', '날', '지정', '장애인', '비장', '애인', '출발', '선', '다를', '뿐', '동등', '위치', '경쟁', '수', '있게', '제', '아름다운', '동행', '행복한', '첫걸음', '장애인', '소외', '계층', '합동', '결혼식', '제', '아름다운', '동행', '행복한', '첫걸음', '장애인', '소외', '계층', '합동', '결혼식', '광주', '남구', '장애인', '문화', '예술제', '팡파르', '예술', '활동', '지원', '저축은행', '업계', '창립', '주년', '기념', '전국', '각지', '봉사활동', '발달장애', '최석', '작가', '장애인', '개선', '기여', '중랑구', '청장', '표창', '충남도', '발달장애', '복지', '투입', '정읍', '경찰서', '유관', '기관', '장애인', '시설', '성폭력', '학대', '합동', '점검', '장애인', '일자리', '창', '삼성', '전자', '활동', '눈길', '장연', '수능', '일인', '탑승', '시위', '잠정', '중단', '장애인', '예산', '일부', '반영', '경기', '문화재단', '장애인', '전문', '예술', '활동', '지원', '사업', '성과', '유회', '개최', '도전', '희망', '나이', '스샷', '전국', '발달장애', '골프대회', '료', '경기', '문화재단', '장애인', '전문', '예술', '활동', '지원', '사업', '성과', '유회', '개최', '삼성', '전자', '장애인', '고용', '공단', '자회사', '장애인', '표준', '사업', '설립', '협약', '도전', '희망', '나이', '스샷', '전국', '발달장애', '골프대회', '료', '광주', '남구', '제', '남구', '장애인', '문화', '예술제', '개최', '충남도', '발달장애', '복지', '사업', '투입', '저축은행', '중앙회', '업계', '창립', '주년', '기념', '전국', '봉사활동', '진행', '장애인', '오케스트라', '단', '창', '단식', '상생', '문화', '조성', '기보', '김장', '나누기', '취약', '계층', '겨울나기', '지원', '스포츠', '지원', '재계', '비', '인기', '종목', '꿈', '제주도', '지체', '장애인', '협회', '숨트기', '나들이', '프로그램', '진행', '제주도', '지체', '장애인', '협회', '숨트기', '나들이', '프로그램', '진행', '한국', '산업', '기술', '시험', '장애인', '오케스트라', '단', '창단', '경기도', '장애인체육', '회', '체육대회', '평가', '회', '개최', '글', '비즈', '마스크', '장', '기부', '부안군', '장애인', '일자리', '사업', '참여자', '수행', '기관', '모집', '전북도', '장애인', '활동', '사', '교육', '여성', '장애인', '수행', '기관', '공모', '저축은행', '중앙회', '저축은행', '사회', '활동', '날', '김태흠', '충남도지사', '장애인', '꿈', '희망', '드릴', '것', '삼성', '전자', '한국', '장애인', '고용', '공단', '자회사', '장애인', '표준', '사업', '설립', '협약', '하루', '번', '장애인', '단체', '장연', '시위', '호선', '지연', '예고', '광주시', '남구', '제', '남구', '장애인', '문화', '예술제', '팡파르', '광주시', '남구', '제', '남구', '장애인', '문화', '예술제', '팡파르', '동정', '기일', '복지', '차관', '발달장애', '주간', '활동', '기관', '방문', '삼성', '전자', '중', '증장', '애인', '중심', '자회사', '표준', '사업', '설립', '청각장애', '재난', '사각', '지대', '빨간', '불', '근육', '장애인', '위협', '생명', '대안', '없나', '괴산군', '학교', '밖', '청소년', '센터', '지역', '농산물', '활용', '요리', '프로그램', '저축은행', '중앙회', '저축은행', '사회', '활동', '날', '봉사활동', '실천', '청년', '발달장애', '자립', '성남시', '내년', '대폭', '지원', '충남', '개발', '공사', '지체', '장애인', '자활', '나눔', '쾌척', '경기도', '전국', '처음', '장애인', '직업', '재활', '시설', '훈련', '장애인', '기회', '수당', '사업', '추진', '충남', '개발', '공사', '지체', '장애인', '자활', '위', '나눔', '전달', '경기도', '전국', '처음', '장애인', '직업', '재활', '시설', '훈련', '장애인', '기회', '수당', '사업', '추진', '장애인', '단체', '시위', '호선', '운행', '지연', '예정', '충남도', '발달장애', '복지', '향상', '투입', '임소연', '미래', '온', '장애인', '홍', '전', '장애인', '스포츠', '네트워크', '구축', '최연', '숙', '장애인', '알권리', '보장', '장애', '인복', '지법', '개정안', '발의', '법리', '남', '충남도', '발달장애', '복지', '향상', '투입', '창립', '주년', '저축은행', '업계', '소외', '이웃', '봉사활동', '경기도', '장애인체육', '회', '글', '비즈', '마스크', '장', '기부', '삼성', '전자', '장애인', '자립', '자회사', '장애인', '표준', '사업', '설립', '추진', '광주', '남구', '제', '장애인', '문화', '예술제', '개최', '금호', '석화', '시각장애', '인용', '흰지팡이', '후', '원금', '전달', '제', '남구', '장애인', '문화', '예술제', '팡파르', '광주', '축구', '협회', '장애인체육', '국가대표', '유니폼', '후원', '경기도', '장애인체육', '회', '글', '비즈', '라이프', '필', '일회용', '마스크', '장', '기부', '벤츠', '파이', '낸셜', '서비스', '코리아', '임', '직원', '사회', '공헌', '활동', '진행', '충남', '지체', '장애인', '날', '행사', '개최', '서초구', '발달장애', '숨통', '공간', '메타', '버스', '플랫폼', '기보', '김장', '나누기', '법률', '서비스', '지원', '취약', '계층', '겨울나기', '도', '금호', '석유화학', '시각장애', '인용', '흰지팡이', '제작', '후', '원금', '전달', '충남', '지체', '장애인', '날', '행사', '개최', '서초구', '발달장애', '숨통', '공간', '메타', '버스', '플랫폼', '기보', '김장', '나누기', '법률', '서비스', '지원', '취약', '계층', '겨울나기', '도', '한국', '국토', '정보', '공사', '청송', '영양', '지사', '지역', '사랑', '부활동', '실시', '광주', '남구', '제', '남구', '장애인', '문화', '예술제', '개최', '충남도', '발달장애', '복지', '향상', '투입', '국회', '장애인', '예산', '반영', '장연', '지하철', '승', '하차', '시위', '유보', '정읍시', '장애인', '자립', '지원', '맞춤', '일자리', '제공', '삼성', '전자', '한국', '장애인', '고용', '공단', '자회사', '장애인', '표준', '사업', '설립', '손', '삼성', '전자', '한국', '장애인', '고용', '공단', '자회사', '장애인', '표준', '사업', '설립', '손', '이혜정', '파주시', '의원', '반려동물', '진료', '비', '지원', '발의', '공공기관', '장애인', '오케스트라', '단', '창단', '저축은행', '업계', '창립', '주년', '전국', '봉사활동', '추진', '삼성', '전자', '한국', '장애인', '고용', '공단', '자회사', '장애인', '표준', '사업', '설립', '협약', '장연', '지하철', '시위', '잠정', '중단', '장애인', '권리', '예산', '일부', '반영', '장연', '지하철', '시위', '세운', '장애인', '활동', '지원', '예산', '무엇', '삼성', '전자', '상생', '가치', '위', '다양한', '활동', '전개', '금호', '석유화학', '시각장애', '인용', '흰지팡이', '개', '후원', '서초구', '서초', '발달장애', '숨통', '공간', '개최', '금호', '석유화학', '시각장애', '인용', '흰지팡이', '개', '후원', '서초구', '서초', '발달장애', '숨통', '공간', '개최', '괴산군', '학교', '밖', '청소년', '센터', '지역', '농산물', '활용', '요리', '프로그램', '실시', '사천시', '제', '사천시', '배', '경남', '장애인', '탁구', '대회', '료', '장연', '시위', '유보', '장애인', '예산', '일부', '반영', '희망', '전라북도', '광역', '지원', '센터', '민간', '위탁', '철회', '충남도', '발달장애', '복지', '향상', '총력', '청각장애', '한국', '설리번', '홍', '유미', '헬렌켈러', '센터', '굿', '피플', '식사', '지원', '사업', '모두', '끼', '의', '일환', '부산', '독거', '노인', '및', '장애', '가정', '김장', '김치', '나눔', '행사', '동참', '행복', '충북', '사회', '복지', '개발', '회', '장애인', '건강', '증진', '협약', '기술', '보증', '기금', '취약', '계층', '위', '김장', '봉사', '무료', '법률', '지원', '장애인', '오케스트라', '단', '창단', '장애', '예술인', '명', '채용', '발달장애', '특', '지원', '주택', '입주', '최종', '점검', '충남', '발달장애', '복지', '향상', '투입', '지하철', '호선', '장애인', '단체', '장연', '시위', '출근길', '지연', '예정', '벤츠', '파이', '낸셜', '서비스', '임', '직원', '사회', '공헌', '활동', '전개', '경남', '장애인', '재활', '협회', '장애', '가정', '아동', '성장', '멘토링', '종결', '브이', '드림', '장애인', '직원', '소속', '감', '고취', '위', '다양한', '활동', '전개', '광주', '남구', '제', '남구', '장애인', '문화', '예술제', '팡파르', '장연', '요구', '장애인', '예산', '반영', '시위', '당분간', '유보', '광주', '남구', '제', '남구', '장애인', '문화', '예술제', '팡파르', '장연', '요구', '장애인', '예산', '반영', '시위', '당분간', '유보', '서초구', '발달장애', '숨통', '공간', '메타', '버스', '플랫폼', '전국', '최초', '권리', '중심', '장애인', '평생교육', '온라인', '과정', '경기도', '직업', '훈련', '장애인', '대상', '기회', '수당', '도입', '전국', '광역', '지자체', '최초', '전북도', '장애인', '활동', '원사', '교육', '기관', '공모', '한국', '산업', '기술', '시험', '장애인', '오케스트라', '단', '창단', '오산시', '장애인', '및', '가족', '프로필', '사진촬영', '후원', '기탁', '개최', '괴산', '학교', '밖', '청소년', '센터', '지역', '농산물', '활용', '요리', '프로그램', '실시', '저축은행', '업계', '전국', '기부', '봉사활동', '경기도', '직업', '훈련', '장애인', '매달', '기회', '수당', '전국', '최초', '지급', '저축은행', '업계', '전국', '기부', '봉사활동', '경북', '교육청', '내년', '전국', '장애인', '체전', '선수단', '훈련', '비', '지원', '금융', '단신', '캠코', '서금', '금융', '취약', '계층', '재기', '지원', '강화', '위', '업무', '협약', '체결', '등', '속보', '장애인', '안전한', '세상', '호선', '출근길', '시위', '기보', '취약', '계층', '사랑', '김장', '나누기', '무료', '법률', '상담', '지원', '삼성', '전자', '한국', '장애인', '고용', '공단', '장애인', '일자리', '창', '위', '자회사', '장애인', '표준', '사업', '설립', '추진', '충남도', '발달장애', '복지', '향상', '투입', '한국', '마사회', '연수', '지사', '환경', '개선', '지원', '및', '방역', '봉사활동', '정신장애인', '원활한', '취업', '기회', '확대', '노력', '정신장애인', '원활한', '취업', '기회', '확대', '노력', '금호', '석유화학', '한국', '시각장애인', '복지관', '흰지팡이', '후', '원금', '전달', '충남도', '발달장애', '복지', '향상', '투입', '대원', '제약', '취약', '층', '위', '김장', '나누기', '사회', '공헌', '활동', '장애인', '오케스트라', '단', '창단', '창', '단식', '개최', '제주도', '지체', '장애인', '협회', '숨트기', '나들이', '프로그램', '진행', '경기도', '직업', '훈련', '장애인', '대상', '기회', '수당', '도입', '일산', '병원', '재활', '의학과', '재활', '의학', '봉사', '수상', '지역', '봉사활동', '등', '기여', '장애인', '운동', '기후', '정의', '운동', '삼성', '전자', '한국', '장애인', '고용', '공단', '자회사', '장애인', '표준', '사업', '설립', '협약', '삼성', '전자', '한국', '장애인', '고용', '공단', '자회사', '장애인', '표준', '사업', '설립', '협약', '한국', '부동산', '행복', '주거', '환경', '개선', '봉사활동', '실시', '금호', '석화', '시각장애', '인용', '흰지팡이', '제작', '후원', '시각장애인', '위', '기술', '지원', '사격', '서초구', '발달장애', '숨통', '공간', '메타', '버스', '플랫폼', '오산시', '새마을금고', '장애인', '가족', '추억', '사진', '선물', '경상북도', '시각장애인', '복지관', '경북', '시각장애인', '아름다운', '선율', '선사', '브이', '드림', '장애인', '직원', '소속', '감', '고취', '위', '다양한', '활동', '진행', '경기도', '직업', '훈련', '장애인', '수당', '전국', '광역', '지자체', '최초', '도입', '의료', '지원', '자발', '동참', '일산', '병원', '재', '의학', '봉사', '수상', '국회', '복지', '위', '장애인', '권리', '예산', '증액', '장연', '지하철', '투쟁', '유보', '청송', '영양', '지사', '지역', '사랑', '부활동', '실시', '광주', '남구', '장애인', '문화', '예술제', '개최', '에이', '블업', '장애인', '오케스트라', '단', '창단', '시사회', '서비스', '장애인', '체육', '선수', '동행', '울산', '산재', '장애인', '법률자문', '단', '억울한', '일', '없게', '모두', '행복한', '사회', '최선', '실로', '시각', '장복', '네팔', '장애인', '위', '경제', '자립', '지원', '사업', '실시', '청년', '발달장애', '자립', '성남시', '내년', '대폭', '지원', '금호', '석화', '시각장애', '인용', '흰지팡이', '제작', '후원', '경기도', '직업', '훈련', '장애인', '기회', '수당', '지원', '전국', '최초', '포스코', '발달', '장애', '어린이', '치료', '제작', '활동', '경기도', '광역', '단체', '중', '전국', '최초', '훈련', '장애인', '기회', '수당', '도입', '추진', '사천시', '장애인', '종합', '복지관', '장애인', '활동', '지원', '우수', '장애인', '동권', '요구', '장연', '수능', '일인', '지하철', '시위', '중단', '삼성', '전자', '자회사', '장애인', '표준', '사업', '설립', '장애인', '오케스트라', '사회', '자립', '위', '선율', '린다', '임영웅', '팬클럽', '중', '증장', '애인', '보호', '시설', '봉사활동', '부금', '전달', '안전', '보건', '공단', '장애인', '고용', '공단', '장애인', '고용', '산재', '예방', '손', '한국', '부동산', '대구', '지역', '거취', '계층', '주택', '개', '보수', '봉사활동', '이상민', '세종', '에이치', '대표', '지역', '청년', '여성', '장애인', '일자리', '창', '매진', '것', '보험', '업계', '연말', '맞이', '사회', '공헌', '활동', '전개', '오산시', '장애인', '및', '가족', '프로필', '사진촬영', '후원', '기탁', '평생교육', '온라인', '장애인', '야학', '가요', '광양시', '소식', '청년', '주택', '대출', '이자', '지원', '사업', '대상자', '모집', '등', '전북도', '장애인', '활동', '원사', '교육', '기관', '여성', '장애인', '교육', '지원', '사업', '수행', '기관', '공모', '오세훈', '거취', '층', '비극', '반복', '거주', '지원', '것', '종합', '경기도', '직업', '훈련', '장애인', '대상', '기회', '수당', '도입', '전국', '광역', '지자체', '최초', '발달장애', '자녀', '부모', '눈물', '하소연', '한국', '부동산', '대구', '지역', '거취', '계층', '대상', '주택', '개', '보수', '활동', '포토', '창립', '주년', '저축은행', '업계', '전국', '각지', '사회', '봉사활동', '진행', '포토', '창립', '주년', '저축은행', '업계', '전국', '각지', '사회', '봉사활동', '진행', '대웅제약', '의약', '보국', '경영', '이념', '바탕', '다양한', '사회', '공헌', '활동', '눈길', '경기도', '장애인', '직업', '재활', '시설', '훈련', '장애인', '기회', '수당', '사업', '추진', '양평군', '장애인', '복지관', '치유', '농업', '프로그램', '운영', '효성', '장애인', '배리어프리', '영화', '제작', '지원', '중랑구', '장애인', '소득', '아동', '스포츠', '활동', '지원', '킨텍스', '취약', '계층', '위', '김장', '김치', '지원', '금호', '석유화학', '시각장애', '인용', '흰지팡이', '제작', '후원', '포스코', '발달', '장애', '어린이', '치료', '제작', '활동', '성남시', '발달장애', '시세', '수준', '임대주택', '지원', '정은경', '희망', '소리', '이사장', '음악', '사회', '활동', '확산', '이천시', '의회', '장애인', '태권도', '협회', '등', '간담', '회', '개최', '성남시', '경기도', '첫', '청년', '발달장애', '주택', '지원', '장애인', '근로자', '고용', '안전', '보건', '체계', '지원', '마음', '동행', '쌍봉', '복지관', '장기', '근속', '활동', '원사', '워크숍', '경기도', '장애인', '편의', '시설', '설치', '도민', '촉', '진단', '장애인', '개선', '캠페인', '김동연', '표', '직업', '훈련', '장애인', '기회', '수당', '전국', '광역', '지자체', '최초', '고양시', '일산동구', '보건소', '장애인', '특', '차량', '운영', '정읍시', '맞춤', '장애인', '일자리', '창', '자립', '지원', '강화', '스템', '임플란트', '치과의사', '사랑', '가득한', '식사', '봉사활동', '전개', '스템', '임플란트', '치과의사', '사랑', '가득한', '식사', '봉사활동', '전개', '충남', '개발', '공사', '지체', '장애인', '자활', '후', '원금', '원', '기탁', '독거', '노인', '장애인', '다문화', '가정', '난방', '유', '지원', '김민재', '선수', '장애인', '스포츠', '지원', '위드', '플레이', '동참', '정책', '탐구생활', '장애인', '배제', '친환경', '정책', '정책', '논의', '장애인', '없다', '이혜정', '파주시', '의회', '의원', '장애인', '및', '소득', '계층', '반려동물', '진료', '비', '등', '부담', '완화', '지원', '조례', '안', '대표', '발의', '유명무실', '장애인스포츠', '강좌', '이용권', '일부', '지역', '가맹', '점', '곳', '장애인체육', '회', '연세', '재활', '의학과', '업무', '협약', '체결', '민주당', '장애인', '위원장', '최', '증장', '애인', '조연우', '씨', '세종시', '정신장애인', '취업', '기회', '확대', '의성', '장애인', '보호', '작업장', '가친', '기업', '인증', '금호', '석화', '시각장애', '인용', '흰지팡이', '제작', '후원', '삼성', '전자', '한국', '장애인', '고용', '공단', '자회사', '장애인', '표준', '사업', '설립', '협약', '속보', '서울', '지하철', '호선', '호선', '호선', '장연', '장애인', '단체', '시위', '일정', '유명무실', '장애인', '스포츠', '강좌', '이용권', '일부', '지역', '가맹', '점', '곳', '사진', '포스팅', '시각장애인', '위', '고도화', '참여', '경기', '성남시', '발달장애', '청년', '위', '주택', '마련', '손', '한국', '부동산', '행복', '주거', '환경', '개선', '봉사활동', '한국', '부동산', '대구', '서구', '종합', '사회', '복지관', '거취', '계층', '주택', '개', '보수', '봉사활동', '실시', '법원', '장애인', '임원', '도', '근로자', '인정', '땐', '고용', '장려', '금', '대상', '법원', '장애인', '임원', '도', '근로자', '인정', '땐', '고용', '장려', '금', '대상', '충남', '발달장애', '복지', '향상', '투입', '용인시', '장애인', '시설', '코로나', '우울', '치유', '맞춤', '외부', '활동', '사업', '지원', '경북', '교육청', '전국', '장애인', '체전', '대비', '겨울', '담금질', '시작', '금호', '석유화학', '시각장애', '인용', '흰지팡이', '후원', '전달', '지역', '사회', '가요', '벤츠', '파이', '낸셜', '서비스', '코리아', '사회', '공헌', '활동', '전개', '한국', '장애인', '고용', '공단', '장애인', '안전한', '일터', '장애인', '오케스트라', '단', '창단', '단원', '명', '채용', '안전', '보건', '공단', '장애인', '고용', '공단', '체결', '민선', '기', '경기도', '직업', '훈련', '장애인', '대상', '기회', '수당', '도입', '전국', '광역', '지자체', '최초', '안전', '보건', '공단', '장애인', '고용', '공단', '체결', '민선', '기', '경기도', '직업', '훈련', '장애인', '대상', '기회', '수당', '도입', '전국', '광역', '지자체', '최초', '효성', '장애인', '배리어프리', '영화', '제작', '지원', '성남시', '전국', '최초', '청년', '특화', '발달장애', '자립', '지원', '주택', '추진', '청송', '영양', '지사', '지역', '사랑', '부활동', '실시', '장수군', '노인장', '애인', '복지관', '여성', '장애인', '문화', '활동', '실시', '용인시', '장애인', '코로나', '블루', '치유', '일상', '활', '수', '있도록', '텔레콤', '시각장애인', '위', '린지', '시각', '보조', '서비스', '고도화', '장연', '서울', '지하철', '호선', '장애인', '단체', '시위', '서산', '교육', '활발한', '활동', '청소년', '교육', '적극', '지원', '서산', '교육', '활발한', '활동', '청소년', '교육', '적극', '지원', '효성', '장애인', '배리어프리', '영화', '제작', '지원', '신복위', '서금', '중', '증장', '애인', '시설', '사랑', '김장', '나눔', '행사', '실시', '창원', '장애인', '종합', '복지관', '차량', '무상', '점검', '실시', '서울', '지하철', '호선', '또', '지연', '우려', '장연', '장애인', '단체', '시위', '전개', '성남시', '청년', '발달장애', '주택', '지원', '경기도', '처음', '경기도', '전국', '광역', '지자체', '최초', '직업', '훈련', '장애인', '대상', '기회', '수당', '도입', '효성', '장애인', '배리어프리', '영화', '제작', '지원', '이천시', '의회', '장애인', '체육', '활동', '개선', '인식', '공감', '틀', '마련', '저축은행', '연말', '사회', '공헌', '나눔', '활동', '이웃', '사랑', '실천', '저축은행', '연말', '사회', '공헌', '나눔', '활동', '이웃', '사랑', '실천', '텔레콤', '시각장애인', '위', '시각', '보조', '서비스', '고도화', '앞장', '장연', '호선', '장애인', '권리', '예산', '확보', '시위', '예정', '오늘', '일정', '및', '이유', '킨텍스', '취약', '계층', '위', '김장', '김치', '지원', '기보', '장애인', '복지관', '김장', '봉사', '무료', '법률', '서비스', '장애인', '안전한', '일터', '만듭니', '성남시', '발달장애', '시세', '수준', '임대주택', '지원', '금호', '석유화학', '한국', '시각장애인', '복지관', '후', '원금', '전달', '효성', '장애인', '배리어프리', '영화', '제작', '지원', '우리', '농업', '본부', '농협', '하남', '지부', '사랑', '김장', '장애인', '복지관', '전달', '우리', '농업', '본부', '농협', '하남', '지부', '사랑', '김장', '장애인', '복지관', '전달', '서초구', '발달장애', '숨통', '공간', '메타', '버스', '플랫폼', '속보', '서울', '지하철', '장애인', '단체', '시위', '일정', '수능', '조선대', '장애', '학생', '지원', '센터', '학생', '자치', '회', '장애인', '개선', '교육', '진행', '안전', '보건', '공단', '장애인', '고용', '공단', '장애인', '고용', '산재', '예방', '손', '효성', '장애인', '배리어프리', '영화', '제작', '지원', '고양', '특례시', '일산동구', '보건소', '장애인', '특', '차량', '운영', '이원덕', '우리은행', '임', '직원', '올레길', '코스', '플로', '깅', '활동', '장애인체육', '회', '연세', '재활', '의학과', '업무', '협약', '체결', '경기도', '직업', '훈련', '장애인', '대상', '기회', '수당', '전국', '첫', '도입', '장애인체육', '회', '연세', '재활', '의학과', '업무', '협약', '체결', '경기도', '직업', '훈련', '장애인', '대상', '기회', '수당', '전국', '첫', '도입', '용인시', '장애인', '거주', '시설', '곳', '외부', '활동', '사계', '만끽', '지원', '삼성', '전자', '자회사', '중', '증장', '애인', '고용', '추진', '장수군', '귀농', '귀촌', '협의', '회', '장수군', '노인장', '애인', '복지관', '후원', '물품', '전달', '민간', '후원', '폐지', '위기', '처', '장애인', '도움', '콜', '성동구', '의회', '정례', '회', '개회', '각종', '지원', '조례', '안', '상정', '장애인', '센터', '장애인', '복지관', '협약', '남양주시', '장애인', '복지관', '성장', '멘토링', '종결', '개최', '금호', '석유화학', '시각장애', '인용', '흰지팡이', '제작', '후', '원금', '전달', '금호', '석유화학', '시각장애', '인용', '흰지팡이', '제작', '후', '원금', '전달', '정읍', '성폭력', '담소', '장애인', '성폭력', '학대', '예방', '합동', '점검', '용인', '장애인', '시설', '코로나', '우울', '치유', '맞춤', '외부', '활동', '사업', '지원', '시각장애인', '위', '참여', '캠페인', '추진', '울산', '소식', '롯데', '정밀', '화학', '노조', '장애인', '건강검진', '비', '지원', '등', '벤츠', '파이', '낸셜', '지역', '사회', '공헌', '활동', '지속', '성남시', '도내', '첫', '청년', '발달장애', '주택', '지원', '삼성', '전자', '한국', '장애인', '고용', '공단', '자회사', '장애인', '표준', '사업', '킨텍스', '취약', '계층', '위', '김장', '김치', '지원', '행사', '성황리', '진행', '장애인', '활동', '지원', '사의', '안전한', '근로', '환경', '조성', '보상', '체계', '개선', '필요', '킨텍스', '취약', '계층', '위', '김장', '김치', '지원', '행사', '성황리', '진행', '장애인', '활동', '지원', '사의', '안전한', '근로', '환경', '조성', '보상', '체계', '개선', '필요', '한국', '마사회', '한국', '장애인', '고용', '공단', '사회', '공헌', '업무', '협약', '안전', '보건', '장애인', '고용', '산재', '예방', '공동', '노력', '추진', '한국', '석유', '공사', '목', '공예품', '전달', '행사', '노사', '공동', '작품', '울산', '장애인', '종합', '복지관', '기부', '저축은행', '중앙회', '창립', '주년', '전국', '각지', '사회', '봉사활동', '진행', '현대', '그룹', '나눔', '재단', '중증', '발달장애', '지역', '사회', '체험', '효성', '장애인', '배리어프리', '영화', '제작', '지원', '장애인', '비장', '애인', '하나', '세상', '시흥', '하나', '더하기', '안덕', '희', '대표', '부산시', '복지', '예산', '줄', '삭감', '노인', '장애인', '지원', '사업', '파행', '콘', '진원', '제', '장애인', '게임', '접근성', '진흥', '토론회', '개최', '경기', '본부', '성남시', '발달장애', '청년', '자립', '지원', '주택', '사업', '추진', '성남시', '경기도', '첫', '청년', '발달장애', '주택', '지원', '효성', '장애인', '배리어프리', '영화', '제작', '지원', '안전', '보건', '공단', '장애인', '고용', '공단', '장애인', '안전', '일터', '만들기', '공동', '노력', '텔레콤', '시각장애인', '서비스', '고도화', '린지', '김제', '특수교육', '지원', '센터', '장애인', '행시', '공모전', '완료', '속보', '서울', '지하철', '호선', '장연', '장애인', '단체', '시위', '일정', '삼각지', '혜화역', '삭발', '금호', '석유화학', '시각장애', '인용', '흰지팡이', '제작', '후원', '경연', '발달장애', '그림', '공모전', '작품', '구매', '기념', '개최', '장애인', '고용', '공단', '안전', '보건', '공단', '안전한', '일터', '장수군', '귀농', '귀촌', '협의', '회', '노인장', '애인', '복지관', '후원', '물품', '전달', '용인', '장애인', '시설', '코로나', '우울', '치유', '맞춤', '외부', '활동', '지원', '시각장애인', '위', '참여', '캠페인', '추진', '포천', '발달장애', '우리', '존중', '외치', '경기도', '직업', '훈련', '장애인', '대상', '기회', '수당', '도입', '전국', '광역', '지자체', '최초', '파라다이스', '복지', '재단', '장애인', '비장', '애인', '청소년', '예술', '축제', '제', '아이소리', '축제', '개최', '한국', '장애인', '고용', '공단', '장애인', '직업', '생활', '상담', '양성', '교육', '정읍시', '장애인', '일자리', '사업', '참여자', '명', '모집', '펫', '트리', '움', '한국', '장애인', '도우미', '견', '협회', '봉사활동', '경기도', '월', '직업', '훈련', '장애인', '기회', '수당', '도입', '전국', '광역', '지자체', '최초', '성남시', '발달장애', '청년', '주택', '지원', '등', '개', '사업', '추진', '사천', '울림', '발달장애', '활동', '센터', '청소년', '장애인', '방과후', '활동', '지원', '효성', '장애인', '문화', '장벽', '해소', '배리어프리', '영화', '제작', '지원', '장애인', '고용', '공단', '경기도', '기술', '학교', '실습', '용', '차량', '기증', '남구', '장애인', '문화', '예술제', '팡파르', '금호', '석유화학', '시각장애', '인용', '흰지팡이', '제작', '후원', '남양주시', '장애인', '복지관', '끝', '새로운', '시작', '성장', '멘토링', '종결', '장애인', '안전한', '일터', '만듭니', '안전', '보건', '공단', '장애인', '고용', '공단', '고용', '산재', '예방', '공동', '노력', '기술', '보증', '기금', '취약', '계층', '겨울나기', '위해', '김장', '나누기', '법률', '서비스', '지원', '장애인', '단체', '장연', '지하철', '시위', '호선', '운행', '지연', '예정', '안산시', '의회', '장애인', '일자리', '창', '고용', '촉진', '등', '의원', '발의', '조례', '안', '건', '심의', '효성', '장애인', '제약', '배리어프리', '영화', '제작', '지원', '에너지', '경제', '연구원', '발달장애', '그림', '공모전', '작품', '구매', '서울', '지하철', '장연', '장애인', '단체', '시위', '호선', '열차', '이상', '지연', '발달장애', '아름', '바둑', '대회', '첫', '개최', '전남', '고흥군', '관광', '취약', '계층', '행복여행', '활동', '지원', '참가자', '모집', '울주군', '지적', '발달장애', '복지', '협회', '제', '어울림', '마당', '행사', '율촌', '율', '서초구', '사회', '경제', '통합', '센터', '업무', '협약', '체결', '고양시', '일산동구', '보건소', '장애인', '특', '차량', '운영', '율촌', '율', '서초구', '사회', '경제', '통합', '센터', '업무', '협약', '체결', '고양시', '일산동구', '보건소', '장애인', '특', '차량', '운영', '경북', '교육청', '전국', '장애인체육', '대회', '대비', '선수단', '훈련', '비', '지원', '효성', '장애인', '배리어프리', '영화', '제작', '지원', '전남대', '산학', '협력', '단', '장애인', '스포츠선수', '명', '채용', '정읍시', '맞춤', '장애인', '일자리', '창', '자립', '지원', '강화', '저축은행', '중앙회', '그린', '워킹', '기부', '린지', '로', '부금', '장애인', '재활', '단체', '전달', '포스코', '장애인', '유튜버', '도전', '그룹', '사', '취업', '기회', '안전', '보건', '공단', '장애인', '안전한', '일터', '장연', '지하철', '시위', '장애인', '활동', '지원', '예산', '사천시', '장애인', '종합', '복지관', '장애인', '활동', '지원', '사업', '우수', '기관', '선정', '고흥군', '관광', '취약', '계층', '행복여행', '활동', '지원', '사업', '추진', '장애인', '단체', '장연', '시위', '예비', '소집', '일', '수능', '당일', '중단', '금호', '석유화학', '시각장애', '인용', '흰지팡이', '후원', '쌍봉', '복지관', '장애인', '활동', '원사', '독감', '백신', '및', '검진', '비', '지원', '효성', '장애인', '배리어프리', '영화', '제작', '지원', '제', '장애인', '게임', '접근성', '진흥', '토론회', '지스타', '사회', '공헌', '활동', '에쓰오일', '에너지', '빈곤층', '난방', '유', '지원', '투쟁', '결', '의문', '장애인', '동권', '전주', '연대', '곽효철', '속보', '서울', '지하철', '장연', '장애인', '단체', '시위', '일정', '주목', '속보', '서울', '지하철', '장연', '장애인', '단체', '시위', '일정', '주목', '올해', '마지막', '장애인', '직업', '생활', '상담', '성교육', '스타트', '푸르메재단', '김민재', '선수', '위드', '플레이', '캠페인', '장애인', '스포츠', '중요성', '환기', '콘', '진원', '부산', '제', '장애인', '게임', '접근성', '진흥', '토론회', '개최', '사진', '장', '시각장애인', '일상', '행복', '착한', '장', '린지', '전개', '석유', '공사', '노사', '제작', '목', '공예품', '울산', '장애인', '종합', '복지관', '전달', '성남시', '청년', '발달장애', '주택', '지원', '경기도', '내', '처음', '금호', '석유화학', '시각장애', '인용', '흰지팡이', '제작', '후원', '효성', '장애인', '배리어프리', '영화', '제작', '지원', '포스코', '장애인', '유튜버', '지원', '포스코', '장애인', '유튜버', '채용', '서울', '우유', '장애인', '취업', '후원', '양주시', '업무', '협약', '서울', '본부', '청년', '장애인', '특', '지원', '주택', '하우스', '점검', '성남시', '시세', '수준', '임대료', '발달장애', '주택', '지원', '경기', '첫', '사례', '청송', '영양', '지사', '경북', '장애인', '종합', '복지관', '영양분', '관', '성금', '기탁', '탈', '시설', '시범', '사업', '속', '장애인', '고립', '대안', '시급', '한국', '장애인', '고용', '공단', '경기도', '기술', '학교', '실습', '용', '차량', '기증', '마사회', '한국', '장애인', '고용', '공단', '사회', '공헌', '업무', '협약', '체결', '김동연', '표', '기회', '수당', '전국', '최초', '직업', '훈련', '장애인', '대상', '도입', '장애인', '단체', '호선', '호선', '지하철', '시위', '또', '정선', '지역', '장애인', '스포츠', '산업', '활성화', '김제', '특수교육', '지원', '센터', '장애인', '행시', '공모전', '성황', '금호', '석유화학', '시각장애', '인용', '흰지팡이', '제작', '후', '원금', '전달', '걸음', '인천', '장애인', '자립', '센터', '김장', '나눔', '구슬', '땀', '린지', '시각장애인', '서비스', '고도화', '지원', '제', '장애인', '게임', '접근성', '진흥', '토론회', '개최', '효성', '장애인', '배리어프리', '영화', '제작', '지원', '세종', '지역', '정신장애인', '원활한', '취업', '기회', '제공', '장애인', '공단', '한국', '마사회', '사회', '공헌', '업무', '협약', '체결', '현대', '캐피탈', '고령자', '장애인', '지원', '서비스', '강화', '장애인', '공단', '한국', '마사회', '사회', '공헌', '업무', '협약', '체결', '현대', '캐피탈', '고령자', '장애인', '지원', '서비스', '강화', '안순', '전', '의원', '보라', '감독', '제', '한국', '장애인인권', '수상', '유명무실', '장애인', '스포츠', '강좌', '이용권', '일부', '지역', '가맹', '점', '곳', '함영주', '하나', '금융', '회장', '그룹', '활동', '긍정', '나비효과', '속보', '장애인', '단체', '시위', '지하철', '호선', '재개', '호선', '열차', '지연', '운행', '석유', '공사', '노사', '공동', '목', '공예품', '재능', '부활동', '전개', '시각장애인', '위', '고도화', '참여', '캠페인', '추진', '서울', '지하철', '호선', '삼각지역', '혜화역', '장연', '장애인', '단체', '선전', '전', '예고', '승', '하차', '시위', '없어', '속보', '서울', '지하철', '호선', '장연', '장애인', '단체', '시위', '공단', '고용', '개발', '장애인', '직업', '생활', '상담', '양성', '교육', '의성군', '장애인', '보호', '작업장', '문화', '체육관', '광부', '가친', '인증', '기업', '선정', '포토', '금호', '석유화학', '시각장애', '인용', '흰지팡이', '제작', '후원', '밀양', '온정', '장애인', '연금', '기부', '칠곡군', '증장', '애인', '자립', '지원', '센터', '청송', '주왕산', '발달장애', '사회', '적응', '활동', '포스팅', '시각장애인', '위', '고도화', '참여', '캠페인', '추진', '완주군', '청소년', '장애인', '스포츠', '활동', '지원', '울주군', '지적', '발달장애', '복지', '협회', '제', '어울림', '마당', '행사', '장애인', '효성', '배리어프리', '영화', '제작', '지원', '국가', '보조금', '원', '편취', '장애인', '지원', '시설', '관계자', '명', '송치', '국가', '보조금', '원', '편취', '장애인', '지원', '시설', '관계자', '명', '송치', '충청남도', '시각장애인', '복지관', '나눔', '행사', '고양시', '일산동구', '보건소', '장애인', '특', '차량', '운영', '중', '증장', '애인', '동권', '보건', '서비스', '접근성', '보장', '세종시', '정신장애인', '취업', '기회', '확대', '노력', '한콘진', '장애인', '게임', '접근', '진흥', '토론회', '개최', '제', '사천시', '배', '경남', '장애인', '탁구', '대회', '성황리', '개최', '이혜정', '파주시', '의회', '의원', '조례', '안', '발의', '장애인', '소득', '층', '반려동물', '진료', '비', '부담', '부산', '항만', '공사', '개', '공공기관', '우드', '펀딩', '기업', '성장', '지원', '외', '전남', '관광', '취약', '계층', '행복여행', '활동', '지원', '시', '군', '접수', '장애인', '순례', '편안한', '사찰', '어디', '김민재', '장애인', '스포츠', '푸르메재단', '위드', '플레이', '캠페인', '동참', '안전', '보건', '공단', '장애인', '고용', '공단', '경영', '추진', '공동', '협력', '업무', '협약', '시각장애인', '위', '고도화', '참여', '캠페인', '정읍시', '장애인', '일자리', '사업', '참여자', '모집', '효성', '장애인', '배리어프리', '영화', '제작', '지원', '사회', '경제', '시각장애인', '점자', '촉각', '교구', '개발', '보급', '담심포', '성남시', '청년', '발달장애', '주택', '도내', '처음', '지원', '잡', '정신장애인', '행복할까', '고흥군', '관광', '취약', '계층', '행복여행', '활동', '지원', '로', '시각장애인', '위', '고도화', '캠페인', '추진', '로', '선한', '영향력', '시각장애인', '위', '고도화', '석유', '공사', '장애인', '복지관', '노사', '공동', '제작', '목공', '품', '전달', '시민단체', '장애인', '활동', '지원', '수가', '현실', '삼성', '전자', '장애인', '표준', '사업', '설립', '임', '직원', '간식', '제조', '컨슈머', '장애인', '일상', '행복', '통신', '기업', '혁신', '기술', '눈', '정읍시', '장애인', '자립', '지원', '맞춤', '일자리', '제공', '한국', '장애인', '고용', '공단', '경기도', '기술', '학교', '학생', '실습', '용', '차량', '기증', '제주', '특별자치도', '장애인', '종합', '복지관', '가족', '휴식', '지원', '문화', '체험', '활동', '진행', '학교', '장애인', '기업', '계약', '대다수', '지역', '업체', '잠시', '한가원', '장애인', '가족', '위', '수어', '서비스', '다문화', '가족', '확대', '세종시', '정신건강', '복지', '센터', '걸음', '정신장애인', '취업', '협약', '전남', '취약', '계층', '하루', '여행', '비', '원', '지원', '거창', '장애인', '활동', '원사', '역량', '강화', '교육', '성남시', '발달장애', '청년', '주택', '지원', '효성', '장애인', '배리어프리', '영화', '제작', '지원', '상속', '인물', '사물', '사진', '시각장애인', '여수시', '장애인', '종합', '복지관', '주간', '보호', '실', '환경', '개선', '후원', '금호', '석유화학', '시각장애', '인용', '흰지팡이', '제작', '후원', '지원', '안전', '보건', '공단', '장애인', '공단', '장애인', '근로자', '산재', '예방', '손', '한국', '마사회', '한국', '장애인', '고용', '공단', '업무', '협약', '체결', '따뜻한', '기업', '효성', '장애인', '배리어프리', '영화', '제작', '지원', '한국', '마사회', '한국', '장애인', '고용', '공단', '업무', '협약', '체결', '포스코', '장애인', '유튜버', '꿈', '후원', '금호', '석유화학', '시각장애', '인용', '흰지팡이', '제작', '후원', '한국', '마사회', '한국', '장애인', '고용', '공단', '사회', '공헌', '업무', '협약', '전남대', '산학', '협력', '단', '장애인', '스포츠', '진흥', '앞장', '강릉', '유명무실', '장애인스포츠', '강좌', '이용권', '일부', '지역', '가맹', '점', '곳', '한국', '장애인', '고용', '공단', '마사회', '사회', '가치', '실현', '사회', '공헌', '업무', '협약', '정읍시', '장애인', '맞춤', '일자리', '제공', '장연', '삼각지역', '천막', '농성', '돌입', '장애인', '권리', '예산', '보장', '장연', '삼각지역', '천막', '농성', '돌입', '장애인', '권리', '예산', '보장', '고흥군', '관광', '취약', '계층', '행복여행', '활동', '지원', '사업', '참가자', '모집', '콘', '진원', '제', '장애인', '게임', '접근성', '진흥', '토론회', '개최', '사회', '공헌', '지원', '소외', '계층', '서부', '발전', '충청', '감사', '협', '아이', '공감', '나눔', '활동', '서울', '지하철', '호선', '호선', '장연', '장애인', '단체', '시위', '출근길', '지연', '야기', '하나', '박병욱', '한국', '지체', '장애인', '중앙회', '표창', '대구', '비산', '행정', '복지', '센터', '지역', '활', '센터', '장애인', '복지', '증진', '위', '업무', '협약', '경주', '사업', '총괄', '본부', '천안', '지점', '충남', '시각장애인', '복지관', '후원', '로', '선한', '영향력', '시각장애인', '일상', '행복', '더한다', '콘', '진원', '제', '장애인', '게임', '접근성', '진흥', '토론회', '개최', '로', '선한', '영향력', '시각장애인', '일상', '행복', '더한다', '기보', '부산', '남구', '장애인', '복지관', '취약', '계층', '겨울나기', '지원', '경기도', '직업', '재활', '시설', '직업', '훈련', '장애인', '전국', '최초', '기회', '수당', '지원', '서부', '발전', '충청', '감사', '협회', '지역', '장애인', '시설', '지원', '마사회', '장애인', '고용', '공단', '사회', '공헌', '업무', '협약', '체결', '경마', '성남시', '청년', '발달장애', '주택', '지원', '도내', '처음', '장애인체육', '회', '연세', '재활', '의학과', '장애인', '선수', '의료', '서비스', '협력', '속보', '장애인', '단체', '장연', '호선', '시위', '진행', '출근길', '열차', '지연', '누리', '장애인', '복지', '회', '발달장애', '합동', '결혼식', '진행', '성남시', '경기도', '최초', '발달장애', '청년', '주택', '지원', '누리', '장애인', '복지', '회', '발달장애', '합동', '결혼식', '진행', '텔레콤', '시각장애인', '위', '시각', '보조', '서비스', '고도화', '당신', '유튜브', '도전', '포스코', '장애인', '꿈', '지원', '손쉬운', '포스팅', '시각장애인', '위', '고도화', '참여', '캠페인', '추진', '성남시', '청년', '발달', '장애인', '주택지', '충청북도', '장애인체육', '회', '충청', '대학교', '체결', '도', '장애인', '직업', '재활', '시설', '훈련', '장애인', '기회', '수당', '사업', '도입', '추진', '거창군', '장애인', '활동', '원사', '역량', '강화', '하반기', '교육', '실시', '전남도', '관광', '취약', '계층', '행복여행', '활동', '지원', '우리', '금호', '석유화학', '시각장애', '인용', '흰지팡이', '제작', '후', '원금', '전달', '효성', '장애인', '배리어프리', '영화', '제작', '지원', '포스팅', '시각장애인', '위', '시각', '보조', '서비스', '고도화', '콘', '진원', '제', '장애인', '게임', '접근성', '진흥', '토론회', '개최', '포스코', '장애인', '대상', '유튜브', '콘텐츠', '공모전', '개최', '삼천리', '소외', '계층', '가스', '안전', '사랑', '나눔', '등', '친환경', '봉사활동', '보성', '애인', '재활', '전국', '지도자', '대회', '한국', '마사회', '한국', '장애인', '고용', '공단', '사회', '가치', '실현', '위', '사회', '공헌', '업무', '협약', '체결', '성남시', '청년', '발달장애', '주택', '지원', '등', '종합', '정책', '마련', '국회', '향', '활동', '지원', '수가', '현실', '촉구', '한국', '마사회', '장애인', '고용', '공단', '사회', '공헌', '사업', '업무', '협약', '체결', '국회', '향', '활동', '지원', '수가', '현실', '촉구', '석유', '공사', '울산', '장애인', '복지관', '노사', '공동', '제작', '목', '공예품', '전달', '성남시', '청년', '발달장애', '주택', '지원', '안양시', '의회', '장애인체육', '회', '직장', '운동경기', '부', '선수단', '숙소', '현장', '방문', '돈', '걱정', '운동', '중랑구', '장애인', '등', '수강', '료', '지원', '전주시', '여성', '자원', '활동', '센터', '사랑', '김장', '김치', '나눔', '금호', '석유화학', '시각장애', '인용', '흰지팡이', '제작', '후원', '안전', '보건', '공단', '장애인', '고용', '공단', '장애인', '고용', '산재', '예방', '공동', '노력', '추진', '시각장애인', '위', '고도화', '참여', '캠페인', '추진', '성남시', '청년', '발달장애', '주택', '지원', '도내', '처음', '한국', '콜마', '임', '직원', '명', '송파구', '소득', '장애인', '가정', '사랑', '도시락', '나눔', '봉사', '내년', '장애인', '활동', '원수', '책정', '용인시', '처', '장애인', '복지관', '체험', '공간', '오픈', '시각장애인', '위', '시각', '보조', '인공', '지능', '서비스', '고도화', '전북도', '장애인', '활동', '원사', '교육', '기관', '공모', '전남', '관광', '취약', '계층', '행복여행', '활동', '지원', '참가자', '모집', '위기', '가족', '지원', '장애인', '직업', '재활', '협력', '콘', '진원', '제', '장애인', '게임', '접근성', '진흥', '토론회', '개최', '제주시', '발달장애', '지원', '사업', '운영', '안내', '광주', '장애인', '근로자', '지원', '센터', '장애인', '복지관', '협약', '현대', '캐피탈', '고령', '층', '장애인', '고객', '위', '맞춤', '서비스', '효성', '장애인', '배리어프리', '영화', '제작', '지원', '임', '직원', '더빙', '오디오', '트', '녹음', '참여', '경남', '지체', '장애인', '협회', '거창군', '회', '탑', '치과', '업무', '협약', '체결', '포천시', '장애인', '가족', '지원', '센터', '부모', '초청', '자녀', '건강한', '성장', '교육', '시각장애인', '지하철도', '공연', '찬밥', '신세', '유유', '테', '이진', '호흡기', '장애인', '가을', '여행', '후원', '체험', '소통', '활동', '지역', '어린이', '건강한', '성장', '지원', '린지', '통해', '시각장애인', '서비스', '고도화', '속보', '장애인', '단체', '지하철', '호선', '시위', '종료', '지연', '최소', '중', '장애인', '든든한', '버팀목', '고창', '장애인', '복지관', '개관', '주년', '행사', '발달', '센터', '제주', '우리', '복지관', '발달장애', '체계', '구축', '협약', '속보', '장애인', '단체', '시위', '종료', '지하철', '호선', '열차', '지연', '운행', '음악', '열정', '꿈', '노래', '툴', '뮤직', '제', '장애인', '음악', '콩쿠르', '개최', '성남시', '도내', '최초', '청년', '발달장애', '주택', '지원', '출근길', '지하철', '시위', '장애인', '동권', '요구', '예산', '장애인', '고용', '근무', '환경', '개선', '장애인', '단체', '시위', '지하철', '호선', '진행', '열차', '운행', '지연', '사천시', '장애인', '종합', '복지관', '장애인', '활동', '지원', '사업', '평가', '우수', '기관', '선정', '걸음', '인천', '장애인', '자립생활', '센터', '김장', '나눔', '행사', '사랑', '듬뿍', '김치', '취약', '계층', '밥상', '걸음', '인천', '장애인', '자립생활', '센터', '김장', '나눔', '행사', '사랑', '듬뿍', '김치', '취약', '계층', '밥상', '복지', '장관', '장애인', '복지', '시스템', '점검', '취약', '층', '보호', '총력', '전남대', '산학', '협력', '단', '장애인', '스포츠', '진흥', '앞장', '사회보장', '정보원', '탁금', '추계', '시스템', '운영', '확대', '예산', '집행', '효율', '지원', '한국', '시각장애', '인용', '점자', '태그', '제작', '전남', '관광', '취약', '계층', '행복여행', '활동', '지원', '문화', '예술', '지원', '인력', '장애', '예술인', '발전', '밑거름', '브이', '드림', '베트남', '정부', '장애인', '재활', '센터', '업무', '협약', '진행', '현대', '캐피탈', '고령', '층', '장애인', '맞춤', '서비스', '확대', '도전', '장애인', '기회', '수당', '일', '대전', '발달', '센터', '제주', '우리', '복지관', '발달장애', '체계', '구축', '손', '완주군', '유청', '소년', '장애인', '스포츠', '활동', '지원', '도내', '장애인', '자립', '기반', '조성', '박차', '로', '영향력', '시각장애인', '고도화', '킨텍스', '지역', '사회', '상생', '다양한', '활동', '추진', '터', '박병욱', '달인', '찜닭', '대표', '한국', '지체', '장애인', '중앙회', '표창', '속보', '지하철', '호선', '장애인', '단체', '시위', '운행', '지연', '정읍시', '맞춤', '장애인', '일자리', '자립', '지원', '안양시', '의회', '장애인체육', '회', '직장', '운동경기', '부', '선수단', '숙소', '방문', '장애인', '단체', '호선', '호선', '지하철', '시위', '시작', '기차', '탈선', '출근길', '혼잡', '장애인', '활동', '지원', '수가', '대구시', '장애인체육', '회', '보건', '업무', '협약', '체결', '광주', '여대', '치', '위생', '학과', '하람', '장애인', '주간', '보호', '센터', '장애인', '대상', '구강', '보건', '교육', '봉사', '실시', '김재훈', '스펙트럼', '게임', '편견', '없다', '스포츠', '장애인', '사회', '통로', '전남대', '산학', '협력', '단', '장애인', '스포츠', '진흥', '앞장', '광주', '장애인', '근로자', '지원', '센터', '장애인', '복지관', '협약', '성남시', '경기', '도내', '처음', '청년', '발달장애', '주택', '지원', '생산', '협력', '장애인', '자립', '도', '경북', '교육청', '전국', '장애인', '체전', '대비', '겨울', '담금질', '경남', '소식', '내년', '장애인스포츠', '강좌', '이용권', '지원', '금액', '기간', '확대', '브이', '드림', '베트남', '정부', '장애인', '재활', '센터', '업무', '협약', '속보', '호선', '천호역', '운행', '지연', '장애인', '단체', '시위', '급식', '제공', '가사', '활동', '지원', '맞춤', '복지로', '삶', '질', '향상', '안동시', '노인', '복지', '사업', '눈길', '장애인', '고용', '공단', '한국', '마사회', '사회', '공헌', '협업', '한국', '마사회', '한국', '장애인', '고용', '공단', '사회', '공헌', '업무', '협약', '고흥군', '관광', '취약', '계층', '행복', '여행', '활동', '지원', '참가자', '모집', '장애인', '단체', '지하철', '시위', '계속', '호선', '호선', '호선', '꽉', '듯', '포스코', '장애인', '유튜브', '경진', '대회', '개최', '음성', '소식', '조병옥', '군수', '개', '현안', '사업', '특별', '교부', '세', '지원', '건의', '등', '안재현', '시각장애인', '위해', '깜짝', '선행', '안재현', '시각장애인', '위해', '깜짝', '선행', '사진', '장애인', '자녀', '엄마', '마음', '이야기', '마음', '보고', '개최', '성남시', '시세', '수준', '청년', '발달장애', '주택', '지원', '현대', '캐피탈', '고령자', '장애인', '고객', '대상', '서비스', '확대', '경기도', '전구', '광역', '지자체', '최초', '장애인', '직업', '재활', '시설', '훈련', '장애인', '기회', '수당', '사업', '도입', '추진', '골프', '존뉴딘', '그룹', '대전', '지역', '연말', '봉사활동', '시행', '이웃', '사랑', '실천', '효성', '장애인', '배리어프리', '영화', '제작', '지원', '세종시', '정신장애인', '원활한', '취업', '기회', '확대', '시각장애인', '위', '고도화', '참여', '캠페인', '추진', '전남대', '산학', '협력', '단', '장애인', '스포츠', '진흥', '앞장', '장애인', '단체', '시위', '서울', '지하철', '호선', '재개', '운행', '지연', '우려', '장연', '지하철', '장애인', '출근길', '시위', '재개', '호선', '호선', '호선', '호선', '이용', '자제', '체육', '활동', '월', '지원', '국민', '체육', '진흥', '공단', '스포츠', '이용권', '접수', '서울', '우유', '양주시', '장애인', '취업', '활성화', '위', '업무', '협약', '체결', '로', '선한', '영향력', '시각장애인', '일상', '행복', '더한다', '충남', '아산', '아산시', '소득', '장애인', '의료', '비', '기부', '에어', '퍼스트', '평택', '이음', '터', '장애인', '직업', '적응', '훈련', '센터', '노트북', '기증', '퍼솔', '켈리', '코리아', '사회', '공헌', '활동', '확장', '미래', '동반', '재단', '후원', '절', '가면', '장애인', '참배', '문제', '없어요', '충주', '장애인', '자립', '지원', '센터', '자립', '날', '행사', '료', '골프', '존뉴딘', '그룹', '대전', '지역', '연말', '봉사활동', '시행', '사천시', '가족', '센터', '장애인', '보호', '작업장', '협약', '석유', '공사', '장애인', '복지관', '노사', '공동', '제작', '목', '공예품', '전달', '활동', '지원', '예산', '증액', '국회', '결', '위로', '그림', '악기', '연주', '발달장애', '아닌', '우린', '예술가', '사회인', '텔레콤', '로', '선한', '영향력', '시각장애인', '일상', '양적', '팽창', '장애인', '일자리', '사업', '과제', '산적', '전북', '전주시', '여성', '자원', '활동', '센터', '사랑', '김장', '김치', '나눔', '고령자', '장애인', '지원', '강화', '현대', '캐피탈', '경영', '눈', '전남', '보성', '애인', '재활', '전국', '지도자', '대회', '개최', '전남', '보성', '애인', '재활', '전국', '지도자', '대회', '개최', '킨텍스', '취약', '계층', '위', '김장', '김치', '지원', '한국', '석유', '공사', '목', '공예품', '점', '장애인', '복지관', '전달', '훈훈', '의성군', '장애인', '가족', '지원', '센터', '장애인', '가족', '문화', '체험', '실시', '미국', '상공회의소', '미래', '동반', '재단', '장애인', '고용', '지원', '프로젝트', '운영', '시작', '발달', '장애인', '청년', '주택', '지원', '경기', '성남시', '효성', '장애인', '배리어프리', '영화', '제작', '지원', '주', '에어', '퍼스트', '이음', '터', '장애인', '직업', '적응', '훈련', '센터', '노트북', '기증', '전남도', '관광', '취약', '계층', '행복여행', '활동', '지원', '호선', '천호역', '여의도역', '장애인', '단체', '시위', '종료', '여파', '운행', '지연', '경기', '발달', '센터', '발달장애', '자', '모임', '수행', '기관', '간담', '회', '개최', '한국', '마사회', '장애인', '사회', '가치', '실현', '앞장', '골프', '존뉴딘', '그룹', '대전', '지역', '연말', '봉사활동', '이웃', '사랑', '실천', '영국', '영향력', '있는', '장애인', '선정', '배스', '울', '한국', '시각장애인', '생활용품', '안전', '개선', '가평군', '장애인체육', '회', '특수교육', '대상', '학생', '운동', '용품', '지원', '안동대', '장애', '학생', '지원', '센터', '장애', '성인', '힐링캠프', '프로그램', '운영', '호응', '행복감', '향상', '속보', '서울', '지하철', '호선', '호선', '장연', '장애인', '단체', '시위', '예고', '지연', '우려', '전남', '인재', '평생교육', '장애인', '여기', '행복', '데이', '인기', '현대', '캐피탈', '고령자', '장애인', '위', '맞춤', '서비스', '확대', '경성대', '차차차', '발달장애', '인과', '가족', '가을', '힐링', '체육대회', '료', '경기도', '직업', '훈련', '장애인', '대상', '기회', '수당', '도입', '전국', '광역', '지자체', '최초', '경기도', '예술인', '기회', '소득', '장애인', '기회', '수당', '지급', '김동연', '발', '가치', '창', '사업', '가동', '투쟁', '결', '의문', '열악한', '장애인', '삶', '예산', '필요합니다', '최', '규정', '고흥군', '취약', '계층', '행복여행', '활동', '지원', '사업', '참가자', '모집', '정읍시', '맞춤', '장애인', '일자리', '창', '자립', '지원', '강화', '포스코', '유튜버', '장애인', '도전', '한국', '마사회', '한국', '장애인', '고용', '공단', '사회', '공헌', '업무', '협약', '체결', '전남인', '평원', '장애인', '대상', '여기', '행복', '데이', '인기', '서부', '발전', '충청', '감사', '협', '공감', '나눔', '활동', '전개', '광주', '장애인', '센터', '제주', '상담', '업무', '협약', '대구', '달성군', '장애인', '거주', '시설', '사망', '사건', '재발', '방지책', '마련', '스포', '노', '믹스', '문체부', '장관', '하이닉스', '장애인', '스포츠', '저변', '고흥군', '장애인', '소득', '층', '취약', '계층', '대상', '알찬', '여행', '기회', '제공', '장애인', '편하게', '삼성', '물산', '하티', '스트', '한국', '마사회', '한국', '장애인', '고용', '공단', '사회', '공헌', '업무', '협약', '체결', '장애인', '스포츠', '발전', '방향', '콘', '진원', '제', '장애인', '게임', '접근성', '진흥', '토론회', '개최', '인천', '보호관찰', '소', '사랑', '방충', '망', '교체', '지원', '특기', '사회', '봉사활동', '공단', '대전', '지역', '본부', '시각장애', '인용', '점자', '도서', '제작', '지원', '서울', '하우스', '현장', '점검', '장애', '비', '장애', '청년', '공간', '지원', '인터뷰', '시각장애인', '유튜버', '령', '공부', '때', '책', '게', '정말', '어려웠죠', '서울시', '대우건설', '주거', '안전', '취약', '계층', '지원', '아산', '교육지원청', '장애', '학생', '인권', '원단', '정기', '협의', '회', '개최', '단체', '위', '브릿지', '경기도', '장애인', '가족', '지원', '센터', '감사패', '수상', '골프', '존뉴딘', '그룹', '대전', '지역', '연말', '봉사활동', '시행', '이웃', '사랑', '실천', '콘', '진원', '제', '장애인', '게임', '접근성', '진흥', '토론회', '개최', '장애인', '부모', '연대', '발달장애', '지원', '체계', '절실', '취업', '주거', '지원', '정신장애인', '자립', '쌍봉', '복지관', '활동', '지원', '사업', '이용자', '건강', '재료', '지원', '고흥군', '관광', '취약', '계층', '여행', '활동', '비', '지원', '서울', '우유', '양주시', '장애인', '일자리', '취업', '활성화', '후원', '골프', '존뉴딘', '그룹', '대전', '지역', '연말', '봉사활동', '진행', '전남인', '평원', '장애인', '대상', '여기', '행복', '데이', '인기', '장애', '공감', '제주', '사회', '제주', '장애인', '원하는', '다양한', '평생교육', '프로그램', '제공', '중랑구', '취약', '계층', '스포츠', '활동', '지원', '사회', '기업', '툴', '뮤직', '내달', '장애인', '음악', '콩쿠르', '개최', '한국', '시각장애인', '접근성', '점자', '태그', '제작', '의정부시', '장애인체육', '회', '신임', '이사', '위촉', '및', '의정부', '쾌척', '방', '병원', '업무', '협약', '시각장애인', '위', '고도화', '참여', '캠페인', '추진', '전남', '지역', '발달장애', '자', '모임', '활동', '작품', '전시회', '개최', '전남', '지역', '발달장애', '자', '모임', '활동', '작품', '전시회', '개최', '장애인', '사회', '자립', '삼성', '전자', '자회사', '표준', '사업', '설립', '정', '청소년', '문화', '집', '천안시장', '애인', '종합', '복지관', '장애인', '개선', '캠페인', '운영', '안양시', '의회', '총무', '경제', '위원회', '안양시', '장애인체육', '회', '직장', '운동경기', '부', '선수단', '숙소', '방문', '양주시', '서울', '우유', '협동조합', '중', '증장', '애인', '카페', '사업', '후원', '협약', '텔레콤', '시각장애인', '위해', '참여', '캠페인', '추진', '사회', '가치', '창', '기대', '안재현', '시각장애인', '위해', '깜짝', '선행', '점', '묵자', '도서', '제작', '봉사활동', '장애인', '동권', '위해', '현대차', '시각장애인', '맞춤', '아이오', '닉', '기증', '현대', '자동차', '충북도', '시각장애인', '특', '차량', '기증', '세종시', '걸음', '정신장애인', '취업', '기회', '확대', '업무', '협약', '세종시', '걸음', '정신장애인', '취업', '기회', '확대', '업무', '협약', '전남', '관광', '취약', '계층', '행복여행', '활동', '경비', '지스타', '장애인', '스포츠', '발전', '방향', '논의', '의정부시', '장애인체육', '회', '신임', '이사', '위촉', '쾌척', '방', '병원', '업무', '협약', '체결', '익산시', '소득', '층', '유', '청소년', '등', '스포츠', '활동', '지원', '확대', '금호', '석유화학', '시각장애', '인용', '흰지팡이', '제작', '후원', '위해', '전달', '위', '브릿지', '경기도', '장애인', '가족', '지원', '센터', '감사패', '수상', '보성', '애인', '재활', '전국', '지도자', '대회', '성남시', '발달장애', '임대', '주택', '지원', '스마일', '통장', '등', '개', '종합', '지원', '대책', '마련', '정신장애인', '권익', '옹호', '관점', '변화', '절실', '성남', '발달장애', '자립', '가족', '생계', '부담', '던다', '정신장애인', '권익', '옹호', '관점', '변화', '절실', '경남', '장애인스포츠', '강좌', '이용권', '신청', '모집', '규홍', '복지', '장관', '장애인', '시설', '차세대', '사회보장', '애로', '청취', '현대차', '시각장애인', '동권', '위', '차', '기증', '소상', '공인', '플랙진', '충주', '장애인', '부모', '회', '의류', '후원', '산시', '장애인', '노인', '아동', '맞춤', '서비스', '강화', '안양시', '의회', '총무', '경제', '위원회', '시', '장애인체육', '회', '직장', '운동', '부', '숙소', '방문', '마사회', '한국', '장애인', '고용', '공단', '사회', '공헌', '업무', '협약', '체결', '서울', '우유', '양주시', '중', '증장', '애인', '카페', '사업', '하나', '금융', '모두하나', '데이', '캠페인', '선포', '봉사활동', '전개', '부여', '성심', '장애인', '가정', '냉장고', '전달', '보성', '애인', '재활', '전국', '지도자', '대회', '정신질환', '당사자', '고용', '지원', '서비스', '혁신', '필요하다', '장애인', '비장', '애인', '화합', '장', '창원', '남쪽', '바다', '합창단', '창단', '대우건설', '서울시', '해비타트', '반지하', '거주', '장애인', '주거', '환경', '개선', '대구시', '장애인체육', '회', '보건', '지역', '장애인스포츠', '네트워크', '구축', '위', '체결', '서울', '우유', '양주시', '장애인', '일자리', '창', '지원', '손쉬운', '포스팅', '시각장애인', '위', '고도화', '참여', '캠페인', '추진', '장애인', '스포츠', '활동', '참여', '기회', '경남', '전', '군', '지원', '확대', '한국', '한국', '소비자원', '시각장애인', '생활용품', '안전', '개선', '전남도', '관광', '취약', '계층', '행복여행', '활동', '지원', '사업', '참가자', '모집', '사천시', '제', '비장', '애인', '장애인', '건강', '걷기', '대회', '료', '서부', '경남', '시각장애인', '서비스', '고도화', '위', '착한', '장', '린지', '진행', '장애인', '고용', '공단', '경기도', '기술', '학교', '학생', '실습', '용', '차량', '기증', '현대차', '시각장애인', '맞춤', '아이오', '닉', '장애인', '이동', '지원', '센터', '기증', '단독', '강북구', '장애인', '지원', '시설', '국가', '보조금', '편취', '명', '검찰', '송치', '태백시', '유', '기질', '비료', '지원', '사업', '추진', '김경일', '파주시장', '장애인', '권익', '증진', '위해', '더욱', '안양시', '의회', '총무', '제위', '장애인체육', '회', '직장', '운동경기', '부', '숙소', '방문', '김경일', '파주시장', '장애인', '권익', '증진', '위해', '더욱', '현대차', '시각장애인', '맞춤', '차량', '기증', '전남', '관광', '취약', '계층', '행복여행', '활동', '지원', '안양시', '의회', '총무', '제위', '장애인체육', '회', '직장', '운동경기', '부', '숙소', '방문', '대구', '남구', '종합', '남구', '전국', '최초', '석', '미만', '장애인', '전문', '극장', '편의', '시설', '구축', '성남시', '경기도', '내', '최초', '청년', '발달장애', '주택', '지원', '한국', '마사회', '한국', '장애인', '고용', '공단', '사회', '공헌', '업무', '협약', '체결', '한국', '건강', '관리', '협회', '부산', '동부', '검진', '센터', '동래', '동래구', '장애인', '협회', '후', '원금', '전달', '전남대', '산학', '협력', '단', '장애인', '체육', '선수', '명', '고용', '콘', '진원', '제', '장애인', '게임', '접근성', '진흥', '토론회', '개최', '전남대', '산학', '협력', '단', '장애인', '체육', '선수', '명', '고용', '전라남도', '관광', '취약', '계층', '행복여행', '활동', '지원', '콘', '진원', '제', '장애인', '게임', '접근성', '진흥', '토론회', '개최', '우편', '분류', '사서', '보조', '행정', '도우미', '장애인', '적합한', '일자리', '약속', '파기', '강동구청', '장애', '계단', '기어', '안전', '보건', '공단', '전북', '지역', '본부', '취약', '시설', '안전', '보건', '지원', '위', '안전', '지킴', '활동', '익산시', '유', '청소년', '및', '장애인', '스포츠', '복지', '강화', '동해시', '도심', '공원', '구간', '장애인', '위', '무장애', '조성', '경남', '장애인스포츠', '강좌', '이용권', '신청', '모집', '성남시', '발달장애', '청년', '주택', '지원', '사업', '동해시', '도심', '공원', '구간', '장애인', '위', '무장애', '조성', '경남', '장애인스포츠', '강좌', '이용권', '신청', '모집', '성남시', '발달장애', '청년', '주택', '지원', '사업', '골프', '존뉴딘', '그룹', '대전', '지역', '연말', '봉사활동', '시행', '이웃', '사랑', '실천', '취약', '계층', '스포츠', '활동', '지원', '중랑', '장애인', '맞춤', '취업', '서비스', '안정', '일자리', '청각장애', '재난', '사각', '지대', '빨간', '불', '안동대', '장애', '학생', '지원', '센터', '장애', '성인', '힐링캠프', '프로그램', '발달장애', '아름', '바둑', '대회', '료', '발달장애', '독립', '사회생활', '한번', '하우스', '가구', '내달', '입주', '금호', '석화', '시각장애인', '흰지팡이', '지원', '장애인', '개발', '랜선', '개도국', '장애', '전문가', '연수', '금호', '석유화학', '시각장애', '인용', '흰지팡이', '제작', '후', '원금', '전달', '일산', '장애인', '자립생활', '센터', '비즈공예', '자', '모임', '참여자', '모집', '로', '시각장애인', '일상', '행복', '더', '순천시', '소득', '층', '등', '관광', '취약', '계층', '여행', '지원', '지역', '장애인', '가정', '김치', '전달', '현대차', '시각장애인', '동권', '향상', '위', '차량', '기증', '김예지', '의원', '문체부', '내년', '장애인', '예산', '대폭', '증액', '의미', '있는', '일', '안재현', '시각장애인', '위해', '깜짝', '선행', '점', '묵자', '도서', '제작', '봉사활동', '참여', '김예지', '의원', '문체부', '내년', '장애인', '예산', '대폭', '증액', '의미', '있는', '일', '안재현', '시각장애인', '위해', '깜짝', '선행', '점', '묵자', '도서', '제작', '봉사활동', '참여', '양주시', '서울', '우유', '협동조합', '중', '증장', '애인', '카페', '사업', '후원', '협약', '체결', '홍성군', '중', '증장', '애인', '자립생활', '지원', '센터', '건립', '제안', '충남', '아산', '아산시', '소득', '장애인', '의료', '비', '기부', '평택시', '주', '에어', '퍼스트', '이음', '터', '장애인', '직업', '적응', '훈련', '센터', '노트북', '기증', '전남대', '산학', '협력', '단', '장애인', '스포츠', '진흥', '앞장', '이천시', '장애인', '자립생활', '센터', '장애인', '인권', '문화제', '개최', '전남', '관광', '취약', '계층', '행복여행', '활동', '지원', '시', '군', '접수', '전남대', '장애인', '스포츠', '진흥', '앞장', '지난', '업무', '협약', '함영주', '하나', '금융', '회장', '취약', '계층', '지원', '활동', '모두', '긍정', '나비효과', '효성', '장애인', '위', '배리어프리', '영화', '제작', '원금', '전달', '잠시', '한가원', '장애인', '가족', '위', '수어', '서비스', '다문화', '가족', '확대', '서부', '발전', '충청', '감사', '협', '공감', '나눔', '활동', '전개', '양주시', '서울', '우유', '협동조합', '중', '증장', '애인', '카페', '사업', '후원', '협약', '체결', '심회', '돌', '장애인', '인식', '개선', '호소', '김경일', '파주시장', '관내', '장애인', '단체', '소통', '간담', '회', '진행', '한국', '마사회', '한국', '장애인', '고용', '공단', '사회', '가치', '실현', '사회', '공헌', '업무', '협약', '체결', '콘', '진원', '지스타', '장애인', '스포츠', '발전', '가능성', '정책', '논의', '인천', '수어', '통역', '센터', '곳', '센터', '지원', '기초', '단체', '아산', '교육지원청', '장애', '학생', '인권', '원단', '정기', '협의', '회', '개최', '골프', '존뉴딘', '그룹', '대전', '지역', '연말', '봉사활동', '시행', '효성', '올해', '베리', '프리', '영화', '지원', '임', '직원', '목소리', '참여', '안동대', '장애', '학생', '지원', '센터', '학년', '장애', '성인', '힐링캠프', '프로그램', '운영', '서울', '장애인', '자립', '지원', '역행', '약자', '동행', '어', '불성', '설', '국토', '위', '예산', '심사', '돌입', '장연', '장애인', '동권', '예산', '증액', '태백시', '유', '청소년', '장애인', '스포츠', '강좌', '이용권', '신청', '모집', '한국', '마사회', '한국', '장애인', '고용', '공단', '사회', '공헌', '업무', '협약', '체결', '사회', '가치', '실현', '익산시', '유', '청소년', '장애인', '스포츠', '강좌', '이용', '혜택', '확대', '한국', '거래소', '베트남', '장애인', '빈곤', '가정', '암소', '전달', '김경일', '파주시장', '장애인', '단체', '소통', '간담', '회', '개최', '청주시', '내년', '스포츠', '강좌', '장애인스포츠', '이용권', '신청', '모집', '태백', '유', '청소년', '및', '장애인', '스포츠', '강좌', '이용권', '신청', '모집', '신한카드', '고령', '층', '청각장애', '대상', '금융', '교육', '진행', '마사회', '장애인', '고용', '공단', '사회', '공헌', '실천', '뜻', '포스코', '장애인', '유튜버', '꿈', '지원', '현대차', '시각장애인', '동권', '향상', '위해', '아이오', '닉', '기증', '규홍', '장관', '장애인', '거주', '시설', '방문', '복지', '시스템', '안정화', '총력', '안재현', '시각장애인', '위해', '점', '묵자', '도서', '제작', '봉사활동', '참여', '중구', '의회', '강혜순', '의장', '발달장애', '교사', '간담', '회', '안재현', '시각장애인', '위해', '점', '묵자', '도서', '제작', '봉사활동', '투쟁', '결', '의문', '장애인', '권리', '예산', '쟁취', '우리', '꼭', '조동현', '사회', '경제', '고령자', '장애인', '문제', '기술', '해결', '오에이', '블', '효성', '장애인', '배리어프리', '영화', '제작', '지원', '현대', '캐피탈', '고령', '층', '장애인', '고객', '맞춤', '서비스', '전남도', '관광', '취약', '계층', '행복여행', '활동', '지원', '제주시', '발달장애', '지원', '사업', '통해', '보호자', '부담', '경감', '제', '제주', '국제', '장애인인권', '영화제', '개최', '번영', '노동', '배제', '장애인', '차별', '불평등', '역사', '문경시', '장애인', '종합', '복지관', '빵', '나눔', '꿈', '더하기', '최종', '평가', '회', '실시', '문경시', '장애인', '종합', '복지관', '빵', '나눔', '꿈', '더하기', '최종', '평가', '회', '실시', '서울', '유유', '중', '증장', '애인', '카페', '사업', '후원', '협약', '의정부시', '의정부시', '장애인체육', '회', '신임', '이사', '위촉', '및', '의정부', '쾌척', '방', '병원', '업무', '협약', '체결', '서부', '발전', '충청', '감사', '협', '공감', '나눔', '활동', '전개', '노후', '사회', '복지', '시설', '환경', '개선', '봉사활동', '실시', '공기업', '오늘', '지체', '장애인', '날', '기념', '대구', '지체', '장애인', '대회', '개최', '경성대', '차차차', '발달장애', '인과', '가족', '가을', '힐링', '체육대회', '료', '현대', '캐피탈', '고령', '층', '장애인', '맞춤', '서비스', '선봬', '전남도', '소득', '층', '행복여행', '활동', '지원', '숙경', '전남도', '의원', '장애인', '체육', '선수', '관심', '지원', '촉구', '숙경', '전남도', '의원', '장애인', '체육', '선수', '관심', '지원', '촉구', '창립', '주년', '특집', '인권', '없는', '인권', '도시', '광주', '장애인', '정책', '광주', '움', '의', '구현', '한국', '시각장애인', '생활용품', '안전', '개선', '점자', '태그', '제작', '김경일', '파주시장', '관내', '장애인', '단체', '소통', '간담', '회', '개최', '라이온', '시각장애', '인용', '점자', '태그', '제작', '지원', '완주군', '유', '청소년', '장애인', '스포츠', '활동', '지원', '서울', '우유', '장애인', '취업', '활성화', '위', '협약', '체결', '경성대', '차차차', '발달장애', '미니', '올림픽', '료', '장애인', '체육', '활동', '참여', '기회', '보장', '이상근', '고성', '군수', '다비', '체육', '문화센터', '현장', '점검', '기지역', '장애인', '권익', '옹호', '자립', '지원', '손', '장애인', '체육', '활동', '참여', '기회', '보장', '이상근', '고성', '군수', '다비', '체육', '문화센터', '현장', '점검', '기지역', '장애인', '권익', '옹호', '자립', '지원', '손', '현대차', '시각장애', '인용', '아이오', '닉', '장애인', '지원', '센터', '기증', '대구시', '장애인체육', '회', '보건', '장애인', '스포츠', '네트워크', '손', '배우', '안재현', '시각장애인', '위해', '깜짝', '선행', '점', '묵자', '도서', '제작', '지속', '가능', '가치', '창', '현대', '사회', '공헌', '주거', '교육', '장애인', '집중', '한국', '마사회', '한국', '장애인', '고용', '공단', '사회', '가치', '실현', '위', '사회', '공헌', '업무', '협약', '체결', '서울', '우유', '장애인', '일자리', '창', '적극', '은실', '전', '의원', '도전', '중증', '발달장애', '위', '공간', '약속', '것', '예산', '꿈빛', '학교', '예산군', '장애인', '복지관', '진로', '교육', '활성화', '위', '업무', '협약', '실시', '예산', '꿈빛', '학교', '예산군', '장애인', '복지관', '진로', '교육', '활성화', '위', '업무', '협약', '실시', '브이', '드림', '베트남', '정부', '장애인', '재활', '센터', '업무', '협약', '체결', '현대', '캐피탈', '고령자', '장애인', '고객', '위', '서비스', '확대', '거래소', '베트남', '장애인', '빈곤', '가정', '가구', '암소', '전달', '한국', '마사회', '한국', '장애인', '고용', '공단', '사회', '공헌', '업무', '협약', '용인시', '중증', '정신장애인', '자립', '미로', '한국', '시각장애인', '위', '점자', '태그', '제작', '상당', '제품', '기부', '유유', '테', '이진', '호흡기', '장애', '가을', '여행', '지원', '서울', '우유', '협동조합', '중', '증장', '애인', '카페', '사업', '후원', '제주', '장애인체육', '발전', '포럼', '감정', '코칭', '행복한', '체육', '강연', '마련', '장연', '시위', '일정', '서울', '지하철', '호선', '장애인', '단체', '시위', '지연', '또', '서부', '발전', '충청', '감사', '협', '공감', '나눔', '활동', '전개', '김경일', '파주시장', '장애인', '단체', '소통', '간담', '회', '개최', '한국', '마사회', '한국', '장애인', '고용', '공단', '사회', '가치', '실현', '위', '사회', '공헌', '업무', '협약', '체결', '용인', '특례시', '장애인', '시설', '코로나', '우울', '치유', '맞춤', '외부', '활동', '사업', '지원', '현대차', '시각장애', '인용', '아이오', '닉', '장애인', '지원', '센터', '기증', '신한카드', '고령', '층', '사회', '초년', '생', '청각장애', '대상', '금융', '교육', '진행', '맥도날드', '장애인', '문화', '협회', '코리아', '후드', '써비', '스', '식품', '기부', '협약', '애인', '재활', '보성', '전국', '지도자', '대회', '생활', '경제', '이슈', '서울', '우유', '양주시', '장애인', '일자리', '위', '업무', '협약', '체결', '생활', '경제', '이슈', '서울', '우유', '양주시', '장애인', '일자리', '위', '업무', '협약', '체결', '청년', '장애인', '웹툰', '아카데미', '작품', '발표', '수료식', '열악한', '현실', '속', '생명', '위협', '근육', '장애인', '기아', '초록', '여행', '장애인', '고객', '대상', '패키지', '여행', '공모', '안양시', '의회', '총무', '경제', '위원회', '안양시', '장애인체육', '회', '직장', '운동경기', '부', '선수단', '숙소', '현장', '방문', '국내', '기부', '단체', '위', '브릿지', '장애인', '가정', '여가', '문화', '활동', '진행', '현대차', '시각장애인', '동권', '향상', '위', '차량', '기증', '경영', '강화', '현대', '캐피탈', '고령', '층', '장애인', '맞춤', '서비스', '확대', '전남도', '관광', '취약', '계층', '행복여행', '활동', '지원', '산청', '지역', '활', '센터', '생활', '속', '문화', '활동', '실시']\n"
          ]
        }
      ]
    },
    {
      "cell_type": "code",
      "source": [
        "counts = Counter(noun_adj)\n",
        "tags = counts.most_common(50)\n",
        "print(tags)"
      ],
      "metadata": {
        "colab": {
          "base_uri": "https://localhost:8080/"
        },
        "id": "fhpu7fhpwXUJ",
        "outputId": "dd55214e-05f9-4dd0-fdc7-93d840767322"
      },
      "execution_count": null,
      "outputs": [
        {
          "output_type": "stream",
          "name": "stdout",
          "text": [
            "[('장애인', 613), ('지원', 247), ('활동', 131), ('발달장애', 105), ('한국', 86), ('사업', 79), ('위', 77), ('사회', 77), ('협약', 72), ('공단', 69), ('고용', 67), ('시각장애인', 63), ('제작', 60), ('센터', 59), ('계층', 57), ('개최', 57), ('시위', 50), ('회', 49), ('복지관', 48), ('업무', 48), ('취약', 46), ('전국', 46), ('경기도', 45), ('지역', 43), ('호선', 43), ('봉사활동', 41), ('단체', 41), ('기회', 40), ('공헌', 39), ('장연', 39), ('후원', 38), ('체결', 38), ('서비스', 36), ('스포츠', 36), ('복지', 35), ('지하철', 35), ('제', 35), ('추진', 34), ('서울', 32), ('청년', 32), ('전달', 32), ('직업', 31), ('자립', 31), ('일자리', 31), ('예산', 31), ('훈련', 31), ('성남시', 31), ('주택', 31), ('장애인체육', 30), ('애인', 30)]\n"
          ]
        }
      ]
    },
    {
      "cell_type": "markdown",
      "source": [
        "# 예산 인원 수 회귀\n"
      ],
      "metadata": {
        "id": "TQjv1JOEe8au"
      }
    },
    {
      "cell_type": "code",
      "source": [
        "disabled_df"
      ],
      "metadata": {
        "id": "VIQaQ5QdwXHc",
        "colab": {
          "base_uri": "https://localhost:8080/",
          "height": 300
        },
        "outputId": "52202e86-5e70-46eb-a217-32d41c31b4ff"
      },
      "execution_count": 15,
      "outputs": [
        {
          "output_type": "execute_result",
          "data": {
            "text/plain": [
              "      yearly_budget\n",
              "2015           4679\n",
              "2016           5221\n",
              "2017           6061\n",
              "2018           6907\n",
              "2019           9685\n",
              "2020          13057\n",
              "2021          15070\n",
              "2022          17405"
            ],
            "text/html": [
              "\n",
              "  <div id=\"df-8b174209-a3f6-4ace-b12f-1f1102af59f3\">\n",
              "    <div class=\"colab-df-container\">\n",
              "      <div>\n",
              "<style scoped>\n",
              "    .dataframe tbody tr th:only-of-type {\n",
              "        vertical-align: middle;\n",
              "    }\n",
              "\n",
              "    .dataframe tbody tr th {\n",
              "        vertical-align: top;\n",
              "    }\n",
              "\n",
              "    .dataframe thead th {\n",
              "        text-align: right;\n",
              "    }\n",
              "</style>\n",
              "<table border=\"1\" class=\"dataframe\">\n",
              "  <thead>\n",
              "    <tr style=\"text-align: right;\">\n",
              "      <th></th>\n",
              "      <th>yearly_budget</th>\n",
              "    </tr>\n",
              "  </thead>\n",
              "  <tbody>\n",
              "    <tr>\n",
              "      <th>2015</th>\n",
              "      <td>4679</td>\n",
              "    </tr>\n",
              "    <tr>\n",
              "      <th>2016</th>\n",
              "      <td>5221</td>\n",
              "    </tr>\n",
              "    <tr>\n",
              "      <th>2017</th>\n",
              "      <td>6061</td>\n",
              "    </tr>\n",
              "    <tr>\n",
              "      <th>2018</th>\n",
              "      <td>6907</td>\n",
              "    </tr>\n",
              "    <tr>\n",
              "      <th>2019</th>\n",
              "      <td>9685</td>\n",
              "    </tr>\n",
              "    <tr>\n",
              "      <th>2020</th>\n",
              "      <td>13057</td>\n",
              "    </tr>\n",
              "    <tr>\n",
              "      <th>2021</th>\n",
              "      <td>15070</td>\n",
              "    </tr>\n",
              "    <tr>\n",
              "      <th>2022</th>\n",
              "      <td>17405</td>\n",
              "    </tr>\n",
              "  </tbody>\n",
              "</table>\n",
              "</div>\n",
              "      <button class=\"colab-df-convert\" onclick=\"convertToInteractive('df-8b174209-a3f6-4ace-b12f-1f1102af59f3')\"\n",
              "              title=\"Convert this dataframe to an interactive table.\"\n",
              "              style=\"display:none;\">\n",
              "        \n",
              "  <svg xmlns=\"http://www.w3.org/2000/svg\" height=\"24px\"viewBox=\"0 0 24 24\"\n",
              "       width=\"24px\">\n",
              "    <path d=\"M0 0h24v24H0V0z\" fill=\"none\"/>\n",
              "    <path d=\"M18.56 5.44l.94 2.06.94-2.06 2.06-.94-2.06-.94-.94-2.06-.94 2.06-2.06.94zm-11 1L8.5 8.5l.94-2.06 2.06-.94-2.06-.94L8.5 2.5l-.94 2.06-2.06.94zm10 10l.94 2.06.94-2.06 2.06-.94-2.06-.94-.94-2.06-.94 2.06-2.06.94z\"/><path d=\"M17.41 7.96l-1.37-1.37c-.4-.4-.92-.59-1.43-.59-.52 0-1.04.2-1.43.59L10.3 9.45l-7.72 7.72c-.78.78-.78 2.05 0 2.83L4 21.41c.39.39.9.59 1.41.59.51 0 1.02-.2 1.41-.59l7.78-7.78 2.81-2.81c.8-.78.8-2.07 0-2.86zM5.41 20L4 18.59l7.72-7.72 1.47 1.35L5.41 20z\"/>\n",
              "  </svg>\n",
              "      </button>\n",
              "      \n",
              "  <style>\n",
              "    .colab-df-container {\n",
              "      display:flex;\n",
              "      flex-wrap:wrap;\n",
              "      gap: 12px;\n",
              "    }\n",
              "\n",
              "    .colab-df-convert {\n",
              "      background-color: #E8F0FE;\n",
              "      border: none;\n",
              "      border-radius: 50%;\n",
              "      cursor: pointer;\n",
              "      display: none;\n",
              "      fill: #1967D2;\n",
              "      height: 32px;\n",
              "      padding: 0 0 0 0;\n",
              "      width: 32px;\n",
              "    }\n",
              "\n",
              "    .colab-df-convert:hover {\n",
              "      background-color: #E2EBFA;\n",
              "      box-shadow: 0px 1px 2px rgba(60, 64, 67, 0.3), 0px 1px 3px 1px rgba(60, 64, 67, 0.15);\n",
              "      fill: #174EA6;\n",
              "    }\n",
              "\n",
              "    [theme=dark] .colab-df-convert {\n",
              "      background-color: #3B4455;\n",
              "      fill: #D2E3FC;\n",
              "    }\n",
              "\n",
              "    [theme=dark] .colab-df-convert:hover {\n",
              "      background-color: #434B5C;\n",
              "      box-shadow: 0px 1px 3px 1px rgba(0, 0, 0, 0.15);\n",
              "      filter: drop-shadow(0px 1px 2px rgba(0, 0, 0, 0.3));\n",
              "      fill: #FFFFFF;\n",
              "    }\n",
              "  </style>\n",
              "\n",
              "      <script>\n",
              "        const buttonEl =\n",
              "          document.querySelector('#df-8b174209-a3f6-4ace-b12f-1f1102af59f3 button.colab-df-convert');\n",
              "        buttonEl.style.display =\n",
              "          google.colab.kernel.accessAllowed ? 'block' : 'none';\n",
              "\n",
              "        async function convertToInteractive(key) {\n",
              "          const element = document.querySelector('#df-8b174209-a3f6-4ace-b12f-1f1102af59f3');\n",
              "          const dataTable =\n",
              "            await google.colab.kernel.invokeFunction('convertToInteractive',\n",
              "                                                     [key], {});\n",
              "          if (!dataTable) return;\n",
              "\n",
              "          const docLinkHtml = 'Like what you see? Visit the ' +\n",
              "            '<a target=\"_blank\" href=https://colab.research.google.com/notebooks/data_table.ipynb>data table notebook</a>'\n",
              "            + ' to learn more about interactive tables.';\n",
              "          element.innerHTML = '';\n",
              "          dataTable['output_type'] = 'display_data';\n",
              "          await google.colab.output.renderOutput(dataTable, element);\n",
              "          const docLink = document.createElement('div');\n",
              "          docLink.innerHTML = docLinkHtml;\n",
              "          element.appendChild(docLink);\n",
              "        }\n",
              "      </script>\n",
              "    </div>\n",
              "  </div>\n",
              "  "
            ]
          },
          "metadata": {},
          "execution_count": 15
        }
      ]
    },
    {
      "cell_type": "code",
      "source": [
        "import requests\n",
        "\n",
        "url = 'http://apis.data.go.kr/1352000/ODMS_STAT_18/callStat18Api'\n",
        "params = {'serviceKey' : 'P17GWD3PsEYIjlKLQZhHbDp7%2FB6PK0nyG2uYMfazEiD%2BTAeBwMc6HdvyA7UBWxpt0uBzAOGSrmCNcco7E0bc%2FA%3D%3D', 'pageNo' : '1', 'numOfRows' : '10', 'apiType' : 'XML', 'year' : '2019', 'dvsd' : '인천' }\n",
        "\n",
        "response = requests.get(url, params=params)\n",
        "print(response.content)\n"
      ],
      "metadata": {
        "colab": {
          "base_uri": "https://localhost:8080/"
        },
        "id": "73AMXrIvfEeQ",
        "outputId": "0cfdac4e-8736-4c84-f786-3c646ecdba86"
      },
      "execution_count": null,
      "outputs": [
        {
          "output_type": "stream",
          "name": "stdout",
          "text": [
            "b'<OpenAPI_ServiceResponse>\\n\\t<cmmMsgHeader>\\n\\t\\t<errMsg>SERVICE ERROR</errMsg>\\n\\t\\t<returnAuthMsg>SERVICE_KEY_IS_NOT_REGISTERED_ERROR</returnAuthMsg>\\n\\t\\t<returnReasonCode>30</returnReasonCode>\\n\\t</cmmMsgHeader>\\n</OpenAPI_ServiceResponse>'\n"
          ]
        }
      ]
    },
    {
      "cell_type": "code",
      "source": [
        "encoding = \"P17GWD3PsEYIjlKLQZhHbDp7%2FB6PK0nyG2uYMfazEiD%2BTAeBwMc6HdvyA7UBWxpt0uBzAOGSrmCNcco7E0bc%2FA%3D%3D\"\n",
        "year=\"\"\n",
        "region=\"\"\n",
        "def make_url(encoding, year, region):\n",
        "  \n",
        "\n",
        "  url = \"http://apis.data.go.kr/1352000/ODMS_STAT_18/callStat18Api?serviceKey=\" + str(encoding) + \"numOfRows=20&pageNo=1&apiType=JSON&year=\"+str(year)+\"&dvsd=\"+str(region)\n",
        "  return url\n",
        "\n",
        "url = make_url(encoding, 2017, \"인천\")\n",
        "\n",
        "url_2 = \"http://apis.data.go.kr/1352000/ODMS_STAT_18/callStat18Api?serviceKey=\" + encoding +\"&numOfRows=10&pageNo=1&apiType=JSON&year=2019&dvsd=인천\""
      ],
      "metadata": {
        "id": "od-nEJFDfEcd"
      },
      "execution_count": 16,
      "outputs": []
    },
    {
      "cell_type": "code",
      "source": [
        "response = requests.get(url_2)\n",
        "json = response.content\n",
        "\n"
      ],
      "metadata": {
        "id": "aYXVp4DIfEaV"
      },
      "execution_count": null,
      "outputs": []
    },
    {
      "cell_type": "code",
      "source": [
        "url_2 = \"http://apis.data.go.kr/1352000/ODMS_STAT_18/callStat18Api?serviceKey=\" + encoding\n",
        "\n",
        "response = requests.get(url_2)\n",
        "re_content = response.content\n"
      ],
      "metadata": {
        "id": "u9ysHYbEfEX9"
      },
      "execution_count": null,
      "outputs": []
    },
    {
      "cell_type": "code",
      "source": [
        "root = ET.fromstring(re_content)\n",
        "re_content"
      ],
      "metadata": {
        "id": "GRR2GM4JCW9U"
      },
      "execution_count": null,
      "outputs": []
    },
    {
      "cell_type": "markdown",
      "source": [
        "# 연도별 장애활동인원 수 확인 (반복 왜 안됨)\n",
        "\n",
        "\n"
      ],
      "metadata": {
        "id": "TTcjgDXlVQU8"
      }
    },
    {
      "cell_type": "code",
      "source": [
        "url_2015 = \"http://apis.data.go.kr/1352000/ODMS_STAT_18/callStat18Api?serviceKey=\" + encoding + \"&numOfRows=30&pageNo=1&apiType=JSON&year=2015&dvsd=인천\"\n",
        "url_2016 = \"http://apis.data.go.kr/1352000/ODMS_STAT_18/callStat18Api?serviceKey=\" + encoding + \"&numOfRows=30&pageNo=1&apiType=JSON&year=2016\"\n",
        "\n",
        "url_2017 = \"http://apis.data.go.kr/1352000/ODMS_STAT_18/callStat18Api?serviceKey=\" + encoding + \"&numOfRows=30&pageNo=1&apiType=JSON&year=2017\"\n",
        "url_2018 = \"http://apis.data.go.kr/1352000/ODMS_STAT_18/callStat18Api?serviceKey=\" + encoding + \"&numOfRows=30&pageNo=1&apiType=JSON&year=2018\"\n",
        "url_2019 = \"http://apis.data.go.kr/1352000/ODMS_STAT_18/callStat18Api?serviceKey=\" + encoding + \"&numOfRows=30&pageNo=1&apiType=JSON&year=2019\"\n",
        "url_2020 = \"http://apis.data.go.kr/1352000/ODMS_STAT_18/callStat18Api?serviceKey=\" + encoding + \"&numOfRows=30&pageNo=1&apiType=JSON&year=2020\"\n",
        "url_2021 = \"http://apis.data.go.kr/1352000/ODMS_STAT_18/callStat18Api?serviceKey=\" + encoding + \"&numOfRows=30&pageNo=1&apiType=JSON&year=2021\"\n",
        "url_2022 = \"http://apis.data.go.kr/1352000/ODMS_STAT_18/callStat18Api?serviceKey=\" + encoding + \"&numOfRows=30&pageNo=1&apiType=JSON&year=2022\"\n",
        "\n",
        "url_list = [url_2015, url_2016, url_2017, url_2018, url_2019, url_2020, url_2021, url_2022]\n",
        "\n"
      ],
      "metadata": {
        "id": "9AsPdEvBCW6A"
      },
      "execution_count": 17,
      "outputs": []
    },
    {
      "cell_type": "code",
      "source": [
        "req = requests.get(url_2018)\n",
        "req.encoding = \"utf-8\"\n",
        "text = req.content\n",
        "print(text)"
      ],
      "metadata": {
        "colab": {
          "base_uri": "https://localhost:8080/"
        },
        "id": "3VaOcqkWU-Pl",
        "outputId": "7c06dad7-b0e7-4429-ba63-e9cc082c528f"
      },
      "execution_count": null,
      "outputs": [
        {
          "output_type": "stream",
          "name": "stdout",
          "text": [
            "b'{\"pageNo\":\"1\",\"resultCode\":\"00\",\"totalCount\":51,\"items\":[{\"emsfsFml\":\"null\",\"acvspMale\":\"null\",\"acvspTtl\":\"740\",\"year\":\"2018\",\"emsfsMale\":\"null\",\"emsfsTtl\":\"758\",\"acvspFml\":\"null\",\"dvsd\":\"\\xea\\xb4\\x91\\xec\\xa3\\xbc\"},{\"emsfsFml\":\"null\",\"acvspMale\":\"null\",\"acvspTtl\":\"161\",\"year\":\"2018\",\"emsfsMale\":\"null\",\"emsfsTtl\":\"209\",\"acvspFml\":\"null\",\"dvsd\":\"\\xec\\x9a\\xb8\\xec\\x82\\xb0\"},{\"emsfsFml\":\"null\",\"acvspMale\":\"null\",\"acvspTtl\":\"146\",\"year\":\"2018\",\"emsfsMale\":\"null\",\"emsfsTtl\":\"355\",\"acvspFml\":\"null\",\"dvsd\":\"\\xec\\xa0\\x9c\\xec\\xa3\\xbc\"},{\"emsfsFml\":\"null\",\"acvspMale\":\"null\",\"acvspTtl\":\"1388\",\"year\":\"2018\",\"emsfsMale\":\"null\",\"emsfsTtl\":\"1107\",\"acvspFml\":\"null\",\"dvsd\":\"\\xeb\\xb6\\x80\\xec\\x82\\xb0\"},{\"emsfsFml\":\"null\",\"acvspMale\":\"null\",\"acvspTtl\":\"631\",\"year\":\"2018\",\"emsfsMale\":\"null\",\"emsfsTtl\":\"456\",\"acvspFml\":\"null\",\"dvsd\":\"\\xec\\xa0\\x84\\xeb\\xb6\\x81\"},{\"emsfsFml\":\"null\",\"acvspMale\":\"null\",\"acvspTtl\":\"849\",\"year\":\"2018\",\"emsfsMale\":\"null\",\"emsfsTtl\":\"353\",\"acvspFml\":\"null\",\"dvsd\":\"\\xea\\xb2\\xbd\\xeb\\x82\\xa8\"},{\"emsfsFml\":\"null\",\"acvspMale\":\"null\",\"acvspTtl\":\"507\",\"year\":\"2018\",\"emsfsMale\":\"null\",\"emsfsTtl\":\"304\",\"acvspFml\":\"null\",\"dvsd\":\"\\xec\\xb6\\xa9\\xeb\\x82\\xa8\"},{\"emsfsFml\":\"null\",\"acvspMale\":\"null\",\"acvspTtl\":\"484\",\"year\":\"2018\",\"emsfsMale\":\"null\",\"emsfsTtl\":\"223\",\"acvspFml\":\"null\",\"dvsd\":\"\\xea\\xb0\\x95\\xec\\x9b\\x90\"},{\"emsfsFml\":\"null\",\"acvspMale\":\"null\",\"acvspTtl\":\"656\",\"year\":\"2018\",\"emsfsMale\":\"null\",\"emsfsTtl\":\"560\",\"acvspFml\":\"null\",\"dvsd\":\"\\xeb\\x8c\\x80\\xec\\xa0\\x84\"},{\"emsfsFml\":\"null\",\"acvspMale\":\"null\",\"acvspTtl\":\"29\",\"year\":\"2018\",\"emsfsMale\":\"null\",\"emsfsTtl\":\"15\",\"acvspFml\":\"null\",\"dvsd\":\"\\xec\\x84\\xb8\\xec\\xa2\\x85\"},{\"emsfsFml\":\"null\",\"acvspMale\":\"null\",\"acvspTtl\":\"2964\",\"year\":\"2018\",\"emsfsMale\":\"null\",\"emsfsTtl\":\"1564\",\"acvspFml\":\"null\",\"dvsd\":\"\\xec\\x84\\x9c\\xec\\x9a\\xb8\"},{\"emsfsFml\":\"null\",\"acvspMale\":\"null\",\"acvspTtl\":\"766\",\"year\":\"2018\",\"emsfsMale\":\"null\",\"emsfsTtl\":\"853\",\"acvspFml\":\"null\",\"dvsd\":\"\\xeb\\x8c\\x80\\xea\\xb5\\xac\"},{\"emsfsFml\":\"null\",\"acvspMale\":\"null\",\"acvspTtl\":\"726\",\"year\":\"2018\",\"emsfsMale\":\"null\",\"emsfsTtl\":\"300\",\"acvspFml\":\"null\",\"dvsd\":\"\\xea\\xb2\\xbd\\xeb\\xb6\\x81\"},{\"emsfsFml\":\"null\",\"acvspMale\":\"null\",\"acvspTtl\":\"654\",\"year\":\"2018\",\"emsfsMale\":\"null\",\"emsfsTtl\":\"379\",\"acvspFml\":\"null\",\"dvsd\":\"\\xec\\xa0\\x84\\xeb\\x82\\xa8\"},{\"emsfsFml\":\"null\",\"acvspMale\":\"null\",\"acvspTtl\":\"533\",\"year\":\"2018\",\"emsfsMale\":\"null\",\"emsfsTtl\":\"366\",\"acvspFml\":\"null\",\"dvsd\":\"\\xec\\xb6\\xa9\\xeb\\xb6\\x81\"},{\"emsfsFml\":\"null\",\"acvspMale\":\"null\",\"acvspTtl\":\"819\",\"year\":\"2018\",\"emsfsMale\":\"null\",\"emsfsTtl\":\"366\",\"acvspFml\":\"null\",\"dvsd\":\"\\xec\\x9d\\xb8\\xec\\xb2\\x9c\"},{\"emsfsFml\":\"null\",\"acvspMale\":\"null\",\"acvspTtl\":\"2730\",\"year\":\"2018\",\"emsfsMale\":\"null\",\"emsfsTtl\":\"1584\",\"acvspFml\":\"null\",\"dvsd\":\"\\xea\\xb2\\xbd\\xea\\xb8\\xb0\"}],\"numOfRows\":\"30\",\"resultMsg\":\"NORMAL SERVICE\"}'\n"
          ]
        }
      ]
    },
    {
      "cell_type": "code",
      "source": [
        "act_dict = {}\n",
        "ems_dict = {}"
      ],
      "metadata": {
        "id": "MDdZXS_6Ys2Z"
      },
      "execution_count": 18,
      "outputs": []
    },
    {
      "cell_type": "code",
      "source": [
        "n = 0\n",
        "req = requests.get(url_2015)\n",
        "year = n+2015\n",
        "\n",
        "total_act = 0\n",
        "total_ems = 0\n",
        "\n",
        "req.encoding = \"utf-8\"\n",
        "text = req.content\n",
        "my_json = text.decode(\"utf8\").replace(\"'\", '\"')\n",
        "data = json.loads(my_json)\n",
        "for i in range(len(data[\"items\"])):\n",
        "  total_act += int(data[\"items\"][i][\"acvspTtl\"])\n",
        "  total_ems += int(data[\"items\"][i][\"emsfsTtl\"])\n",
        "act_dict[\"year_\"+str(year)] = total_act\n",
        "ems_dict[\"year_\"+str(year)] = total_ems\n",
        "print(ems_dict)"
      ],
      "metadata": {
        "colab": {
          "base_uri": "https://localhost:8080/"
        },
        "id": "PXTz45l5bDg3",
        "outputId": "68ac7a6f-f213-4191-e82b-4ea41f54eae6"
      },
      "execution_count": 20,
      "outputs": [
        {
          "output_type": "stream",
          "name": "stdout",
          "text": [
            "{'year_2015': 0}\n"
          ]
        }
      ]
    },
    {
      "cell_type": "code",
      "source": [
        "n = 1\n",
        "req = requests.get(url_2016)\n",
        "year = n+2015\n",
        "\n",
        "total_act = 0\n",
        "total_ems = 0\n",
        "\n",
        "req.encoding = \"utf-8\"\n",
        "text = req.content\n",
        "my_json = text.decode(\"utf8\").replace(\"'\", '\"')\n",
        "data = json.loads(my_json)\n",
        "for i in range(len(data[\"items\"])):\n",
        "  total_act += int(data[\"items\"][i][\"acvspTtl\"])\n",
        "  total_ems += int(data[\"items\"][i][\"emsfsTtl\"])\n",
        "act_dict[\"year_\"+str(year)] = total_act\n",
        "ems_dict[\"year_\"+str(year)] = total_ems\n",
        "\n",
        "print(act_dict)\n"
      ],
      "metadata": {
        "colab": {
          "base_uri": "https://localhost:8080/"
        },
        "id": "MfI29dsBdj5O",
        "outputId": "d5512660-35e5-4460-d252-ddb7fe707d5b"
      },
      "execution_count": 21,
      "outputs": [
        {
          "output_type": "stream",
          "name": "stdout",
          "text": [
            "{'year_2015': 0, 'year_2016': 0}\n"
          ]
        }
      ]
    },
    {
      "cell_type": "code",
      "source": [
        "n = 2\n",
        "req = requests.get(url_2017)\n",
        "year = n+2015\n",
        "\n",
        "total_act = 0\n",
        "total_ems = 0\n",
        "\n",
        "req.encoding = \"utf-8\"\n",
        "text = req.content\n",
        "my_json = text.decode(\"utf8\").replace(\"'\", '\"')\n",
        "data = json.loads(my_json)\n",
        "for i in range(len(data[\"items\"])):\n",
        "  total_act += int(data[\"items\"][i][\"acvspTtl\"])\n",
        "  total_ems += int(data[\"items\"][i][\"emsfsTtl\"])\n",
        "act_dict[\"year_\"+str(year)] = total_act\n",
        "ems_dict[\"year_\"+str(year)] = total_ems\n",
        "\n",
        "print(act_dict)"
      ],
      "metadata": {
        "colab": {
          "base_uri": "https://localhost:8080/"
        },
        "id": "SXtc072vf31M",
        "outputId": "85916472-27dc-45f1-d834-4712ad40388a"
      },
      "execution_count": 22,
      "outputs": [
        {
          "output_type": "stream",
          "name": "stdout",
          "text": [
            "{'year_2015': 0, 'year_2016': 0, 'year_2017': 12871}\n"
          ]
        }
      ]
    },
    {
      "cell_type": "code",
      "source": [
        "n = 3\n",
        "req = requests.get(url_2018)\n",
        "year = n+2015\n",
        "\n",
        "total_act = 0\n",
        "total_ems = 0\n",
        "\n",
        "req.encoding = \"utf-8\"\n",
        "text = req.content\n",
        "my_json = text.decode(\"utf8\").replace(\"'\", '\"')\n",
        "data = json.loads(my_json)\n",
        "for i in range(len(data[\"items\"])):\n",
        "  total_act += int(data[\"items\"][i][\"acvspTtl\"])\n",
        "  total_ems += int(data[\"items\"][i][\"emsfsTtl\"])\n",
        "act_dict[\"year_\"+str(year)] = total_act\n",
        "ems_dict[\"year_\"+str(year)] = total_ems\n",
        "\n",
        "print(act_dict)"
      ],
      "metadata": {
        "colab": {
          "base_uri": "https://localhost:8080/"
        },
        "id": "Ip2bRpwkf-rD",
        "outputId": "a1b3945e-f47b-474c-8ec3-ada5edcf6081"
      },
      "execution_count": 23,
      "outputs": [
        {
          "output_type": "stream",
          "name": "stdout",
          "text": [
            "{'year_2015': 0, 'year_2016': 0, 'year_2017': 12871, 'year_2018': 14783}\n"
          ]
        }
      ]
    },
    {
      "cell_type": "code",
      "source": [
        "n = 4\n",
        "req = requests.get(url_2019)\n",
        "year = n+2015\n",
        "\n",
        "total_act = 0\n",
        "total_ems = 0\n",
        "\n",
        "req.encoding = \"utf-8\"\n",
        "text = req.content\n",
        "my_json = text.decode(\"utf8\").replace(\"'\", '\"')\n",
        "data = json.loads(my_json)\n",
        "for i in range(len(data[\"items\"])):\n",
        "  total_act += int(data[\"items\"][i][\"acvspTtl\"])\n",
        "  total_ems += int(data[\"items\"][i][\"emsfsTtl\"])\n",
        "act_dict[\"year_\"+str(year)] = total_act\n",
        "ems_dict[\"year_\"+str(year)] = total_ems\n",
        "\n",
        "print(act_dict)"
      ],
      "metadata": {
        "colab": {
          "base_uri": "https://localhost:8080/"
        },
        "id": "g942MqLWf-pD",
        "outputId": "67871169-6cc6-4e8e-921e-af794ddbb519"
      },
      "execution_count": 24,
      "outputs": [
        {
          "output_type": "stream",
          "name": "stdout",
          "text": [
            "{'year_2015': 0, 'year_2016': 0, 'year_2017': 12871, 'year_2018': 14783, 'year_2019': 15897}\n"
          ]
        }
      ]
    },
    {
      "cell_type": "code",
      "source": [
        "n = 5\n",
        "req = requests.get(url_2020)\n",
        "year = n+2015\n",
        "\n",
        "total_act = 0\n",
        "total_ems = 0\n",
        "\n",
        "req.encoding = \"utf-8\"\n",
        "text = req.content\n",
        "my_json = text.decode(\"utf8\").replace(\"'\", '\"')\n",
        "data = json.loads(my_json)\n",
        "for i in range(len(data[\"items\"])):\n",
        "  total_act += int(data[\"items\"][i][\"acvspTtl\"])\n",
        "  total_ems += int(data[\"items\"][i][\"emsfsTtl\"])\n",
        "act_dict[\"year_\"+str(year)] = total_act\n",
        "ems_dict[\"year_\"+str(year)] = total_ems\n",
        "\n",
        "print(act_dict)"
      ],
      "metadata": {
        "colab": {
          "base_uri": "https://localhost:8080/"
        },
        "id": "1Wn5uXxPf-mM",
        "outputId": "a291fffe-dfca-49e3-e452-c5059c0c836a"
      },
      "execution_count": 25,
      "outputs": [
        {
          "output_type": "stream",
          "name": "stdout",
          "text": [
            "{'year_2015': 0, 'year_2016': 0, 'year_2017': 12871, 'year_2018': 14783, 'year_2019': 15897, 'year_2020': 0}\n"
          ]
        }
      ]
    },
    {
      "cell_type": "code",
      "source": [
        "n = 6\n",
        "req = requests.get(url_2021)\n",
        "year = n+2015\n",
        "\n",
        "total_act = 0\n",
        "total_ems = 0\n",
        "\n",
        "req.encoding = \"utf-8\"\n",
        "text = req.content\n",
        "my_json = text.decode(\"utf8\").replace(\"'\", '\"')\n",
        "data = json.loads(my_json)\n",
        "for i in range(len(data[\"items\"])):\n",
        "  total_act += int(data[\"items\"][i][\"acvspTtl\"])\n",
        "  total_ems += int(data[\"items\"][i][\"emsfsTtl\"])\n",
        "act_dict[\"year_\"+str(year)] = total_act\n",
        "ems_dict[\"year_\"+str(year)] = total_ems\n",
        "\n",
        "\n",
        "print(act_dict)"
      ],
      "metadata": {
        "colab": {
          "base_uri": "https://localhost:8080/"
        },
        "id": "C2r_jsaugE23",
        "outputId": "6ea36899-ff55-489f-a1b1-6b80bde03f97"
      },
      "execution_count": 26,
      "outputs": [
        {
          "output_type": "stream",
          "name": "stdout",
          "text": [
            "{'year_2015': 0, 'year_2016': 0, 'year_2017': 12871, 'year_2018': 14783, 'year_2019': 15897, 'year_2020': 0, 'year_2021': 0}\n"
          ]
        }
      ]
    },
    {
      "cell_type": "markdown",
      "source": [
        "# 연도별 장애활동인원 수 확인(반복 이후)"
      ],
      "metadata": {
        "id": "h37uySEqh20x"
      }
    },
    {
      "cell_type": "code",
      "source": [
        "act_dict[\"year_2022\"] = 0"
      ],
      "metadata": {
        "id": "sc4xMp7egwuf"
      },
      "execution_count": 27,
      "outputs": []
    },
    {
      "cell_type": "code",
      "source": [
        "ems_dict[\"year_2022\"] = 0"
      ],
      "metadata": {
        "id": "8sGti6bAgE0i"
      },
      "execution_count": 28,
      "outputs": []
    },
    {
      "cell_type": "code",
      "source": [
        "disabled_df[\"yearly_act\"] = act_dict.values()\n",
        "disabled_df[\"yearly_ems\"] = ems_dict.values()"
      ],
      "metadata": {
        "id": "4u6dCEHqgHXN"
      },
      "execution_count": 29,
      "outputs": []
    },
    {
      "cell_type": "code",
      "source": [
        "disabled_df"
      ],
      "metadata": {
        "colab": {
          "base_uri": "https://localhost:8080/",
          "height": 300
        },
        "id": "Gf8laLAdgHUs",
        "outputId": "9954786e-0fd1-4bbd-a1bd-56e3dd6bac21"
      },
      "execution_count": 30,
      "outputs": [
        {
          "output_type": "execute_result",
          "data": {
            "text/plain": [
              "      yearly_budget  yearly_act  yearly_ems\n",
              "2015           4679           0           0\n",
              "2016           5221           0           0\n",
              "2017           6061       12871        9228\n",
              "2018           6907       14783        9752\n",
              "2019           9685       15897        9567\n",
              "2020          13057           0           0\n",
              "2021          15070           0           0\n",
              "2022          17405           0           0"
            ],
            "text/html": [
              "\n",
              "  <div id=\"df-883ebb07-1ea4-4404-b76a-52c4caf1f1ba\">\n",
              "    <div class=\"colab-df-container\">\n",
              "      <div>\n",
              "<style scoped>\n",
              "    .dataframe tbody tr th:only-of-type {\n",
              "        vertical-align: middle;\n",
              "    }\n",
              "\n",
              "    .dataframe tbody tr th {\n",
              "        vertical-align: top;\n",
              "    }\n",
              "\n",
              "    .dataframe thead th {\n",
              "        text-align: right;\n",
              "    }\n",
              "</style>\n",
              "<table border=\"1\" class=\"dataframe\">\n",
              "  <thead>\n",
              "    <tr style=\"text-align: right;\">\n",
              "      <th></th>\n",
              "      <th>yearly_budget</th>\n",
              "      <th>yearly_act</th>\n",
              "      <th>yearly_ems</th>\n",
              "    </tr>\n",
              "  </thead>\n",
              "  <tbody>\n",
              "    <tr>\n",
              "      <th>2015</th>\n",
              "      <td>4679</td>\n",
              "      <td>0</td>\n",
              "      <td>0</td>\n",
              "    </tr>\n",
              "    <tr>\n",
              "      <th>2016</th>\n",
              "      <td>5221</td>\n",
              "      <td>0</td>\n",
              "      <td>0</td>\n",
              "    </tr>\n",
              "    <tr>\n",
              "      <th>2017</th>\n",
              "      <td>6061</td>\n",
              "      <td>12871</td>\n",
              "      <td>9228</td>\n",
              "    </tr>\n",
              "    <tr>\n",
              "      <th>2018</th>\n",
              "      <td>6907</td>\n",
              "      <td>14783</td>\n",
              "      <td>9752</td>\n",
              "    </tr>\n",
              "    <tr>\n",
              "      <th>2019</th>\n",
              "      <td>9685</td>\n",
              "      <td>15897</td>\n",
              "      <td>9567</td>\n",
              "    </tr>\n",
              "    <tr>\n",
              "      <th>2020</th>\n",
              "      <td>13057</td>\n",
              "      <td>0</td>\n",
              "      <td>0</td>\n",
              "    </tr>\n",
              "    <tr>\n",
              "      <th>2021</th>\n",
              "      <td>15070</td>\n",
              "      <td>0</td>\n",
              "      <td>0</td>\n",
              "    </tr>\n",
              "    <tr>\n",
              "      <th>2022</th>\n",
              "      <td>17405</td>\n",
              "      <td>0</td>\n",
              "      <td>0</td>\n",
              "    </tr>\n",
              "  </tbody>\n",
              "</table>\n",
              "</div>\n",
              "      <button class=\"colab-df-convert\" onclick=\"convertToInteractive('df-883ebb07-1ea4-4404-b76a-52c4caf1f1ba')\"\n",
              "              title=\"Convert this dataframe to an interactive table.\"\n",
              "              style=\"display:none;\">\n",
              "        \n",
              "  <svg xmlns=\"http://www.w3.org/2000/svg\" height=\"24px\"viewBox=\"0 0 24 24\"\n",
              "       width=\"24px\">\n",
              "    <path d=\"M0 0h24v24H0V0z\" fill=\"none\"/>\n",
              "    <path d=\"M18.56 5.44l.94 2.06.94-2.06 2.06-.94-2.06-.94-.94-2.06-.94 2.06-2.06.94zm-11 1L8.5 8.5l.94-2.06 2.06-.94-2.06-.94L8.5 2.5l-.94 2.06-2.06.94zm10 10l.94 2.06.94-2.06 2.06-.94-2.06-.94-.94-2.06-.94 2.06-2.06.94z\"/><path d=\"M17.41 7.96l-1.37-1.37c-.4-.4-.92-.59-1.43-.59-.52 0-1.04.2-1.43.59L10.3 9.45l-7.72 7.72c-.78.78-.78 2.05 0 2.83L4 21.41c.39.39.9.59 1.41.59.51 0 1.02-.2 1.41-.59l7.78-7.78 2.81-2.81c.8-.78.8-2.07 0-2.86zM5.41 20L4 18.59l7.72-7.72 1.47 1.35L5.41 20z\"/>\n",
              "  </svg>\n",
              "      </button>\n",
              "      \n",
              "  <style>\n",
              "    .colab-df-container {\n",
              "      display:flex;\n",
              "      flex-wrap:wrap;\n",
              "      gap: 12px;\n",
              "    }\n",
              "\n",
              "    .colab-df-convert {\n",
              "      background-color: #E8F0FE;\n",
              "      border: none;\n",
              "      border-radius: 50%;\n",
              "      cursor: pointer;\n",
              "      display: none;\n",
              "      fill: #1967D2;\n",
              "      height: 32px;\n",
              "      padding: 0 0 0 0;\n",
              "      width: 32px;\n",
              "    }\n",
              "\n",
              "    .colab-df-convert:hover {\n",
              "      background-color: #E2EBFA;\n",
              "      box-shadow: 0px 1px 2px rgba(60, 64, 67, 0.3), 0px 1px 3px 1px rgba(60, 64, 67, 0.15);\n",
              "      fill: #174EA6;\n",
              "    }\n",
              "\n",
              "    [theme=dark] .colab-df-convert {\n",
              "      background-color: #3B4455;\n",
              "      fill: #D2E3FC;\n",
              "    }\n",
              "\n",
              "    [theme=dark] .colab-df-convert:hover {\n",
              "      background-color: #434B5C;\n",
              "      box-shadow: 0px 1px 3px 1px rgba(0, 0, 0, 0.15);\n",
              "      filter: drop-shadow(0px 1px 2px rgba(0, 0, 0, 0.3));\n",
              "      fill: #FFFFFF;\n",
              "    }\n",
              "  </style>\n",
              "\n",
              "      <script>\n",
              "        const buttonEl =\n",
              "          document.querySelector('#df-883ebb07-1ea4-4404-b76a-52c4caf1f1ba button.colab-df-convert');\n",
              "        buttonEl.style.display =\n",
              "          google.colab.kernel.accessAllowed ? 'block' : 'none';\n",
              "\n",
              "        async function convertToInteractive(key) {\n",
              "          const element = document.querySelector('#df-883ebb07-1ea4-4404-b76a-52c4caf1f1ba');\n",
              "          const dataTable =\n",
              "            await google.colab.kernel.invokeFunction('convertToInteractive',\n",
              "                                                     [key], {});\n",
              "          if (!dataTable) return;\n",
              "\n",
              "          const docLinkHtml = 'Like what you see? Visit the ' +\n",
              "            '<a target=\"_blank\" href=https://colab.research.google.com/notebooks/data_table.ipynb>data table notebook</a>'\n",
              "            + ' to learn more about interactive tables.';\n",
              "          element.innerHTML = '';\n",
              "          dataTable['output_type'] = 'display_data';\n",
              "          await google.colab.output.renderOutput(dataTable, element);\n",
              "          const docLink = document.createElement('div');\n",
              "          docLink.innerHTML = docLinkHtml;\n",
              "          element.appendChild(docLink);\n",
              "        }\n",
              "      </script>\n",
              "    </div>\n",
              "  </div>\n",
              "  "
            ]
          },
          "metadata": {},
          "execution_count": 30
        }
      ]
    },
    {
      "cell_type": "code",
      "source": [
        "disabled_df_real = disabled_df[2:5]\n",
        "disabled_df_real"
      ],
      "metadata": {
        "colab": {
          "base_uri": "https://localhost:8080/",
          "height": 143
        },
        "id": "ljfO3OFCgTdJ",
        "outputId": "3a4d4e8e-fb54-41dd-ca15-30fec302e5ab"
      },
      "execution_count": 31,
      "outputs": [
        {
          "output_type": "execute_result",
          "data": {
            "text/plain": [
              "      yearly_budget  yearly_act  yearly_ems\n",
              "2017           6061       12871        9228\n",
              "2018           6907       14783        9752\n",
              "2019           9685       15897        9567"
            ],
            "text/html": [
              "\n",
              "  <div id=\"df-91273d39-32e9-4f39-bda7-4e202defd4de\">\n",
              "    <div class=\"colab-df-container\">\n",
              "      <div>\n",
              "<style scoped>\n",
              "    .dataframe tbody tr th:only-of-type {\n",
              "        vertical-align: middle;\n",
              "    }\n",
              "\n",
              "    .dataframe tbody tr th {\n",
              "        vertical-align: top;\n",
              "    }\n",
              "\n",
              "    .dataframe thead th {\n",
              "        text-align: right;\n",
              "    }\n",
              "</style>\n",
              "<table border=\"1\" class=\"dataframe\">\n",
              "  <thead>\n",
              "    <tr style=\"text-align: right;\">\n",
              "      <th></th>\n",
              "      <th>yearly_budget</th>\n",
              "      <th>yearly_act</th>\n",
              "      <th>yearly_ems</th>\n",
              "    </tr>\n",
              "  </thead>\n",
              "  <tbody>\n",
              "    <tr>\n",
              "      <th>2017</th>\n",
              "      <td>6061</td>\n",
              "      <td>12871</td>\n",
              "      <td>9228</td>\n",
              "    </tr>\n",
              "    <tr>\n",
              "      <th>2018</th>\n",
              "      <td>6907</td>\n",
              "      <td>14783</td>\n",
              "      <td>9752</td>\n",
              "    </tr>\n",
              "    <tr>\n",
              "      <th>2019</th>\n",
              "      <td>9685</td>\n",
              "      <td>15897</td>\n",
              "      <td>9567</td>\n",
              "    </tr>\n",
              "  </tbody>\n",
              "</table>\n",
              "</div>\n",
              "      <button class=\"colab-df-convert\" onclick=\"convertToInteractive('df-91273d39-32e9-4f39-bda7-4e202defd4de')\"\n",
              "              title=\"Convert this dataframe to an interactive table.\"\n",
              "              style=\"display:none;\">\n",
              "        \n",
              "  <svg xmlns=\"http://www.w3.org/2000/svg\" height=\"24px\"viewBox=\"0 0 24 24\"\n",
              "       width=\"24px\">\n",
              "    <path d=\"M0 0h24v24H0V0z\" fill=\"none\"/>\n",
              "    <path d=\"M18.56 5.44l.94 2.06.94-2.06 2.06-.94-2.06-.94-.94-2.06-.94 2.06-2.06.94zm-11 1L8.5 8.5l.94-2.06 2.06-.94-2.06-.94L8.5 2.5l-.94 2.06-2.06.94zm10 10l.94 2.06.94-2.06 2.06-.94-2.06-.94-.94-2.06-.94 2.06-2.06.94z\"/><path d=\"M17.41 7.96l-1.37-1.37c-.4-.4-.92-.59-1.43-.59-.52 0-1.04.2-1.43.59L10.3 9.45l-7.72 7.72c-.78.78-.78 2.05 0 2.83L4 21.41c.39.39.9.59 1.41.59.51 0 1.02-.2 1.41-.59l7.78-7.78 2.81-2.81c.8-.78.8-2.07 0-2.86zM5.41 20L4 18.59l7.72-7.72 1.47 1.35L5.41 20z\"/>\n",
              "  </svg>\n",
              "      </button>\n",
              "      \n",
              "  <style>\n",
              "    .colab-df-container {\n",
              "      display:flex;\n",
              "      flex-wrap:wrap;\n",
              "      gap: 12px;\n",
              "    }\n",
              "\n",
              "    .colab-df-convert {\n",
              "      background-color: #E8F0FE;\n",
              "      border: none;\n",
              "      border-radius: 50%;\n",
              "      cursor: pointer;\n",
              "      display: none;\n",
              "      fill: #1967D2;\n",
              "      height: 32px;\n",
              "      padding: 0 0 0 0;\n",
              "      width: 32px;\n",
              "    }\n",
              "\n",
              "    .colab-df-convert:hover {\n",
              "      background-color: #E2EBFA;\n",
              "      box-shadow: 0px 1px 2px rgba(60, 64, 67, 0.3), 0px 1px 3px 1px rgba(60, 64, 67, 0.15);\n",
              "      fill: #174EA6;\n",
              "    }\n",
              "\n",
              "    [theme=dark] .colab-df-convert {\n",
              "      background-color: #3B4455;\n",
              "      fill: #D2E3FC;\n",
              "    }\n",
              "\n",
              "    [theme=dark] .colab-df-convert:hover {\n",
              "      background-color: #434B5C;\n",
              "      box-shadow: 0px 1px 3px 1px rgba(0, 0, 0, 0.15);\n",
              "      filter: drop-shadow(0px 1px 2px rgba(0, 0, 0, 0.3));\n",
              "      fill: #FFFFFF;\n",
              "    }\n",
              "  </style>\n",
              "\n",
              "      <script>\n",
              "        const buttonEl =\n",
              "          document.querySelector('#df-91273d39-32e9-4f39-bda7-4e202defd4de button.colab-df-convert');\n",
              "        buttonEl.style.display =\n",
              "          google.colab.kernel.accessAllowed ? 'block' : 'none';\n",
              "\n",
              "        async function convertToInteractive(key) {\n",
              "          const element = document.querySelector('#df-91273d39-32e9-4f39-bda7-4e202defd4de');\n",
              "          const dataTable =\n",
              "            await google.colab.kernel.invokeFunction('convertToInteractive',\n",
              "                                                     [key], {});\n",
              "          if (!dataTable) return;\n",
              "\n",
              "          const docLinkHtml = 'Like what you see? Visit the ' +\n",
              "            '<a target=\"_blank\" href=https://colab.research.google.com/notebooks/data_table.ipynb>data table notebook</a>'\n",
              "            + ' to learn more about interactive tables.';\n",
              "          element.innerHTML = '';\n",
              "          dataTable['output_type'] = 'display_data';\n",
              "          await google.colab.output.renderOutput(dataTable, element);\n",
              "          const docLink = document.createElement('div');\n",
              "          docLink.innerHTML = docLinkHtml;\n",
              "          element.appendChild(docLink);\n",
              "        }\n",
              "      </script>\n",
              "    </div>\n",
              "  </div>\n",
              "  "
            ]
          },
          "metadata": {},
          "execution_count": 31
        }
      ]
    },
    {
      "cell_type": "code",
      "source": [
        "ols(\"yearly_act~yearly_budget\", data = disabled_df_real).fit().summary()"
      ],
      "metadata": {
        "id": "HDusg1e3jC7_",
        "colab": {
          "base_uri": "https://localhost:8080/",
          "height": 469
        },
        "outputId": "b766fd18-35c7-42ee-d9d8-532e4b6f0836"
      },
      "execution_count": 35,
      "outputs": [
        {
          "output_type": "execute_result",
          "data": {
            "text/plain": [
              "<class 'statsmodels.iolib.summary.Summary'>\n",
              "\"\"\"\n",
              "                            OLS Regression Results                            \n",
              "==============================================================================\n",
              "Dep. Variable:             yearly_act   R-squared:                       0.811\n",
              "Model:                            OLS   Adj. R-squared:                  0.622\n",
              "Method:                 Least Squares   F-statistic:                     4.292\n",
              "Date:                Sat, 03 Dec 2022   Prob (F-statistic):              0.286\n",
              "Time:                        12:37:35   Log-Likelihood:                -23.149\n",
              "No. Observations:                   3   AIC:                             50.30\n",
              "Df Residuals:                       1   BIC:                             48.50\n",
              "Df Model:                           1                                         \n",
              "Covariance Type:            nonrobust                                         \n",
              "=================================================================================\n",
              "                    coef    std err          t      P>|t|      [0.025      0.975]\n",
              "---------------------------------------------------------------------------------\n",
              "Intercept      9027.5236   2704.697      3.338      0.185   -2.53e+04    4.34e+04\n",
              "yearly_budget     0.7270      0.351      2.072      0.286      -3.732       5.186\n",
              "==============================================================================\n",
              "Omnibus:                          nan   Durbin-Watson:                   2.827\n",
              "Prob(Omnibus):                    nan   Jarque-Bera (JB):                0.379\n",
              "Skew:                           0.442   Prob(JB):                        0.827\n",
              "Kurtosis:                       1.500   Cond. No.                     3.84e+04\n",
              "==============================================================================\n",
              "\n",
              "Notes:\n",
              "[1] Standard Errors assume that the covariance matrix of the errors is correctly specified.\n",
              "[2] The condition number is large, 3.84e+04. This might indicate that there are\n",
              "strong multicollinearity or other numerical problems.\n",
              "\"\"\""
            ],
            "text/html": [
              "<table class=\"simpletable\">\n",
              "<caption>OLS Regression Results</caption>\n",
              "<tr>\n",
              "  <th>Dep. Variable:</th>       <td>yearly_act</td>    <th>  R-squared:         </th> <td>   0.811</td>\n",
              "</tr>\n",
              "<tr>\n",
              "  <th>Model:</th>                   <td>OLS</td>       <th>  Adj. R-squared:    </th> <td>   0.622</td>\n",
              "</tr>\n",
              "<tr>\n",
              "  <th>Method:</th>             <td>Least Squares</td>  <th>  F-statistic:       </th> <td>   4.292</td>\n",
              "</tr>\n",
              "<tr>\n",
              "  <th>Date:</th>             <td>Sat, 03 Dec 2022</td> <th>  Prob (F-statistic):</th>  <td> 0.286</td> \n",
              "</tr>\n",
              "<tr>\n",
              "  <th>Time:</th>                 <td>12:37:35</td>     <th>  Log-Likelihood:    </th> <td> -23.149</td>\n",
              "</tr>\n",
              "<tr>\n",
              "  <th>No. Observations:</th>      <td>     3</td>      <th>  AIC:               </th> <td>   50.30</td>\n",
              "</tr>\n",
              "<tr>\n",
              "  <th>Df Residuals:</th>          <td>     1</td>      <th>  BIC:               </th> <td>   48.50</td>\n",
              "</tr>\n",
              "<tr>\n",
              "  <th>Df Model:</th>              <td>     1</td>      <th>                     </th>     <td> </td>   \n",
              "</tr>\n",
              "<tr>\n",
              "  <th>Covariance Type:</th>      <td>nonrobust</td>    <th>                     </th>     <td> </td>   \n",
              "</tr>\n",
              "</table>\n",
              "<table class=\"simpletable\">\n",
              "<tr>\n",
              "        <td></td>           <th>coef</th>     <th>std err</th>      <th>t</th>      <th>P>|t|</th>  <th>[0.025</th>    <th>0.975]</th>  \n",
              "</tr>\n",
              "<tr>\n",
              "  <th>Intercept</th>     <td> 9027.5236</td> <td> 2704.697</td> <td>    3.338</td> <td> 0.185</td> <td>-2.53e+04</td> <td> 4.34e+04</td>\n",
              "</tr>\n",
              "<tr>\n",
              "  <th>yearly_budget</th> <td>    0.7270</td> <td>    0.351</td> <td>    2.072</td> <td> 0.286</td> <td>   -3.732</td> <td>    5.186</td>\n",
              "</tr>\n",
              "</table>\n",
              "<table class=\"simpletable\">\n",
              "<tr>\n",
              "  <th>Omnibus:</th>       <td>   nan</td> <th>  Durbin-Watson:     </th> <td>   2.827</td>\n",
              "</tr>\n",
              "<tr>\n",
              "  <th>Prob(Omnibus):</th> <td>   nan</td> <th>  Jarque-Bera (JB):  </th> <td>   0.379</td>\n",
              "</tr>\n",
              "<tr>\n",
              "  <th>Skew:</th>          <td> 0.442</td> <th>  Prob(JB):          </th> <td>   0.827</td>\n",
              "</tr>\n",
              "<tr>\n",
              "  <th>Kurtosis:</th>      <td> 1.500</td> <th>  Cond. No.          </th> <td>3.84e+04</td>\n",
              "</tr>\n",
              "</table><br/><br/>Notes:<br/>[1] Standard Errors assume that the covariance matrix of the errors is correctly specified.<br/>[2] The condition number is large, 3.84e+04. This might indicate that there are<br/>strong multicollinearity or other numerical problems."
            ]
          },
          "metadata": {},
          "execution_count": 35
        }
      ]
    },
    {
      "cell_type": "code",
      "source": [
        "b_1 = 0.7270 \n",
        "b_0 = 9027.5236 "
      ],
      "metadata": {
        "id": "OA6h8DRP_NcZ"
      },
      "execution_count": 36,
      "outputs": []
    },
    {
      "cell_type": "code",
      "source": [
        "def money_to_people(x):\n",
        "  return b_0 + b_1 * x\n",
        "\n"
      ],
      "metadata": {
        "id": "0faB4ePU_koj"
      },
      "execution_count": 37,
      "outputs": []
    },
    {
      "cell_type": "code",
      "source": [
        "disabled_df_real[\"yearly_budget\"].apply(lambda x: money_to_people(x))"
      ],
      "metadata": {
        "colab": {
          "base_uri": "https://localhost:8080/"
        },
        "id": "LOvTbj3d_sKX",
        "outputId": "c6ecccbe-3671-49fb-fffb-889378c8f725"
      },
      "execution_count": 39,
      "outputs": [
        {
          "output_type": "execute_result",
          "data": {
            "text/plain": [
              "2017    13433.8706\n",
              "2018    14048.9126\n",
              "2019    16068.5186\n",
              "Name: yearly_budget, dtype: float64"
            ]
          },
          "metadata": {},
          "execution_count": 39
        }
      ]
    },
    {
      "cell_type": "code",
      "source": [],
      "metadata": {
        "id": "ZZynK-4l_xaG"
      },
      "execution_count": null,
      "outputs": []
    }
  ]
}