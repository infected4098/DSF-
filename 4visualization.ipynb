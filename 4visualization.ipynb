{
  "nbformat": 4,
  "nbformat_minor": 0,
  "metadata": {
    "colab": {
      "provenance": [],
      "toc_visible": true,
      "collapsed_sections": [
        "NqoSOeC9-uq-",
        "14IdgxcdBMp3",
        "gugYm_84X_k4",
        "ApI_yUuhMIIu",
        "1C8p7pamMGWl",
        "NM7jNqYjdlRc",
        "asXam3D5dG0V"
      ],
      "authorship_tag": "ABX9TyMLAt/lg29flf9ocGdFCLia",
      "include_colab_link": true
    },
    "kernelspec": {
      "name": "python3",
      "display_name": "Python 3"
    },
    "language_info": {
      "name": "python"
    }
  },
  "cells": [
    {
      "cell_type": "markdown",
      "metadata": {
        "id": "view-in-github",
        "colab_type": "text"
      },
      "source": [
        "<a href=\"https://colab.research.google.com/github/infected4098/DSF-/blob/main/4visualization.ipynb\" target=\"_parent\"><img src=\"https://colab.research.google.com/assets/colab-badge.svg\" alt=\"Open In Colab\"/></a>"
      ]
    },
    {
      "cell_type": "markdown",
      "source": [
        "# 파일 임포트 구글 드라이브 마운트 등\n"
      ],
      "metadata": {
        "id": "6ctJ-jVqCDI-"
      }
    },
    {
      "cell_type": "code",
      "source": [
        "pip install geopandas\n"
      ],
      "metadata": {
        "colab": {
          "base_uri": "https://localhost:8080/"
        },
        "id": "plxoDU7TElk0",
        "outputId": "d308bc0a-784b-4370-d5ee-897c389873c8"
      },
      "execution_count": null,
      "outputs": [
        {
          "output_type": "stream",
          "name": "stdout",
          "text": [
            "Looking in indexes: https://pypi.org/simple, https://us-python.pkg.dev/colab-wheels/public/simple/\n",
            "Requirement already satisfied: geopandas in /usr/local/lib/python3.8/dist-packages (0.12.1)\n",
            "Requirement already satisfied: shapely>=1.7 in /usr/local/lib/python3.8/dist-packages (from geopandas) (1.8.5.post1)\n",
            "Requirement already satisfied: pandas>=1.0.0 in /usr/local/lib/python3.8/dist-packages (from geopandas) (1.3.5)\n",
            "Requirement already satisfied: pyproj>=2.6.1.post1 in /usr/local/lib/python3.8/dist-packages (from geopandas) (3.4.0)\n",
            "Requirement already satisfied: fiona>=1.8 in /usr/local/lib/python3.8/dist-packages (from geopandas) (1.8.22)\n",
            "Requirement already satisfied: packaging in /usr/local/lib/python3.8/dist-packages (from geopandas) (21.3)\n",
            "Requirement already satisfied: cligj>=0.5 in /usr/local/lib/python3.8/dist-packages (from fiona>=1.8->geopandas) (0.7.2)\n",
            "Requirement already satisfied: attrs>=17 in /usr/local/lib/python3.8/dist-packages (from fiona>=1.8->geopandas) (22.1.0)\n",
            "Requirement already satisfied: click-plugins>=1.0 in /usr/local/lib/python3.8/dist-packages (from fiona>=1.8->geopandas) (1.1.1)\n",
            "Requirement already satisfied: setuptools in /usr/local/lib/python3.8/dist-packages (from fiona>=1.8->geopandas) (57.4.0)\n",
            "Requirement already satisfied: six>=1.7 in /usr/local/lib/python3.8/dist-packages (from fiona>=1.8->geopandas) (1.15.0)\n",
            "Requirement already satisfied: munch in /usr/local/lib/python3.8/dist-packages (from fiona>=1.8->geopandas) (2.5.0)\n",
            "Requirement already satisfied: click>=4.0 in /usr/local/lib/python3.8/dist-packages (from fiona>=1.8->geopandas) (7.1.2)\n",
            "Requirement already satisfied: certifi in /usr/local/lib/python3.8/dist-packages (from fiona>=1.8->geopandas) (2022.9.24)\n",
            "Requirement already satisfied: pytz>=2017.3 in /usr/local/lib/python3.8/dist-packages (from pandas>=1.0.0->geopandas) (2022.6)\n",
            "Requirement already satisfied: numpy>=1.17.3 in /usr/local/lib/python3.8/dist-packages (from pandas>=1.0.0->geopandas) (1.21.6)\n",
            "Requirement already satisfied: python-dateutil>=2.7.3 in /usr/local/lib/python3.8/dist-packages (from pandas>=1.0.0->geopandas) (2.8.2)\n",
            "Requirement already satisfied: pyparsing!=3.0.5,>=2.0.2 in /usr/local/lib/python3.8/dist-packages (from packaging->geopandas) (3.0.9)\n"
          ]
        }
      ]
    },
    {
      "cell_type": "code",
      "source": [
        "pip install pyshp"
      ],
      "metadata": {
        "colab": {
          "base_uri": "https://localhost:8080/"
        },
        "id": "S9eOspfcCBmm",
        "outputId": "bedf0562-7154-45b1-c89b-05b98b1499b8"
      },
      "execution_count": null,
      "outputs": [
        {
          "output_type": "stream",
          "name": "stdout",
          "text": [
            "Looking in indexes: https://pypi.org/simple, https://us-python.pkg.dev/colab-wheels/public/simple/\n",
            "Requirement already satisfied: pyshp in /usr/local/lib/python3.8/dist-packages (2.3.1)\n"
          ]
        }
      ]
    },
    {
      "cell_type": "code",
      "source": [
        "!apt-get update -qq\n",
        "!apt-get install fonts-nanum* -qq"
      ],
      "metadata": {
        "id": "abnWkm2M-gmr"
      },
      "execution_count": null,
      "outputs": []
    },
    {
      "cell_type": "code",
      "execution_count": null,
      "metadata": {
        "id": "Tj5OIV-oACK2"
      },
      "outputs": [],
      "source": [
        "#딥러닝 프레임워크\n",
        "import torch\n",
        "import torch.nn as nn\n",
        "import torch.nn.functional as F\n",
        "import torch.optim as optim\n",
        "from torch.utils.data import DataLoader, Dataset\n",
        "from statsmodels.formula.api import ols\n",
        "\n",
        "#전처리, 점수 측정\n",
        "from sklearn.metrics import f1_score\n",
        "from sklearn.preprocessing import StandardScaler\n",
        "from sklearn.preprocessing import LabelEncoder\n",
        "from sklearn.model_selection import train_test_split\n",
        "\n",
        "#컴퓨터 리소스 할당 관련 \n",
        "import os\n",
        "from tqdm.auto import tqdm \n",
        "\n",
        "#기초 툴, 시각화\n",
        "import pandas as pd\n",
        "import matplotlib.pyplot as plt\n",
        "import seaborn as sns\n",
        "import numpy as np\n",
        "import matplotlib.font_manager as fm\n",
        "from sklearn.preprocessing import MinMaxScaler\n",
        "from sklearn.cluster import KMeans\n",
        "import matplotlib\n",
        "from yellowbrick.cluster import KElbowVisualizer\n",
        "\n",
        "#기타\n",
        "import warnings\n",
        "warnings.filterwarnings(\"ignore\")\n",
        "\n",
        "#크롤링 및 워드클라우드\n",
        "from bs4 import BeautifulSoup\n",
        "import urllib.request\n",
        "from urllib.parse import quote \n",
        "import requests\n",
        "import re\n",
        "from datetime import datetime\n",
        "from PIL import *\n",
        "from collections import Counter\n",
        "import xml.etree.ElementTree as ET\n",
        "import json\n",
        "\n",
        "#지리\n",
        "import geopandas as gpd\n",
        "from geopy.geocoders import Nominatim\n",
        "import shapefile\n",
        "import folium\n",
        "from shapely.geometry import Point, Polygon, LineString\n"
      ]
    },
    {
      "cell_type": "code",
      "source": [
        "#구글 드라이브 mount\n",
        "from google.colab import drive\n",
        "drive.mount('/content/gdrive', force_remount=True)\n"
      ],
      "metadata": {
        "colab": {
          "base_uri": "https://localhost:8080/"
        },
        "id": "dZOJjNSOCGIv",
        "outputId": "3bd38077-c54a-43bf-aadc-f379f43b025b"
      },
      "execution_count": null,
      "outputs": [
        {
          "output_type": "stream",
          "name": "stdout",
          "text": [
            "Mounted at /content/gdrive\n"
          ]
        }
      ]
    },
    {
      "cell_type": "code",
      "source": [
        "#각종 경로\n",
        "d_path=\"/content/gdrive/MyDrive/\"\n",
        "font_path = '/content/gdrive/MyDrive/DSF/malgun'\n"
      ],
      "metadata": {
        "id": "dNIKA685CjAO"
      },
      "execution_count": null,
      "outputs": []
    },
    {
      "cell_type": "code",
      "source": [
        "#한글 폰트\n",
        "font_name = fm.FontProperties(fname = font_path).get_name()\n",
        "matplotlib.rc(\"font\", family = font_name)\n",
        "%matplotlib inline"
      ],
      "metadata": {
        "id": "FBN87Kdg7Xh-"
      },
      "execution_count": null,
      "outputs": []
    },
    {
      "cell_type": "markdown",
      "source": [
        "# 장애인 예산 시각화"
      ],
      "metadata": {
        "id": "NqoSOeC9-uq-"
      }
    },
    {
      "cell_type": "code",
      "source": [
        "#단위는 억 원\n",
        "#자료출처: 보건복지부 기금운영계획안 사업운영계획\n",
        "disabled_budget = [4679, 5221, 6061, 6907, 9685, 13057, 15070, 17405]\n",
        "disabled_index = [2015, 2016, 2017, 2018, 2019, 2020, 2021, 2022]\n",
        "disabled_df = pd.DataFrame(disabled_budget, index=disabled_index, columns=[\"yearly_budget\"])\n",
        "disabled_df.head()"
      ],
      "metadata": {
        "id": "6My5JhDD-xlS"
      },
      "execution_count": null,
      "outputs": []
    },
    {
      "cell_type": "code",
      "source": [
        "disabled_list = [18816,\n",
        "19652,\n",
        "20670,\n",
        "22213,\n",
        "27326,\n",
        "32762,\n",
        "36662,\n",
        "40070,\n",
        "\n",
        "17101,\n",
        "17755,\n",
        "18744,\n",
        "20155,\n",
        "24731,\n",
        "29840,\n",
        "33447,\n",
        "9731+20930+6541,\n",
        "6931,\n",
        "6911,\n",
        "6927,\n",
        "7306,\n",
        "8495,\n",
        "9180,\n",
        "9664,\n",
        "9731,\n",
        "\n",
        "5496,\n",
        "6130,\n",
        "6973,\n",
        "7902,\n",
        "11065,\n",
        "15107,\n",
        "17704,\n",
        "20930,\n",
        "\n",
        "4673,\n",
        "4715,\n",
        "4845,\n",
        "4947,\n",
        "5171,\n",
        "5553,\n",
        "6079,\n",
        "6541]\n",
        "\n",
        "disabled_col = [\"총계\",\"3대 사업\", \"장애수당/연금\", \"장애인 선택적 복지\", \"장애인복지시설 지원\"]\n",
        "\n",
        "disabled_array = np.array(disabled_list)\n",
        "disabled_array = disabled_array.reshape(5, -1)\n",
        "\n",
        "disabled_whole = pd.DataFrame(disabled_array, index=disabled_col, columns=disabled_index)\n",
        "\n",
        "disabled_whole = disabled_whole.T\n"
      ],
      "metadata": {
        "id": "2kzl_iRU-xi2"
      },
      "execution_count": null,
      "outputs": []
    },
    {
      "cell_type": "code",
      "source": [
        "#활동지원할당 예산 증가 추세/ 단위는 억 원\n",
        "fig = plt.figure(figsize=(8,8)) ## 캔버스 생성\n",
        "fig.set_facecolor('white') ## 캔버스 색상 설정\n",
        "ax = fig.add_subplot() ## 그림 뼈대(프레임) 생성\n",
        "ax.plot(disabled_whole.index, disabled_whole[\"총계\"],marker='s', color=\"black\", label='Total') \n",
        "ax.bar(disabled_whole.index, disabled_whole[\"장애인 선택적 복지\"]*100*1000/disabled_whole[\"총계\"], color=\"skyblue\", label='Percentage of Activity') #10^3 scaled\n",
        "ax.plot(disabled_whole.index, disabled_whole[\"장애인 선택적 복지\"], color=\"red\", marker='o',label='Activity') \n",
        "ax.legend()\n",
        "plt.title(\"Budget Increase on activity budget\")\n",
        "plt.show()\n",
        "\n",
        "\n",
        "#장애인을 수동적인 대상으로 바라보는 것이 아니라 장애인이 정책 시행의 주체로서 활동할 수 있게하는 것"
      ],
      "metadata": {
        "id": "76uki1FX-xgC"
      },
      "execution_count": null,
      "outputs": []
    },
    {
      "cell_type": "markdown",
      "source": [
        "# 크롤링, keyword = \"탈시설\""
      ],
      "metadata": {
        "id": "QRwPbDvJ_J-e"
      }
    },
    {
      "cell_type": "code",
      "source": [
        "#탈시설 이라는 키워드 크롤링\n",
        "\n",
        "news_url = 'https://search.naver.com/search.naver?where=news&sm=tab_jum&query={}'\n",
        "query = \"탈시설\"\n",
        "news_num =3000 # 총 필요한 뉴스의 개수\n",
        "req = requests.get(news_url.format(query))\n",
        "soup = BeautifulSoup(req.text, 'html.parser')\n",
        "\n",
        "news_dict = {}\n",
        "idx = 0\n",
        "cur_page = 1\n"
      ],
      "metadata": {
        "id": "6j1zMj5K_O1J"
      },
      "execution_count": null,
      "outputs": []
    },
    {
      "cell_type": "code",
      "source": [
        "while idx < news_num:\n",
        "    \n",
        "    table = soup.find('ul',{'class' : 'list_news'})\n",
        "    li_list = table.find_all('li', {'id': re.compile('sp_nws.*')})\n",
        "    area_list = [li.find('div', {'class' : 'news_area'}) for li in li_list]\n",
        "    a_list = [area.find('a', {'class' : 'news_tit'}) for area in area_list]\n",
        "    \n",
        "    for n in a_list[:min(len(a_list), news_num-idx)]:\n",
        "        news_dict[idx] = {'title' : n.get('title'),\n",
        "                          'url' : n.get('href') }\n",
        "        idx += 1\n",
        "\n",
        "    cur_page += 1\n",
        "    \n",
        "    pages = soup.find('div', {'class' : 'sc_page_inner'})\n",
        "    next_page_url = [p for p in pages.find_all('a') if p.text == str(cur_page)][0].get('href')\n",
        "    \n",
        "    req = requests.get('https://search.naver.com/search.naver' + next_page_url)\n",
        "    soup = BeautifulSoup(req.text, 'html.parser')"
      ],
      "metadata": {
        "id": "S-KvWS_8_OzH"
      },
      "execution_count": null,
      "outputs": []
    },
    {
      "cell_type": "code",
      "source": [
        "print('데이터프레임 변환')\n",
        "news_df = pd.DataFrame(news_dict).T\n",
        "news_df"
      ],
      "metadata": {
        "id": "DfshY4xQ_Owa"
      },
      "execution_count": null,
      "outputs": []
    },
    {
      "cell_type": "code",
      "source": [
        "def word_list(title):\n",
        "  noun_adj_list = []\n",
        "\n",
        "  for words in title:\n",
        "    sentence_list = twitter.pos(words)\n",
        "    for word, tag in sentence_list:\n",
        "      if tag in [\"Noun\", \"Adjective\"]:\n",
        "        noun_adj_list.append(word)\n",
        "      else:\n",
        "        pass\n",
        "  return noun_adj_list\n"
      ],
      "metadata": {
        "id": "mb5eaTUI_mfL"
      },
      "execution_count": null,
      "outputs": []
    },
    {
      "cell_type": "code",
      "source": [
        "twitter = Twitter()\n",
        "sentence_list = []\n",
        "\n",
        "\n",
        "noun_adj = word_list(news_df[\"title\"])\n",
        "print(noun_adj)\n",
        "\n",
        "    \n",
        "\n",
        "\n"
      ],
      "metadata": {
        "id": "T9AInYO9_mca"
      },
      "execution_count": null,
      "outputs": []
    },
    {
      "cell_type": "code",
      "source": [
        "counts = Counter(noun_adj)\n",
        "tags = counts.most_common(50)\n",
        "print(tags)"
      ],
      "metadata": {
        "id": "Vhx1dbY9_qAx"
      },
      "execution_count": null,
      "outputs": []
    },
    {
      "cell_type": "code",
      "source": [
        "#전장연 시위 관련된 단어, '장애'같은 동의어는 수작업으로 제거 \n",
        "tags_dict = dict(tags)\n",
        "#print(tags_dict.keys())\n",
        "execute_keys = [\"시설\", \"탈\", \"장연\", \"지하철\", \"탈시\", \"위\", \"시위\", \"중\", \"것\"] \n",
        "\n",
        "useful_dict = {}\n",
        "for key in tags_dict:\n",
        "  if key not in execute_keys:\n",
        "    useful_dict[key] = tags_dict[key]\n",
        "  \n",
        "print(useful_dict)"
      ],
      "metadata": {
        "id": "Vd6zTveM_p-N"
      },
      "execution_count": null,
      "outputs": []
    },
    {
      "cell_type": "code",
      "source": [
        "wordcloud = WordCloud(\n",
        "    font_path = '/content/gdrive/MyDrive/DSF/malgun', background_color='white', colormap='Reds').generate_from_frequencies(useful_dict)"
      ],
      "metadata": {
        "id": "MBMJ3E7m_sGS"
      },
      "execution_count": null,
      "outputs": []
    },
    {
      "cell_type": "code",
      "source": [
        "plt.figure(figsize=(10,10))\n",
        "plt.imshow(wordcloud,interpolation='bilinear')\n",
        "plt.axis('off') \n",
        "plt.title(\"Wordcloud\")\n"
      ],
      "metadata": {
        "id": "yQfiboKc_sAg"
      },
      "execution_count": null,
      "outputs": []
    },
    {
      "cell_type": "markdown",
      "source": [
        "# 예산 -> 활동지원사 수 회귀분석"
      ],
      "metadata": {
        "id": "MZa1KkajEoHV"
      }
    },
    {
      "cell_type": "code",
      "source": [
        "import requests\n",
        "\n",
        "url = 'http://apis.data.go.kr/1352000/ODMS_STAT_18/callStat18Api'\n",
        "params = {'serviceKey' : 'P17GWD3PsEYIjlKLQZhHbDp7%2FB6PK0nyG2uYMfazEiD%2BTAeBwMc6HdvyA7UBWxpt0uBzAOGSrmCNcco7E0bc%2FA%3D%3D', 'pageNo' : '1', 'numOfRows' : '10', 'apiType' : 'XML', 'year' : '2019', 'dvsd' : '인천' }\n",
        "\n",
        "response = requests.get(url, params=params)\n",
        "print(response.content)\n"
      ],
      "metadata": {
        "id": "nEXx7kaXE6KI"
      },
      "execution_count": null,
      "outputs": []
    },
    {
      "cell_type": "code",
      "source": [
        "encoding = \"P17GWD3PsEYIjlKLQZhHbDp7%2FB6PK0nyG2uYMfazEiD%2BTAeBwMc6HdvyA7UBWxpt0uBzAOGSrmCNcco7E0bc%2FA%3D%3D\"\n",
        "year=\"\"\n",
        "region=\"\"\n",
        "def make_url(encoding, year, region):\n",
        "  \n",
        "\n",
        "  url = \"http://apis.data.go.kr/1352000/ODMS_STAT_18/callStat18Api?serviceKey=\" + str(encoding) + \"numOfRows=20&pageNo=1&apiType=JSON&year=\"+str(year)+\"&dvsd=\"+str(region)\n",
        "  return url\n",
        "\n"
      ],
      "metadata": {
        "id": "635w8sBLE6kJ"
      },
      "execution_count": null,
      "outputs": []
    },
    {
      "cell_type": "code",
      "source": [
        "url_2015 = \"http://apis.data.go.kr/1352000/ODMS_STAT_18/callStat18Api?serviceKey=\" + encoding + \"&numOfRows=30&pageNo=1&apiType=JSON&year=2015&dvsd=인천\"\n",
        "url_2016 = \"http://apis.data.go.kr/1352000/ODMS_STAT_18/callStat18Api?serviceKey=\" + encoding + \"&numOfRows=30&pageNo=1&apiType=JSON&year=2016\"\n",
        "\n",
        "url_2017 = \"http://apis.data.go.kr/1352000/ODMS_STAT_18/callStat18Api?serviceKey=\" + encoding + \"&numOfRows=30&pageNo=1&apiType=JSON&year=2017\"\n",
        "url_2018 = \"http://apis.data.go.kr/1352000/ODMS_STAT_18/callStat18Api?serviceKey=\" + encoding + \"&numOfRows=30&pageNo=1&apiType=JSON&year=2018\"\n",
        "url_2019 = \"http://apis.data.go.kr/1352000/ODMS_STAT_18/callStat18Api?serviceKey=\" + encoding + \"&numOfRows=30&pageNo=1&apiType=JSON&year=2019\"\n",
        "url_2020 = \"http://apis.data.go.kr/1352000/ODMS_STAT_18/callStat18Api?serviceKey=\" + encoding + \"&numOfRows=30&pageNo=1&apiType=JSON&year=2020\"\n",
        "url_2021 = \"http://apis.data.go.kr/1352000/ODMS_STAT_18/callStat18Api?serviceKey=\" + encoding + \"&numOfRows=30&pageNo=1&apiType=JSON&year=2021\"\n",
        "url_2022 = \"http://apis.data.go.kr/1352000/ODMS_STAT_18/callStat18Api?serviceKey=\" + encoding + \"&numOfRows=30&pageNo=1&apiType=JSON&year=2022\"\n",
        "\n",
        "url_list = [url_2015, url_2016, url_2017, url_2018, url_2019, url_2020, url_2021, url_2022]\n",
        "\n"
      ],
      "metadata": {
        "id": "PlM8qZNmE6hg"
      },
      "execution_count": null,
      "outputs": []
    },
    {
      "cell_type": "code",
      "source": [
        "req = requests.get(url_2018)\n",
        "req.encoding = \"utf-8\"\n",
        "text = req.content\n",
        "print(text)"
      ],
      "metadata": {
        "id": "NAK5gv5YE6ez"
      },
      "execution_count": null,
      "outputs": []
    },
    {
      "cell_type": "code",
      "source": [
        "act_dict = {}\n",
        "ems_dict = {}\n",
        "n = 0\n",
        "req = requests.get(url_2015)\n",
        "year = n+2015\n",
        "\n",
        "total_act = 0\n",
        "total_ems = 0\n",
        "\n",
        "req.encoding = \"utf-8\"\n",
        "text = req.content\n",
        "my_json = text.decode(\"utf8\").replace(\"'\", '\"')\n",
        "data = json.loads(my_json)\n",
        "for i in range(len(data[\"items\"])):\n",
        "  total_act += int(data[\"items\"][i][\"acvspTtl\"])\n",
        "  total_ems += int(data[\"items\"][i][\"emsfsTtl\"])\n",
        "act_dict[\"year_\"+str(year)] = total_act\n",
        "ems_dict[\"year_\"+str(year)] = total_ems\n",
        "print(ems_dict)"
      ],
      "metadata": {
        "id": "nX8OYZgnFDr0"
      },
      "execution_count": null,
      "outputs": []
    },
    {
      "cell_type": "code",
      "source": [
        "n = 1\n",
        "req = requests.get(url_2016)\n",
        "year = n+2015\n",
        "\n",
        "total_act = 0\n",
        "total_ems = 0\n",
        "\n",
        "req.encoding = \"utf-8\"\n",
        "text = req.content\n",
        "my_json = text.decode(\"utf8\").replace(\"'\", '\"')\n",
        "data = json.loads(my_json)\n",
        "for i in range(len(data[\"items\"])):\n",
        "  total_act += int(data[\"items\"][i][\"acvspTtl\"])\n",
        "  total_ems += int(data[\"items\"][i][\"emsfsTtl\"])\n",
        "act_dict[\"year_\"+str(year)] = total_act\n",
        "ems_dict[\"year_\"+str(year)] = total_ems\n",
        "\n",
        "print(act_dict)\n"
      ],
      "metadata": {
        "id": "jqsACiB9FDmz"
      },
      "execution_count": null,
      "outputs": []
    },
    {
      "cell_type": "code",
      "source": [
        "n = 2\n",
        "req = requests.get(url_2017)\n",
        "year = n+2015\n",
        "\n",
        "total_act = 0\n",
        "total_ems = 0\n",
        "\n",
        "req.encoding = \"utf-8\"\n",
        "text = req.content\n",
        "my_json = text.decode(\"utf8\").replace(\"'\", '\"')\n",
        "data = json.loads(my_json)\n",
        "for i in range(len(data[\"items\"])):\n",
        "  total_act += int(data[\"items\"][i][\"acvspTtl\"])\n",
        "  total_ems += int(data[\"items\"][i][\"emsfsTtl\"])\n",
        "act_dict[\"year_\"+str(year)] = total_act\n",
        "ems_dict[\"year_\"+str(year)] = total_ems\n",
        "\n",
        "print(act_dict)"
      ],
      "metadata": {
        "id": "DXIjxW1JFDju"
      },
      "execution_count": null,
      "outputs": []
    },
    {
      "cell_type": "code",
      "source": [
        "n = 3\n",
        "req = requests.get(url_2018)\n",
        "year = n+2015\n",
        "\n",
        "total_act = 0\n",
        "total_ems = 0\n",
        "\n",
        "req.encoding = \"utf-8\"\n",
        "text = req.content\n",
        "my_json = text.decode(\"utf8\").replace(\"'\", '\"')\n",
        "data = json.loads(my_json)\n",
        "for i in range(len(data[\"items\"])):\n",
        "  total_act += int(data[\"items\"][i][\"acvspTtl\"])\n",
        "  total_ems += int(data[\"items\"][i][\"emsfsTtl\"])\n",
        "act_dict[\"year_\"+str(year)] = total_act\n",
        "ems_dict[\"year_\"+str(year)] = total_ems\n",
        "\n",
        "print(act_dict)"
      ],
      "metadata": {
        "id": "IKpWuEbyFLhy"
      },
      "execution_count": null,
      "outputs": []
    },
    {
      "cell_type": "code",
      "source": [
        "n = 4\n",
        "req = requests.get(url_2019)\n",
        "year = n+2015\n",
        "\n",
        "total_act = 0\n",
        "total_ems = 0\n",
        "\n",
        "req.encoding = \"utf-8\"\n",
        "text = req.content\n",
        "my_json = text.decode(\"utf8\").replace(\"'\", '\"')\n",
        "data = json.loads(my_json)\n",
        "for i in range(len(data[\"items\"])):\n",
        "  total_act += int(data[\"items\"][i][\"acvspTtl\"])\n",
        "  total_ems += int(data[\"items\"][i][\"emsfsTtl\"])\n",
        "act_dict[\"year_\"+str(year)] = total_act\n",
        "ems_dict[\"year_\"+str(year)] = total_ems\n",
        "\n",
        "print(act_dict)"
      ],
      "metadata": {
        "id": "y15LfA8XFLe2"
      },
      "execution_count": null,
      "outputs": []
    },
    {
      "cell_type": "code",
      "source": [
        "n = 5\n",
        "req = requests.get(url_2020)\n",
        "year = n+2015\n",
        "\n",
        "total_act = 0\n",
        "total_ems = 0\n",
        "\n",
        "req.encoding = \"utf-8\"\n",
        "text = req.content\n",
        "my_json = text.decode(\"utf8\").replace(\"'\", '\"')\n",
        "data = json.loads(my_json)\n",
        "for i in range(len(data[\"items\"])):\n",
        "  total_act += int(data[\"items\"][i][\"acvspTtl\"])\n",
        "  total_ems += int(data[\"items\"][i][\"emsfsTtl\"])\n",
        "act_dict[\"year_\"+str(year)] = total_act\n",
        "ems_dict[\"year_\"+str(year)] = total_ems\n",
        "\n",
        "print(act_dict)"
      ],
      "metadata": {
        "id": "qqUiJcb0FLZ7"
      },
      "execution_count": null,
      "outputs": []
    },
    {
      "cell_type": "code",
      "source": [
        "n = 6\n",
        "req = requests.get(url_2021)\n",
        "year = n+2015\n",
        "\n",
        "total_act = 0\n",
        "total_ems = 0\n",
        "\n",
        "req.encoding = \"utf-8\"\n",
        "text = req.content\n",
        "my_json = text.decode(\"utf8\").replace(\"'\", '\"')\n",
        "data = json.loads(my_json)\n",
        "for i in range(len(data[\"items\"])):\n",
        "  total_act += int(data[\"items\"][i][\"acvspTtl\"])\n",
        "  total_ems += int(data[\"items\"][i][\"emsfsTtl\"])\n",
        "act_dict[\"year_\"+str(year)] = total_act\n",
        "ems_dict[\"year_\"+str(year)] = total_ems\n",
        "\n",
        "\n",
        "print(act_dict)"
      ],
      "metadata": {
        "id": "Rq6hHxKhFLXH"
      },
      "execution_count": null,
      "outputs": []
    },
    {
      "cell_type": "code",
      "source": [
        "act_dict[\"year_2022\"] = 0\n",
        "ems_dict[\"year_2022\"] = 0"
      ],
      "metadata": {
        "id": "JiFgPcSBFOtq"
      },
      "execution_count": null,
      "outputs": []
    },
    {
      "cell_type": "code",
      "source": [
        "disabled_df[\"yearly_act\"] = act_dict.values()\n",
        "disabled_df[\"yearly_ems\"] = ems_dict.values()\n",
        "disabled_df_real = disabled_df[2:5]\n",
        "disabled_df_real"
      ],
      "metadata": {
        "id": "-gQeonyQFOr0"
      },
      "execution_count": null,
      "outputs": []
    },
    {
      "cell_type": "code",
      "source": [
        "ols(\"yearly_act~yearly_budget\", data = disabled_df_real).fit().summary()"
      ],
      "metadata": {
        "id": "Aey9zsiZFOpK"
      },
      "execution_count": null,
      "outputs": []
    },
    {
      "cell_type": "code",
      "source": [
        "b_1 = 0.7270 \n",
        "b_0 = 9027.5236 \n",
        "\n",
        "def money_to_people(x):\n",
        "  return b_0 + b_1 * x\n",
        "\n",
        "disabled_df_real[\"yearly_budget\"].apply(lambda x: money_to_people(x))"
      ],
      "metadata": {
        "id": "ja_3aowVFOm2"
      },
      "execution_count": null,
      "outputs": []
    },
    {
      "cell_type": "markdown",
      "source": [
        "# 자치구내 법정동별 인구 "
      ],
      "metadata": {
        "id": "14IdgxcdBMp3"
      }
    },
    {
      "cell_type": "code",
      "source": [
        "people = pd.read_csv(d_path + \"행정안전부_지역별(법정동) 성별 연령별 주민등록 인구수_20221031.csv\", header=0, encoding=\"cp949\")\n",
        "people.head()"
      ],
      "metadata": {
        "id": "4t2Ic-sLBMFW",
        "colab": {
          "base_uri": "https://localhost:8080/",
          "height": 279
        },
        "outputId": "21afc105-0cee-48e2-b6dd-7bffc847ae6c"
      },
      "execution_count": null,
      "outputs": [
        {
          "output_type": "execute_result",
          "data": {
            "text/plain": [
              "        법정동코드        기준연월    시도명 시군구명 읍면동명   리명     계    남자    여자  만0세남자  ...  \\\n",
              "0  1111010100  2022-10-31  서울특별시  종로구  청운동  청운동  2339  1168  1171      5  ...   \n",
              "1  1111010200  2022-10-31  서울특별시  종로구  신교동  신교동  1381   618   763      1  ...   \n",
              "2  1111010300  2022-10-31  서울특별시  종로구  궁정동  궁정동   199    84   115      0  ...   \n",
              "3  1111010400  2022-10-31  서울특별시  종로구  효자동  효자동   569   251   318      1  ...   \n",
              "4  1111010500  2022-10-31  서울특별시  종로구  창성동  창성동   436   181   255      1  ...   \n",
              "\n",
              "   만101세여자  만102세여자  만103세여자  만104세여자  만105세여자  만106세여자  만107세여자  만108세여자  \\\n",
              "0        1        0        0        0        0        0        0        0   \n",
              "1        0        0        0        0        0        0        0        0   \n",
              "2        0        0        0        0        0        0        0        0   \n",
              "3        0        0        0        0        0        0        0        0   \n",
              "4        0        0        0        0        0        0        0        0   \n",
              "\n",
              "   만109세여자  만110세이상여자  \n",
              "0        0          0  \n",
              "1        0          0  \n",
              "2        0          0  \n",
              "3        0          0  \n",
              "4        0          0  \n",
              "\n",
              "[5 rows x 231 columns]"
            ],
            "text/html": [
              "\n",
              "  <div id=\"df-3990e50d-952f-4dca-a9c5-e69990e1c5f0\">\n",
              "    <div class=\"colab-df-container\">\n",
              "      <div>\n",
              "<style scoped>\n",
              "    .dataframe tbody tr th:only-of-type {\n",
              "        vertical-align: middle;\n",
              "    }\n",
              "\n",
              "    .dataframe tbody tr th {\n",
              "        vertical-align: top;\n",
              "    }\n",
              "\n",
              "    .dataframe thead th {\n",
              "        text-align: right;\n",
              "    }\n",
              "</style>\n",
              "<table border=\"1\" class=\"dataframe\">\n",
              "  <thead>\n",
              "    <tr style=\"text-align: right;\">\n",
              "      <th></th>\n",
              "      <th>법정동코드</th>\n",
              "      <th>기준연월</th>\n",
              "      <th>시도명</th>\n",
              "      <th>시군구명</th>\n",
              "      <th>읍면동명</th>\n",
              "      <th>리명</th>\n",
              "      <th>계</th>\n",
              "      <th>남자</th>\n",
              "      <th>여자</th>\n",
              "      <th>만0세남자</th>\n",
              "      <th>...</th>\n",
              "      <th>만101세여자</th>\n",
              "      <th>만102세여자</th>\n",
              "      <th>만103세여자</th>\n",
              "      <th>만104세여자</th>\n",
              "      <th>만105세여자</th>\n",
              "      <th>만106세여자</th>\n",
              "      <th>만107세여자</th>\n",
              "      <th>만108세여자</th>\n",
              "      <th>만109세여자</th>\n",
              "      <th>만110세이상여자</th>\n",
              "    </tr>\n",
              "  </thead>\n",
              "  <tbody>\n",
              "    <tr>\n",
              "      <th>0</th>\n",
              "      <td>1111010100</td>\n",
              "      <td>2022-10-31</td>\n",
              "      <td>서울특별시</td>\n",
              "      <td>종로구</td>\n",
              "      <td>청운동</td>\n",
              "      <td>청운동</td>\n",
              "      <td>2339</td>\n",
              "      <td>1168</td>\n",
              "      <td>1171</td>\n",
              "      <td>5</td>\n",
              "      <td>...</td>\n",
              "      <td>1</td>\n",
              "      <td>0</td>\n",
              "      <td>0</td>\n",
              "      <td>0</td>\n",
              "      <td>0</td>\n",
              "      <td>0</td>\n",
              "      <td>0</td>\n",
              "      <td>0</td>\n",
              "      <td>0</td>\n",
              "      <td>0</td>\n",
              "    </tr>\n",
              "    <tr>\n",
              "      <th>1</th>\n",
              "      <td>1111010200</td>\n",
              "      <td>2022-10-31</td>\n",
              "      <td>서울특별시</td>\n",
              "      <td>종로구</td>\n",
              "      <td>신교동</td>\n",
              "      <td>신교동</td>\n",
              "      <td>1381</td>\n",
              "      <td>618</td>\n",
              "      <td>763</td>\n",
              "      <td>1</td>\n",
              "      <td>...</td>\n",
              "      <td>0</td>\n",
              "      <td>0</td>\n",
              "      <td>0</td>\n",
              "      <td>0</td>\n",
              "      <td>0</td>\n",
              "      <td>0</td>\n",
              "      <td>0</td>\n",
              "      <td>0</td>\n",
              "      <td>0</td>\n",
              "      <td>0</td>\n",
              "    </tr>\n",
              "    <tr>\n",
              "      <th>2</th>\n",
              "      <td>1111010300</td>\n",
              "      <td>2022-10-31</td>\n",
              "      <td>서울특별시</td>\n",
              "      <td>종로구</td>\n",
              "      <td>궁정동</td>\n",
              "      <td>궁정동</td>\n",
              "      <td>199</td>\n",
              "      <td>84</td>\n",
              "      <td>115</td>\n",
              "      <td>0</td>\n",
              "      <td>...</td>\n",
              "      <td>0</td>\n",
              "      <td>0</td>\n",
              "      <td>0</td>\n",
              "      <td>0</td>\n",
              "      <td>0</td>\n",
              "      <td>0</td>\n",
              "      <td>0</td>\n",
              "      <td>0</td>\n",
              "      <td>0</td>\n",
              "      <td>0</td>\n",
              "    </tr>\n",
              "    <tr>\n",
              "      <th>3</th>\n",
              "      <td>1111010400</td>\n",
              "      <td>2022-10-31</td>\n",
              "      <td>서울특별시</td>\n",
              "      <td>종로구</td>\n",
              "      <td>효자동</td>\n",
              "      <td>효자동</td>\n",
              "      <td>569</td>\n",
              "      <td>251</td>\n",
              "      <td>318</td>\n",
              "      <td>1</td>\n",
              "      <td>...</td>\n",
              "      <td>0</td>\n",
              "      <td>0</td>\n",
              "      <td>0</td>\n",
              "      <td>0</td>\n",
              "      <td>0</td>\n",
              "      <td>0</td>\n",
              "      <td>0</td>\n",
              "      <td>0</td>\n",
              "      <td>0</td>\n",
              "      <td>0</td>\n",
              "    </tr>\n",
              "    <tr>\n",
              "      <th>4</th>\n",
              "      <td>1111010500</td>\n",
              "      <td>2022-10-31</td>\n",
              "      <td>서울특별시</td>\n",
              "      <td>종로구</td>\n",
              "      <td>창성동</td>\n",
              "      <td>창성동</td>\n",
              "      <td>436</td>\n",
              "      <td>181</td>\n",
              "      <td>255</td>\n",
              "      <td>1</td>\n",
              "      <td>...</td>\n",
              "      <td>0</td>\n",
              "      <td>0</td>\n",
              "      <td>0</td>\n",
              "      <td>0</td>\n",
              "      <td>0</td>\n",
              "      <td>0</td>\n",
              "      <td>0</td>\n",
              "      <td>0</td>\n",
              "      <td>0</td>\n",
              "      <td>0</td>\n",
              "    </tr>\n",
              "  </tbody>\n",
              "</table>\n",
              "<p>5 rows × 231 columns</p>\n",
              "</div>\n",
              "      <button class=\"colab-df-convert\" onclick=\"convertToInteractive('df-3990e50d-952f-4dca-a9c5-e69990e1c5f0')\"\n",
              "              title=\"Convert this dataframe to an interactive table.\"\n",
              "              style=\"display:none;\">\n",
              "        \n",
              "  <svg xmlns=\"http://www.w3.org/2000/svg\" height=\"24px\"viewBox=\"0 0 24 24\"\n",
              "       width=\"24px\">\n",
              "    <path d=\"M0 0h24v24H0V0z\" fill=\"none\"/>\n",
              "    <path d=\"M18.56 5.44l.94 2.06.94-2.06 2.06-.94-2.06-.94-.94-2.06-.94 2.06-2.06.94zm-11 1L8.5 8.5l.94-2.06 2.06-.94-2.06-.94L8.5 2.5l-.94 2.06-2.06.94zm10 10l.94 2.06.94-2.06 2.06-.94-2.06-.94-.94-2.06-.94 2.06-2.06.94z\"/><path d=\"M17.41 7.96l-1.37-1.37c-.4-.4-.92-.59-1.43-.59-.52 0-1.04.2-1.43.59L10.3 9.45l-7.72 7.72c-.78.78-.78 2.05 0 2.83L4 21.41c.39.39.9.59 1.41.59.51 0 1.02-.2 1.41-.59l7.78-7.78 2.81-2.81c.8-.78.8-2.07 0-2.86zM5.41 20L4 18.59l7.72-7.72 1.47 1.35L5.41 20z\"/>\n",
              "  </svg>\n",
              "      </button>\n",
              "      \n",
              "  <style>\n",
              "    .colab-df-container {\n",
              "      display:flex;\n",
              "      flex-wrap:wrap;\n",
              "      gap: 12px;\n",
              "    }\n",
              "\n",
              "    .colab-df-convert {\n",
              "      background-color: #E8F0FE;\n",
              "      border: none;\n",
              "      border-radius: 50%;\n",
              "      cursor: pointer;\n",
              "      display: none;\n",
              "      fill: #1967D2;\n",
              "      height: 32px;\n",
              "      padding: 0 0 0 0;\n",
              "      width: 32px;\n",
              "    }\n",
              "\n",
              "    .colab-df-convert:hover {\n",
              "      background-color: #E2EBFA;\n",
              "      box-shadow: 0px 1px 2px rgba(60, 64, 67, 0.3), 0px 1px 3px 1px rgba(60, 64, 67, 0.15);\n",
              "      fill: #174EA6;\n",
              "    }\n",
              "\n",
              "    [theme=dark] .colab-df-convert {\n",
              "      background-color: #3B4455;\n",
              "      fill: #D2E3FC;\n",
              "    }\n",
              "\n",
              "    [theme=dark] .colab-df-convert:hover {\n",
              "      background-color: #434B5C;\n",
              "      box-shadow: 0px 1px 3px 1px rgba(0, 0, 0, 0.15);\n",
              "      filter: drop-shadow(0px 1px 2px rgba(0, 0, 0, 0.3));\n",
              "      fill: #FFFFFF;\n",
              "    }\n",
              "  </style>\n",
              "\n",
              "      <script>\n",
              "        const buttonEl =\n",
              "          document.querySelector('#df-3990e50d-952f-4dca-a9c5-e69990e1c5f0 button.colab-df-convert');\n",
              "        buttonEl.style.display =\n",
              "          google.colab.kernel.accessAllowed ? 'block' : 'none';\n",
              "\n",
              "        async function convertToInteractive(key) {\n",
              "          const element = document.querySelector('#df-3990e50d-952f-4dca-a9c5-e69990e1c5f0');\n",
              "          const dataTable =\n",
              "            await google.colab.kernel.invokeFunction('convertToInteractive',\n",
              "                                                     [key], {});\n",
              "          if (!dataTable) return;\n",
              "\n",
              "          const docLinkHtml = 'Like what you see? Visit the ' +\n",
              "            '<a target=\"_blank\" href=https://colab.research.google.com/notebooks/data_table.ipynb>data table notebook</a>'\n",
              "            + ' to learn more about interactive tables.';\n",
              "          element.innerHTML = '';\n",
              "          dataTable['output_type'] = 'display_data';\n",
              "          await google.colab.output.renderOutput(dataTable, element);\n",
              "          const docLink = document.createElement('div');\n",
              "          docLink.innerHTML = docLinkHtml;\n",
              "          element.appendChild(docLink);\n",
              "        }\n",
              "      </script>\n",
              "    </div>\n",
              "  </div>\n",
              "  "
            ]
          },
          "metadata": {},
          "execution_count": 223
        }
      ]
    },
    {
      "cell_type": "code",
      "source": [
        "#자료 설명\n",
        "\n",
        "'''\n",
        "법정동(읍면동리) 성별 연령별 주민등록 인구에 대한 데이터입니다.\n",
        "법정동은 시 또는 구의 하위 행정구역으로 법률로 지정한 구역을 말합니다.\n",
        "https://www.data.go.kr/data/15099158/fileData.do\n",
        "'''"
      ],
      "metadata": {
        "id": "0bPTnGLEBMDf",
        "colab": {
          "base_uri": "https://localhost:8080/",
          "height": 36
        },
        "outputId": "289c6cf2-0e35-4795-d415-3ad7e4dcaad9"
      },
      "execution_count": null,
      "outputs": [
        {
          "output_type": "execute_result",
          "data": {
            "text/plain": [
              "'\\n법정동(읍면동리) 성별 연령별 주민등록 인구에 대한 데이터입니다.\\n법정동은 시 또는 구의 하위 행정구역으로 법률로 지정한 구역을 말합니다.\\nhttps://www.data.go.kr/data/15099158/fileData.do\\n'"
            ],
            "application/vnd.google.colaboratory.intrinsic+json": {
              "type": "string"
            }
          },
          "metadata": {},
          "execution_count": 224
        }
      ]
    },
    {
      "cell_type": "code",
      "source": [
        "#2022년 10월 기준\n",
        "\n",
        "people = pd.read_csv(d_path + \"행정안전부_지역별(법정동) 성별 연령별 주민등록 인구수_20221031.csv\", header=0, encoding=\"cp949\")\n",
        "people = people.iloc[:, :7]\n",
        "people = people[people[\"시도명\"] == \"서울특별시\"]\n",
        "people.drop([\"시도명\", \"기준연월\", \"리명\"], axis = 1, inplace = True)  "
      ],
      "metadata": {
        "id": "P3BCp832BMBr"
      },
      "execution_count": null,
      "outputs": []
    },
    {
      "cell_type": "code",
      "source": [
        "people\n",
        "#구, 동 별 인구"
      ],
      "metadata": {
        "colab": {
          "base_uri": "https://localhost:8080/",
          "height": 423
        },
        "id": "WxZ1f36KYCHo",
        "outputId": "fa8a5d75-68b3-4ec2-cd1f-0b36b7f66770"
      },
      "execution_count": null,
      "outputs": [
        {
          "output_type": "execute_result",
          "data": {
            "text/plain": [
              "          법정동코드 시군구명 읍면동명      계\n",
              "0    1111010100  종로구  청운동   2339\n",
              "1    1111010200  종로구  신교동   1381\n",
              "2    1111010300  종로구  궁정동    199\n",
              "3    1111010400  종로구  효자동    569\n",
              "4    1111010500  종로구  창성동    436\n",
              "..          ...  ...  ...    ...\n",
              "452  1174010600  강동구  둔촌동  24281\n",
              "453  1174010700  강동구  암사동  66516\n",
              "454  1174010800  강동구  성내동  65754\n",
              "455  1174010900  강동구  천호동  85838\n",
              "456  1174011000  강동구  강일동  32908\n",
              "\n",
              "[457 rows x 4 columns]"
            ],
            "text/html": [
              "\n",
              "  <div id=\"df-43d9cd00-3240-4c0a-b32c-158205014559\">\n",
              "    <div class=\"colab-df-container\">\n",
              "      <div>\n",
              "<style scoped>\n",
              "    .dataframe tbody tr th:only-of-type {\n",
              "        vertical-align: middle;\n",
              "    }\n",
              "\n",
              "    .dataframe tbody tr th {\n",
              "        vertical-align: top;\n",
              "    }\n",
              "\n",
              "    .dataframe thead th {\n",
              "        text-align: right;\n",
              "    }\n",
              "</style>\n",
              "<table border=\"1\" class=\"dataframe\">\n",
              "  <thead>\n",
              "    <tr style=\"text-align: right;\">\n",
              "      <th></th>\n",
              "      <th>법정동코드</th>\n",
              "      <th>시군구명</th>\n",
              "      <th>읍면동명</th>\n",
              "      <th>계</th>\n",
              "    </tr>\n",
              "  </thead>\n",
              "  <tbody>\n",
              "    <tr>\n",
              "      <th>0</th>\n",
              "      <td>1111010100</td>\n",
              "      <td>종로구</td>\n",
              "      <td>청운동</td>\n",
              "      <td>2339</td>\n",
              "    </tr>\n",
              "    <tr>\n",
              "      <th>1</th>\n",
              "      <td>1111010200</td>\n",
              "      <td>종로구</td>\n",
              "      <td>신교동</td>\n",
              "      <td>1381</td>\n",
              "    </tr>\n",
              "    <tr>\n",
              "      <th>2</th>\n",
              "      <td>1111010300</td>\n",
              "      <td>종로구</td>\n",
              "      <td>궁정동</td>\n",
              "      <td>199</td>\n",
              "    </tr>\n",
              "    <tr>\n",
              "      <th>3</th>\n",
              "      <td>1111010400</td>\n",
              "      <td>종로구</td>\n",
              "      <td>효자동</td>\n",
              "      <td>569</td>\n",
              "    </tr>\n",
              "    <tr>\n",
              "      <th>4</th>\n",
              "      <td>1111010500</td>\n",
              "      <td>종로구</td>\n",
              "      <td>창성동</td>\n",
              "      <td>436</td>\n",
              "    </tr>\n",
              "    <tr>\n",
              "      <th>...</th>\n",
              "      <td>...</td>\n",
              "      <td>...</td>\n",
              "      <td>...</td>\n",
              "      <td>...</td>\n",
              "    </tr>\n",
              "    <tr>\n",
              "      <th>452</th>\n",
              "      <td>1174010600</td>\n",
              "      <td>강동구</td>\n",
              "      <td>둔촌동</td>\n",
              "      <td>24281</td>\n",
              "    </tr>\n",
              "    <tr>\n",
              "      <th>453</th>\n",
              "      <td>1174010700</td>\n",
              "      <td>강동구</td>\n",
              "      <td>암사동</td>\n",
              "      <td>66516</td>\n",
              "    </tr>\n",
              "    <tr>\n",
              "      <th>454</th>\n",
              "      <td>1174010800</td>\n",
              "      <td>강동구</td>\n",
              "      <td>성내동</td>\n",
              "      <td>65754</td>\n",
              "    </tr>\n",
              "    <tr>\n",
              "      <th>455</th>\n",
              "      <td>1174010900</td>\n",
              "      <td>강동구</td>\n",
              "      <td>천호동</td>\n",
              "      <td>85838</td>\n",
              "    </tr>\n",
              "    <tr>\n",
              "      <th>456</th>\n",
              "      <td>1174011000</td>\n",
              "      <td>강동구</td>\n",
              "      <td>강일동</td>\n",
              "      <td>32908</td>\n",
              "    </tr>\n",
              "  </tbody>\n",
              "</table>\n",
              "<p>457 rows × 4 columns</p>\n",
              "</div>\n",
              "      <button class=\"colab-df-convert\" onclick=\"convertToInteractive('df-43d9cd00-3240-4c0a-b32c-158205014559')\"\n",
              "              title=\"Convert this dataframe to an interactive table.\"\n",
              "              style=\"display:none;\">\n",
              "        \n",
              "  <svg xmlns=\"http://www.w3.org/2000/svg\" height=\"24px\"viewBox=\"0 0 24 24\"\n",
              "       width=\"24px\">\n",
              "    <path d=\"M0 0h24v24H0V0z\" fill=\"none\"/>\n",
              "    <path d=\"M18.56 5.44l.94 2.06.94-2.06 2.06-.94-2.06-.94-.94-2.06-.94 2.06-2.06.94zm-11 1L8.5 8.5l.94-2.06 2.06-.94-2.06-.94L8.5 2.5l-.94 2.06-2.06.94zm10 10l.94 2.06.94-2.06 2.06-.94-2.06-.94-.94-2.06-.94 2.06-2.06.94z\"/><path d=\"M17.41 7.96l-1.37-1.37c-.4-.4-.92-.59-1.43-.59-.52 0-1.04.2-1.43.59L10.3 9.45l-7.72 7.72c-.78.78-.78 2.05 0 2.83L4 21.41c.39.39.9.59 1.41.59.51 0 1.02-.2 1.41-.59l7.78-7.78 2.81-2.81c.8-.78.8-2.07 0-2.86zM5.41 20L4 18.59l7.72-7.72 1.47 1.35L5.41 20z\"/>\n",
              "  </svg>\n",
              "      </button>\n",
              "      \n",
              "  <style>\n",
              "    .colab-df-container {\n",
              "      display:flex;\n",
              "      flex-wrap:wrap;\n",
              "      gap: 12px;\n",
              "    }\n",
              "\n",
              "    .colab-df-convert {\n",
              "      background-color: #E8F0FE;\n",
              "      border: none;\n",
              "      border-radius: 50%;\n",
              "      cursor: pointer;\n",
              "      display: none;\n",
              "      fill: #1967D2;\n",
              "      height: 32px;\n",
              "      padding: 0 0 0 0;\n",
              "      width: 32px;\n",
              "    }\n",
              "\n",
              "    .colab-df-convert:hover {\n",
              "      background-color: #E2EBFA;\n",
              "      box-shadow: 0px 1px 2px rgba(60, 64, 67, 0.3), 0px 1px 3px 1px rgba(60, 64, 67, 0.15);\n",
              "      fill: #174EA6;\n",
              "    }\n",
              "\n",
              "    [theme=dark] .colab-df-convert {\n",
              "      background-color: #3B4455;\n",
              "      fill: #D2E3FC;\n",
              "    }\n",
              "\n",
              "    [theme=dark] .colab-df-convert:hover {\n",
              "      background-color: #434B5C;\n",
              "      box-shadow: 0px 1px 3px 1px rgba(0, 0, 0, 0.15);\n",
              "      filter: drop-shadow(0px 1px 2px rgba(0, 0, 0, 0.3));\n",
              "      fill: #FFFFFF;\n",
              "    }\n",
              "  </style>\n",
              "\n",
              "      <script>\n",
              "        const buttonEl =\n",
              "          document.querySelector('#df-43d9cd00-3240-4c0a-b32c-158205014559 button.colab-df-convert');\n",
              "        buttonEl.style.display =\n",
              "          google.colab.kernel.accessAllowed ? 'block' : 'none';\n",
              "\n",
              "        async function convertToInteractive(key) {\n",
              "          const element = document.querySelector('#df-43d9cd00-3240-4c0a-b32c-158205014559');\n",
              "          const dataTable =\n",
              "            await google.colab.kernel.invokeFunction('convertToInteractive',\n",
              "                                                     [key], {});\n",
              "          if (!dataTable) return;\n",
              "\n",
              "          const docLinkHtml = 'Like what you see? Visit the ' +\n",
              "            '<a target=\"_blank\" href=https://colab.research.google.com/notebooks/data_table.ipynb>data table notebook</a>'\n",
              "            + ' to learn more about interactive tables.';\n",
              "          element.innerHTML = '';\n",
              "          dataTable['output_type'] = 'display_data';\n",
              "          await google.colab.output.renderOutput(dataTable, element);\n",
              "          const docLink = document.createElement('div');\n",
              "          docLink.innerHTML = docLinkHtml;\n",
              "          element.appendChild(docLink);\n",
              "        }\n",
              "      </script>\n",
              "    </div>\n",
              "  </div>\n",
              "  "
            ]
          },
          "metadata": {},
          "execution_count": 226
        }
      ]
    },
    {
      "cell_type": "markdown",
      "source": [
        "# 클러스터 정하기 (pt.0)"
      ],
      "metadata": {
        "id": "gugYm_84X_k4"
      }
    },
    {
      "cell_type": "code",
      "source": [
        "sh_geo_pre = gpd.read_file(d_path + \"house/a.shp\")\n",
        "geo_gu = pd.read_csv(d_path+\"gu.csv\", encoding=\"cp949\")\n",
        "geo_gu.rename(columns= {\"주소\": \"field1\"}, inplace=True)\n",
        "merge_outer = pd.merge(geo_gu, sh_geo_pre, how=\"outer\", on=\"field1\")\n",
        "saved_outer = merge_outer.loc[:, [\"자치구\", \"field1\", \"geometry\"]] \n",
        "saved_outer.dropna(axis=0, inplace=True)\n",
        "geo_center = gpd.GeoDataFrame(saved_outer, geometry=\"geometry\")\n",
        "geo_center.head()\n"
      ],
      "metadata": {
        "id": "iB_vGl4_BL_r",
        "colab": {
          "base_uri": "https://localhost:8080/",
          "height": 206
        },
        "outputId": "128b48c1-bcd1-4f50-af8a-90de94d362f4"
      },
      "execution_count": null,
      "outputs": [
        {
          "output_type": "execute_result",
          "data": {
            "text/plain": [
              "   자치구                    field1                    geometry\n",
              "0  노원구         섬밭로 201 하계동 시영아파트  POINT (127.06629 37.63309)\n",
              "1  마포구  월드컵로 207 성산동 도시개발공사성산아파트  POINT (126.90148 37.56462)\n",
              "2  중랑구      용마산로 228 면목동 도시개발아파트  POINT (127.08841 37.57357)\n",
              "3  노원구       노원로19길 31 중계동 목화아파트  POINT (127.07005 37.64257)\n",
              "4  노원구    노원로 331 중계동 시영3단지목련아파트  POINT (127.06881 37.64593)"
            ],
            "text/html": [
              "\n",
              "  <div id=\"df-1cd767b1-e199-4e06-a0b6-c70247cc9f4c\">\n",
              "    <div class=\"colab-df-container\">\n",
              "      <div>\n",
              "<style scoped>\n",
              "    .dataframe tbody tr th:only-of-type {\n",
              "        vertical-align: middle;\n",
              "    }\n",
              "\n",
              "    .dataframe tbody tr th {\n",
              "        vertical-align: top;\n",
              "    }\n",
              "\n",
              "    .dataframe thead th {\n",
              "        text-align: right;\n",
              "    }\n",
              "</style>\n",
              "<table border=\"1\" class=\"dataframe\">\n",
              "  <thead>\n",
              "    <tr style=\"text-align: right;\">\n",
              "      <th></th>\n",
              "      <th>자치구</th>\n",
              "      <th>field1</th>\n",
              "      <th>geometry</th>\n",
              "    </tr>\n",
              "  </thead>\n",
              "  <tbody>\n",
              "    <tr>\n",
              "      <th>0</th>\n",
              "      <td>노원구</td>\n",
              "      <td>섬밭로 201 하계동 시영아파트</td>\n",
              "      <td>POINT (127.06629 37.63309)</td>\n",
              "    </tr>\n",
              "    <tr>\n",
              "      <th>1</th>\n",
              "      <td>마포구</td>\n",
              "      <td>월드컵로 207 성산동 도시개발공사성산아파트</td>\n",
              "      <td>POINT (126.90148 37.56462)</td>\n",
              "    </tr>\n",
              "    <tr>\n",
              "      <th>2</th>\n",
              "      <td>중랑구</td>\n",
              "      <td>용마산로 228 면목동 도시개발아파트</td>\n",
              "      <td>POINT (127.08841 37.57357)</td>\n",
              "    </tr>\n",
              "    <tr>\n",
              "      <th>3</th>\n",
              "      <td>노원구</td>\n",
              "      <td>노원로19길 31 중계동 목화아파트</td>\n",
              "      <td>POINT (127.07005 37.64257)</td>\n",
              "    </tr>\n",
              "    <tr>\n",
              "      <th>4</th>\n",
              "      <td>노원구</td>\n",
              "      <td>노원로 331 중계동 시영3단지목련아파트</td>\n",
              "      <td>POINT (127.06881 37.64593)</td>\n",
              "    </tr>\n",
              "  </tbody>\n",
              "</table>\n",
              "</div>\n",
              "      <button class=\"colab-df-convert\" onclick=\"convertToInteractive('df-1cd767b1-e199-4e06-a0b6-c70247cc9f4c')\"\n",
              "              title=\"Convert this dataframe to an interactive table.\"\n",
              "              style=\"display:none;\">\n",
              "        \n",
              "  <svg xmlns=\"http://www.w3.org/2000/svg\" height=\"24px\"viewBox=\"0 0 24 24\"\n",
              "       width=\"24px\">\n",
              "    <path d=\"M0 0h24v24H0V0z\" fill=\"none\"/>\n",
              "    <path d=\"M18.56 5.44l.94 2.06.94-2.06 2.06-.94-2.06-.94-.94-2.06-.94 2.06-2.06.94zm-11 1L8.5 8.5l.94-2.06 2.06-.94-2.06-.94L8.5 2.5l-.94 2.06-2.06.94zm10 10l.94 2.06.94-2.06 2.06-.94-2.06-.94-.94-2.06-.94 2.06-2.06.94z\"/><path d=\"M17.41 7.96l-1.37-1.37c-.4-.4-.92-.59-1.43-.59-.52 0-1.04.2-1.43.59L10.3 9.45l-7.72 7.72c-.78.78-.78 2.05 0 2.83L4 21.41c.39.39.9.59 1.41.59.51 0 1.02-.2 1.41-.59l7.78-7.78 2.81-2.81c.8-.78.8-2.07 0-2.86zM5.41 20L4 18.59l7.72-7.72 1.47 1.35L5.41 20z\"/>\n",
              "  </svg>\n",
              "      </button>\n",
              "      \n",
              "  <style>\n",
              "    .colab-df-container {\n",
              "      display:flex;\n",
              "      flex-wrap:wrap;\n",
              "      gap: 12px;\n",
              "    }\n",
              "\n",
              "    .colab-df-convert {\n",
              "      background-color: #E8F0FE;\n",
              "      border: none;\n",
              "      border-radius: 50%;\n",
              "      cursor: pointer;\n",
              "      display: none;\n",
              "      fill: #1967D2;\n",
              "      height: 32px;\n",
              "      padding: 0 0 0 0;\n",
              "      width: 32px;\n",
              "    }\n",
              "\n",
              "    .colab-df-convert:hover {\n",
              "      background-color: #E2EBFA;\n",
              "      box-shadow: 0px 1px 2px rgba(60, 64, 67, 0.3), 0px 1px 3px 1px rgba(60, 64, 67, 0.15);\n",
              "      fill: #174EA6;\n",
              "    }\n",
              "\n",
              "    [theme=dark] .colab-df-convert {\n",
              "      background-color: #3B4455;\n",
              "      fill: #D2E3FC;\n",
              "    }\n",
              "\n",
              "    [theme=dark] .colab-df-convert:hover {\n",
              "      background-color: #434B5C;\n",
              "      box-shadow: 0px 1px 3px 1px rgba(0, 0, 0, 0.15);\n",
              "      filter: drop-shadow(0px 1px 2px rgba(0, 0, 0, 0.3));\n",
              "      fill: #FFFFFF;\n",
              "    }\n",
              "  </style>\n",
              "\n",
              "      <script>\n",
              "        const buttonEl =\n",
              "          document.querySelector('#df-1cd767b1-e199-4e06-a0b6-c70247cc9f4c button.colab-df-convert');\n",
              "        buttonEl.style.display =\n",
              "          google.colab.kernel.accessAllowed ? 'block' : 'none';\n",
              "\n",
              "        async function convertToInteractive(key) {\n",
              "          const element = document.querySelector('#df-1cd767b1-e199-4e06-a0b6-c70247cc9f4c');\n",
              "          const dataTable =\n",
              "            await google.colab.kernel.invokeFunction('convertToInteractive',\n",
              "                                                     [key], {});\n",
              "          if (!dataTable) return;\n",
              "\n",
              "          const docLinkHtml = 'Like what you see? Visit the ' +\n",
              "            '<a target=\"_blank\" href=https://colab.research.google.com/notebooks/data_table.ipynb>data table notebook</a>'\n",
              "            + ' to learn more about interactive tables.';\n",
              "          element.innerHTML = '';\n",
              "          dataTable['output_type'] = 'display_data';\n",
              "          await google.colab.output.renderOutput(dataTable, element);\n",
              "          const docLink = document.createElement('div');\n",
              "          docLink.innerHTML = docLinkHtml;\n",
              "          element.appendChild(docLink);\n",
              "        }\n",
              "      </script>\n",
              "    </div>\n",
              "  </div>\n",
              "  "
            ]
          },
          "metadata": {},
          "execution_count": 227
        }
      ]
    },
    {
      "cell_type": "code",
      "source": [
        "empty_cell = np.zeros(670*2)\n",
        "empty_cell = empty_cell.reshape(-1, 2)\n",
        "empty_df = pd.DataFrame(empty_cell, columns = [\"x\", \"y\"])\n",
        "geo_center = pd.concat([geo_center, empty_df], axis=1)\n",
        "geo_center.head()"
      ],
      "metadata": {
        "id": "8kFm87rYC4dY",
        "colab": {
          "base_uri": "https://localhost:8080/",
          "height": 206
        },
        "outputId": "930634b2-2ecf-4bd1-ee38-eeac8c8df445"
      },
      "execution_count": null,
      "outputs": [
        {
          "output_type": "execute_result",
          "data": {
            "text/plain": [
              "   자치구                    field1                    geometry    x    y\n",
              "0  노원구         섬밭로 201 하계동 시영아파트  POINT (127.06629 37.63309)  0.0  0.0\n",
              "1  마포구  월드컵로 207 성산동 도시개발공사성산아파트  POINT (126.90148 37.56462)  0.0  0.0\n",
              "2  중랑구      용마산로 228 면목동 도시개발아파트  POINT (127.08841 37.57357)  0.0  0.0\n",
              "3  노원구       노원로19길 31 중계동 목화아파트  POINT (127.07005 37.64257)  0.0  0.0\n",
              "4  노원구    노원로 331 중계동 시영3단지목련아파트  POINT (127.06881 37.64593)  0.0  0.0"
            ],
            "text/html": [
              "\n",
              "  <div id=\"df-a47361b2-ceba-4182-a2b8-df702a2b76aa\">\n",
              "    <div class=\"colab-df-container\">\n",
              "      <div>\n",
              "<style scoped>\n",
              "    .dataframe tbody tr th:only-of-type {\n",
              "        vertical-align: middle;\n",
              "    }\n",
              "\n",
              "    .dataframe tbody tr th {\n",
              "        vertical-align: top;\n",
              "    }\n",
              "\n",
              "    .dataframe thead th {\n",
              "        text-align: right;\n",
              "    }\n",
              "</style>\n",
              "<table border=\"1\" class=\"dataframe\">\n",
              "  <thead>\n",
              "    <tr style=\"text-align: right;\">\n",
              "      <th></th>\n",
              "      <th>자치구</th>\n",
              "      <th>field1</th>\n",
              "      <th>geometry</th>\n",
              "      <th>x</th>\n",
              "      <th>y</th>\n",
              "    </tr>\n",
              "  </thead>\n",
              "  <tbody>\n",
              "    <tr>\n",
              "      <th>0</th>\n",
              "      <td>노원구</td>\n",
              "      <td>섬밭로 201 하계동 시영아파트</td>\n",
              "      <td>POINT (127.06629 37.63309)</td>\n",
              "      <td>0.0</td>\n",
              "      <td>0.0</td>\n",
              "    </tr>\n",
              "    <tr>\n",
              "      <th>1</th>\n",
              "      <td>마포구</td>\n",
              "      <td>월드컵로 207 성산동 도시개발공사성산아파트</td>\n",
              "      <td>POINT (126.90148 37.56462)</td>\n",
              "      <td>0.0</td>\n",
              "      <td>0.0</td>\n",
              "    </tr>\n",
              "    <tr>\n",
              "      <th>2</th>\n",
              "      <td>중랑구</td>\n",
              "      <td>용마산로 228 면목동 도시개발아파트</td>\n",
              "      <td>POINT (127.08841 37.57357)</td>\n",
              "      <td>0.0</td>\n",
              "      <td>0.0</td>\n",
              "    </tr>\n",
              "    <tr>\n",
              "      <th>3</th>\n",
              "      <td>노원구</td>\n",
              "      <td>노원로19길 31 중계동 목화아파트</td>\n",
              "      <td>POINT (127.07005 37.64257)</td>\n",
              "      <td>0.0</td>\n",
              "      <td>0.0</td>\n",
              "    </tr>\n",
              "    <tr>\n",
              "      <th>4</th>\n",
              "      <td>노원구</td>\n",
              "      <td>노원로 331 중계동 시영3단지목련아파트</td>\n",
              "      <td>POINT (127.06881 37.64593)</td>\n",
              "      <td>0.0</td>\n",
              "      <td>0.0</td>\n",
              "    </tr>\n",
              "  </tbody>\n",
              "</table>\n",
              "</div>\n",
              "      <button class=\"colab-df-convert\" onclick=\"convertToInteractive('df-a47361b2-ceba-4182-a2b8-df702a2b76aa')\"\n",
              "              title=\"Convert this dataframe to an interactive table.\"\n",
              "              style=\"display:none;\">\n",
              "        \n",
              "  <svg xmlns=\"http://www.w3.org/2000/svg\" height=\"24px\"viewBox=\"0 0 24 24\"\n",
              "       width=\"24px\">\n",
              "    <path d=\"M0 0h24v24H0V0z\" fill=\"none\"/>\n",
              "    <path d=\"M18.56 5.44l.94 2.06.94-2.06 2.06-.94-2.06-.94-.94-2.06-.94 2.06-2.06.94zm-11 1L8.5 8.5l.94-2.06 2.06-.94-2.06-.94L8.5 2.5l-.94 2.06-2.06.94zm10 10l.94 2.06.94-2.06 2.06-.94-2.06-.94-.94-2.06-.94 2.06-2.06.94z\"/><path d=\"M17.41 7.96l-1.37-1.37c-.4-.4-.92-.59-1.43-.59-.52 0-1.04.2-1.43.59L10.3 9.45l-7.72 7.72c-.78.78-.78 2.05 0 2.83L4 21.41c.39.39.9.59 1.41.59.51 0 1.02-.2 1.41-.59l7.78-7.78 2.81-2.81c.8-.78.8-2.07 0-2.86zM5.41 20L4 18.59l7.72-7.72 1.47 1.35L5.41 20z\"/>\n",
              "  </svg>\n",
              "      </button>\n",
              "      \n",
              "  <style>\n",
              "    .colab-df-container {\n",
              "      display:flex;\n",
              "      flex-wrap:wrap;\n",
              "      gap: 12px;\n",
              "    }\n",
              "\n",
              "    .colab-df-convert {\n",
              "      background-color: #E8F0FE;\n",
              "      border: none;\n",
              "      border-radius: 50%;\n",
              "      cursor: pointer;\n",
              "      display: none;\n",
              "      fill: #1967D2;\n",
              "      height: 32px;\n",
              "      padding: 0 0 0 0;\n",
              "      width: 32px;\n",
              "    }\n",
              "\n",
              "    .colab-df-convert:hover {\n",
              "      background-color: #E2EBFA;\n",
              "      box-shadow: 0px 1px 2px rgba(60, 64, 67, 0.3), 0px 1px 3px 1px rgba(60, 64, 67, 0.15);\n",
              "      fill: #174EA6;\n",
              "    }\n",
              "\n",
              "    [theme=dark] .colab-df-convert {\n",
              "      background-color: #3B4455;\n",
              "      fill: #D2E3FC;\n",
              "    }\n",
              "\n",
              "    [theme=dark] .colab-df-convert:hover {\n",
              "      background-color: #434B5C;\n",
              "      box-shadow: 0px 1px 3px 1px rgba(0, 0, 0, 0.15);\n",
              "      filter: drop-shadow(0px 1px 2px rgba(0, 0, 0, 0.3));\n",
              "      fill: #FFFFFF;\n",
              "    }\n",
              "  </style>\n",
              "\n",
              "      <script>\n",
              "        const buttonEl =\n",
              "          document.querySelector('#df-a47361b2-ceba-4182-a2b8-df702a2b76aa button.colab-df-convert');\n",
              "        buttonEl.style.display =\n",
              "          google.colab.kernel.accessAllowed ? 'block' : 'none';\n",
              "\n",
              "        async function convertToInteractive(key) {\n",
              "          const element = document.querySelector('#df-a47361b2-ceba-4182-a2b8-df702a2b76aa');\n",
              "          const dataTable =\n",
              "            await google.colab.kernel.invokeFunction('convertToInteractive',\n",
              "                                                     [key], {});\n",
              "          if (!dataTable) return;\n",
              "\n",
              "          const docLinkHtml = 'Like what you see? Visit the ' +\n",
              "            '<a target=\"_blank\" href=https://colab.research.google.com/notebooks/data_table.ipynb>data table notebook</a>'\n",
              "            + ' to learn more about interactive tables.';\n",
              "          element.innerHTML = '';\n",
              "          dataTable['output_type'] = 'display_data';\n",
              "          await google.colab.output.renderOutput(dataTable, element);\n",
              "          const docLink = document.createElement('div');\n",
              "          docLink.innerHTML = docLinkHtml;\n",
              "          element.appendChild(docLink);\n",
              "        }\n",
              "      </script>\n",
              "    </div>\n",
              "  </div>\n",
              "  "
            ]
          },
          "metadata": {},
          "execution_count": 228
        }
      ]
    },
    {
      "cell_type": "code",
      "source": [
        "#서울시  boundary 및 구별 boundary\n",
        "\n",
        "\"https://www.data.go.kr/data/15099541/fileData.do\"\n",
        "seoul_geo = gpd.GeoDataFrame.from_file(d_path + \"seoul/LARD_ADM_SECT_SGG_11.shp\", encoding=\"cp949\")\n"
      ],
      "metadata": {
        "id": "MjVYiQBiLoBv"
      },
      "execution_count": null,
      "outputs": []
    },
    {
      "cell_type": "markdown",
      "source": [
        "# 클러스터 정하기 (pt. 1)\n"
      ],
      "metadata": {
        "id": "ApI_yUuhMIIu"
      }
    },
    {
      "cell_type": "code",
      "source": [
        "def bring_xy(df, idx):\n",
        "  ar = df[\"geometry\"]\n",
        "\n",
        "  ar2 = ar[idx].xy\n",
        "  x = ar2[0][0]\n",
        "  y = ar2[1][0]\n",
        "  return x, y\n",
        "\n"
      ],
      "metadata": {
        "id": "H4N4yioTXhq0"
      },
      "execution_count": null,
      "outputs": []
    },
    {
      "cell_type": "code",
      "source": [
        "i = 1\n",
        "for i in range(geo_center.shape[0]-1):\n",
        "  try: \n",
        "    a = bring_xy(geo_center, i)\n",
        "    geo_center.iloc[i, 3] = a[0]\n",
        "    geo_center.iloc[i, 4] = a[1]\n",
        "\n",
        "  except:\n",
        "    print(\"error passed!\")\n",
        "    pass\n",
        "  \n"
      ],
      "metadata": {
        "id": "ItYrIuyXC4bU",
        "colab": {
          "base_uri": "https://localhost:8080/"
        },
        "outputId": "98b0dd62-e54e-404a-a597-41f789449091"
      },
      "execution_count": null,
      "outputs": [
        {
          "output_type": "stream",
          "name": "stdout",
          "text": [
            "error passed!\n",
            "error passed!\n",
            "error passed!\n",
            "error passed!\n",
            "error passed!\n",
            "error passed!\n",
            "error passed!\n",
            "error passed!\n",
            "error passed!\n",
            "error passed!\n",
            "error passed!\n"
          ]
        }
      ]
    },
    {
      "cell_type": "code",
      "source": [
        "geo_center = geo_center[geo_center[\"x\"]!=0]\n",
        "geo_center"
      ],
      "metadata": {
        "colab": {
          "base_uri": "https://localhost:8080/",
          "height": 423
        },
        "id": "Boju93fO3GdB",
        "outputId": "ecb7a9c5-01ba-475f-e9bd-93373cf82aa0"
      },
      "execution_count": null,
      "outputs": [
        {
          "output_type": "execute_result",
          "data": {
            "text/plain": [
              "     자치구                    field1                    geometry           x  \\\n",
              "0    노원구         섬밭로 201 하계동 시영아파트  POINT (127.06629 37.63309)  127.066294   \n",
              "1    마포구  월드컵로 207 성산동 도시개발공사성산아파트  POINT (126.90148 37.56462)  126.901477   \n",
              "2    중랑구      용마산로 228 면목동 도시개발아파트  POINT (127.08841 37.57357)  127.088409   \n",
              "3    노원구       노원로19길 31 중계동 목화아파트  POINT (127.07005 37.64257)  127.070051   \n",
              "4    노원구    노원로 331 중계동 시영3단지목련아파트  POINT (127.06881 37.64593)  127.068807   \n",
              "..   ...                       ...                         ...         ...   \n",
              "664  성북구        숭인로8길 80길음동 508-16  POINT (127.02694 37.60837)  127.026939   \n",
              "665  광진구     광나루로 20길 34화양동 111-89  POINT (127.07395 37.54560)  127.073950   \n",
              "666  마포구          토정로 131상수동 355-2  POINT (126.95720 36.87221)  126.957202   \n",
              "667  강서구           강서로 231화곡동 1170  POINT (126.83597 37.54626)  126.835970   \n",
              "668  강동구         천호대로 989천호동 458-3  POINT (127.12240 37.53946)  127.122400   \n",
              "\n",
              "             y  \n",
              "0    37.633086  \n",
              "1    37.564623  \n",
              "2    37.573566  \n",
              "3    37.642573  \n",
              "4    37.645926  \n",
              "..         ...  \n",
              "664  37.608369  \n",
              "665  37.545603  \n",
              "666  36.872210  \n",
              "667  37.546261  \n",
              "668  37.539461  \n",
              "\n",
              "[658 rows x 5 columns]"
            ],
            "text/html": [
              "\n",
              "  <div id=\"df-54acb6f2-258d-4c83-b59d-c791246a4990\">\n",
              "    <div class=\"colab-df-container\">\n",
              "      <div>\n",
              "<style scoped>\n",
              "    .dataframe tbody tr th:only-of-type {\n",
              "        vertical-align: middle;\n",
              "    }\n",
              "\n",
              "    .dataframe tbody tr th {\n",
              "        vertical-align: top;\n",
              "    }\n",
              "\n",
              "    .dataframe thead th {\n",
              "        text-align: right;\n",
              "    }\n",
              "</style>\n",
              "<table border=\"1\" class=\"dataframe\">\n",
              "  <thead>\n",
              "    <tr style=\"text-align: right;\">\n",
              "      <th></th>\n",
              "      <th>자치구</th>\n",
              "      <th>field1</th>\n",
              "      <th>geometry</th>\n",
              "      <th>x</th>\n",
              "      <th>y</th>\n",
              "    </tr>\n",
              "  </thead>\n",
              "  <tbody>\n",
              "    <tr>\n",
              "      <th>0</th>\n",
              "      <td>노원구</td>\n",
              "      <td>섬밭로 201 하계동 시영아파트</td>\n",
              "      <td>POINT (127.06629 37.63309)</td>\n",
              "      <td>127.066294</td>\n",
              "      <td>37.633086</td>\n",
              "    </tr>\n",
              "    <tr>\n",
              "      <th>1</th>\n",
              "      <td>마포구</td>\n",
              "      <td>월드컵로 207 성산동 도시개발공사성산아파트</td>\n",
              "      <td>POINT (126.90148 37.56462)</td>\n",
              "      <td>126.901477</td>\n",
              "      <td>37.564623</td>\n",
              "    </tr>\n",
              "    <tr>\n",
              "      <th>2</th>\n",
              "      <td>중랑구</td>\n",
              "      <td>용마산로 228 면목동 도시개발아파트</td>\n",
              "      <td>POINT (127.08841 37.57357)</td>\n",
              "      <td>127.088409</td>\n",
              "      <td>37.573566</td>\n",
              "    </tr>\n",
              "    <tr>\n",
              "      <th>3</th>\n",
              "      <td>노원구</td>\n",
              "      <td>노원로19길 31 중계동 목화아파트</td>\n",
              "      <td>POINT (127.07005 37.64257)</td>\n",
              "      <td>127.070051</td>\n",
              "      <td>37.642573</td>\n",
              "    </tr>\n",
              "    <tr>\n",
              "      <th>4</th>\n",
              "      <td>노원구</td>\n",
              "      <td>노원로 331 중계동 시영3단지목련아파트</td>\n",
              "      <td>POINT (127.06881 37.64593)</td>\n",
              "      <td>127.068807</td>\n",
              "      <td>37.645926</td>\n",
              "    </tr>\n",
              "    <tr>\n",
              "      <th>...</th>\n",
              "      <td>...</td>\n",
              "      <td>...</td>\n",
              "      <td>...</td>\n",
              "      <td>...</td>\n",
              "      <td>...</td>\n",
              "    </tr>\n",
              "    <tr>\n",
              "      <th>664</th>\n",
              "      <td>성북구</td>\n",
              "      <td>숭인로8길 80길음동 508-16</td>\n",
              "      <td>POINT (127.02694 37.60837)</td>\n",
              "      <td>127.026939</td>\n",
              "      <td>37.608369</td>\n",
              "    </tr>\n",
              "    <tr>\n",
              "      <th>665</th>\n",
              "      <td>광진구</td>\n",
              "      <td>광나루로 20길 34화양동 111-89</td>\n",
              "      <td>POINT (127.07395 37.54560)</td>\n",
              "      <td>127.073950</td>\n",
              "      <td>37.545603</td>\n",
              "    </tr>\n",
              "    <tr>\n",
              "      <th>666</th>\n",
              "      <td>마포구</td>\n",
              "      <td>토정로 131상수동 355-2</td>\n",
              "      <td>POINT (126.95720 36.87221)</td>\n",
              "      <td>126.957202</td>\n",
              "      <td>36.872210</td>\n",
              "    </tr>\n",
              "    <tr>\n",
              "      <th>667</th>\n",
              "      <td>강서구</td>\n",
              "      <td>강서로 231화곡동 1170</td>\n",
              "      <td>POINT (126.83597 37.54626)</td>\n",
              "      <td>126.835970</td>\n",
              "      <td>37.546261</td>\n",
              "    </tr>\n",
              "    <tr>\n",
              "      <th>668</th>\n",
              "      <td>강동구</td>\n",
              "      <td>천호대로 989천호동 458-3</td>\n",
              "      <td>POINT (127.12240 37.53946)</td>\n",
              "      <td>127.122400</td>\n",
              "      <td>37.539461</td>\n",
              "    </tr>\n",
              "  </tbody>\n",
              "</table>\n",
              "<p>658 rows × 5 columns</p>\n",
              "</div>\n",
              "      <button class=\"colab-df-convert\" onclick=\"convertToInteractive('df-54acb6f2-258d-4c83-b59d-c791246a4990')\"\n",
              "              title=\"Convert this dataframe to an interactive table.\"\n",
              "              style=\"display:none;\">\n",
              "        \n",
              "  <svg xmlns=\"http://www.w3.org/2000/svg\" height=\"24px\"viewBox=\"0 0 24 24\"\n",
              "       width=\"24px\">\n",
              "    <path d=\"M0 0h24v24H0V0z\" fill=\"none\"/>\n",
              "    <path d=\"M18.56 5.44l.94 2.06.94-2.06 2.06-.94-2.06-.94-.94-2.06-.94 2.06-2.06.94zm-11 1L8.5 8.5l.94-2.06 2.06-.94-2.06-.94L8.5 2.5l-.94 2.06-2.06.94zm10 10l.94 2.06.94-2.06 2.06-.94-2.06-.94-.94-2.06-.94 2.06-2.06.94z\"/><path d=\"M17.41 7.96l-1.37-1.37c-.4-.4-.92-.59-1.43-.59-.52 0-1.04.2-1.43.59L10.3 9.45l-7.72 7.72c-.78.78-.78 2.05 0 2.83L4 21.41c.39.39.9.59 1.41.59.51 0 1.02-.2 1.41-.59l7.78-7.78 2.81-2.81c.8-.78.8-2.07 0-2.86zM5.41 20L4 18.59l7.72-7.72 1.47 1.35L5.41 20z\"/>\n",
              "  </svg>\n",
              "      </button>\n",
              "      \n",
              "  <style>\n",
              "    .colab-df-container {\n",
              "      display:flex;\n",
              "      flex-wrap:wrap;\n",
              "      gap: 12px;\n",
              "    }\n",
              "\n",
              "    .colab-df-convert {\n",
              "      background-color: #E8F0FE;\n",
              "      border: none;\n",
              "      border-radius: 50%;\n",
              "      cursor: pointer;\n",
              "      display: none;\n",
              "      fill: #1967D2;\n",
              "      height: 32px;\n",
              "      padding: 0 0 0 0;\n",
              "      width: 32px;\n",
              "    }\n",
              "\n",
              "    .colab-df-convert:hover {\n",
              "      background-color: #E2EBFA;\n",
              "      box-shadow: 0px 1px 2px rgba(60, 64, 67, 0.3), 0px 1px 3px 1px rgba(60, 64, 67, 0.15);\n",
              "      fill: #174EA6;\n",
              "    }\n",
              "\n",
              "    [theme=dark] .colab-df-convert {\n",
              "      background-color: #3B4455;\n",
              "      fill: #D2E3FC;\n",
              "    }\n",
              "\n",
              "    [theme=dark] .colab-df-convert:hover {\n",
              "      background-color: #434B5C;\n",
              "      box-shadow: 0px 1px 3px 1px rgba(0, 0, 0, 0.15);\n",
              "      filter: drop-shadow(0px 1px 2px rgba(0, 0, 0, 0.3));\n",
              "      fill: #FFFFFF;\n",
              "    }\n",
              "  </style>\n",
              "\n",
              "      <script>\n",
              "        const buttonEl =\n",
              "          document.querySelector('#df-54acb6f2-258d-4c83-b59d-c791246a4990 button.colab-df-convert');\n",
              "        buttonEl.style.display =\n",
              "          google.colab.kernel.accessAllowed ? 'block' : 'none';\n",
              "\n",
              "        async function convertToInteractive(key) {\n",
              "          const element = document.querySelector('#df-54acb6f2-258d-4c83-b59d-c791246a4990');\n",
              "          const dataTable =\n",
              "            await google.colab.kernel.invokeFunction('convertToInteractive',\n",
              "                                                     [key], {});\n",
              "          if (!dataTable) return;\n",
              "\n",
              "          const docLinkHtml = 'Like what you see? Visit the ' +\n",
              "            '<a target=\"_blank\" href=https://colab.research.google.com/notebooks/data_table.ipynb>data table notebook</a>'\n",
              "            + ' to learn more about interactive tables.';\n",
              "          element.innerHTML = '';\n",
              "          dataTable['output_type'] = 'display_data';\n",
              "          await google.colab.output.renderOutput(dataTable, element);\n",
              "          const docLink = document.createElement('div');\n",
              "          docLink.innerHTML = docLinkHtml;\n",
              "          element.appendChild(docLink);\n",
              "        }\n",
              "      </script>\n",
              "    </div>\n",
              "  </div>\n",
              "  "
            ]
          },
          "metadata": {},
          "execution_count": 232
        }
      ]
    },
    {
      "cell_type": "code",
      "source": [
        "#스케일링\n",
        "\"\"\"\n",
        "scaler_x = StandardScaler()\n",
        "before_scale_x = geo_center[[\"x\"]]\n",
        "after_scale_x = scaler_x.fit_transform(before_scale_x)\n",
        "geo_center[\"x\"] = after_scale_x\n",
        "\n",
        "\n",
        "scaler_y = StandardScaler()\n",
        "before_scale_y = geo_center[[\"y\"]]\n",
        "after_scale_y = scaler_y.fit_transform(before_scale_y)\n",
        "geo_center[\"y\"] = after_scale_y\n",
        "geo_center.head()\n",
        "\"\"\""
      ],
      "metadata": {
        "colab": {
          "base_uri": "https://localhost:8080/",
          "height": 55
        },
        "id": "9s24bwO63Xc_",
        "outputId": "529a5755-f811-4fdd-910e-fbda3b37dbc3"
      },
      "execution_count": null,
      "outputs": [
        {
          "output_type": "execute_result",
          "data": {
            "text/plain": [
              "'\\nscaler_x = StandardScaler()\\nbefore_scale_x = geo_center[[\"x\"]]\\nafter_scale_x = scaler_x.fit_transform(before_scale_x)\\ngeo_center[\"x\"] = after_scale_x\\n\\n\\nscaler_y = StandardScaler()\\nbefore_scale_y = geo_center[[\"y\"]]\\nafter_scale_y = scaler_y.fit_transform(before_scale_y)\\ngeo_center[\"y\"] = after_scale_y\\ngeo_center.head()\\n'"
            ],
            "application/vnd.google.colaboratory.intrinsic+json": {
              "type": "string"
            }
          },
          "metadata": {},
          "execution_count": 233
        }
      ]
    },
    {
      "cell_type": "code",
      "source": [
        "#서울시 아닌 거 제거.\n",
        "geo_center = geo_center[geo_center[\"자치구\"] != \"의정부시\"]"
      ],
      "metadata": {
        "id": "kgEBm7UH5qFU"
      },
      "execution_count": null,
      "outputs": []
    },
    {
      "cell_type": "code",
      "source": [
        "gu_count = geo_center.groupby(\"자치구\").count()\n",
        "gu_count = gu_count.sort_values(by=[\"field1\"], ascending=False)\n",
        "\n",
        "gu_count.head()"
      ],
      "metadata": {
        "colab": {
          "base_uri": "https://localhost:8080/",
          "height": 237
        },
        "id": "ki4H5ZT73kzB",
        "outputId": "ba7fb540-0629-4b57-c3dc-a3e3b3ae8e00"
      },
      "execution_count": null,
      "outputs": [
        {
          "output_type": "execute_result",
          "data": {
            "text/plain": [
              "     field1  geometry   x   y\n",
              "자치구                          \n",
              "은평구      57        57  57  57\n",
              "강서구      47        47  47  47\n",
              "성북구      43        43  43  43\n",
              "마포구      42        42  42  42\n",
              "서초구      40        40  40  40"
            ],
            "text/html": [
              "\n",
              "  <div id=\"df-1279c518-40c7-46c1-a49d-f3636b1d2b9e\">\n",
              "    <div class=\"colab-df-container\">\n",
              "      <div>\n",
              "<style scoped>\n",
              "    .dataframe tbody tr th:only-of-type {\n",
              "        vertical-align: middle;\n",
              "    }\n",
              "\n",
              "    .dataframe tbody tr th {\n",
              "        vertical-align: top;\n",
              "    }\n",
              "\n",
              "    .dataframe thead th {\n",
              "        text-align: right;\n",
              "    }\n",
              "</style>\n",
              "<table border=\"1\" class=\"dataframe\">\n",
              "  <thead>\n",
              "    <tr style=\"text-align: right;\">\n",
              "      <th></th>\n",
              "      <th>field1</th>\n",
              "      <th>geometry</th>\n",
              "      <th>x</th>\n",
              "      <th>y</th>\n",
              "    </tr>\n",
              "    <tr>\n",
              "      <th>자치구</th>\n",
              "      <th></th>\n",
              "      <th></th>\n",
              "      <th></th>\n",
              "      <th></th>\n",
              "    </tr>\n",
              "  </thead>\n",
              "  <tbody>\n",
              "    <tr>\n",
              "      <th>은평구</th>\n",
              "      <td>57</td>\n",
              "      <td>57</td>\n",
              "      <td>57</td>\n",
              "      <td>57</td>\n",
              "    </tr>\n",
              "    <tr>\n",
              "      <th>강서구</th>\n",
              "      <td>47</td>\n",
              "      <td>47</td>\n",
              "      <td>47</td>\n",
              "      <td>47</td>\n",
              "    </tr>\n",
              "    <tr>\n",
              "      <th>성북구</th>\n",
              "      <td>43</td>\n",
              "      <td>43</td>\n",
              "      <td>43</td>\n",
              "      <td>43</td>\n",
              "    </tr>\n",
              "    <tr>\n",
              "      <th>마포구</th>\n",
              "      <td>42</td>\n",
              "      <td>42</td>\n",
              "      <td>42</td>\n",
              "      <td>42</td>\n",
              "    </tr>\n",
              "    <tr>\n",
              "      <th>서초구</th>\n",
              "      <td>40</td>\n",
              "      <td>40</td>\n",
              "      <td>40</td>\n",
              "      <td>40</td>\n",
              "    </tr>\n",
              "  </tbody>\n",
              "</table>\n",
              "</div>\n",
              "      <button class=\"colab-df-convert\" onclick=\"convertToInteractive('df-1279c518-40c7-46c1-a49d-f3636b1d2b9e')\"\n",
              "              title=\"Convert this dataframe to an interactive table.\"\n",
              "              style=\"display:none;\">\n",
              "        \n",
              "  <svg xmlns=\"http://www.w3.org/2000/svg\" height=\"24px\"viewBox=\"0 0 24 24\"\n",
              "       width=\"24px\">\n",
              "    <path d=\"M0 0h24v24H0V0z\" fill=\"none\"/>\n",
              "    <path d=\"M18.56 5.44l.94 2.06.94-2.06 2.06-.94-2.06-.94-.94-2.06-.94 2.06-2.06.94zm-11 1L8.5 8.5l.94-2.06 2.06-.94-2.06-.94L8.5 2.5l-.94 2.06-2.06.94zm10 10l.94 2.06.94-2.06 2.06-.94-2.06-.94-.94-2.06-.94 2.06-2.06.94z\"/><path d=\"M17.41 7.96l-1.37-1.37c-.4-.4-.92-.59-1.43-.59-.52 0-1.04.2-1.43.59L10.3 9.45l-7.72 7.72c-.78.78-.78 2.05 0 2.83L4 21.41c.39.39.9.59 1.41.59.51 0 1.02-.2 1.41-.59l7.78-7.78 2.81-2.81c.8-.78.8-2.07 0-2.86zM5.41 20L4 18.59l7.72-7.72 1.47 1.35L5.41 20z\"/>\n",
              "  </svg>\n",
              "      </button>\n",
              "      \n",
              "  <style>\n",
              "    .colab-df-container {\n",
              "      display:flex;\n",
              "      flex-wrap:wrap;\n",
              "      gap: 12px;\n",
              "    }\n",
              "\n",
              "    .colab-df-convert {\n",
              "      background-color: #E8F0FE;\n",
              "      border: none;\n",
              "      border-radius: 50%;\n",
              "      cursor: pointer;\n",
              "      display: none;\n",
              "      fill: #1967D2;\n",
              "      height: 32px;\n",
              "      padding: 0 0 0 0;\n",
              "      width: 32px;\n",
              "    }\n",
              "\n",
              "    .colab-df-convert:hover {\n",
              "      background-color: #E2EBFA;\n",
              "      box-shadow: 0px 1px 2px rgba(60, 64, 67, 0.3), 0px 1px 3px 1px rgba(60, 64, 67, 0.15);\n",
              "      fill: #174EA6;\n",
              "    }\n",
              "\n",
              "    [theme=dark] .colab-df-convert {\n",
              "      background-color: #3B4455;\n",
              "      fill: #D2E3FC;\n",
              "    }\n",
              "\n",
              "    [theme=dark] .colab-df-convert:hover {\n",
              "      background-color: #434B5C;\n",
              "      box-shadow: 0px 1px 3px 1px rgba(0, 0, 0, 0.15);\n",
              "      filter: drop-shadow(0px 1px 2px rgba(0, 0, 0, 0.3));\n",
              "      fill: #FFFFFF;\n",
              "    }\n",
              "  </style>\n",
              "\n",
              "      <script>\n",
              "        const buttonEl =\n",
              "          document.querySelector('#df-1279c518-40c7-46c1-a49d-f3636b1d2b9e button.colab-df-convert');\n",
              "        buttonEl.style.display =\n",
              "          google.colab.kernel.accessAllowed ? 'block' : 'none';\n",
              "\n",
              "        async function convertToInteractive(key) {\n",
              "          const element = document.querySelector('#df-1279c518-40c7-46c1-a49d-f3636b1d2b9e');\n",
              "          const dataTable =\n",
              "            await google.colab.kernel.invokeFunction('convertToInteractive',\n",
              "                                                     [key], {});\n",
              "          if (!dataTable) return;\n",
              "\n",
              "          const docLinkHtml = 'Like what you see? Visit the ' +\n",
              "            '<a target=\"_blank\" href=https://colab.research.google.com/notebooks/data_table.ipynb>data table notebook</a>'\n",
              "            + ' to learn more about interactive tables.';\n",
              "          element.innerHTML = '';\n",
              "          dataTable['output_type'] = 'display_data';\n",
              "          await google.colab.output.renderOutput(dataTable, element);\n",
              "          const docLink = document.createElement('div');\n",
              "          docLink.innerHTML = docLinkHtml;\n",
              "          element.appendChild(docLink);\n",
              "        }\n",
              "      </script>\n",
              "    </div>\n",
              "  </div>\n",
              "  "
            ]
          },
          "metadata": {},
          "execution_count": 235
        }
      ]
    },
    {
      "cell_type": "code",
      "source": [
        "def visual_xy(df, gu):\n",
        "  spec_gu = df[df['자치구'] == gu]\n",
        "  plt.scatter(spec_gu[\"x\"], spec_gu[\"y\"])\n",
        "  plt.title(gu)\n",
        "  plt.show()"
      ],
      "metadata": {
        "id": "bHVmOtMQ48ES"
      },
      "execution_count": null,
      "outputs": []
    },
    {
      "cell_type": "code",
      "source": [
        "visual_xy(geo_center, \"양천구\")"
      ],
      "metadata": {
        "colab": {
          "base_uri": "https://localhost:8080/",
          "height": 331
        },
        "id": "qnniQXyE48CG",
        "outputId": "74e515df-43d0-4b36-a73d-813b174ec9e1"
      },
      "execution_count": null,
      "outputs": [
        {
          "output_type": "stream",
          "name": "stderr",
          "text": [
            "WARNING:matplotlib.font_manager:findfont: Font family ['Malgun Gothic'] not found. Falling back to DejaVu Sans.\n",
            "WARNING:matplotlib.font_manager:findfont: Font family ['Malgun Gothic'] not found. Falling back to DejaVu Sans.\n"
          ]
        },
        {
          "output_type": "display_data",
          "data": {
            "text/plain": [
              "<Figure size 432x288 with 1 Axes>"
            ],
            "image/png": "[encoded data removed]"
          },
          "metadata": {
            "needs_background": "light"
          }
        }
      ]
    },
    {
      "cell_type": "code",
      "source": [
        "visual_xy(geo_center, \"강남구\")"
      ],
      "metadata": {
        "colab": {
          "base_uri": "https://localhost:8080/",
          "height": 294
        },
        "id": "sIqMGcjhMAI4",
        "outputId": "0e0f19ab-b48e-4781-85e3-c1a986ca2301"
      },
      "execution_count": null,
      "outputs": [
        {
          "output_type": "display_data",
          "data": {
            "text/plain": [
              "<Figure size 432x288 with 1 Axes>"
            ],
            "image/png": "[encoded data removed]"
          },
          "metadata": {
            "needs_background": "light"
          }
        }
      ]
    },
    {
      "cell_type": "markdown",
      "source": [
        "# 클러스터 정하기(pt. 2)\n"
      ],
      "metadata": {
        "id": "0IJgMRqo72ux"
      }
    },
    {
      "cell_type": "code",
      "source": [
        "visual_xy(geo_center, \"양천구\")"
      ],
      "metadata": {
        "colab": {
          "base_uri": "https://localhost:8080/",
          "height": 294
        },
        "id": "OPrsI_0YBf--",
        "outputId": "385b4481-fc23-4a43-e235-deba8e18d26a"
      },
      "execution_count": null,
      "outputs": [
        {
          "output_type": "display_data",
          "data": {
            "text/plain": [
              "<Figure size 432x288 with 1 Axes>"
            ],
            "image/png": "[encoded data removed]"
          },
          "metadata": {
            "needs_background": "light"
          }
        }
      ]
    },
    {
      "cell_type": "code",
      "source": [
        "geo_center.shape"
      ],
      "metadata": {
        "colab": {
          "base_uri": "https://localhost:8080/"
        },
        "id": "vEFJ5vri78MT",
        "outputId": "706b6cd8-e413-4852-d1d3-78b95be14b97"
      },
      "execution_count": null,
      "outputs": [
        {
          "output_type": "execute_result",
          "data": {
            "text/plain": [
              "(656, 5)"
            ]
          },
          "metadata": {},
          "execution_count": 240
        }
      ]
    },
    {
      "cell_type": "code",
      "source": [
        "#클러스터 변수 만들기\n",
        "\n",
        "zero_array = np.zeros(656*1).reshape(-1, 1)\n",
        "geo_center[\"cluster\"] = zero_array\n",
        "geo_center.head()\n",
        "\"\"\"\n",
        "xys = geo_center[geo_center[\"자치구\"]==\"양천구\"][[\"x\", \"y\"]]\n",
        "model = KMeans(n_clusters = 3, random_state = 156)\n",
        "model.fit(xys)\n",
        "geo_center.loc[geo_center[\"자치구\"] == \"양천구\", \"cluster\"] = model.fit_predict(xys)\n",
        "geo_center[geo_center[\"자치구\"] == \"양천구\"]\n",
        "\"\"\""
      ],
      "metadata": {
        "colab": {
          "base_uri": "https://localhost:8080/",
          "height": 55
        },
        "id": "VkFd0eai_g1D",
        "outputId": "39f5556e-bbac-4757-df00-42e5c0b625fc"
      },
      "execution_count": null,
      "outputs": [
        {
          "output_type": "execute_result",
          "data": {
            "text/plain": [
              "'\\nxys = geo_center[geo_center[\"자치구\"]==\"양천구\"][[\"x\", \"y\"]]\\nmodel = KMeans(n_clusters = 3, random_state = 156)\\nmodel.fit(xys)\\ngeo_center.loc[geo_center[\"자치구\"] == \"양천구\", \"cluster\"] = model.fit_predict(xys)\\ngeo_center[geo_center[\"자치구\"] == \"양천구\"]\\n'"
            ],
            "application/vnd.google.colaboratory.intrinsic+json": {
              "type": "string"
            }
          },
          "metadata": {},
          "execution_count": 241
        }
      ]
    },
    {
      "cell_type": "code",
      "source": [
        "\"\"\"\n",
        "i=1\n",
        "spec_gu = geo_center[geo_center[\"자치구\"]==\"양천구\"]\n",
        "spec_gu\n",
        "spec_gu.loc[spec_gu[\"cluster\"] ==i, \"x\"]\n",
        "\n",
        "#plt.scatter(geo_center.loc[geo_center[\"자치구\"] == \"양천구\", \"x\"], geo_center.loc[geo_center[\"자치구\"] == \"양천구\", \"y\"], label = \"cluster\" +str(i))\n",
        "\"\"\"\n",
        "geo_center.head()"
      ],
      "metadata": {
        "colab": {
          "base_uri": "https://localhost:8080/",
          "height": 206
        },
        "id": "lsqPPcPdDa0C",
        "outputId": "4b66d93a-efce-4878-e7ef-376715277c75"
      },
      "execution_count": null,
      "outputs": [
        {
          "output_type": "execute_result",
          "data": {
            "text/plain": [
              "   자치구                    field1                    geometry           x  \\\n",
              "0  노원구         섬밭로 201 하계동 시영아파트  POINT (127.06629 37.63309)  127.066294   \n",
              "1  마포구  월드컵로 207 성산동 도시개발공사성산아파트  POINT (126.90148 37.56462)  126.901477   \n",
              "2  중랑구      용마산로 228 면목동 도시개발아파트  POINT (127.08841 37.57357)  127.088409   \n",
              "3  노원구       노원로19길 31 중계동 목화아파트  POINT (127.07005 37.64257)  127.070051   \n",
              "4  노원구    노원로 331 중계동 시영3단지목련아파트  POINT (127.06881 37.64593)  127.068807   \n",
              "\n",
              "           y  cluster  \n",
              "0  37.633086      0.0  \n",
              "1  37.564623      0.0  \n",
              "2  37.573566      0.0  \n",
              "3  37.642573      0.0  \n",
              "4  37.645926      0.0  "
            ],
            "text/html": [
              "\n",
              "  <div id=\"df-3b48ea83-a76b-4173-86d4-27253127777c\">\n",
              "    <div class=\"colab-df-container\">\n",
              "      <div>\n",
              "<style scoped>\n",
              "    .dataframe tbody tr th:only-of-type {\n",
              "        vertical-align: middle;\n",
              "    }\n",
              "\n",
              "    .dataframe tbody tr th {\n",
              "        vertical-align: top;\n",
              "    }\n",
              "\n",
              "    .dataframe thead th {\n",
              "        text-align: right;\n",
              "    }\n",
              "</style>\n",
              "<table border=\"1\" class=\"dataframe\">\n",
              "  <thead>\n",
              "    <tr style=\"text-align: right;\">\n",
              "      <th></th>\n",
              "      <th>자치구</th>\n",
              "      <th>field1</th>\n",
              "      <th>geometry</th>\n",
              "      <th>x</th>\n",
              "      <th>y</th>\n",
              "      <th>cluster</th>\n",
              "    </tr>\n",
              "  </thead>\n",
              "  <tbody>\n",
              "    <tr>\n",
              "      <th>0</th>\n",
              "      <td>노원구</td>\n",
              "      <td>섬밭로 201 하계동 시영아파트</td>\n",
              "      <td>POINT (127.06629 37.63309)</td>\n",
              "      <td>127.066294</td>\n",
              "      <td>37.633086</td>\n",
              "      <td>0.0</td>\n",
              "    </tr>\n",
              "    <tr>\n",
              "      <th>1</th>\n",
              "      <td>마포구</td>\n",
              "      <td>월드컵로 207 성산동 도시개발공사성산아파트</td>\n",
              "      <td>POINT (126.90148 37.56462)</td>\n",
              "      <td>126.901477</td>\n",
              "      <td>37.564623</td>\n",
              "      <td>0.0</td>\n",
              "    </tr>\n",
              "    <tr>\n",
              "      <th>2</th>\n",
              "      <td>중랑구</td>\n",
              "      <td>용마산로 228 면목동 도시개발아파트</td>\n",
              "      <td>POINT (127.08841 37.57357)</td>\n",
              "      <td>127.088409</td>\n",
              "      <td>37.573566</td>\n",
              "      <td>0.0</td>\n",
              "    </tr>\n",
              "    <tr>\n",
              "      <th>3</th>\n",
              "      <td>노원구</td>\n",
              "      <td>노원로19길 31 중계동 목화아파트</td>\n",
              "      <td>POINT (127.07005 37.64257)</td>\n",
              "      <td>127.070051</td>\n",
              "      <td>37.642573</td>\n",
              "      <td>0.0</td>\n",
              "    </tr>\n",
              "    <tr>\n",
              "      <th>4</th>\n",
              "      <td>노원구</td>\n",
              "      <td>노원로 331 중계동 시영3단지목련아파트</td>\n",
              "      <td>POINT (127.06881 37.64593)</td>\n",
              "      <td>127.068807</td>\n",
              "      <td>37.645926</td>\n",
              "      <td>0.0</td>\n",
              "    </tr>\n",
              "  </tbody>\n",
              "</table>\n",
              "</div>\n",
              "      <button class=\"colab-df-convert\" onclick=\"convertToInteractive('df-3b48ea83-a76b-4173-86d4-27253127777c')\"\n",
              "              title=\"Convert this dataframe to an interactive table.\"\n",
              "              style=\"display:none;\">\n",
              "        \n",
              "  <svg xmlns=\"http://www.w3.org/2000/svg\" height=\"24px\"viewBox=\"0 0 24 24\"\n",
              "       width=\"24px\">\n",
              "    <path d=\"M0 0h24v24H0V0z\" fill=\"none\"/>\n",
              "    <path d=\"M18.56 5.44l.94 2.06.94-2.06 2.06-.94-2.06-.94-.94-2.06-.94 2.06-2.06.94zm-11 1L8.5 8.5l.94-2.06 2.06-.94-2.06-.94L8.5 2.5l-.94 2.06-2.06.94zm10 10l.94 2.06.94-2.06 2.06-.94-2.06-.94-.94-2.06-.94 2.06-2.06.94z\"/><path d=\"M17.41 7.96l-1.37-1.37c-.4-.4-.92-.59-1.43-.59-.52 0-1.04.2-1.43.59L10.3 9.45l-7.72 7.72c-.78.78-.78 2.05 0 2.83L4 21.41c.39.39.9.59 1.41.59.51 0 1.02-.2 1.41-.59l7.78-7.78 2.81-2.81c.8-.78.8-2.07 0-2.86zM5.41 20L4 18.59l7.72-7.72 1.47 1.35L5.41 20z\"/>\n",
              "  </svg>\n",
              "      </button>\n",
              "      \n",
              "  <style>\n",
              "    .colab-df-container {\n",
              "      display:flex;\n",
              "      flex-wrap:wrap;\n",
              "      gap: 12px;\n",
              "    }\n",
              "\n",
              "    .colab-df-convert {\n",
              "      background-color: #E8F0FE;\n",
              "      border: none;\n",
              "      border-radius: 50%;\n",
              "      cursor: pointer;\n",
              "      display: none;\n",
              "      fill: #1967D2;\n",
              "      height: 32px;\n",
              "      padding: 0 0 0 0;\n",
              "      width: 32px;\n",
              "    }\n",
              "\n",
              "    .colab-df-convert:hover {\n",
              "      background-color: #E2EBFA;\n",
              "      box-shadow: 0px 1px 2px rgba(60, 64, 67, 0.3), 0px 1px 3px 1px rgba(60, 64, 67, 0.15);\n",
              "      fill: #174EA6;\n",
              "    }\n",
              "\n",
              "    [theme=dark] .colab-df-convert {\n",
              "      background-color: #3B4455;\n",
              "      fill: #D2E3FC;\n",
              "    }\n",
              "\n",
              "    [theme=dark] .colab-df-convert:hover {\n",
              "      background-color: #434B5C;\n",
              "      box-shadow: 0px 1px 3px 1px rgba(0, 0, 0, 0.15);\n",
              "      filter: drop-shadow(0px 1px 2px rgba(0, 0, 0, 0.3));\n",
              "      fill: #FFFFFF;\n",
              "    }\n",
              "  </style>\n",
              "\n",
              "      <script>\n",
              "        const buttonEl =\n",
              "          document.querySelector('#df-3b48ea83-a76b-4173-86d4-27253127777c button.colab-df-convert');\n",
              "        buttonEl.style.display =\n",
              "          google.colab.kernel.accessAllowed ? 'block' : 'none';\n",
              "\n",
              "        async function convertToInteractive(key) {\n",
              "          const element = document.querySelector('#df-3b48ea83-a76b-4173-86d4-27253127777c');\n",
              "          const dataTable =\n",
              "            await google.colab.kernel.invokeFunction('convertToInteractive',\n",
              "                                                     [key], {});\n",
              "          if (!dataTable) return;\n",
              "\n",
              "          const docLinkHtml = 'Like what you see? Visit the ' +\n",
              "            '<a target=\"_blank\" href=https://colab.research.google.com/notebooks/data_table.ipynb>data table notebook</a>'\n",
              "            + ' to learn more about interactive tables.';\n",
              "          element.innerHTML = '';\n",
              "          dataTable['output_type'] = 'display_data';\n",
              "          await google.colab.output.renderOutput(dataTable, element);\n",
              "          const docLink = document.createElement('div');\n",
              "          docLink.innerHTML = docLinkHtml;\n",
              "          element.appendChild(docLink);\n",
              "        }\n",
              "      </script>\n",
              "    </div>\n",
              "  </div>\n",
              "  "
            ]
          },
          "metadata": {},
          "execution_count": 245
        }
      ]
    },
    {
      "cell_type": "code",
      "source": [
        "def make_cluster(df, k, gu, visualize = False, elbow = True):\n",
        "  spec_gu = df[df[\"자치구\"] == gu]\n",
        "  xys = spec_gu[[\"x\", \"y\"]]\n",
        "\n",
        "  model = KMeans(n_clusters = k, random_state = 10)\n",
        "  model.fit(xys)\n",
        "  df.loc[df[\"자치구\"] == gu, \"cluster\"] = model.fit_predict(xys)\n",
        "  cluster_center = model.cluster_centers_\n",
        "\n",
        "  \n",
        "  if visualize:\n",
        "    plt.figure(figsize = (8, 8))\n",
        "    for i in range(k):\n",
        "      \n",
        "      plt.scatter(spec_gu.loc[spec_gu[\"cluster\"] == i, \"x\" ], spec_gu.loc[spec_gu[\"cluster\"] == i, \"y\"], label = \"cluster\"+str(i))\n",
        "    plt.legend()\n",
        "    plt.title(\"K = %d results\" %k, size = 15)\n",
        "    plt.xlabel(\"x\", size = 6)\n",
        "    plt.ylabel(\"y\" , size = 6)\n",
        "    plt.show()\n",
        "\n",
        "    if elbow:\n",
        "      visualizer = KElbowVisualizer(model, k = (1, 10))\n",
        "      visualizer.fit(xys)\n",
        "\n",
        "      return df, cluster_center\n",
        "\n",
        "\n",
        "    else:\n",
        "      print(\"elbow 없이 visualizing을 어떻게 합니까..\")\n",
        "      \n",
        "      return df, cluster_center\n",
        "      \n",
        "\n",
        "  else:\n",
        "    if elbow:\n",
        "      visualizer = KElbowVisualizer(model, k =(1, 10))\n",
        "      visualizer.fit(xys)\n",
        "\n",
        "      return df, cluster_center\n",
        "\n",
        "\n",
        "\n",
        "\n",
        "\n",
        "    else: \n",
        "\n",
        "      return df, cluster_center\n"
      ],
      "metadata": {
        "id": "bTAM4F3J6ied"
      },
      "execution_count": null,
      "outputs": []
    },
    {
      "cell_type": "code",
      "source": [
        "new_df, center = make_cluster(geo_center, 3, \"양천구\", visualize = True, elbow = True)"
      ],
      "metadata": {
        "colab": {
          "base_uri": "https://localhost:8080/",
          "height": 762
        },
        "id": "dC62Qzid8CvA",
        "outputId": "cdfd88a9-1655-4c86-eefd-b8aa42e910b5"
      },
      "execution_count": null,
      "outputs": [
        {
          "output_type": "display_data",
          "data": {
            "text/plain": [
              "<Figure size 576x576 with 1 Axes>"
            ],
            "image/png": "[encoded data removed]"
          },
          "metadata": {
            "needs_background": "light"
          }
        },
        {
          "output_type": "display_data",
          "data": {
            "text/plain": [
              "<Figure size 432x288 with 2 Axes>"
            ],
            "image/png": "[encoded data removed]"
          },
          "metadata": {
            "needs_background": "light"
          }
        }
      ]
    },
    {
      "cell_type": "code",
      "source": [
        "center"
      ],
      "metadata": {
        "colab": {
          "base_uri": "https://localhost:8080/"
        },
        "id": "DNPuhbHTN-eo",
        "outputId": "6aa89994-e3ab-4b3e-9189-6b338508eb09"
      },
      "execution_count": null,
      "outputs": [
        {
          "output_type": "execute_result",
          "data": {
            "text/plain": [
              "array([[126.83214743,  37.51589303],\n",
              "       [126.87029379,  37.51673861],\n",
              "       [126.84729571,  37.51774295]])"
            ]
          },
          "metadata": {},
          "execution_count": 268
        }
      ]
    },
    {
      "cell_type": "code",
      "source": [
        "gu_count"
      ],
      "metadata": {
        "id": "iXDYSHzM7x2h"
      },
      "execution_count": null,
      "outputs": []
    },
    {
      "cell_type": "markdown",
      "source": [
        "# 분배 인원 정하기\n",
        "\n",
        "클러스터 동들 알려주었을 때 그 동들별 인원 "
      ],
      "metadata": {
        "id": "NM7jNqYjdlRc"
      }
    },
    {
      "cell_type": "code",
      "source": [
        "people.head()"
      ],
      "metadata": {
        "colab": {
          "base_uri": "https://localhost:8080/",
          "height": 206
        },
        "id": "L6WWMV9Ub3vg",
        "outputId": "a62db279-826c-4810-cddc-ffdbbfc59973"
      },
      "execution_count": null,
      "outputs": [
        {
          "output_type": "execute_result",
          "data": {
            "text/plain": [
              "        법정동코드 시군구명 읍면동명     계\n",
              "0  1111010100  종로구  청운동  2339\n",
              "1  1111010200  종로구  신교동  1381\n",
              "2  1111010300  종로구  궁정동   199\n",
              "3  1111010400  종로구  효자동   569\n",
              "4  1111010500  종로구  창성동   436"
            ],
            "text/html": [
              "\n",
              "  <div id=\"df-dd44b850-09ff-4aa4-9369-ac82732da4d5\">\n",
              "    <div class=\"colab-df-container\">\n",
              "      <div>\n",
              "<style scoped>\n",
              "    .dataframe tbody tr th:only-of-type {\n",
              "        vertical-align: middle;\n",
              "    }\n",
              "\n",
              "    .dataframe tbody tr th {\n",
              "        vertical-align: top;\n",
              "    }\n",
              "\n",
              "    .dataframe thead th {\n",
              "        text-align: right;\n",
              "    }\n",
              "</style>\n",
              "<table border=\"1\" class=\"dataframe\">\n",
              "  <thead>\n",
              "    <tr style=\"text-align: right;\">\n",
              "      <th></th>\n",
              "      <th>법정동코드</th>\n",
              "      <th>시군구명</th>\n",
              "      <th>읍면동명</th>\n",
              "      <th>계</th>\n",
              "    </tr>\n",
              "  </thead>\n",
              "  <tbody>\n",
              "    <tr>\n",
              "      <th>0</th>\n",
              "      <td>1111010100</td>\n",
              "      <td>종로구</td>\n",
              "      <td>청운동</td>\n",
              "      <td>2339</td>\n",
              "    </tr>\n",
              "    <tr>\n",
              "      <th>1</th>\n",
              "      <td>1111010200</td>\n",
              "      <td>종로구</td>\n",
              "      <td>신교동</td>\n",
              "      <td>1381</td>\n",
              "    </tr>\n",
              "    <tr>\n",
              "      <th>2</th>\n",
              "      <td>1111010300</td>\n",
              "      <td>종로구</td>\n",
              "      <td>궁정동</td>\n",
              "      <td>199</td>\n",
              "    </tr>\n",
              "    <tr>\n",
              "      <th>3</th>\n",
              "      <td>1111010400</td>\n",
              "      <td>종로구</td>\n",
              "      <td>효자동</td>\n",
              "      <td>569</td>\n",
              "    </tr>\n",
              "    <tr>\n",
              "      <th>4</th>\n",
              "      <td>1111010500</td>\n",
              "      <td>종로구</td>\n",
              "      <td>창성동</td>\n",
              "      <td>436</td>\n",
              "    </tr>\n",
              "  </tbody>\n",
              "</table>\n",
              "</div>\n",
              "      <button class=\"colab-df-convert\" onclick=\"convertToInteractive('df-dd44b850-09ff-4aa4-9369-ac82732da4d5')\"\n",
              "              title=\"Convert this dataframe to an interactive table.\"\n",
              "              style=\"display:none;\">\n",
              "        \n",
              "  <svg xmlns=\"http://www.w3.org/2000/svg\" height=\"24px\"viewBox=\"0 0 24 24\"\n",
              "       width=\"24px\">\n",
              "    <path d=\"M0 0h24v24H0V0z\" fill=\"none\"/>\n",
              "    <path d=\"M18.56 5.44l.94 2.06.94-2.06 2.06-.94-2.06-.94-.94-2.06-.94 2.06-2.06.94zm-11 1L8.5 8.5l.94-2.06 2.06-.94-2.06-.94L8.5 2.5l-.94 2.06-2.06.94zm10 10l.94 2.06.94-2.06 2.06-.94-2.06-.94-.94-2.06-.94 2.06-2.06.94z\"/><path d=\"M17.41 7.96l-1.37-1.37c-.4-.4-.92-.59-1.43-.59-.52 0-1.04.2-1.43.59L10.3 9.45l-7.72 7.72c-.78.78-.78 2.05 0 2.83L4 21.41c.39.39.9.59 1.41.59.51 0 1.02-.2 1.41-.59l7.78-7.78 2.81-2.81c.8-.78.8-2.07 0-2.86zM5.41 20L4 18.59l7.72-7.72 1.47 1.35L5.41 20z\"/>\n",
              "  </svg>\n",
              "      </button>\n",
              "      \n",
              "  <style>\n",
              "    .colab-df-container {\n",
              "      display:flex;\n",
              "      flex-wrap:wrap;\n",
              "      gap: 12px;\n",
              "    }\n",
              "\n",
              "    .colab-df-convert {\n",
              "      background-color: #E8F0FE;\n",
              "      border: none;\n",
              "      border-radius: 50%;\n",
              "      cursor: pointer;\n",
              "      display: none;\n",
              "      fill: #1967D2;\n",
              "      height: 32px;\n",
              "      padding: 0 0 0 0;\n",
              "      width: 32px;\n",
              "    }\n",
              "\n",
              "    .colab-df-convert:hover {\n",
              "      background-color: #E2EBFA;\n",
              "      box-shadow: 0px 1px 2px rgba(60, 64, 67, 0.3), 0px 1px 3px 1px rgba(60, 64, 67, 0.15);\n",
              "      fill: #174EA6;\n",
              "    }\n",
              "\n",
              "    [theme=dark] .colab-df-convert {\n",
              "      background-color: #3B4455;\n",
              "      fill: #D2E3FC;\n",
              "    }\n",
              "\n",
              "    [theme=dark] .colab-df-convert:hover {\n",
              "      background-color: #434B5C;\n",
              "      box-shadow: 0px 1px 3px 1px rgba(0, 0, 0, 0.15);\n",
              "      filter: drop-shadow(0px 1px 2px rgba(0, 0, 0, 0.3));\n",
              "      fill: #FFFFFF;\n",
              "    }\n",
              "  </style>\n",
              "\n",
              "      <script>\n",
              "        const buttonEl =\n",
              "          document.querySelector('#df-dd44b850-09ff-4aa4-9369-ac82732da4d5 button.colab-df-convert');\n",
              "        buttonEl.style.display =\n",
              "          google.colab.kernel.accessAllowed ? 'block' : 'none';\n",
              "\n",
              "        async function convertToInteractive(key) {\n",
              "          const element = document.querySelector('#df-dd44b850-09ff-4aa4-9369-ac82732da4d5');\n",
              "          const dataTable =\n",
              "            await google.colab.kernel.invokeFunction('convertToInteractive',\n",
              "                                                     [key], {});\n",
              "          if (!dataTable) return;\n",
              "\n",
              "          const docLinkHtml = 'Like what you see? Visit the ' +\n",
              "            '<a target=\"_blank\" href=https://colab.research.google.com/notebooks/data_table.ipynb>data table notebook</a>'\n",
              "            + ' to learn more about interactive tables.';\n",
              "          element.innerHTML = '';\n",
              "          dataTable['output_type'] = 'display_data';\n",
              "          await google.colab.output.renderOutput(dataTable, element);\n",
              "          const docLink = document.createElement('div');\n",
              "          docLink.innerHTML = docLinkHtml;\n",
              "          element.appendChild(docLink);\n",
              "        }\n",
              "      </script>\n",
              "    </div>\n",
              "  </div>\n",
              "  "
            ]
          },
          "metadata": {},
          "execution_count": 249
        }
      ]
    },
    {
      "cell_type": "code",
      "source": [
        "people.groupby(\"시군구명\")[\"계\"].sum()/people.groupby(\"시군구명\")[\"계\"].sum().sum()"
      ],
      "metadata": {
        "colab": {
          "base_uri": "https://localhost:8080/"
        },
        "id": "fmW44P2wcQ3t",
        "outputId": "a5a6b940-3f93-4dbb-f6c8-49ce8d1d7ac2"
      },
      "execution_count": null,
      "outputs": [
        {
          "output_type": "execute_result",
          "data": {
            "text/plain": [
              "시군구명\n",
              "강남구     0.056116\n",
              "강동구     0.048753\n",
              "강북구     0.031177\n",
              "강서구     0.060359\n",
              "관악구     0.051590\n",
              "광진구     0.035780\n",
              "구로구     0.041743\n",
              "금천구     0.024371\n",
              "노원구     0.053481\n",
              "도봉구     0.033083\n",
              "동대문구    0.035714\n",
              "동작구     0.040529\n",
              "마포구     0.038618\n",
              "서대문구    0.032309\n",
              "서초구     0.042875\n",
              "성동구     0.029829\n",
              "성북구     0.045700\n",
              "송파구     0.069865\n",
              "양천구     0.046777\n",
              "영등포구    0.039799\n",
              "용산구     0.023201\n",
              "은평구     0.049662\n",
              "종로구     0.015022\n",
              "중구      0.012775\n",
              "중랑구     0.040871\n",
              "Name: 계, dtype: float64"
            ]
          },
          "metadata": {},
          "execution_count": 252
        }
      ]
    },
    {
      "cell_type": "code",
      "source": [
        "\"\"\"\n",
        "1. sh 좌표 알고 그거 별로 클러스터를 만든다\n",
        "2. 정확한 좌표 클러스터를 동별 클러스터로 치환한다.  (좌표 -> 주소 맵핑을 통해)\n",
        "3. 동별 인원 알고 있으니 비율 산정한다. \n",
        "\"\"\""
      ],
      "metadata": {
        "id": "b5tcvuGndkTt",
        "colab": {
          "base_uri": "https://localhost:8080/",
          "height": 36
        },
        "outputId": "0a8b7817-1f5e-4c03-f6ea-eeb5124ee918"
      },
      "execution_count": null,
      "outputs": [
        {
          "output_type": "execute_result",
          "data": {
            "text/plain": [
              "'\\n1. sh 좌표 알고 그거 별로 클러스터를 만든다\\n2. 정확한 좌표 클러스터를 동별 클러스터로 치환한다.  (좌표 -> 주소 맵핑을 통해)\\n3. 동별 인원 알고 있으니 비율 산정한다. \\n'"
            ],
            "application/vnd.google.colaboratory.intrinsic+json": {
              "type": "string"
            }
          },
          "metadata": {},
          "execution_count": 237
        }
      ]
    },
    {
      "cell_type": "code",
      "source": [
        "#cluster_dict = {\"강남구\" : [[\"클러스터1\", \"역삼동\", \"삼성동\", \"세곡동\"] , [\"클러스터2\", \"수서동\", \"개포동\"]], \"강동구\": ...}\n",
        "#서울시 내 각 구별 인구 비율\n",
        "def whole_compute_ratio(df):\n",
        "  total = df.groupby(\"시군구명\")[\"계\"].sum().sum()\n",
        "  ratio = df.groupby(\"시군구명\")[\"계\"].sum()/total\n",
        "  return ratio\n",
        "\n",
        "whole_compute_ratio(people)\n",
        "  \n",
        "\n",
        "\n"
      ],
      "metadata": {
        "id": "CHlj1omkdpHh",
        "colab": {
          "base_uri": "https://localhost:8080/"
        },
        "outputId": "f580a72d-8569-4529-cc17-87a8f7093bf7"
      },
      "execution_count": null,
      "outputs": [
        {
          "output_type": "execute_result",
          "data": {
            "text/plain": [
              "시군구명\n",
              "강남구     5.611619\n",
              "강동구     4.875332\n",
              "강북구     3.117720\n",
              "강서구     6.035869\n",
              "관악구     5.158991\n",
              "광진구     3.578037\n",
              "구로구     4.174327\n",
              "금천구     2.437131\n",
              "노원구     5.348079\n",
              "도봉구     3.308302\n",
              "동대문구    3.571397\n",
              "동작구     4.052923\n",
              "마포구     3.861802\n",
              "서대문구    3.230854\n",
              "서초구     4.287523\n",
              "성동구     2.982869\n",
              "성북구     4.570028\n",
              "송파구     6.986521\n",
              "양천구     4.677698\n",
              "영등포구    3.979880\n",
              "용산구     2.320080\n",
              "은평구     4.966185\n",
              "종로구     1.502172\n",
              "중구      1.277546\n",
              "중랑구     4.087115\n",
              "Name: 계, dtype: float64"
            ]
          },
          "metadata": {},
          "execution_count": 253
        }
      ]
    },
    {
      "cell_type": "code",
      "source": [
        "#df 에 데이터 넘겨주고 dc에 앞에서 정한 클러스터 넘겨줌. 특정 구를 알려주면 그 구 내 클러스터들이 각각 어느정도 비율의 사람들이 있는지 알 수 있음(장애인 분포 결정을 위한 함수)\n",
        "\n",
        "gu = \"\"\n",
        "dc = {}\n",
        "df = pd.DataFrame()\n",
        "def ingu_compute_ratio(df, dc, gu):\n",
        "  cluster_dc = {}\n",
        "  d_list_cluster = dc[gu]\n",
        "  for i in range(len(d_list_cluster)):\n",
        "    in_cluster = d_list_cluster[i]\n",
        "    number = 0\n",
        "    for n, d in enumerate(in_cluster):\n",
        "      if n == 0 :\n",
        "        cluster_name = in_cluster[n]\n",
        "\n",
        "      else:\n",
        "\n",
        "      \n",
        "        try: \n",
        "          number+=df[df[\"읍면동명\"] ==d][\"계\"].values\n",
        "        except:\n",
        "          print(\"그런 동은 없습니다!\")\n",
        "          pass\n",
        "    cluster_dc[cluster_name] = int(number)\n",
        "  \n",
        "  return cluster_dc\n",
        "    \n",
        "\n"
      ],
      "metadata": {
        "id": "sdlmQjY7dpFN"
      },
      "execution_count": null,
      "outputs": []
    },
    {
      "cell_type": "code",
      "source": [
        "#테스팅해보기\n",
        "cluster_dict = {\"강남구\" : [[\"강남1\", \"역삼동\", \"삼성동\", \"세곡동\"] , [\"강남2\", \"수서동\", \"개포동\"]]}\n",
        "ingu_compute_ratio(people, cluster_dict, \"강남구\")"
      ],
      "metadata": {
        "id": "N2of6lQrdpDP",
        "colab": {
          "base_uri": "https://localhost:8080/"
        },
        "outputId": "b2b76474-fd87-45b0-9b58-f329177dc9fd"
      },
      "execution_count": null,
      "outputs": [
        {
          "output_type": "execute_result",
          "data": {
            "text/plain": [
              "{'강남1': 129634, '강남2': 83995}"
            ]
          },
          "metadata": {},
          "execution_count": 288
        }
      ]
    },
    {
      "cell_type": "code",
      "source": [],
      "metadata": {
        "colab": {
          "base_uri": "https://localhost:8080/"
        },
        "id": "F0p931IVdggm",
        "outputId": "ed2068cf-e8a3-464b-e0a8-3d3452dc338b"
      },
      "execution_count": null,
      "outputs": [
        {
          "output_type": "execute_result",
          "data": {
            "text/plain": [
              "array([86294])"
            ]
          },
          "metadata": {},
          "execution_count": 281
        }
      ]
    },
    {
      "cell_type": "code",
      "source": [],
      "metadata": {
        "id": "kRBpDabCdgeS"
      },
      "execution_count": null,
      "outputs": []
    },
    {
      "cell_type": "markdown",
      "source": [
        "# 구별 인원, 등급별 퍼센트 주어졌을 때 클러스터에 일괄적으로 배분할 수 있어야 함. "
      ],
      "metadata": {
        "id": "asXam3D5dG0V"
      }
    },
    {
      "cell_type": "code",
      "source": [
        "#시나리오: a 구에는 클러스터가 3개 있다. 그 클러스터별 인구 "
      ],
      "metadata": {
        "id": "RoezHPWwXmRv"
      },
      "execution_count": null,
      "outputs": []
    },
    {
      "cell_type": "code",
      "source": [],
      "metadata": {
        "id": "LIp6LYpUdGHE"
      },
      "execution_count": null,
      "outputs": []
    },
    {
      "cell_type": "code",
      "source": [],
      "metadata": {
        "id": "IyVnO8kkdcUi"
      },
      "execution_count": null,
      "outputs": []
    },
    {
      "cell_type": "code",
      "source": [],
      "metadata": {
        "id": "dKuZMk9HdcSa"
      },
      "execution_count": null,
      "outputs": []
    },
    {
      "cell_type": "code",
      "source": [],
      "metadata": {
        "id": "5cMsxABUdcQQ"
      },
      "execution_count": null,
      "outputs": []
    },
    {
      "cell_type": "markdown",
      "source": [
        "# 미완성(딱히 볼 필요 없음)"
      ],
      "metadata": {
        "id": "1C8p7pamMGWl"
      }
    },
    {
      "cell_type": "code",
      "source": [
        "\n",
        "geo_center.crs\n",
        "#epsg 4326 좌표계"
      ],
      "metadata": {
        "id": "4NjeQIY9BL-N",
        "colab": {
          "base_uri": "https://localhost:8080/"
        },
        "outputId": "6050a995-f52a-45f3-c426-98b6503ded65"
      },
      "execution_count": null,
      "outputs": [
        {
          "output_type": "execute_result",
          "data": {
            "text/plain": [
              "<Geographic 2D CRS: EPSG:4326>\n",
              "Name: WGS 84\n",
              "Axis Info [ellipsoidal]:\n",
              "- Lat[north]: Geodetic latitude (degree)\n",
              "- Lon[east]: Geodetic longitude (degree)\n",
              "Area of Use:\n",
              "- name: World.\n",
              "- bounds: (-180.0, -90.0, 180.0, 90.0)\n",
              "Datum: World Geodetic System 1984 ensemble\n",
              "- Ellipsoid: WGS 84\n",
              "- Prime Meridian: Greenwich"
            ]
          },
          "metadata": {},
          "execution_count": 21
        }
      ]
    },
    {
      "cell_type": "code",
      "source": [
        "geo_center = geo_center.to_crs({\"init\": \"epsg:5179\"})\n",
        "\n",
        "geo_center.crs\n",
        "#seoul_geo = seoul_geo.to_crs({\"init\": \"EPSG:4326\"})\n",
        "#seoul_geo\n",
        "#seoul_geo.crs"
      ],
      "metadata": {
        "colab": {
          "base_uri": "https://localhost:8080/"
        },
        "id": "wAwkn76WI7ms",
        "outputId": "b1a53e4b-140b-49ce-ed21-62837966c070"
      },
      "execution_count": null,
      "outputs": [
        {
          "output_type": "execute_result",
          "data": {
            "text/plain": [
              "<Derived Projected CRS: +init=epsg:5179 +type=crs>\n",
              "Name: Korea 2000 / Unified CS\n",
              "Axis Info [cartesian]:\n",
              "- E[east]: Easting (metre)\n",
              "- N[north]: Northing (metre)\n",
              "Area of Use:\n",
              "- name: Republic of Korea (South Korea) - onshore and offshore.\n",
              "- bounds: (122.71, 28.6, 134.28, 40.27)\n",
              "Coordinate Operation:\n",
              "- name: Korea Unified Belt\n",
              "- method: Transverse Mercator\n",
              "Datum: Geocentric datum of Korea\n",
              "- Ellipsoid: GRS 1980\n",
              "- Prime Meridian: Greenwich"
            ]
          },
          "metadata": {},
          "execution_count": 22
        }
      ]
    },
    {
      "cell_type": "code",
      "source": [
        "seoul_geo.crs"
      ],
      "metadata": {
        "colab": {
          "base_uri": "https://localhost:8080/"
        },
        "id": "FN5LfkrdLRID",
        "outputId": "b4976c27-cee7-466f-fc06-4ada0357b65a"
      },
      "execution_count": null,
      "outputs": [
        {
          "output_type": "execute_result",
          "data": {
            "text/plain": [
              "<Derived Projected CRS: EPSG:5179>\n",
              "Name: Korea 2000 / Unified CS\n",
              "Axis Info [cartesian]:\n",
              "- X[north]: Northing (metre)\n",
              "- Y[east]: Easting (metre)\n",
              "Area of Use:\n",
              "- name: Republic of Korea (South Korea) - onshore and offshore.\n",
              "- bounds: (122.71, 28.6, 134.28, 40.27)\n",
              "Coordinate Operation:\n",
              "- name: Korea Unified Belt\n",
              "- method: Transverse Mercator\n",
              "Datum: Geocentric datum of Korea\n",
              "- Ellipsoid: GRS 1980\n",
              "- Prime Meridian: Greenwich"
            ]
          },
          "metadata": {},
          "execution_count": 23
        }
      ]
    }
  ]
}